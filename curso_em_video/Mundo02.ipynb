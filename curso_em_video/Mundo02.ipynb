{
 "cells": [
  {
   "cell_type": "markdown",
   "metadata": {},
   "source": [
    "# **Modulo 02** condições em python(if..elif)"
   ]
  },
  {
   "cell_type": "markdown",
   "metadata": {},
   "source": [
    "## **Aula 12** Condicões aninhadas\n"
   ]
  },
  {
   "cell_type": "code",
   "execution_count": null,
   "metadata": {},
   "outputs": [],
   "source": [
    "nome = str(input('Qua seu nome ? '))\n",
    "if nome == 'William':\n",
    "    print('Que nome lindo você tem')\n",
    "elif nome == 'pedro' or nome == 'maria' or nome == 'paulo':\n",
    "    print('Seu nome é bem popular no brasil')\n",
    "elif nome in 'Ana claudia jéssica juliana':\n",
    "    print('belo nome feminino')\n",
    "else:\n",
    "    print('Que nome normal você tem') \n",
    "\n",
    "print('Tenha um bom dia, {}'.format(nome))"
   ]
  },
  {
   "cell_type": "markdown",
   "metadata": {},
   "source": [
    "### **Desafios da aula**\n",
    "1. **Desafio 036:** Escreva um programa para aprovar o empréstimo bancario para a compra de uma casa.O programa vai perguntar o **valor da casa**, o **salario** do comprador e em **quantos anos** ele vai pagar.Calcule o valor da prestação mensal sabendo que ela não pode exercer 30% do salario ou então o emprestimo seŕa negado.  \n",
    "2. **Desafio 037:** Escreva um programa que leia um numero inteiro qualquer e peça para o usuario escolher qual será a base de conversão\n",
    "> * 1 - para **binario**\n",
    "> * 2 - para **octal**\n",
    "> * 3 - para **hexadecimal**\n",
    "3. **Desafio 038:** Escreva um programa que leia **dois numeros** inteiros e compare-os mostrando na tela uma mensagem \n",
    "> O **Primeiro valor** é **maior**  \n",
    "> O **Segundo valor** é **maior**  \n",
    "> **Não existe** valor maior, os dois são **iguais**  \n",
    "4. **Desafio 039:** Faça um programa que leia o ano de nascimento de um jovem e informe, de acordo com sua idade: \n",
    "> * se ele **ainda vai se alistar** ao serviço militar \n",
    "> * se é a **hora de se alistar**\n",
    "> * se já **passou do tempo** do alistamento\n",
    "seu programa tambem deverá mostrar o tempo que falta ou que passou do prazo \n",
    "5. **Desafio 040:** Crie um programa que leia duas notas de aluno e calcule sua média, mostrando uma mensagem no final,de acordo com a média atingida:\n",
    "> * Média abaixo de **5.0** : **Reprovado**\n",
    "> * Média entre **5.0** e **6.9**: **Recuperação**\n",
    "> * Media **7.0** ou superior: **Aprovado**\n",
    "6. **Desafio 041:** A confederação nacional de natação precisa de um programa que leia o ano de nascimento de um atleta e mostre sua categoria,de acordo com a idade:\n",
    "> * até **9 anos**: Mirim\n",
    "> * até **14 anos**: Infantil\n",
    "> * até **19 anos**: Junior\n",
    "> * até **20 anos**: Senior\n",
    "> * acima :Master \n",
    "7. **Desafio 042:** Refaça o **Desafio 035** dos trinângulo, acrescentando o recurso de mostrar que tipo de triângulo será formado:\n",
    "> * **Equilatero**: todos os lados iguais\n",
    "> * **isosceles**: dois lados iguais\n",
    "> * **Escaleno**: todos os lados diferentes\n",
    "8. **Desafios 043:** Desenvolva uma lógica que leia o peso e a altura de uma pessoa, Calcule seu **IMC** e mostre seu status, de acordo com a tabela abaixo\n",
    "> - abaixo de **18.5**: abaixo do peso\n",
    "> - Entre de **18.5** e **25**: peso ideal\n",
    "> - **25** até **30**: Sobrepeso\n",
    "> - **30** até **40**: obesidade\n",
    "> - acima do **40**: obesidade morbida\n",
    "9. **Desafio 044:** Elabore um programa que calcule o valor a ser pago por um produto, considerando o seu **preço normal** e **condição de pagamento**:\n",
    "> * a vista **dinheiro/cheque**: **10%** de desconto\n",
    "> * a vista no **cartao**: **5%** de desconto\n",
    "> * em até **2x no cartão**: preço normal\n",
    "> *  **3x ou mais** no cartão : **20%** de juros\n",
    "10. **Desafio 045:** Crie um programa que faça o computador jogar **jokenpô** com você"
   ]
  },
  {
   "cell_type": "markdown",
   "metadata": {},
   "source": [
    "### **Desafio 036:** Escreva um programa para aprovar o empréstimo bancario para a compra de uma casa.O programa vai perguntar o **valor da casa**, o **salario** do comprador e em **quantos anos** ele vai pagar.Calcule o valor da prestação mensal sabendo que ela não pode exercer 30% do salario ou então o emprestimo seŕa negado. "
   ]
  },
  {
   "cell_type": "code",
   "execution_count": null,
   "metadata": {},
   "outputs": [],
   "source": [
    "valor_casa = float(input('Digite o valor da casa: '))\n",
    "salario = float(input('Digite o valor do seu salario: '))\n",
    "anos = int(input('Digite em quantos anos você pretende pagar o emprestimo'))\n",
    "parcela = valor_casa/(anos*12)\n",
    "print(f'Seu salario é de R${salario} ou seja sua parcela maxima só pode ser de \\33[1m{salario*0.3:.2f}')\n",
    "if parcela > salario * 0.3:\n",
    "    print(f'O valor da parcela ficou R$ \\033[31m{parcela:.2f}')\n",
    "    print('\\033[31mEMPRESTIMO NEGADO')\n",
    "else:\n",
    "    print(f'O valor da parcela ficou R$ \\033[32m{parcela:.2f}')\n",
    "    print('\\033[32mEMPRESTIMO PODE SER CONCEDIDO')\n"
   ]
  },
  {
   "cell_type": "markdown",
   "metadata": {},
   "source": [
    "### **Desafio 037:** Escreva um programa que leia um numero inteiro qualquer e peça para o usuario escolher qual será a base de conversão\n",
    "> * 1 - para **binario**\n",
    "> * 2 - para **octal**\n",
    "> * 3 - para **hexadecimal**"
   ]
  },
  {
   "cell_type": "code",
   "execution_count": null,
   "metadata": {},
   "outputs": [],
   "source": [
    "num= int(input('Digite um numero:'))\n",
    "menu = int(input('Digite a base que você que converter o numero:\\n1- Binario\\n2- octal\\n3 - hexadecimal'))\n",
    "if menu == 1:\n",
    "    print(f'{num} em Binario fica {bin(num)[2:]}')\n",
    "elif menu == 2:\n",
    "    print(f'{num} em octal fica {oct(num)[2:]}')\n",
    "elif menu == 3:\n",
    "     print(f'{num} em hexadecimal fica {hex(num)[2:]}')\n",
    "else:\n",
    "    print('Opção invalida ! tente novamente ')"
   ]
  },
  {
   "cell_type": "markdown",
   "metadata": {},
   "source": [
    "### **Desafio 038:** Escreva um programa que leia **dois numeros** inteiros e compare-os mostrando na tela uma mensagem \n",
    "> O **Primeiro valor** é **maior**  \n",
    "> O **Segundo valor** é **maior**  \n",
    "> **Não existe** valor maior, os dois são **iguais**  "
   ]
  },
  {
   "cell_type": "code",
   "execution_count": null,
   "metadata": {},
   "outputs": [],
   "source": [
    "n1 = int(input('Digite o primeiro valor'))\n",
    "n2 = int(input('Digite o segundo valor'))\n",
    "\n",
    "if n1 > n2: \n",
    "    print(f'O PRIMEIRO valor é maior')\n",
    "elif n2 > n1:\n",
    "    print(f'O SEGUNDO valor é maior')\n",
    "else:\n",
    "    print(f'Os valores são iguais')"
   ]
  },
  {
   "cell_type": "markdown",
   "metadata": {},
   "source": [
    "### **Desafio 039:** Faça um programa que leia o ano de nascimento de um jovem e informe, de acordo com sua idade: \n",
    "> * se ele **ainda vai se alistar** ao serviço militar \n",
    "> * se é a **hora de se alistar**\n",
    "> * se já **passou do tempo** do alistamento\n",
    "seu programa tambem deverá mostrar o tempo que falta ou que passou do prazo "
   ]
  },
  {
   "cell_type": "code",
   "execution_count": null,
   "metadata": {},
   "outputs": [],
   "source": [
    "import datetime\n",
    "ano_nascimento = int(input('Digite o ano que você nasceu: '))\n",
    "ano_atual= datetime.date.today().year\n",
    "idade_atual = ano_atual - ano_nascimento\n",
    "\n",
    "if ano_atual - ano_nascimento < 18:\n",
    "    print(f'você tem {idade_atual} ainda falta {18 - (ano_atual - ano_nascimento)} anos para se alistar no ano de {(18 - (ano_atual - ano_nascimento)) + ano_atual}')\n",
    "elif ano_atual - ano_nascimento > 18:\n",
    "    print(f'você tem {idade_atual} e devia ter se alistado a {(ano_atual - ano_nascimento) - 18} anos atrás no ano de {(((ano_atual - ano_nascimento) - 18) - ano_atual) * -1 }')\n",
    "else:\n",
    "    print(f'Voce tem {idade_atual} é precisa se alistar esse ano')"
   ]
  },
  {
   "cell_type": "markdown",
   "metadata": {},
   "source": [
    "### **Desafio 040:** Crie um programa que leia duas notas de aluno e calcule sua média, mostrando uma mensagem no final,de acordo com a média atingida:\n",
    "> * Média abaixo de **5.0** : **Reprovado**\n",
    "> * Média entre **5.0** e **6.9**: **Recuperação**\n",
    "> * Media **7.0** ou superior: **Aprovado**\n"
   ]
  },
  {
   "cell_type": "code",
   "execution_count": null,
   "metadata": {},
   "outputs": [],
   "source": [
    "nota1 = float(input('Digite a primeira nota'))\n",
    "nota2 = float(input('Digite a segunda nota'))\n",
    "media = (nota1 + nota2)/2\n",
    "\n",
    "if media < 5.0:\n",
    "    print(f'Sua média foi {media:.1f} infelizmente você está reprovado :(')\n",
    "elif 7 > media >= 5:\n",
    "    print(f'Sua media foi {media:.1f} e você está em recuperação ,estude pra prova! :)')\n",
    "else:\n",
    "    print(f'SUa media foi {media:.1f} e você está aprovado, Parabéns !!!!! ;)')\n",
    "        "
   ]
  },
  {
   "cell_type": "markdown",
   "metadata": {},
   "source": [
    "###  **Desafio 041:** A confederação nacional de natação precisa de um programa que leia o ano de nascimento de um atleta e mostre sua categoria,de acordo com a idade:\n",
    "> * até **9 anos**: Mirim\n",
    "> * até **14 anos**: Infantil\n",
    "> * até **19 anos**: Junior\n",
    "> * até **25 anos**: Senior\n",
    "> * acima :Master \n"
   ]
  },
  {
   "cell_type": "code",
   "execution_count": null,
   "metadata": {},
   "outputs": [],
   "source": [
    "import datetime\n",
    "ano_nascimento = int(input('Digite a idade do seu nascimento'))\n",
    "ano_atual = datetime.date.today().year\n",
    "idade = ano_atual - ano_nascimento\n",
    "if  idade <= 9:\n",
    "    print(f'o atleta tem {idade} e está na categoria MIRIM')\n",
    "elif idade <= 14:\n",
    "    print(f'o atleta tem {idade} e está na categoria INFANTIL')\n",
    "elif idade <= 19:\n",
    "    print(f'o atleta tem {idade} e está na categoria JUNIOR')\n",
    "elif idade <= 25:\n",
    "    print(f'o atleta tem {idade} e está na categoria SÊNIOR')\n",
    "else: \n",
    "    print(f'o atleta tem {idade} e está na categoria MASTER')"
   ]
  },
  {
   "cell_type": "markdown",
   "metadata": {},
   "source": [
    "###  **Desafio 042:** Refaça o **Desafio 035** dos trinângulo, acrescentando o recurso de mostrar que tipo de triângulo será formado:\n",
    "> * **Equilatero**: todos os lados iguais\n",
    "> * **isosceles**: dois lados iguais\n",
    "> * **Escaleno**: todos os lados diferentes"
   ]
  },
  {
   "cell_type": "code",
   "execution_count": null,
   "metadata": {},
   "outputs": [],
   "source": [
    "def tipo_triangulo(r1,r2,r3):\n",
    "  if r1 == r2 and r2 == r3:\n",
    "    return 'Este triangulo é equilatero'\n",
    "  elif r1 == r2 or r2 == r3 or r1 == r3:\n",
    "    return 'Este triangulo é isoceles'\n",
    "  else:\n",
    "    return 'Este triangulo é Escaleno'\n",
    "r1 = int(input('Digite o valor da primeira reta '))\n",
    "r2 = int(input('Digite o valor da segunda reta '))\n",
    "r3 = int(input('Digite o valor da teceira reta '))\n",
    "if(r1 < r2 + r3 and r2 < r1 + r3 and r3 < r1 + r2):\n",
    "  print('Essas retas formam um triângulo ')\n",
    "  print(f'{tipo_triangulo(r1,r2,r3)}')\n",
    "else:\n",
    "  print('Essas retas não formam um triângulo ')"
   ]
  },
  {
   "cell_type": "markdown",
   "metadata": {},
   "source": [
    "###  **Desafios 043:** Desenvolva uma lógica que leia o peso e a altura de uma pessoa, Calcule seu **IMC** e mostre seu status, de acordo com a tabela abaixo\n",
    "> - abaixo de **18.5**: abaixo do peso\n",
    "> - Entre de **18.5** e **25**: peso ideal\n",
    "> - **25** até **30**: Sobrepeso\n",
    "> - **30** até **40**: obesidade\n",
    "> - acima do **40**: obesidade morbida"
   ]
  },
  {
   "cell_type": "code",
   "execution_count": null,
   "metadata": {},
   "outputs": [],
   "source": [
    "peso = float(input('Quanto você pesa? (kg) '))\n",
    "altura = float(input('Quanto você mede? (m) '))\n",
    "imc = peso / altura ** 2\n",
    "if imc < 18.5:\n",
    "    print(f'seu é {imc:.1f} , você está abaixo do peso!')\n",
    "elif imc < 25:\n",
    "    print(f'seu é {imc:.1f} , você está no seu peso ideal')\n",
    "elif imc < 30:\n",
    "    print(f'seu é {imc:.1f} , você está com sobrepeso')\n",
    "elif imc < 40:\n",
    "    print(f'seu é {imc:.1f} , você está obeso')\n",
    "else:\n",
    "    print(f'seu é {imc:.1f} , você está com obesidade mórbida')"
   ]
  },
  {
   "cell_type": "markdown",
   "metadata": {},
   "source": [
    "###  **Desafio 044:** Elabore um programa que calcule o valor a ser pago por um produto, considerando o seu **preço normal** e **condição de pagamento**:\n",
    "> * a vista **dinheiro/cheque**: **10%** de desconto\n",
    "> * a vista no **cartao**: **5%** de desconto\n",
    "> * em até **2x no cartão**: preço normal\n",
    "> *  **3x ou mais** no cartão : **20%** de juros\n"
   ]
  },
  {
   "cell_type": "code",
   "execution_count": null,
   "metadata": {},
   "outputs": [],
   "source": [
    "print(f'{\" WILL STORE \":=^50}')\n",
    "valor_produto = float(input('Digite o valor do produto:'))\n",
    "print(\"\"\"\n",
    "OPÇÕES DE PAGAMENTO\n",
    "[ 1 ] - a vista dinheiro/cheque(10% de desconto)\n",
    "[ 2 ] - a vista no catão(5% de desconto)\n",
    "[ 3 ] - 2x no catão(sem desconto)\n",
    "[ 4 ] - 3x ou mais no cartão(20% de juro)\n",
    "\"\"\")\n",
    "op_pagamento = input('DIGITE A OPÇÃO DE PAGAMENTO')\n",
    "if op_pagamento == '1':\n",
    "    print(f'O valor do produto de R$ {valor_produto} fica R$ {valor_produto * 0.9:.2f} com 10% de desconto')\n",
    "elif op_pagamento == '2':\n",
    "    print(f'O valor do produto de R$ {valor_produto} fica R$ {valor_produto * 0.95:.2f} com 5% de desconto')\n",
    "elif op_pagamento == '3':\n",
    "    print(f'O valor do produto de R$ {valor_produto} não tem desconto ficando 2x de R$ {valor_produto * 0.5:.2f}')\n",
    "elif op_pagamento == '4':\n",
    "    qtd_parcelas = int(input('Digite a quantidade de parcelas(MINIMO 3x)'))\n",
    "    if qtd_parcelas > 2:\n",
    "        print(f'O valor do produto de R$ {valor_produto} fica R$ {valor_produto * 1.2} com 20% de juros dividido em {qtd_parcelas}X')\n",
    "        print(f'{qtd_parcelas}X de R$ {(valor_produto* 1.2)/qtd_parcelas:.2f}')\n",
    "else:\n",
    "    print(f'Nenhuma das opções foram digitadas tente novamente')\n",
    "\n"
   ]
  },
  {
   "cell_type": "markdown",
   "metadata": {},
   "source": [
    "###  **Desafio 045:** Crie um programa que faça o computador jogar **jokenpô** com você"
   ]
  },
  {
   "cell_type": "code",
   "execution_count": null,
   "metadata": {},
   "outputs": [],
   "source": [
    "import random\n",
    "from time import sleep\n",
    "jogada_posiveis = {\n",
    "    1:'PEDRA',\n",
    "    2:'PAPEL',\n",
    "    3:'TESOURA'\n",
    "}\n",
    "espaco = 15\n",
    "print(f'{\" JOKEPÔ \":=^40}')\n",
    "jogada_pc = random.randint(1,3)\n",
    "print(\"\"\"\n",
    "JOGADAS POSSIVEIS \n",
    "[ 1 ]  - PEDRA\n",
    "[ 2 ]- PAPEL\n",
    "[ 3 ]- TESOURA\n",
    "\"\"\")\n",
    "jogada__usuario = int(input('DIGITE SUA JOGADA'))\n",
    "print('JO')\n",
    "sleep(1)\n",
    "print('kEN')\n",
    "sleep(1)\n",
    "print('PÔ !!!!!!')\n",
    "sleep(1)\n",
    "print('-=' * espaco)\n",
    "\n",
    "if jogada__usuario == jogada_pc:\n",
    "    print(f'Os dois jogaram {jogada_posiveis[jogada__usuario]} o jogo terminou EMPATADO !!')\n",
    "elif jogada__usuario == 1:\n",
    "    if jogada_pc == 2:\n",
    "        print(f'você escolheu {jogada_posiveis[jogada__usuario]}\\ncomputador escolheu {jogada_posiveis[jogada_pc]}\\nvocê PERDEU !!!')\n",
    "    elif jogada_pc == 3:\n",
    "        print(f'você escolheu {jogada_posiveis[jogada__usuario]}\\ncomputador escolheu {jogada_posiveis[jogada_pc]}\\nvocê GANHOU !!!!')\n",
    "elif jogada__usuario == 2:\n",
    "    if jogada_pc == 1:\n",
    "        print(f'você escolheu {jogada_posiveis[jogada__usuario]}\\ncomputador escolheu {jogada_posiveis[jogada_pc]}\\nvocê GANHOU !!!')\n",
    "    elif jogada_pc == 3:\n",
    "        print(f'você escolheu {jogada_posiveis[jogada__usuario]}\\ncomputador escolheu {jogada_posiveis[jogada_pc]}\\nvocê PERDEU !!!!')\n",
    "elif jogada__usuario == 3:\n",
    "    if jogada_pc == 1:\n",
    "        print(f'você escolheu {jogada_posiveis[jogada__usuario]}\\ncomputador escolheu {jogada_posiveis[jogada_pc]}\\nvocê PERDEU !!!')\n",
    "    elif jogada_pc == 2:\n",
    "        \n",
    "        print(f'você escolheu {jogada_posiveis[jogada__usuario]}\\ncomputador escolheu {jogada_posiveis[jogada_pc]}\\nvocê GANHOU !!!!')\n",
    "else: \n",
    "    print('Você digitou uma opção invalida\\nTente novamente !!!')\n",
    "\n",
    "print('-=' * espaco)"
   ]
  },
  {
   "cell_type": "markdown",
   "metadata": {},
   "source": [
    "## *AULA #13* - ESTRUTURA DE REPETIÇÃO *FOR*"
   ]
  },
  {
   "cell_type": "code",
   "execution_count": null,
   "metadata": {},
   "outputs": [],
   "source": [
    "##Ordem crecente\n",
    "qtd_iguais = 40\n",
    "print('='*qtd_iguais)\n",
    "print('ORDEM CRESCENTE DO FOR')\n",
    "print(\"\"\"\n",
    "for c in range(0,7):\n",
    "    print(f'{c:>2} - VASCO')\n",
    "print(f'FIM')\n",
    "Resultado:\n",
    "\"\"\")\n",
    "\n",
    "for c in range(0,7):\n",
    "    print(f' {c} - oi')\n",
    "print(f'FIM')\n",
    "print('='*qtd_iguais)\n",
    "##Ordem decrescente\n",
    "print('PARA ORDEM DECRESCENTE')\n",
    "print(\"\"\"\n",
    "for c in range(7, 0, -1):\n",
    "    print(f'{c:>2} - VASCO')\n",
    "print(f'FIM')\n",
    "Resultado:\n",
    "\"\"\")\n",
    "\n",
    "for c in range(7, 0, -1):\n",
    "    print(f'{c:>2} - VASCO')\n",
    "print(f'FIM')\n",
    "\n",
    "##Pulando passo\n",
    "print('='*qtd_iguais)\n",
    "print('PARA PULAR DE N EM N')\n",
    "print(\"\"\"\n",
    "for c in range(0, 7, 2):\n",
    "    print(f'{c:>2} - VASCO')\n",
    "print(f'FIM')\n",
    "Resultado:\n",
    "\"\"\")\n",
    "\n",
    "for c in range(0, 7, 2):\n",
    "    print(f'{c:>2} - VASCO')\n",
    "print(f'FIM')\n",
    "print('='*qtd_iguais)\n",
    "#INTERAGINDO COM VARIAVÉIS\n",
    "print('INTERAGINDO COM VARIAVÉIS')\n",
    "print(\"\"\"\n",
    "n = int(input('Digite um numero: '))\n",
    "for c in range(0,n+1):\n",
    "    print(f'{c:>2} - VASCO')\n",
    "print(f'FIM')\n",
    "Resultado:\n",
    "\"\"\")\n",
    "\n",
    "n = int(input('Digite um numero: '))\n",
    "print(f'Quantidade de repetições {n}')\n",
    "for c in range(0,n+1):\n",
    "    print(f'{c:>2} - VASCO')\n",
    "print(f'FIM')\n"
   ]
  },
  {
   "cell_type": "markdown",
   "metadata": {},
   "source": [
    "### ***Desafios da aula***\n",
    "\n",
    " 1. **Desafio 046:** Faça um programa que mostre na a contagem regresiva para o estoura de fogos de artificios. indo de  **10 até 0**, com pausa de **1 segundo** entre eles\n",
    " 2. **Desafio 047:** crie um programa que mostre na tela **todos os numeros pares** que estão no intervalo entre **1** e **50**\n",
    " 3. **Desafio 048:** Faça um programa que calcule a **soma** entre todos os **numero impares** que são **multiplos de três** e que se encontram no intervalo de **1** até **500** \n",
    " 4. **Desafio 049:** Refaça o **DESAFIO 009**,mostrando a **tabuada** de um número que o usuario escolher, só que agora ultilizando **laco for**\n",
    " 5. **Desafio 050:** Desenvolva um programa que leia **seis numeros inteiros** e mostre a soma apenas daqueles que forem **pares**.Se o valor digitado for **impar**, desconsidere-o\n",
    " 6. **Desafio 051:** Desenvolva um programa que leia o primeiro termo e a razão de um PA.No final.Mostre os 10 primeiros termos dessa progressão\n",
    " 7. **Desafio 052:** Faça um programa que leia um **numero inteiro** e diga se ele é ou não um **numero primo**\n",
    " 8. **Desafio 053:** Faça um program que leia uma frase qualquer e diga se ela é um palindromo, desconsidere espaços  \n",
    "              Ex1: apos a sopa   \n",
    "              EX2: a sacada da casa  \n",
    "              Ex3: a torre da derrota  \n",
    "              EX4: o lobo ama bolo  \n",
    "              Ex5: anotaram a data da maratona  \n",
    "\n",
    " 9. **Desafio 054:** Crie um programa que leia o **ano de nascimento** de **sete pessoas**.No final mostre quantas pessoas ainda não atingiram a maoridade e quantas já são maoires\n",
    "10. **Desafio 055:** Faça um programa que o peso de cinco pessoas no finall mostre qual foi o maior e o menor peso lidos\n",
    "11. **Desafio 056:** Desenvolva um programa que leia ,nome ,idade e sexo de 4 pessoas. No final do programa.Mostre:\n",
    ">> * A **media de idade** do grupo\n",
    ">> * Qual o nome do homeme **mais velho**\n",
    ">> * Quantas mulheres tem **menos de 20** anos \n",
    "\n"
   ]
  },
  {
   "cell_type": "markdown",
   "metadata": {},
   "source": [
    "### **Desafio 046:** Faça um programa que mostre na a contagem regresiva para o estoura de fogos de artificios. indo de  **10 até 0**, com pausa de **1 segundo** entre eles\n"
   ]
  },
  {
   "cell_type": "code",
   "execution_count": null,
   "metadata": {},
   "outputs": [],
   "source": [
    "from time import sleep\n",
    "print(f'{\" CONTAGEM REGRESSIVA \":=^50}')\n",
    "for c in range(10,0,-1):\n",
    "    print(f'{c:>2} SEGUNDOS')\n",
    "    sleep(1)\n",
    "\n",
    "print(f'BUM BUM BUM POW')\n",
    "print('FELIZ ANO NOVO !!!!')\n",
    "print(f'{\"\":=^50}')\n"
   ]
  },
  {
   "cell_type": "markdown",
   "metadata": {},
   "source": [
    "### **Desafio 047:** crie um programa que mostre na tela **todos os numeros pares** que estão no intervalo entre **1** e **50**\n"
   ]
  },
  {
   "cell_type": "code",
   "execution_count": null,
   "metadata": {},
   "outputs": [],
   "source": [
    "for c in range(2,51,2):\n",
    "        print(f'{c:>2}', end=' ')"
   ]
  },
  {
   "cell_type": "markdown",
   "metadata": {},
   "source": [
    "### **Desafio 048:** Faça um programa que calcule a **soma** entre todos os **numero impares** que são **multiplos de três** e que se encontram no intervalo de **1** até **500** \n"
   ]
  },
  {
   "cell_type": "code",
   "execution_count": null,
   "metadata": {},
   "outputs": [],
   "source": [
    "soma_valores = 0 \n",
    "n_num = 0\n",
    "for c in range(1, 501 ,2):\n",
    "    if c % 3 == 0:\n",
    "        soma_valores+=c\n",
    "        n_num += 1\n",
    "print(f'A soma dos {n_num} valores é de {soma_valores}')"
   ]
  },
  {
   "cell_type": "markdown",
   "metadata": {},
   "source": [
    "### **Desafio 049:** Refaça o **DESAFIO 009**,mostrando a **tabuada** de um número que o usuario escolher, só que agora ultilizando **laco for**\n"
   ]
  },
  {
   "cell_type": "code",
   "execution_count": null,
   "metadata": {},
   "outputs": [],
   "source": [
    "num = int(input('Digite o numero pra vê sua tabuada'))\n",
    "for c in range(1,11):\n",
    "    print(f'{num} X {c:>2} = {num * c:>3}')"
   ]
  },
  {
   "cell_type": "markdown",
   "metadata": {},
   "source": [
    "### **Desafio 050:** Desenvolva um programa que leia **seis numeros inteiros** e mostre a soma apenas daqueles que forem **pares**.Se o valor digitado for **impar**, desconsidere-o\n"
   ]
  },
  {
   "cell_type": "code",
   "execution_count": null,
   "metadata": {},
   "outputs": [],
   "source": [
    "soma = 0\n",
    "contador = 0\n",
    "for c in range(0,6):\n",
    "    num = int(input('Digite um valor'))\n",
    "    if(num % 2 == 0):\n",
    "        soma += num\n",
    "        contador += 1\n",
    "\n",
    "print(f'voce digitou {contador} numeros pares' if contador > 1 else f'voce digitou {contador} numero par')\n",
    "print(f'A soma dos numeros pares deu {soma}')\n",
    "        \n",
    "\n"
   ]
  },
  {
   "cell_type": "markdown",
   "metadata": {},
   "source": [
    "### **Desafio 051:** Desenvolva um programa que leia o primeiro termo e a razão de um PA.No final.Mostre os 10 primeiros termos dessa progressão\n",
    " "
   ]
  },
  {
   "cell_type": "code",
   "execution_count": null,
   "metadata": {},
   "outputs": [],
   "source": [
    "primeiro_termo = int(input('Digite o primero termo da PA'))\n",
    "razao = int(input('Digite o razão da PA'))\n",
    "for c in range(1,11):\n",
    "    print(f'{primeiro_termo:>2}',end = ' -> ')\n",
    "    primeiro_termo += razao\n",
    "print('ACABOU')"
   ]
  },
  {
   "cell_type": "markdown",
   "metadata": {},
   "source": [
    "### **Desafio 052:** Faça um programa que leia um **numero inteiro** e diga se ele é ou não um **numero primo**\n"
   ]
  },
  {
   "cell_type": "code",
   "execution_count": null,
   "metadata": {},
   "outputs": [],
   "source": [
    "num = int(input('Digite um numero: '))\n",
    "n_divisores = 0\n",
    "for c in range(1, num + 1):\n",
    "    if num % c == 0 :\n",
    "        print(f'\\033[32m{c}' ,end =' ')\n",
    "        n_divisores+=1\n",
    "    else:\n",
    "        print(f'\\033[31m{c}' ,end = ' ')\n",
    "print()\n",
    "print(f'\\033[0m{num} É um numero é primo' if n_divisores == 2 else f'\\033[0m{num} NÃO é um numero primo')"
   ]
  },
  {
   "cell_type": "markdown",
   "metadata": {},
   "source": [
    "### **Desafio 053:** Faça um program que leia uma frase qualquer e diga se ela é um palindromo, desconsidere espaços\n",
    "> Exemplos: \n",
    "> * apos a sopa  \n",
    "> * a sacada da casa  \n",
    "> * a torre da derrota  \n",
    "> * o lobo ama bolo  \n",
    "> * anotaram a data da maratona  \n",
    "\n"
   ]
  },
  {
   "cell_type": "code",
   "execution_count": null,
   "metadata": {},
   "outputs": [],
   "source": [
    "frase = str(input('Digite um frase')).strip().replace(' ', '').lower()\n",
    "fraseinversa = frase[::-1]\n",
    "# for c in range(len(frase), 0, -1):\n",
    "#     fraseinversa += frase[c -1]\n",
    "if(frase == fraseinversa):\n",
    "    print('Está frase é um palindormo')\n",
    "else:\n",
    "    print('Está frase não é um palindromo')"
   ]
  },
  {
   "cell_type": "markdown",
   "metadata": {},
   "source": [
    "### **Desafio 054:** Crie um programa que leia o **ano de nascimento** de **sete pessoas**.No final mostre quantas pessoas ainda não atingiram a maoridade e quantas já são maoires\n"
   ]
  },
  {
   "cell_type": "code",
   "execution_count": null,
   "metadata": {},
   "outputs": [],
   "source": [
    "import datetime,random\n",
    "qtd_maiores = 0\n",
    "for c in range(1,8):\n",
    "    ##data_nascimento = int(input('DIGITE O ANO DE NASCIMENTO: '))\n",
    "    data_nascimento = random.randint(1970,2015)\n",
    "    if datetime.date.today().year - data_nascimento > 21:\n",
    "        qtd_maiores+= 1\n",
    "    print(f'a idade é {datetime.date.today().year - data_nascimento}')\n",
    "print(f'Temos {7 - qtd_maiores} Peossoas menores de idade')\n",
    "print(f'Temos {qtd_maiores} pessoas maiores de idades ')\n",
    "    "
   ]
  },
  {
   "cell_type": "markdown",
   "metadata": {},
   "source": [
    "### **Desafio 055:** Faça um programa que o peso de cinco pessoas no finall mostre qual foi o maior e o menor peso lidos\n"
   ]
  },
  {
   "cell_type": "code",
   "execution_count": null,
   "metadata": {},
   "outputs": [],
   "source": [
    "import random\n",
    "maior_peso = 0\n",
    "menor_peso = 0\n",
    "for c in range(1,6):\n",
    "### peso = float(input('Digite seu peso: '))\n",
    "    peso = random.uniform(0 , 150)\n",
    "    if c == 1:\n",
    "      maior_peso = menor_peso = peso\n",
    "    if maior_peso < peso:\n",
    "        maior_peso = peso\n",
    "    if peso < menor_peso:\n",
    "        menor_peso = peso\n",
    "print(f'O MAIOR PESO É {maior_peso:.2f}\\nO MENOR PESO É {menor_peso:.2f}')"
   ]
  },
  {
   "cell_type": "markdown",
   "metadata": {},
   "source": [
    "### **Desafio 056:** Desenvolva um programa que leia ,nome ,idade e sexo de 4 pessoas. No final do programa.Mostre:\n",
    ">> * A **media de idade** do grupo\n",
    ">> * Qual o nome do homem **mais velho**\n",
    ">> * Quantas mulheres tem **menos de 20** anos "
   ]
  },
  {
   "cell_type": "code",
   "execution_count": null,
   "metadata": {},
   "outputs": [],
   "source": [
    "\n",
    "soma_idade = 0\n",
    "homem_mais_velho_idade = 0\n",
    "homem_mais_velho_nome = 0 \n",
    "mulheres_menores_vinte_anos = 0\n",
    "for c in range(1,5):\n",
    "    nome  = str(input('Digite seu nome: ')).lower().strip()\n",
    "    idade = int(input('Digite sua idade: '))\n",
    "    sexo  = str(input('Digite seu sexo: [M/F]')).strip()\n",
    "    if idade > homem_mais_velho_idade and sexo in 'Mm':\n",
    "        homem_mais_velho_nome = nome\n",
    "    if idade < 20 and sexo in 'Ff':\n",
    "        mulheres_menores_vinte_anos += 1\n",
    "    soma_idade += idade\n",
    "print(f'O nome do homem mais velho é {homem_mais_velho_nome}')\n",
    "print(f'temos {mulheres_menores_vinte_anos} mulher menor que vinte anos' if mulheres_menores_vinte_anos == 1 else f'temos {mulheres_menores_vinte_anos} mulheres menores que vinte anos' )\n",
    "print(f'A media de idade dessas pessoas é {soma_idade/4}')\n"
   ]
  },
  {
   "cell_type": "markdown",
   "metadata": {},
   "source": [
    "# Módulo 04 - Repetições em python(While)"
   ]
  },
  {
   "cell_type": "markdown",
   "metadata": {},
   "source": [
    "## Aula #14 - Estrutura de repetição while"
   ]
  },
  {
   "cell_type": "code",
   "execution_count": null,
   "metadata": {},
   "outputs": [],
   "source": [
    "for c in range(1,10):\n",
    "    print(c)\n",
    "print(f'FIM') "
   ]
  },
  {
   "cell_type": "code",
   "execution_count": null,
   "metadata": {},
   "outputs": [],
   "source": [
    "c = 1\n",
    "while c < 10:\n",
    "    print(c)\n",
    "    c+=1 \n",
    "print('FIM')"
   ]
  },
  {
   "cell_type": "markdown",
   "metadata": {},
   "source": [
    "vamos supor que queremos somente que o laço pare quando o valor digitado foi igual a zero  \n",
    "**NÃO** é possivel usar o for pois ele tem um tamanho delimitado "
   ]
  },
  {
   "cell_type": "code",
   "execution_count": null,
   "metadata": {},
   "outputs": [],
   "source": [
    "\n",
    "for valor in range(1,5):\n",
    "    n = int(input('Digite um valor: '))\n",
    "print('FIM')"
   ]
  },
  {
   "cell_type": "markdown",
   "metadata": {},
   "source": [
    "Para isso usamos um While  "
   ]
  },
  {
   "cell_type": "code",
   "execution_count": null,
   "metadata": {},
   "outputs": [],
   "source": [
    "from random import randint\n",
    "n = 1\n",
    "while n != 0:\n",
    "    n = randint(0,10)\n",
    "    print(n)\n",
    "print('FIM')"
   ]
  },
  {
   "cell_type": "code",
   "execution_count": null,
   "metadata": {},
   "outputs": [],
   "source": [
    "from random import randint\n",
    "n = 1\n",
    "par = impar = 0 \n",
    "while n != 0:\n",
    "    n = int(randint(0,1000))\n",
    "    if n != 0:\n",
    "        if n % 2 == 0:\n",
    "            par += 1\n",
    "        else: impar +=1\n",
    "\n",
    "print(f'você digitou {par} pares e {impar} numeros impares')"
   ]
  },
  {
   "cell_type": "markdown",
   "metadata": {},
   "source": [
    "### Desafios da aula\n",
    "1. **Desafio 057**: Faça um programa que leia o sexo de uma pessoa, mas só aceite os valores 'M' ou  'F', caso esteja errrado peça a digitação novamente até ter um valor correto\n",
    "1. **Desafio 058**: Melhore o jogo do **DESAFIO 028** onde o computador vai \"pensar\" em um numero de 1 a 10.Só que agora o jogador vai tentar adivinhar até acertar, mostrando no final quantos palpites foram necessários para vencer \n",
    "1. **Desafio 059**: Crie um programa que leia **dois valores** e mostre um **menu** na tela:  \n",
    "        [1]somar  \n",
    "        [2]Multiplicar  \n",
    "        [3]Maior  \n",
    "        [4]Novos numeros  \n",
    "        [5]Sair do programa  \n",
    "        \n",
    "    Seu programa deverá realizar operação solicitada em cada caso\n",
    "1. **Desafio 060**: Faça um programa que leia um numero qualquer e mostre o seu fatorial\n",
    "        EX:\n",
    "            5! = 5 X 4 X 3 X 2 X 1 = 120\n",
    "1. **Desafio 061**:Refaça o **desafio 051**, lendo o primeiro termo e a razão de uma PA.Mostrando **10 primeiros termo**s da progressão usando a estrutura **while**\n",
    "1. **Desafio 062**: Melhore o desafio 061 pergunta o usuario se ele quer mostrar mais alguns termos.O programa encerra quando ele disser que quer mostrar 0 termos\n",
    "1. **Desafio 063**: Escreava um programa que leia um numero n inteiro qualquer e mostra na tela os n primeros termos elementos de um sequencia de fibonacci  \n",
    "        Ex: 0 -> 1 -> 2 -> 3 -> 5 -> 8\n",
    "        \n",
    "1. **Desafio 064**: Crie um programa que leia varias números inteiros pelo teclado. O programa só vai parar quando o usauário digitar o valor 999, que é a condição de parada.No final mostre quantos números foram digitados e qual fori a soma entre eles(desconsiderando o flag) \n",
    "\n",
    "1. **Desafio 065**: Crie um programa que leia varias números inteiros no final da execução, mostra a media entre todas os valores e qual foi o maior e o menor volres lidos.O programa deve perguntar ao usúário se ele quer ou não continuar a digitar valores.\n"
   ]
  },
  {
   "cell_type": "markdown",
   "metadata": {},
   "source": [
    "### **Desafio 057**: Faça um programa que leia o sexo de uma pessoa, mas só aceite os valores 'M' ou  'F', caso esteja errrado peça a digitação novamente até ter um valor correto\n"
   ]
  },
  {
   "cell_type": "code",
   "execution_count": null,
   "metadata": {},
   "outputs": [],
   "source": [
    "sexo = ''\n",
    "while not(sexo == 'm' or sexo == 'f'):\n",
    "    sexo = input('Digite seu sexo:').lower()\n",
    "print(f'Você digitou o sexo masculino' if sexo == 'm' else 'Você digitou o sexo feminino')\n"
   ]
  },
  {
   "cell_type": "markdown",
   "metadata": {},
   "source": [
    "### **Desafio 058**: Melhore o jogo do **DESAFIO 028** onde o computador vai \"pensar\" em um numero de 1 a 10.Só que agora o jogador vai tentar adivinhar até acertar, mostrando no final quantos palpites foram necessários para vencer \n"
   ]
  },
  {
   "cell_type": "code",
   "execution_count": null,
   "metadata": {},
   "outputs": [],
   "source": [
    "import random\n",
    "n_sorteado = random.randint(1,10)\n",
    "num = 0\n",
    "qtd_tentativas = 0\n",
    "print('{:=^50}\\n{:^50}\\n{:=^50}'.format('','JOGO DA ADIVINHAÇÃO',''))\n",
    "while num !=n_sorteado:\n",
    "    num = int(input('DIGITE UM NUMERO DE 0 a 10: '))\n",
    "    qtd_tentativas += 1\n",
    "    if( num != n_sorteado):\n",
    "        print('Você errou...Tente de novo !')\n",
    "print(f'Você acertou !!! e precisou de {qtd_tentativas} para poder ganhar')"
   ]
  },
  {
   "cell_type": "markdown",
   "metadata": {},
   "source": [
    "### **Desafio 059**: Crie um programa que leia **dois valores** e mostre um **menu** na tela:  \n",
    "    [1]somar  \n",
    "    [2]Multiplicar  \n",
    "    [3]Maior  \n",
    "    [4]Novos numeros  \n",
    "    [5]Sair do programa  \n",
    "        \n",
    "    Seu programa deverá realizar operação solicitada em cada caso\n"
   ]
  },
  {
   "cell_type": "code",
   "execution_count": 1,
   "metadata": {},
   "outputs": [],
   "source": [
    "n1 = int(input('Digite o primeiro valor: '))\n",
    "n2 = int(input('Digite o segundo valor : '))\n",
    "op = 0\n",
    "\n",
    "while op != 5:\n",
    "    print(\"\"\"\n",
    "    [1]somar  \n",
    "    [2]Multiplicar  \n",
    "    [3]Maior  \n",
    "    [4]Novos numeros  \n",
    "    [5]Sair do programa  \n",
    "    \"\"\")\n"
   ]
  },
  {
   "cell_type": "markdown",
   "metadata": {},
   "source": [
    "### **Desafio 060**: Faça um programa que leia um numero qualquer e mostre o seu fatorial\n",
    "     EX:\n",
    "        5! = 5 X 4 X 3 X 2 X 1 = 120\n"
   ]
  },
  {
   "cell_type": "markdown",
   "metadata": {},
   "source": [
    "### **Desafio 061**:Refaça o **desafio 051**, lendo o primeiro termo e a razão de uma PA.Mostrando **10 primeiros termo**s da progressão usando a estrutura **while**\n"
   ]
  },
  {
   "cell_type": "markdown",
   "metadata": {},
   "source": [
    "### **Desafio 062**: Melhore o desafio 061 pergunta o usuario se ele quer mostrar mais alguns termos.O programa encerra quando ele disser que quer mostrar 0 termos\n"
   ]
  },
  {
   "cell_type": "markdown",
   "metadata": {},
   "source": [
    "### **Desafio 063**: Escreava um programa que leia um numero n inteiro qualquer e mostra na tela os n primeros termos elementos de um sequencia de fibonacci  \n",
    "Ex: 0 -> 1 -> 2 -> 3 -> 5 -> 8\n",
    "        \n"
   ]
  },
  {
   "cell_type": "markdown",
   "metadata": {},
   "source": [
    "### **Desafio 064**: Crie um programa que leia varias números inteiros pelo teclado. O programa só vai parar quando o usauário digitar o valor 999, que é a condição de parada.No final mostre quantos números foram digitados e qual fori a soma entre eles(desconsiderando o flag) \n",
    "\n"
   ]
  }
 ],
 "metadata": {
  "kernelspec": {
   "display_name": "Python 3",
   "language": "python",
   "name": "python3"
  },
  "language_info": {
   "codemirror_mode": {
    "name": "ipython",
    "version": 3
   },
   "file_extension": ".py",
   "mimetype": "text/x-python",
   "name": "python",
   "nbconvert_exporter": "python",
   "pygments_lexer": "ipython3",
   "version": "3.10.12"
  }
 },
 "nbformat": 4,
 "nbformat_minor": 2
}
