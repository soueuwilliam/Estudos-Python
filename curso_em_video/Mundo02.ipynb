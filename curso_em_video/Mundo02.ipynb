{
 "cells": [
  {
   "cell_type": "markdown",
   "metadata": {},
   "source": [
    "# **Modulo 02** condições em python(if..elif)"
   ]
  },
  {
   "cell_type": "markdown",
   "metadata": {},
   "source": [
    "### **Aula 12** Condicões aninhadas\n"
   ]
  },
  {
   "cell_type": "code",
   "execution_count": null,
   "metadata": {},
   "outputs": [],
   "source": [
    "nome = str(input('Qua seu nome ? '))\n",
    "if nome == 'William':\n",
    "    print('Que nome lindo você tem')\n",
    "elif nome == 'pedro' or nome == 'maria' or nome == 'paulo':\n",
    "    print('Seu nome é bem popular no brasil')\n",
    "elif nome in 'Ana claudia jéssica juliana':\n",
    "    print('belo nome feminino')\n",
    "else:\n",
    "    print('Que nome normal você tem') \n",
    "\n",
    "print('Tenha um bom dia, {}'.format(nome))"
   ]
  },
  {
   "cell_type": "markdown",
   "metadata": {},
   "source": [
    "### **Desafios da aula**\n",
    "1. **Desafio 036:** Escreva um programa para aprovar o empréstimo bancario para a compra de uma casa.O programa vai perguntar o **valor da casa**, o **salario** do comprador e em **quantos anos** ele vai pagar.Calcule o valor da prestação mensal sabendo que ela não pode exercer 30% do salario ou então o emprestimo seŕa negado.  \n",
    "2. **Desafio 037:** Escreva um programa que leia um numero inteiro qualquer e peça para o usuario escolher qual será a base de conversão\n",
    "> * 1 - para **binario**\n",
    "> * 2 - para **octal**\n",
    "> * 3 - para **hexadecimal**\n",
    "3. **Desafio 038:** Escreva um programa que leia **dois numeros** inteiros e compare-os mostrando na tela uma mensagem \n",
    "> O **Primeiro valor** é **maior**  \n",
    "> O **Segundo valor** é **maior**  \n",
    "> **Não existe** valor maior, os dois são **iguais**  \n",
    "4. **Desafio 039:** Faça um programa que leia o ano de nascimento de um jovem e informe, de acordo com sua idade: \n",
    "> * se ele **ainda vai se alistar** ao serviço militar \n",
    "> * se é a **hora de se alistar**\n",
    "> * se já **passou do tempo** do alistamento\n",
    "seu programa tambem deverá mostrar o tempo que falta ou que passou do prazo \n",
    "5. **Desafio 040:** Crie um programa que leia duas notas de aluno e calcule sua média, mostrando uma mensagem no final,de acordo com a média atingida:\n",
    "> * Média abaixo de **5.0** : **Reprovado**\n",
    "> * Média entre **5.0** e **6.9**: **Recuperação**\n",
    "> * Media **7.0** ou superior: **Aprovado**\n",
    "6. **Desafio 041:** A confederação nacional de natação precisa de um programa que leia o ano de nascimento de um atleta e mostre sua categoria,de acordo com a idade:\n",
    "> * até **9 anos**: Mirim\n",
    "> * até **14 anos**: Infantil\n",
    "> * até **19 anos**: Junior\n",
    "> * até **20 anos**: Senior\n",
    "> * acima :Master \n",
    "7. **Desafio 042:** Refaça o **Desafio 035** dos trinângulo, acrescentando o recurso de mostrar que tipo de triângulo será formado:\n",
    "> * **Equilatero**: todos os lados iguais\n",
    "> * **isosceles**: dois lados iguais\n",
    "> * **Escaleno**: todos os lados diferentes\n",
    "8. **Desafios 043:** Desenvolva uma lógica que leia o peso e a altura de uma pessoa, Calcule seu **IMC** e mostre seu status, de acordo com a tabela abaixo\n",
    "> - abaixo de **18.5**: abaixo do peso\n",
    "> - Entre de **18.5** e **25**: peso ideal\n",
    "> - **25** até **30**: Sobrepeso\n",
    "> - **30** até **40**: obesidade\n",
    "> - acima do **40**: obesidade morbida\n",
    "9. **Desafio 044:** Elabore um programa que calcule o valor a ser pago por um produto, considerando o seu **preço normal** e **condição de pagamento**:\n",
    "> * a vista **dinheiro/cheque**: **10%** de desconto\n",
    "> * a vista no **cartao**: **5%** de desconto\n",
    "> * em até **2x no cartão**: preço normal\n",
    "> *  **3x ou mais** no cartão : **20%** de juros\n",
    "10. **Desafio 045:** Crie um programa que faça o computador jogar **jokenpô** com você"
   ]
  },
  {
   "cell_type": "markdown",
   "metadata": {},
   "source": [
    "### **Desafio 036:** Escreva um programa para aprovar o empréstimo bancario para a compra de uma casa.O programa vai perguntar o **valor da casa**, o **salario** do comprador e em **quantos anos** ele vai pagar.Calcule o valor da prestação mensal sabendo que ela não pode exercer 30% do salario ou então o emprestimo seŕa negado. "
   ]
  },
  {
   "cell_type": "code",
   "execution_count": null,
   "metadata": {},
   "outputs": [],
   "source": [
    "valor_casa = float(input('Digite o valor da casa: '))\n",
    "salario = float(input('Digite o valor do seu salario: '))\n",
    "anos = int(input('Digite em quantos anos você pretende pagar o emprestimo'))\n",
    "parcela = valor_casa/(anos*12)\n",
    "print(f'Seu salario é de R${salario} ou seja sua parcela maxima só pode ser de \\33[1m{salario*0.3:.2f}')\n",
    "if parcela > salario * 0.3:\n",
    "    print(f'O valor da parcela ficou R$ \\033[31m{parcela:.2f}')\n",
    "    print('\\033[31mEMPRESTIMO NEGADO')\n",
    "else:\n",
    "    print(f'O valor da parcela ficou R$ \\033[32m{parcela:.2f}')\n",
    "    print('\\033[32mEMPRESTIMO PODE SER CONCEDIDO')\n"
   ]
  },
  {
   "cell_type": "markdown",
   "metadata": {},
   "source": [
    "### **Desafio 037:** Escreva um programa que leia um numero inteiro qualquer e peça para o usuario escolher qual será a base de conversão\n",
    "> * 1 - para **binario**\n",
    "> * 2 - para **octal**\n",
    "> * 3 - para **hexadecimal**"
   ]
  },
  {
   "cell_type": "code",
   "execution_count": null,
   "metadata": {},
   "outputs": [],
   "source": [
    "num= int(input('Digite um numero:'))\n",
    "menu = int(input('Digite a base que você que converter o numero:\\n1- Binario\\n2- octal\\n3 - hexadecimal'))\n",
    "if menu == 1:\n",
    "    print(f'{num} em Binario fica {bin(num)[2:]}')\n",
    "elif menu == 2:\n",
    "    print(f'{num} em octal fica {oct(num)[2:]}')\n",
    "elif menu == 3:\n",
    "     print(f'{num} em hexadecimal fica {hex(num)[2:]}')\n",
    "else:\n",
    "    print('Opção invalida ! tente novamente ')"
   ]
  },
  {
   "cell_type": "markdown",
   "metadata": {},
   "source": [
    "### **Desafio 038:** Escreva um programa que leia **dois numeros** inteiros e compare-os mostrando na tela uma mensagem \n",
    "> O **Primeiro valor** é **maior**  \n",
    "> O **Segundo valor** é **maior**  \n",
    "> **Não existe** valor maior, os dois são **iguais**  "
   ]
  },
  {
   "cell_type": "code",
   "execution_count": null,
   "metadata": {},
   "outputs": [],
   "source": [
    "n1 = int(input('Digite o primeiro valor'))\n",
    "n2 = int(input('Digite o segundo valor'))\n",
    "\n",
    "if n1 > n2: \n",
    "    print(f'O PRIMEIRO valor é maior')\n",
    "elif n2 > n1:\n",
    "    print(f'O SEGUNDO valor é maior')\n",
    "else:\n",
    "    print(f'Os valores são iguais')"
   ]
  },
  {
   "cell_type": "markdown",
   "metadata": {},
   "source": [
    "### **Desafio 039:** Faça um programa que leia o ano de nascimento de um jovem e informe, de acordo com sua idade: \n",
    "> * se ele **ainda vai se alistar** ao serviço militar \n",
    "> * se é a **hora de se alistar**\n",
    "> * se já **passou do tempo** do alistamento\n",
    "seu programa tambem deverá mostrar o tempo que falta ou que passou do prazo "
   ]
  },
  {
   "cell_type": "code",
   "execution_count": null,
   "metadata": {},
   "outputs": [],
   "source": [
    "import datetime\n",
    "ano_nascimento = int(input('Digite o ano que você nasceu: '))\n",
    "ano_atual= datetime.date.today().year\n",
    "idade_atual = ano_atual - ano_nascimento\n",
    "\n",
    "if ano_atual - ano_nascimento < 18:\n",
    "    print(f'você tem {idade_atual} ainda falta {18 - (ano_atual - ano_nascimento)} anos para se alistar no ano de {(18 - (ano_atual - ano_nascimento)) + ano_atual}')\n",
    "elif ano_atual - ano_nascimento > 18:\n",
    "    print(f'você tem {idade_atual} e devia ter se alistado a {(ano_atual - ano_nascimento) - 18} anos atrás no ano de {(((ano_atual - ano_nascimento) - 18) - ano_atual) * -1 }')\n",
    "else:\n",
    "    print(f'Voce tem {idade_atual} é precisa se alistar esse ano')"
   ]
  },
  {
   "cell_type": "markdown",
   "metadata": {},
   "source": [
    "### **Desafio 040:** Crie um programa que leia duas notas de aluno e calcule sua média, mostrando uma mensagem no final,de acordo com a média atingida:\n",
    "> * Média abaixo de **5.0** : **Reprovado**\n",
    "> * Média entre **5.0** e **6.9**: **Recuperação**\n",
    "> * Media **7.0** ou superior: **Aprovado**\n"
   ]
  },
  {
   "cell_type": "code",
   "execution_count": null,
   "metadata": {},
   "outputs": [],
   "source": [
    "nota1 = float(input('Digite a primeira nota'))\n",
    "nota2 = float(input('Digite a segunda nota'))\n",
    "media = (nota1 + nota2)/2\n",
    "\n",
    "if media < 5.0:\n",
    "    print(f'Sua média foi {media:.1f} infelizmente você está reprovado :(')\n",
    "elif 7 > media >= 5:\n",
    "    print(f'Sua media foi {media:.1f} e você está em recuperação ,estude pra prova! :)')\n",
    "else:\n",
    "    print(f'SUa media foi {media:.1f} e você está aprovado, Parabéns !!!!! ;)')\n",
    "        "
   ]
  },
  {
   "cell_type": "markdown",
   "metadata": {},
   "source": [
    "###  **Desafio 041:** A confederação nacional de natação precisa de um programa que leia o ano de nascimento de um atleta e mostre sua categoria,de acordo com a idade:\n",
    "> * até **9 anos**: Mirim\n",
    "> * até **14 anos**: Infantil\n",
    "> * até **19 anos**: Junior\n",
    "> * até **25 anos**: Senior\n",
    "> * acima :Master \n"
   ]
  },
  {
   "cell_type": "code",
   "execution_count": 1,
   "metadata": {},
   "outputs": [
    {
     "name": "stdout",
     "output_type": "stream",
     "text": [
      "o atleta tem 23 e está na categoria SÊNIOR\n"
     ]
    }
   ],
   "source": [
    "import datetime\n",
    "ano_nascimento = int(input('Digite a idade do seu nascimento'))\n",
    "ano_atual = datetime.date.today().year\n",
    "idade = ano_atual - ano_nascimento\n",
    "if  idade <= 9:\n",
    "    print(f'o atleta tem {idade} e está na categoria MIRIM')\n",
    "elif idade <= 14:\n",
    "    print(f'o atleta tem {idade} e está na categoria INFANTIL')\n",
    "elif idade <= 19:\n",
    "    print(f'o atleta tem {idade} e está na categoria JUNIOR')\n",
    "elif idade <= 25:\n",
    "    print(f'o atleta tem {idade} e está na categoria SÊNIOR')\n",
    "else: \n",
    "    print(f'o atleta tem {idade} e está na categoria MASTER')"
   ]
  },
  {
   "cell_type": "markdown",
   "metadata": {},
   "source": [
    "###  **Desafio 042:** Refaça o **Desafio 035** dos trinângulo, acrescentando o recurso de mostrar que tipo de triângulo será formado:\n",
    "> * **Equilatero**: todos os lados iguais\n",
    "> * **isosceles**: dois lados iguais\n",
    "> * **Escaleno**: todos os lados diferentes"
   ]
  },
  {
   "cell_type": "code",
   "execution_count": null,
   "metadata": {},
   "outputs": [],
   "source": [
    "def tipo_triangulo(r1,r2,r3):\n",
    "  if r1 == r2 and r2 == r3:\n",
    "    return 'Este triangulo é equilatero'\n",
    "  elif r1 == r2 or r2 == r3 or r1 == r3:\n",
    "    return 'Este triangulo é isoceles'\n",
    "  else:\n",
    "    return 'Este triangulo é Escaleno'\n",
    "r1 = int(input('Digite o valor da primeira reta '))\n",
    "r2 = int(input('Digite o valor da segunda reta '))\n",
    "r3 = int(input('Digite o valor da teceira reta '))\n",
    "if(r1 < r2 + r3 and r2 < r1 + r3 and r3 < r1 + r2):\n",
    "  print('Essas retas formam um triângulo ')\n",
    "  print(f'{tipo_triangulo(r1,r2,r3)}')\n",
    "else:\n",
    "  print('Essas retas não formam um triângulo ')"
   ]
  },
  {
   "cell_type": "markdown",
   "metadata": {},
   "source": [
    "###  **Desafios 043:** Desenvolva uma lógica que leia o peso e a altura de uma pessoa, Calcule seu **IMC** e mostre seu status, de acordo com a tabela abaixo\n",
    "> - abaixo de **18.5**: abaixo do peso\n",
    "> - Entre de **18.5** e **25**: peso ideal\n",
    "> - **25** até **30**: Sobrepeso\n",
    "> - **30** até **40**: obesidade\n",
    "> - acima do **40**: obesidade morbida"
   ]
  },
  {
   "cell_type": "markdown",
   "metadata": {},
   "source": [
    "###  **Desafio 044:** Elabore um programa que calcule o valor a ser pago por um produto, considerando o seu **preço normal** e **condição de pagamento**:\n",
    "> * a vista **dinheiro/cheque**: **10%** de desconto\n",
    "> * a vista no **cartao**: **5%** de desconto\n",
    "> * em até **2x no cartão**: preço normal\n",
    "> *  **3x ou mais** no cartão : **20%** de juros\n"
   ]
  },
  {
   "cell_type": "code",
   "execution_count": null,
   "metadata": {},
   "outputs": [],
   "source": [
    "valor_produto = float(input('Digite o valor do produto:'))\n",
    "print(\"\"\"\n",
    "OPÇÕES DE PAGAMENTO\n",
    "1 - a vista dinheiro/cheque(10% de desconto)\n",
    "2 - a vista no catão(5% de desconto)\n",
    "3 - 2x no catão(sem desconto)\n",
    "4 - 3x ou mais no cartão(20% de juro)\n",
    "\"\"\")\n",
    "op_pagamento = input('DIGITE A OPÇÃO DE PAGAMENTO')\n",
    "if op_pagamento == '1':\n",
    "    print(f'O valor do produto de R$ {valor_produto} fica R$ {valor_produto * 0.9:.2f} com 10% de desconto')\n",
    "elif op_pagamento == '2':\n",
    "    print(f'O valor do produto de R$ {valor_produto} fica R$ {valor_produto * 0.95:.2f} com 5% de desconto')\n",
    "elif op_pagamento == '3':\n",
    "    print(f'O valor do produto de R$ {valor_produto} não tem desconto ficando 2x de R$ {valor_produto * 0.5:.2f}')\n",
    "elif op_pagamento == '4':\n",
    "    qtd_parcelas = int(input('Digite a quantidade de parcelas(MINIMO 3x)'))\n",
    "    if qtd_parcelas > 2:\n",
    "        print(f'O valor do produto de R$ {valor_produto} fica R$ {valor_produto * 1.2} com 20% de juros dividido em {qtd_parcelas}X')\n",
    "        print(f'{qtd_parcelas}X de R$ {(valor_produto* 1.2)/qtd_parcelas:.2f}')\n",
    "else:\n",
    "    print(f'Nenhuma das opções foram digitadas tente novamente')\n",
    "\n"
   ]
  },
  {
   "cell_type": "markdown",
   "metadata": {},
   "source": [
    "###  **Desafio 045:** Crie um programa que faça o computador jogar **jokenpô** com você"
   ]
  },
  {
   "cell_type": "code",
   "execution_count": null,
   "metadata": {},
   "outputs": [],
   "source": [
    "import random\n",
    "jogada_posiveis = {\n",
    "    1:'PEDRA',\n",
    "    2:'PAPEL',\n",
    "    3:'TESOURA'\n",
    "}\n",
    "jogada_pc = random.randint(1,3)\n",
    "\n",
    "print(\"\"\"\n",
    "JOGADAS POSSIVEIS \n",
    "1 - PEDRA\n",
    "2 - PAPEL\n",
    "3 - TESOURA\n",
    "\"\"\")\n",
    "jogada__usuario = int(input('DIGITE SUA JOGADA'))\n",
    "if jogada__usuario == jogada_pc:\n",
    "    print(f'Os dois jogaram {jogada_posiveis[jogada__usuario]} o jogo terminou EMPATADO !!')\n",
    "elif jogada__usuario == 1:\n",
    "    if jogada_pc == 2:\n",
    "        print(f'você escolheu {jogada_posiveis[jogada__usuario]} e o computador escolheu {jogada_posiveis[jogada_pc]} você PERDEU !!!')\n",
    "    elif jogada_pc == 3:\n",
    "        print(f'você escolheu {jogada_posiveis[jogada__usuario]} e o computador escolheu {jogada_posiveis[jogada_pc]} você GANHOU !!!!')\n",
    "elif jogada__usuario == 2:\n",
    "    if jogada_pc == 1:\n",
    "        print(f'você escolheu {jogada_posiveis[jogada__usuario]} e o computador escolheu {jogada_posiveis[jogada_pc]} você GANHOU !!!')\n",
    "    elif jogada_pc == 3:\n",
    "        print(f'você escolheu {jogada_posiveis[jogada__usuario]} e o computador escolheu {jogada_posiveis[jogada_pc]} você PERDEU !!!!')\n",
    "elif jogada__usuario == 3:\n",
    "    if jogada_pc == 1:\n",
    "        print(f'você escolheu {jogada_posiveis[jogada__usuario]} e o computador escolheu {jogada_posiveis[jogada_pc]} você PERDEU !!!')\n",
    "    elif jogada_pc == 2:\n",
    "        print(f'você escolheu {jogada_posiveis[jogada__usuario]} e o computador escolheu {jogada_posiveis[jogada_pc]} você GANHOU !!!!')\n",
    "else: \n",
    "    print('Você digitou opção invalida, tente novamente !!!')"
   ]
  }
 ],
 "metadata": {
  "kernelspec": {
   "display_name": "Python 3",
   "language": "python",
   "name": "python3"
  },
  "language_info": {
   "codemirror_mode": {
    "name": "ipython",
    "version": 3
   },
   "file_extension": ".py",
   "mimetype": "text/x-python",
   "name": "python",
   "nbconvert_exporter": "python",
   "pygments_lexer": "ipython3",
   "version": "3.10.12"
  }
 },
 "nbformat": 4,
 "nbformat_minor": 2
}
