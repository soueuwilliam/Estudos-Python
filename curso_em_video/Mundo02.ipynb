{
 "cells": [
  {
   "cell_type": "markdown",
   "metadata": {},
   "source": [
    "# **Modulo 02** condições em python(if..elif)"
   ]
  },
  {
   "cell_type": "markdown",
   "metadata": {},
   "source": [
    "### **Aula 12** Condicões aninhadas\n"
   ]
  },
  {
   "cell_type": "code",
   "execution_count": null,
   "metadata": {},
   "outputs": [],
   "source": [
    "nome = str(input('Qua seu nome ? '))\n",
    "if nome == 'William':\n",
    "    print('Que nome lindo você tem')\n",
    "elif nome == 'pedro' or nome == 'maria' or nome == 'paulo':\n",
    "    print('Seu nome é bem popular no brasil')\n",
    "elif nome in 'Ana claudia jéssica juliana':\n",
    "    print('belo nome feminino')\n",
    "else:\n",
    "    print('Que nome normal você tem') \n",
    "\n",
    "print('Tenha um bom dia, {}'.format(nome))"
   ]
  },
  {
   "cell_type": "markdown",
   "metadata": {},
   "source": [
    "### **Desafios da aula**\n",
    "1. **Desafio 036:** Escreva um programa para aprovar o empréstimo bancario para a compra de uma casa.O programa vai perguntar o **valor da casa**, o **salario** do comprador e em **quantos anos** ele vai pagar.Calcule o valor da prestação mensal sabendo que ela não pode exercer 30% do salario ou então o emprestimo seŕa negado.  \n",
    "2. **Desafio 037:** Escreva um programa que leia um numero inteiro qualquer e peça para o usuario escolher qual será a base de conversão\n",
    "> * 1 - para **binario**\n",
    "> * 2 - para **octal**\n",
    "> * 3 - para **hexadecimal**\n",
    "3. **Desafio 038:** Escreva um programa que leia **dois numeros** inteiros e compare-os mostrando na tela uma mensagem \n",
    "> O **Primeiro valor** é **maior**  \n",
    "> O **Segundo valor** é **maior**  \n",
    "> **Não existe** valor maior, os dois são **iguais**  \n",
    "4. **Desafio 039:** Faça um programa que leia o ano de nascimento de um jovem e informe, de acordo com sua idade: \n",
    "> * se ele **ainda vai se alistar** ao serviço militar \n",
    "> * se é a **hora de se alistar**\n",
    "> * se já **passou do tempo** do alistamento\n",
    "seu programa tambem deverá mostrar o tempo que falta ou que passou do prazo \n",
    "5. **Desafio 040:** Crie um programa que leia duas notas de aluno e calcule sua média, mostrando uma mensagem no final,de acordo com a média atingida:\n",
    "> * Média abaixo de **5.0** : **Reprovado**\n",
    "> * Média entre **5.0** e **6.9**: **Recuperação**\n",
    "> * Media **7.0** ou superior: **Aprovado**\n",
    "6. **Desafio 041:** A confederação nacional de natação precisa de um programa que leia o ano de nascimento de um atleta e mostre sua categoria,de acordo com a idade:\n",
    "> * até **9 anos**: Mirim\n",
    "> * até **14 anos**: Infantil\n",
    "> * até **19 anos**: Junior\n",
    "> * até **20 anos**: Senior\n",
    "> * acima :Master \n",
    "7. **Desafio 042:** Refaça o **Desafio 035** dos trinângulo, acrescentando o recurso de mostrar que tipo de triângulo será formado:\n",
    "> * **Equilatero**: todos os lados iguais\n",
    "> * **isosceles**: dois lados iguais\n",
    "> * **Escaleno**: todos os lados diferentes\n",
    "8. **Desafios 043:** Desenvolva uma lógica que leia o peso e a altura de uma pessoa, Calcule seu **IMC** e mostre seu status, de acordo com a tabela abaixo\n",
    "> - abaixo de **18.5**: abaixo do peso\n",
    "> - Entre de **18.5** e **25**: peso ideal\n",
    "> - **25** até **30**: Sobrepeso\n",
    "> - **30** até **40**: obesidade\n",
    "> - acima do **40**: obesidade morbida\n",
    "9. **Desafio 044:** Elabore um programa que calcule o valor a ser pago por um produto, considerando o seu **preço normal** e **condição de pagamento**:\n",
    "> * a vista **dinheiro/cheque**: **10%** de desconto\n",
    "> * a vista no **cartao**: **5%** de desconto\n",
    "> * em até **2x no cartão**: preço normal\n",
    "> *  **3x ou mais** no cartão : **20%** de juros\n",
    "10. **Desafio 045:** Crie um programa que faça o computador jogar **jokenpô** com você"
   ]
  },
  {
   "cell_type": "markdown",
   "metadata": {},
   "source": [
    "### **Desafio 036:** Escreva um programa para aprovar o empréstimo bancario para a compra de uma casa.O programa vai perguntar o **valor da casa**, o **salario** do comprador e em **quantos anos** ele vai pagar.Calcule o valor da prestação mensal sabendo que ela não pode exercer 30% do salario ou então o emprestimo seŕa negado. "
   ]
  },
  {
   "cell_type": "code",
   "execution_count": null,
   "metadata": {},
   "outputs": [],
   "source": [
    "valor_casa = float(input('Digite o valor da casa: '))\n",
    "salario = float(input('Digite o valor do seu salario: '))\n",
    "anos = int(input('Digite em quantos anos você pretende pagar o emprestimo'))\n",
    "parcela = valor_casa/(anos*12)\n",
    "print(f'Seu salario é de R${salario} ou seja sua parcela maxima só pode ser de \\33[1m{salario*0.3:.2f}')\n",
    "if parcela > salario * 0.3:\n",
    "    print(f'O valor da parcela ficou R$ \\033[31m{parcela:.2f}')\n",
    "    print('\\033[31mEMPRESTIMO NEGADO')\n",
    "else:\n",
    "    print(f'O valor da parcela ficou R$ \\033[32m{parcela:.2f}')\n",
    "    print('\\033[32mEMPRESTIMO PODE SER CONCEDIDO')\n"
   ]
  },
  {
   "cell_type": "markdown",
   "metadata": {},
   "source": [
    "### **Desafio 037:** Escreva um programa que leia um numero inteiro qualquer e peça para o usuario escolher qual será a base de conversão\n",
    "> * 1 - para **binario**\n",
    "> * 2 - para **octal**\n",
    "> * 3 - para **hexadecimal**"
   ]
  },
  {
   "cell_type": "code",
   "execution_count": null,
   "metadata": {},
   "outputs": [],
   "source": [
    "num= int(input('Digite um numero:'))\n",
    "menu = int(input('Digite a base que você que converter o numero:\\n1- Binario\\n2- octal\\n3 - hexadecimal'))\n",
    "if menu == 1:\n",
    "    print(f'{num} em Binario fica {bin(num)[2:]}')\n",
    "elif menu == 2:\n",
    "    print(f'{num} em octal fica {oct(num)[2:]}')\n",
    "elif menu == 3:\n",
    "     print(f'{num} em hexadecimal fica {hex(num)[2:]}')\n",
    "else:\n",
    "    print('Opção invalida ! tente novamente ')"
   ]
  },
  {
   "cell_type": "markdown",
   "metadata": {},
   "source": [
    "### **Desafio 038:** Escreva um programa que leia **dois numeros** inteiros e compare-os mostrando na tela uma mensagem \n",
    "> O **Primeiro valor** é **maior**  \n",
    "> O **Segundo valor** é **maior**  \n",
    "> **Não existe** valor maior, os dois são **iguais**  "
   ]
  },
  {
   "cell_type": "code",
   "execution_count": null,
   "metadata": {},
   "outputs": [],
   "source": [
    "n1 = int(input('Digite o primeiro valor'))\n",
    "n2 = int(input('Digite o segundo valor'))\n",
    "\n",
    "if n1 > n2: \n",
    "    print(f'O PRIMEIRO valor é maior')\n",
    "elif n2 > n1:\n",
    "    print(f'O SEGUNDO valor é maior')\n",
    "else:\n",
    "    print(f'Os valores são iguais')"
   ]
  },
  {
   "cell_type": "markdown",
   "metadata": {},
   "source": [
    "### **Desafio 039:** Faça um programa que leia o ano de nascimento de um jovem e informe, de acordo com sua idade: \n",
    "> * se ele **ainda vai se alistar** ao serviço militar \n",
    "> * se é a **hora de se alistar**\n",
    "> * se já **passou do tempo** do alistamento\n",
    "seu programa tambem deverá mostrar o tempo que falta ou que passou do prazo "
   ]
  },
  {
   "cell_type": "code",
   "execution_count": null,
   "metadata": {},
   "outputs": [],
   "source": [
    "import datetime\n",
    "ano_nascimento = int(input('Digite o ano que você nasceu: '))\n",
    "ano_atual= datetime.date.today().year\n",
    "\n",
    "if ano_atual - ano_nascimento < 18:\n",
    "    print(f'você tem {ano_atual - ano_nascimento} ainda falta {18 - (ano_atual - ano_nascimento)} anos para se alistar')\n",
    "elif ano_atual - ano_nascimento > 18:\n",
    "    print(f'você tem {ano_atual - ano_nascimento} e devia ter se alistado a {(ano_atual - ano_nascimento) - 18} anos atrás')\n",
    "else:\n",
    "    print(f'Voce tem {ano_atual - ano_nascimento} é precisa se alistar esse ano')"
   ]
  }
 ],
 "metadata": {
  "kernelspec": {
   "display_name": "Python 3",
   "language": "python",
   "name": "python3"
  },
  "language_info": {
   "codemirror_mode": {
    "name": "ipython",
    "version": 3
   },
   "file_extension": ".py",
   "mimetype": "text/x-python",
   "name": "python",
   "nbconvert_exporter": "python",
   "pygments_lexer": "ipython3",
   "version": "3.10.12"
  }
 },
 "nbformat": 4,
 "nbformat_minor": 2
}
