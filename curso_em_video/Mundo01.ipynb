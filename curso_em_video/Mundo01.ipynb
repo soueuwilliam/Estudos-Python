{
  "cells": [
    {
      "cell_type": "markdown",
      "metadata": {
        "id": "view-in-github",
        "colab_type": "text"
      },
      "source": [
        "<a href=\"https://colab.research.google.com/github/soueuwilliam/Estudos-Python/blob/main/curso_em_video/Mundo01.ipynb\" target=\"_parent\"><img src=\"https://colab.research.google.com/assets/colab-badge.svg\" alt=\"Open In Colab\"/></a>"
      ]
    },
    {
      "cell_type": "markdown",
      "metadata": {
        "id": "3iQb6Wme541b"
      },
      "source": [
        "#**Modulo 02 - Primeiros passos com o python:**\n",
        "\n"
      ]
    },
    {
      "cell_type": "markdown",
      "metadata": {
        "id": "OiitN7pJypcR"
      },
      "source": [
        "##Aula 03 - instalando python3 e o ILDE"
      ]
    },
    {
      "cell_type": "code",
      "execution_count": null,
      "metadata": {
        "id": "NqXQzfNAyoj_",
        "outputId": "b170d0f6-c80b-4233-9ab8-e4139157bd9e"
      },
      "outputs": [
        {
          "name": "stdout",
          "output_type": "stream",
          "text": [
            "Olá, Mundo\n"
          ]
        }
      ],
      "source": [
        "##Comanndo pra mostrar algo na tela\n",
        "print('Olá, Mundo')"
      ]
    },
    {
      "cell_type": "code",
      "execution_count": null,
      "metadata": {
        "id": "BNItSc3WzwNp"
      },
      "outputs": [],
      "source": [
        "##Para printar o zen do python\n",
        "import this"
      ]
    },
    {
      "cell_type": "markdown",
      "metadata": {
        "id": "_0WripGu4zT8"
      },
      "source": [
        "##Aula 04 - Primeiros comandos em python3\n"
      ]
    },
    {
      "cell_type": "code",
      "execution_count": null,
      "metadata": {
        "id": "JLlirYLVZ3Iv"
      },
      "outputs": [],
      "source": [
        "### para imprimir alguma mensagem na tela\n",
        "print('olá mundo')\n",
        "### para imprimir problemas matemáticos pra o usuario\n",
        "print(7 + 4)\n",
        "### pra concatenar string\n",
        "print ('7' + '4')\n",
        "###para printar letrar e numeros\n",
        "print('olá', 5)\n"
      ]
    },
    {
      "cell_type": "code",
      "execution_count": null,
      "metadata": {
        "id": "O6gwcAKMzlvy"
      },
      "outputs": [],
      "source": [
        "### Praticar usando variaveis\n",
        "nome = 'william'\n",
        "idade = 24\n",
        "peso = 97.00\n",
        "print(nome ,idade, peso)"
      ]
    },
    {
      "cell_type": "code",
      "execution_count": null,
      "metadata": {
        "id": "IK7wumK23CEM"
      },
      "outputs": [],
      "source": [
        "### interagindo com um usuario\n",
        "\n",
        "nome = input('Qual é seu nome ? ')\n",
        "idade = input('Qual a sua idade ? ')\n",
        "peso = input('Qual o seu peso ? ')\n",
        "print(nome, idade , peso)"
      ]
    },
    {
      "cell_type": "markdown",
      "metadata": {
        "id": "vJYr0Bcw7g7d"
      },
      "source": [
        "###Desafios da Aula\n",
        "1. **Desafio 01:** Crie um script python que escreva um olá mundo na tela\n",
        "2. **Desafio 02:** Crie um script python que leia o nome de uma pesoa e mostre uma mensagem de boas-vindas de acordo com o valor digitado\n",
        "3. **Desafio 03:** Crie um script python que leia dois numeros e tente mostar a soma entre eles"
      ]
    },
    {
      "cell_type": "markdown",
      "metadata": {
        "id": "NWMjq1fBCG6A"
      },
      "source": [
        "##Desafio 01: Crie um script python que escreva um olá mundo na tela"
      ]
    },
    {
      "cell_type": "code",
      "execution_count": null,
      "metadata": {
        "id": "QvXmdGl4B-ao"
      },
      "outputs": [],
      "source": [
        "print('Olá , Mundo!')"
      ]
    },
    {
      "cell_type": "markdown",
      "metadata": {
        "id": "ZCiEvC3U9N8O"
      },
      "source": [
        "##Desafios 02: Crie um script python que leia o nome de uma pesoa e mostre uma mensagem de boas-vindas de acordo com o valor digitado\n",
        "\n",
        "\n",
        "\n"
      ]
    },
    {
      "cell_type": "code",
      "execution_count": null,
      "metadata": {
        "id": "XfkSq8mu9T2_"
      },
      "outputs": [],
      "source": [
        "nome = input('Qual seu nome ? ')\n",
        "print('Olá {} Seja bem vindo aqui !'.format(nome))"
      ]
    },
    {
      "cell_type": "markdown",
      "metadata": {
        "id": "Hg2TU4kn7IaT"
      },
      "source": [
        "#Modulo 03: Trantando dados e fazendo contas"
      ]
    },
    {
      "cell_type": "markdown",
      "metadata": {
        "id": "a6K3XqOh7IaT"
      },
      "source": [
        "##Aula 06: Tipos primitivos e saida de dados"
      ]
    },
    {
      "cell_type": "code",
      "execution_count": 2,
      "metadata": {
        "id": "4nG-DabL7IaT",
        "outputId": "d9ca0de5-f8f3-42f2-8d48-bc560d081e6f",
        "colab": {
          "base_uri": "https://localhost:8080/"
        }
      },
      "outputs": [
        {
          "output_type": "stream",
          "name": "stdout",
          "text": [
            "Digite um valor 2\n",
            "Digite outro valor 20\n",
            "A soma entre 2 e 20 vale 22 \n"
          ]
        }
      ],
      "source": [
        "#transformando strings em inteiros\n",
        "n1 = int(input('Digite um valor '))\n",
        "n2 = int(input('Digite outro valor '))\n",
        "s = n1 + n2\n",
        "print('A soma entre {} e {} vale {} '.format(n1,n2,s))\n"
      ]
    }
  ],
  "metadata": {
    "colab": {
      "provenance": [],
      "include_colab_link": true
    },
    "kernelspec": {
      "display_name": "Python 3",
      "name": "python3"
    },
    "language_info": {
      "codemirror_mode": {
        "name": "ipython",
        "version": 3
      },
      "file_extension": ".py",
      "mimetype": "text/x-python",
      "name": "python",
      "nbconvert_exporter": "python",
      "pygments_lexer": "ipython3",
      "version": "3.10.12"
    }
  },
  "nbformat": 4,
  "nbformat_minor": 0
}