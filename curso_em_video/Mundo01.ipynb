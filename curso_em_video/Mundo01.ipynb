{
  "cells": [
    {
      "cell_type": "markdown",
      "metadata": {
        "id": "view-in-github",
        "colab_type": "text"
      },
      "source": [
        "<a href=\"https://colab.research.google.com/github/soueuwilliam/Estudos-Python/blob/main/curso_em_video/Mundo01.ipynb\" target=\"_parent\"><img src=\"https://colab.research.google.com/assets/colab-badge.svg\" alt=\"Open In Colab\"/></a>"
      ]
    },
    {
      "cell_type": "markdown",
      "metadata": {
        "id": "3iQb6Wme541b"
      },
      "source": [
        "#**Modulo 02 - Primeiros passos com o python:**\n",
        "\n"
      ]
    },
    {
      "cell_type": "markdown",
      "metadata": {
        "id": "OiitN7pJypcR"
      },
      "source": [
        "##**Aula 03** - instalando python3 e o ILDE"
      ]
    },
    {
      "cell_type": "code",
      "execution_count": null,
      "metadata": {
        "id": "NqXQzfNAyoj_",
        "outputId": "b170d0f6-c80b-4233-9ab8-e4139157bd9e"
      },
      "outputs": [
        {
          "name": "stdout",
          "output_type": "stream",
          "text": [
            "Olá, Mundo\n"
          ]
        }
      ],
      "source": [
        "##Comanndo pra mostrar algo na tela\n",
        "print('Olá, Mundo')"
      ]
    },
    {
      "cell_type": "code",
      "execution_count": null,
      "metadata": {
        "id": "BNItSc3WzwNp"
      },
      "outputs": [],
      "source": [
        "##Para printar o zen do python\n",
        "import this"
      ]
    },
    {
      "cell_type": "markdown",
      "metadata": {
        "id": "_0WripGu4zT8"
      },
      "source": [
        "##**Aula 04** - Primeiros comandos em python3\n"
      ]
    },
    {
      "cell_type": "code",
      "execution_count": null,
      "metadata": {
        "id": "JLlirYLVZ3Iv"
      },
      "outputs": [],
      "source": [
        "### para imprimir alguma mensagem na tela\n",
        "print('olá mundo')\n",
        "### para imprimir problemas matemáticos pra o usuario\n",
        "print(7 + 4)\n",
        "### pra concatenar string\n",
        "print ('7' + '4')\n",
        "###para printar letrar e numeros\n",
        "print('olá', 5)\n"
      ]
    },
    {
      "cell_type": "code",
      "execution_count": null,
      "metadata": {
        "id": "O6gwcAKMzlvy"
      },
      "outputs": [],
      "source": [
        "### Praticar usando variaveis\n",
        "nome = 'william'\n",
        "idade = 24\n",
        "peso = 97.00\n",
        "print(nome ,idade, peso)"
      ]
    },
    {
      "cell_type": "code",
      "execution_count": null,
      "metadata": {
        "id": "IK7wumK23CEM"
      },
      "outputs": [],
      "source": [
        "### interagindo com um usuario\n",
        "\n",
        "nome = input('Qual é seu nome ? ')\n",
        "idade = input('Qual a sua idade ? ')\n",
        "peso = input('Qual o seu peso ? ')\n",
        "print(nome, idade , peso)"
      ]
    },
    {
      "cell_type": "markdown",
      "metadata": {
        "id": "vJYr0Bcw7g7d"
      },
      "source": [
        "###***Desafios da Aula***\n",
        "1. **Desafio 01:** Crie um script python que escreva um olá mundo na tela\n",
        "2. **Desafio 02:** Crie um script python que leia o nome de uma pesoa e mostre uma mensagem de boas-vindas de acordo com o valor digitado\n",
        "3. **Desafio 03:** Crie um script python que leia dois numeros e tente mostar a soma entre eles"
      ]
    },
    {
      "cell_type": "markdown",
      "metadata": {
        "id": "NWMjq1fBCG6A"
      },
      "source": [
        "###**Desafio 01:** Crie um script python que escreva um olá mundo na tela"
      ]
    },
    {
      "cell_type": "code",
      "execution_count": 18,
      "metadata": {
        "id": "QvXmdGl4B-ao",
        "outputId": "19e8f7a9-d719-4307-b58a-5a8e575834c8",
        "colab": {
          "base_uri": "https://localhost:8080/"
        }
      },
      "outputs": [
        {
          "output_type": "stream",
          "name": "stdout",
          "text": [
            "Olá , Mundo!\n"
          ]
        }
      ],
      "source": [
        "print('Olá , Mundo!')"
      ]
    },
    {
      "cell_type": "markdown",
      "metadata": {
        "id": "ZCiEvC3U9N8O"
      },
      "source": [
        "###**Desafios 02:** Crie um script python que leia o nome de uma pesoa e mostre uma mensagem de boas-vindas de acordo com o valor digitado\n",
        "\n",
        "\n",
        "\n"
      ]
    },
    {
      "cell_type": "code",
      "execution_count": null,
      "metadata": {
        "id": "XfkSq8mu9T2_"
      },
      "outputs": [],
      "source": [
        "nome = input('Qual seu nome ? ')\n",
        "print('Olá {} Seja bem vindo aqui !'.format(nome))"
      ]
    },
    {
      "cell_type": "markdown",
      "metadata": {
        "id": "Hg2TU4kn7IaT"
      },
      "source": [
        "#**Modulo 03: Trantando dados e fazendo contas**"
      ]
    },
    {
      "cell_type": "markdown",
      "metadata": {
        "id": "a6K3XqOh7IaT"
      },
      "source": [
        "##**Aula 06:** Tipos primitivos e saida de dados"
      ]
    },
    {
      "cell_type": "code",
      "execution_count": null,
      "metadata": {
        "id": "4nG-DabL7IaT"
      },
      "outputs": [],
      "source": [
        "#transformando strings em inteiros\n",
        "print('usando numeros inteiros')\n",
        "n1 = int(input('Digite um valor '))\n",
        "n2 = int(input('Digite outro valor '))\n",
        "s = n1 + n2\n",
        "print('A soma entre {} e {} vale {} '.format(n1,n2,s))\n",
        "\n",
        "#usando numeros com pontos flutuante\n",
        "n = float(input('digite um valor: '))\n",
        "print(n)\n",
        "\n",
        "\n",
        "#usando como Strings\n",
        "string = str(input('Digite uma valor para vê como vai ser usado em string'))\n",
        "print(type(string))\n",
        "\n",
        "print('usando como Boleano')\n",
        "boleano = bool(input('digite um valor para vê como vai ser printando em booleano'))\n",
        "print(boleano)\n",
        "\n",
        "\n",
        "valor = input( 'Digite um valor para vemos informação sobre essa variavel')\n",
        "print(valor.isnumeric())#Diz se a variave pode ser transformada em um int\n",
        "print(valor.isalpha())#Diz se a string é alpha\n",
        "print(valor.isalnum())#Diz se a string é alphanumérico\n",
        "print(valor.isupper())#Diz se todas as letras estão maiuscula\n",
        "print(valor.islower())#Diz se todas as letras estão minuscula\n",
        "\n"
      ]
    },
    {
      "cell_type": "markdown",
      "metadata": {
        "id": "tfQaCIkF5Me3"
      },
      "source": [
        "###Desafios da aula\n",
        "\n",
        "1. **Desafio 003:** Crie um programa  que leia dois números e mostre a soma entre eles.\n",
        "2. **Desafio 004:** Faça um programa que leia algo pelo teclado e mostre na tela seu tipo primitivo e todas as informações possiveis sobre ele."
      ]
    },
    {
      "cell_type": "markdown",
      "source": [
        "###**Desafio 03:** Crie um programa que leia dois números e mostre a soma entre eles"
      ],
      "metadata": {
        "id": "uBIjC50wFZ8K"
      }
    },
    {
      "cell_type": "code",
      "source": [
        "n1 = int(input('Digite o primeiro numero: '))\n",
        "n2 = int(input('Digite o segundo numero: '))\n",
        "s = n1 + n2\n",
        "print('A soma entre {} e {} é {}'.format(n1,n2,s))"
      ],
      "metadata": {
        "id": "Ae7TVemg5XmV"
      },
      "execution_count": null,
      "outputs": []
    },
    {
      "cell_type": "markdown",
      "source": [
        "###**Desafio 004**: Faça um programa que leia algo pelo teclado e mostre na tela seu tipo primitivo e todas as informações possiveis sobre ele."
      ],
      "metadata": {
        "id": "Xnjq1hHYGNtX"
      }
    },
    {
      "cell_type": "code",
      "source": [
        "n1 = input('Digite alguam coisa : ')\n",
        "print('o tipo primitivo desse valor é {}'.format(type(n1)))\n",
        "print('Só tem espaço ? {}'.format(n1.isspace()))\n",
        "print('Esse valor é um numero ? {}'.format(n1.isnumeric()))\n",
        "print('Esse valor é alfabético ? {}'.format(n1.isalpha()))\n",
        "print('Esse valor é alfaNumérico ? {}'.format(n1.isalnum()))\n",
        "print('Está em maiúscula ? {}'.format(n1.isupper()))\n",
        "print('Está em minuscula ? {}'.format(n1.islower()))\n",
        "print('Está capitalizado ? {}'.format(n1.istitle()))"
      ],
      "metadata": {
        "id": "ZfVeEI0kGU54"
      },
      "execution_count": null,
      "outputs": []
    },
    {
      "cell_type": "markdown",
      "source": [
        "##Aula 07: Operadores aritméticos"
      ],
      "metadata": {
        "id": "lgCOqi_qPV5J"
      }
    },
    {
      "cell_type": "code",
      "source": [
        "##Algumas formatações\n",
        "\n",
        "nome = input('Qual o seu nome ? ')\n",
        "print('Prazer em tem conhecer {:20}! '.format(nome)) #Tamnho da string\n",
        "print('Prazer em tem conhecer {:<20}! '.format(nome)) #alinhamento a esquerda\n",
        "print('Prazer em tem conhecer {:>20}! '.format(nome)) #alinhamento a direita\n",
        "print('Prazer em tem conhecer {:^20}! '.format(nome)) #centralização\n",
        "\n"
      ],
      "metadata": {
        "id": "cn6W0rMsc6fT"
      },
      "execution_count": null,
      "outputs": []
    },
    {
      "cell_type": "code",
      "source": [
        "##Operações\n",
        "\n",
        "n1 = int(input('Digite um numero : '))\n",
        "n2 = int(input('Digite outro numero : '))\n",
        "print('A soma vale {}'.format(n1+n2))\n",
        "print('A mutiplicação vale {}'.format(n1*n2))\n",
        "print('A divisão vale {:.3f}'.format(n1/n2))\n",
        "print('A divisão inteir vale {}'.format(n1//n2))\n",
        "print('A exponeciação vale {}'.format(n1**n2))"
      ],
      "metadata": {
        "id": "F1QTNHPIyRa_"
      },
      "execution_count": null,
      "outputs": []
    },
    {
      "cell_type": "markdown",
      "source": [],
      "metadata": {
        "id": "fnMjTm1t0diz"
      }
    },
    {
      "cell_type": "markdown",
      "source": [
        "##***Desafios da Aula***\n",
        "1. **Desafio 005:** Faça um progrma em python que leia um número inteiro e mostre na tela o seu sucessor e seu antecessor\n",
        "2. **Desafio 006:** Faça um progrma em python que leia um numero e mostre na tela o seu dobro, o triplo e sua raiz quadrada\n",
        "2. **Desafio 007:** Desenvolva um programa que leia as duas notas de uma aluno ,e calcule sua média.\n",
        "2. **Desafio 008:** Escreva um programa que leia o valor em metros e o exiba convertido em centrimetros e milimetros\n",
        "2. **Desafio 009:** Faça um programa que leia um numero inteiro qualquer e mostre na sua tela a sua tabuada\n",
        "2. **Desafio 010:** Crie um programa que leia quanto dinheiro uma pesoa tem na carteira e mostre quantos dolares ela pode comprar, considere US$ 1,00 = R$3,27\n",
        "2. **Desafio 011:** Faça um programa que leia a largura e a altura e altura de uma parede em metros,calcule a sua área e a quantidade de tinta necessária para pinta-la , sabendo que cada litro de tinta pinta um uma area de 2m².\n",
        "2. **Desafio 012:** Faça um algoritmo que leia o preço  de um produto e motre seu novo preço com 5% de desconto\n",
        "2. **Desafio 013:** Faça um algoritmo que leia o salario de um funcionário e mostre seu novo salário,com 15% de aumento"
      ],
      "metadata": {
        "id": "2iTL1-IHz9OG"
      }
    },
    {
      "cell_type": "markdown",
      "source": [
        "###**Desafio 005:** Faça um progrma em python que leia um número inteiro e mostre na tela o seu sucessor e seu antecessor"
      ],
      "metadata": {
        "id": "zdhHeX8H3-n6"
      }
    },
    {
      "cell_type": "code",
      "source": [
        "n1 = int(input('Digite um numero: '))\n",
        "print('O numero que Você digitou é {} seu sucessor é {} e seu antecessor é {}'.format(n1,n1+1,n1-1))"
      ],
      "metadata": {
        "id": "YNSybyoW4NjE"
      },
      "execution_count": null,
      "outputs": []
    },
    {
      "cell_type": "markdown",
      "source": [
        "\n",
        "###**Desafio 006:** Faça um progrma em python que leia um numero e mostre na tela o seu dobro, o triplo e sua raiz quadrada"
      ],
      "metadata": {
        "id": "cAbnni-ZrcuU"
      }
    },
    {
      "cell_type": "code",
      "source": [
        "n1 = int(input('Digite um numero: '))\n",
        "print('o numero que você digitou é {}\\nseu dobro é igual a {}\\nseu triplo é igual a {}\\ne sua raiz é igual a {}'.format(n1,n1*2,n1*3,n1**(1/2)))"
      ],
      "metadata": {
        "id": "zYKz5z6PrpKM"
      },
      "execution_count": null,
      "outputs": []
    },
    {
      "cell_type": "markdown",
      "source": [
        "###**Desafio 007:** Desenvolva um programa que leia as duas notas de uma aluno e calcule sua média."
      ],
      "metadata": {
        "id": "FwbEany9s0Ct"
      }
    },
    {
      "cell_type": "code",
      "source": [
        "n1 = int(input('Qual a primeira nota ? '))\n",
        "n2 = int(input('Qual a segunda nota ? '))\n",
        "media = (n1 + n2)/2\n",
        "print('Sua primeira nota foi {} sua segunda nota foi {} sua média é igual {}'.format(n1,n2,media))"
      ],
      "metadata": {
        "id": "IhJPajqAs_oy"
      },
      "execution_count": null,
      "outputs": []
    },
    {
      "cell_type": "markdown",
      "source": [
        "###**Desafio 008:** Escreva um programa que leia o valor em metros e o exiba convertido em centrimetros e milimetros"
      ],
      "metadata": {
        "id": "UZ8s9yyZutVJ"
      }
    },
    {
      "cell_type": "code",
      "source": [
        "n_metros = float(input('Digite o valor em metros que vc quer converter'))\n",
        "print('O valor digitado foi {} metro(s) é igual a {} centrimetro(s) e {} milimetro(s)'.format(n_metros,n_metros*100, n_metros* 1000))"
      ],
      "metadata": {
        "id": "qsHKMKVEu10l",
        "outputId": "c6d56f93-ae49-4d47-af32-626f3d8c69fb",
        "colab": {
          "base_uri": "https://localhost:8080/"
        }
      },
      "execution_count": 1,
      "outputs": [
        {
          "output_type": "stream",
          "name": "stdout",
          "text": [
            "Digite o valor em metros que vc quer converter1\n",
            "O valor digitado foi 1.0 metros é igual a 100.0 centrimetros e 1000.0 milimetros\n"
          ]
        }
      ]
    },
    {
      "cell_type": "markdown",
      "source": [
        " ### **Desafio 009:** Faça um programa que leia um numero inteiro qualquer e mostre na sua tela a sua tabuada\n",
        "\n"
      ],
      "metadata": {
        "id": "RB0f-F7dQSKb"
      }
    },
    {
      "cell_type": "code",
      "source": [
        "valor =int(input('Digite um valor pra saber sua tabuada:'))\n",
        "print('{} x 1 = {}\\n{} x 2 = {}\\n{} x 3 = {}\\n{} x 4 = {}\\n{} x 5 = {}\\n{} x 6 = {}\\n{} x 7 = {}\\n{} x 8 = {}\\n{} x 9 = {}\\n'.format(valor,valor*1,valor,valor*2,valor,valor*3,valor,valor*4,valor,valor*5,valor,valor*6,valor,valor*7,valor,valor*8,valor,valor*9))"
      ],
      "metadata": {
        "id": "SQeYziCdQa3n"
      },
      "execution_count": null,
      "outputs": []
    },
    {
      "cell_type": "markdown",
      "source": [
        "###**Desafio 010:** Crie um programa que leia quanto dinheiro uma pesoa tem na carteira e mostre quantos dolares ela pode comprar, considere US$ 1,00 = R$ 3,27"
      ],
      "metadata": {
        "id": "p3QNRQOaRdp9"
      }
    },
    {
      "cell_type": "code",
      "source": [
        "qtd_reais = float(input('Digite quantas reias você quer converter '))\n",
        "print('você tem {} reias e pode comprar U$ {} dolares'.format(qtd_reais, qtd_reais/3.27))"
      ],
      "metadata": {
        "id": "wn9943TKRc-T",
        "outputId": "7e320f27-dbbf-4cd7-f359-41a3bf7a52ba",
        "colab": {
          "base_uri": "https://localhost:8080/"
        }
      },
      "execution_count": 10,
      "outputs": [
        {
          "output_type": "stream",
          "name": "stdout",
          "text": [
            "Digite quantas reias você quer converter 3.27\n",
            "você tem 3.27 reias e pode comprar U$ 1.0 dolares\n"
          ]
        }
      ]
    },
    {
      "cell_type": "markdown",
      "source": [
        "### **Desafio 011:** Faça um programa que leia a largura e a altura e altura de uma parede em metros,calcule a sua área e a quantidade de tinta necessária para pinta-la , sabendo que cada litro de tinta pinta um uma area de 2m².\n"
      ],
      "metadata": {
        "id": "O70CgnBRTDW2"
      }
    },
    {
      "cell_type": "code",
      "source": [
        "largura = float(input('Digite a largura da parede'))\n",
        "altura = float(input('Digite a altura da parede'))\n",
        "print('Sua parede tem {} de área e para pintar a parede será nessecessário {} de tinta'.format(largura * altura, (largura * altura)/2))"
      ],
      "metadata": {
        "id": "Fr_WDybXTaOv",
        "outputId": "445ddf3f-4403-4e71-b9bb-f43969de4602",
        "colab": {
          "base_uri": "https://localhost:8080/"
        }
      },
      "execution_count": 11,
      "outputs": [
        {
          "output_type": "stream",
          "name": "stdout",
          "text": [
            "Digite a largura da parede2\n",
            "Digite a altura da parede2\n",
            "Sua parede tem 4.0 de área e para pintar a parede será nessecessário 2.0 de tinta\n"
          ]
        }
      ]
    },
    {
      "cell_type": "markdown",
      "source": [
        "### **Desafio 012:** Faça um algoritmo que leia o preço  de um produto e motre seu novo preço com 5% de desconto\n",
        ""
      ],
      "metadata": {
        "id": "qCarFkcqTQX4"
      }
    },
    {
      "cell_type": "code",
      "source": [
        "preco_prod = float(input('Qual o preço do produto ?'))\n",
        "print('O preço final do produto com desconto é R$ {}'.format(preco_prod * 0.95))"
      ],
      "metadata": {
        "id": "BmRat71bTbFV"
      },
      "execution_count": null,
      "outputs": []
    },
    {
      "cell_type": "markdown",
      "source": [
        "### **Desafio 013:** Faça um algoritmo que leia o salario de um funcionário e mostre seu novo salário,com 15% de aumento"
      ],
      "metadata": {
        "id": "IU9nuy82TSm-"
      }
    },
    {
      "cell_type": "code",
      "source": [
        "salario = float(input('Digite o valor do seu salario pra calculamos o aumento '))\n",
        "print('O salario é de {} reias e vai ter um aumento de 15% aumentando {} reais e seu novo salario será {} reais'.format(salario,salario*0.15,salario*1.15))"
      ],
      "metadata": {
        "id": "zkMNlh6UTc-F"
      },
      "execution_count": null,
      "outputs": []
    },
    {
      "cell_type": "markdown",
      "source": [
        "### **Desafios 14:** Escreva um programa que converta uma temperatura digitando em graus Celsius e converta para graus Fahrenheit\n"
      ],
      "metadata": {
        "id": "jo_kQTwQZFPy"
      }
    },
    {
      "cell_type": "code",
      "source": [
        "temperatura_C = float(input('Informe a temperatura é Cº :'))\n",
        "print('A temperatura de {} celsius é igual a {} Fahrenheit'.format(temperatura_C, (temperatura_C * (9/5) + 32)))"
      ],
      "metadata": {
        "id": "kiDT3qJ1ZVeK",
        "outputId": "a025b33a-7e09-4a0d-8340-77728bc430da",
        "colab": {
          "base_uri": "https://localhost:8080/"
        }
      },
      "execution_count": 14,
      "outputs": [
        {
          "output_type": "stream",
          "name": "stdout",
          "text": [
            "Informe a temperatura é Cº :31.5\n",
            "A temperatura de 31.5 celsius é igual a 88.7 Fahrenheit\n"
          ]
        }
      ]
    },
    {
      "cell_type": "markdown",
      "source": [
        "### **Desafios 15:** Escreva um programa que pergunte a quantidade de Km percorridos por um carro alugado e a quantidade de dias pelos quais ele foi alugado. Calcule o preço a pagar, sabendo que o carro custa R$ 60 por dia e R$ 0,15 por Km rodado."
      ],
      "metadata": {
        "id": "Porg7A-jaeL0"
      }
    },
    {
      "cell_type": "code",
      "source": [
        "dias_rodado = float(input('Digite os dias que você ficou com o carro '))\n",
        "km_rodado = float(input('Digite os km rodado '))\n",
        "print('Você ficou com o carro por {} dias e rodou {} km o preço a pagar é de {} reais '.format(dias_rodado,km_rodado,(dias_rodado * 60 + km_rodado * 0.15)))"
      ],
      "metadata": {
        "id": "niCtG5HUar6-"
      },
      "execution_count": null,
      "outputs": []
    },
    {
      "cell_type": "markdown",
      "source": [
        "#**Modula 04 - usando módulos em python**"
      ],
      "metadata": {
        "id": "S1-ubUJIcDpT"
      }
    }
  ],
  "metadata": {
    "colab": {
      "provenance": [],
      "include_colab_link": true
    },
    "kernelspec": {
      "display_name": "Python 3",
      "name": "python3"
    },
    "language_info": {
      "codemirror_mode": {
        "name": "ipython",
        "version": 3
      },
      "file_extension": ".py",
      "mimetype": "text/x-python",
      "name": "python",
      "nbconvert_exporter": "python",
      "pygments_lexer": "ipython3",
      "version": "3.10.12"
    }
  },
  "nbformat": 4,
  "nbformat_minor": 0
}