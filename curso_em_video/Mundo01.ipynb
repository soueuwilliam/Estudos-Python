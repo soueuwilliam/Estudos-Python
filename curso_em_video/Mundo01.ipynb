{
  "cells": [
    {
      "cell_type": "markdown",
      "metadata": {
        "colab_type": "text",
        "id": "view-in-github"
      },
      "source": [
        "<a href=\"https://colab.research.google.com/github/soueuwilliam/Estudos-Python/blob/main/curso_em_video/Mundo01.ipynb\" target=\"_parent\"><img src=\"https://colab.research.google.com/assets/colab-badge.svg\" alt=\"Open In Colab\"/></a>"
      ]
    },
    {
      "cell_type": "markdown",
      "metadata": {
        "id": "3iQb6Wme541b"
      },
      "source": [
        "# **Modulo 02 - Primeiros passos com o python:**\n",
        "\n"
      ]
    },
    {
      "cell_type": "markdown",
      "metadata": {
        "id": "OiitN7pJypcR"
      },
      "source": [
        "## **Aula 03** - instalando python3 e o ILDE"
      ]
    },
    {
      "cell_type": "code",
      "execution_count": null,
      "metadata": {
        "id": "NqXQzfNAyoj_"
      },
      "outputs": [],
      "source": [
        "##Comanndo pra mostrar algo na tela\n",
        "print('Olá, Mundo')"
      ]
    },
    {
      "cell_type": "code",
      "execution_count": null,
      "metadata": {
        "id": "BNItSc3WzwNp"
      },
      "outputs": [],
      "source": [
        "##Para printar o zen do python\n",
        "import this"
      ]
    },
    {
      "cell_type": "markdown",
      "metadata": {
        "id": "_0WripGu4zT8"
      },
      "source": [
        "## **Aula 04** - Primeiros comandos em python3\n"
      ]
    },
    {
      "cell_type": "code",
      "execution_count": null,
      "metadata": {
        "id": "JLlirYLVZ3Iv"
      },
      "outputs": [],
      "source": [
        "### para imprimir alguma mensagem na tela\n",
        "print('olá mundo')\n",
        "### para imprimir problemas matemáticos pra o usuario\n",
        "print(7 + 4)\n",
        "### pra concatenar string\n",
        "print ('7' + '4')\n",
        "###para printar letrar e numeros\n",
        "print('olá', 5)\n"
      ]
    },
    {
      "cell_type": "code",
      "execution_count": null,
      "metadata": {
        "id": "O6gwcAKMzlvy"
      },
      "outputs": [],
      "source": [
        "### Praticar usando variaveis\n",
        "nome = 'william'\n",
        "idade = 24\n",
        "peso = 97.00\n",
        "print(nome ,idade, peso)"
      ]
    },
    {
      "cell_type": "code",
      "execution_count": null,
      "metadata": {
        "id": "IK7wumK23CEM"
      },
      "outputs": [],
      "source": [
        "### interagindo com um usuario\n",
        "\n",
        "nome = input('Qual é seu nome ? ')\n",
        "idade = input('Qual a sua idade ? ')\n",
        "peso = input('Qual o seu peso ? ')\n",
        "print(nome, idade , peso)"
      ]
    },
    {
      "cell_type": "markdown",
      "metadata": {
        "id": "vJYr0Bcw7g7d"
      },
      "source": [
        "### ***Desafios da Aula***\n",
        "1. **Desafio 01:** Crie um script python que escreva um olá mundo na tela\n",
        "2. **Desafio 02:** Crie um script python que leia o nome de uma pesoa e mostre uma mensagem de boas-vindas de acordo com o valor digitado\n",
        "3. **Desafio 03:** Crie um script python que leia dois numeros e tente mostar a soma entre eles"
      ]
    },
    {
      "cell_type": "markdown",
      "metadata": {
        "id": "NWMjq1fBCG6A"
      },
      "source": [
        "### **Desafio 01:** Crie um script python que escreva um olá mundo na tela"
      ]
    },
    {
      "cell_type": "code",
      "execution_count": null,
      "metadata": {
        "id": "QvXmdGl4B-ao"
      },
      "outputs": [],
      "source": [
        "print('Olá , Mundo!')"
      ]
    },
    {
      "cell_type": "markdown",
      "metadata": {
        "id": "ZCiEvC3U9N8O"
      },
      "source": [
        "### **Desafios 02:** Crie um script python que leia o nome de uma pesoa e mostre uma mensagem de boas-vindas de acordo com o valor digitado\n",
        "\n",
        "\n",
        "\n"
      ]
    },
    {
      "cell_type": "code",
      "execution_count": null,
      "metadata": {
        "id": "XfkSq8mu9T2_"
      },
      "outputs": [],
      "source": [
        "nome = input('Qual seu nome ? ')\n",
        "print('Olá {} Seja bem vindo aqui !'.format(nome))"
      ]
    },
    {
      "cell_type": "markdown",
      "metadata": {
        "id": "Hg2TU4kn7IaT"
      },
      "source": [
        "# **Modulo 03: Trantando dados e fazendo contas**"
      ]
    },
    {
      "cell_type": "markdown",
      "metadata": {
        "id": "a6K3XqOh7IaT"
      },
      "source": [
        "## **Aula 06:** Tipos primitivos e saida de dados"
      ]
    },
    {
      "cell_type": "code",
      "execution_count": null,
      "metadata": {
        "id": "4nG-DabL7IaT"
      },
      "outputs": [],
      "source": [
        "#transformando strings em inteiros\n",
        "print('usando numeros inteiros')\n",
        "n1 = int(input('Digite um valor '))\n",
        "n2 = int(input('Digite outro valor '))\n",
        "s = n1 + n2\n",
        "print('A soma entre {} e {} vale {} '.format(n1,n2,s))\n",
        "\n",
        "#usando numeros com pontos flutuante\n",
        "n = float(input('digite um valor: '))\n",
        "print(n)\n",
        "\n",
        "\n",
        "#usando como Strings\n",
        "string = str(input('Digite uma valor para vê como vai ser usado em string'))\n",
        "print(type(string))\n",
        "\n",
        "print('usando como Boleano')\n",
        "boleano = bool(input('digite um valor para vê como vai ser printando em booleano'))\n",
        "print(boleano)\n",
        "\n",
        "\n",
        "valor = input( 'Digite um valor para vemos informação sobre essa variavel')\n",
        "print(valor.isnumeric())#Diz se a variave pode ser transformada em um int\n",
        "print(valor.isalpha())#Diz se a string é alpha\n",
        "print(valor.isalnum())#Diz se a string é alphanumérico\n",
        "print(valor.isupper())#Diz se todas as letras estão maiuscula\n",
        "print(valor.islower())#Diz se todas as letras estão minuscula\n",
        "\n"
      ]
    },
    {
      "cell_type": "markdown",
      "metadata": {
        "id": "tfQaCIkF5Me3"
      },
      "source": [
        "### ***Desafios da aula***\n",
        "\n",
        "1. **Desafio 003:** Crie um programa  que leia dois números e mostre a soma entre eles.\n",
        "2. **Desafio 004:** Faça um programa que leia algo pelo teclado e mostre na tela seu tipo primitivo e todas as informações possiveis sobre ele."
      ]
    },
    {
      "cell_type": "markdown",
      "metadata": {
        "id": "uBIjC50wFZ8K"
      },
      "source": [
        "### **Desafio 003:** Crie um programa que leia dois números e mostre a soma entre eles"
      ]
    },
    {
      "cell_type": "code",
      "execution_count": null,
      "metadata": {
        "id": "Ae7TVemg5XmV"
      },
      "outputs": [],
      "source": [
        "n1 = int(input('Digite o primeiro numero: '))\n",
        "n2 = int(input('Digite o segundo numero: '))\n",
        "s = n1 + n2\n",
        "print('A soma entre {} e {} é {}'.format(n1,n2,s))"
      ]
    },
    {
      "cell_type": "markdown",
      "metadata": {
        "id": "Xnjq1hHYGNtX"
      },
      "source": [
        "### **Desafio 004**: Faça um programa que leia algo pelo teclado e mostre na tela seu tipo primitivo e todas as informações possiveis sobre ele."
      ]
    },
    {
      "cell_type": "code",
      "execution_count": null,
      "metadata": {
        "id": "ZfVeEI0kGU54"
      },
      "outputs": [],
      "source": [
        "n1 = input('Digite alguam coisa : ')\n",
        "print('o tipo primitivo desse valor é {}'.format(type(n1)))\n",
        "print('Só tem espaço ? {}'.format(n1.isspace()))\n",
        "print('Esse valor é um numero ? {}'.format(n1.isnumeric()))\n",
        "print('Esse valor é alfabético ? {}'.format(n1.isalpha()))\n",
        "print('Esse valor é alfaNumérico ? {}'.format(n1.isalnum()))\n",
        "print('Está em maiúscula ? {}'.format(n1.isupper()))\n",
        "print('Está em minuscula ? {}'.format(n1.islower()))\n",
        "print('Está capitalizado ? {}'.format(n1.istitle()))"
      ]
    },
    {
      "cell_type": "markdown",
      "metadata": {
        "id": "lgCOqi_qPV5J"
      },
      "source": [
        "## **Aula 07:** Operadores aritméticos"
      ]
    },
    {
      "cell_type": "code",
      "execution_count": null,
      "metadata": {
        "id": "cn6W0rMsc6fT"
      },
      "outputs": [],
      "source": [
        "##Algumas formatações\n",
        "\n",
        "nome = input('Qual o seu nome ? ')\n",
        "print('Prazer em tem conhecer {:20}! '.format(nome)) #Tamnho da string\n",
        "print('Prazer em tem conhecer {:<20}! '.format(nome)) #alinhamento a esquerda\n",
        "print('Prazer em tem conhecer {:>20}! '.format(nome)) #alinhamento a direita\n",
        "print('Prazer em tem conhecer {:^20}! '.format(nome)) #centralização\n",
        "print('Prazer em tem conhecer {:=^20}! '.format(nome)) #centralização com string em volta\n",
        "\n"
      ]
    },
    {
      "cell_type": "code",
      "execution_count": null,
      "metadata": {
        "id": "F1QTNHPIyRa_"
      },
      "outputs": [],
      "source": [
        "##Operações\n",
        "\n",
        "n1 = int(input('Digite um numero : '))\n",
        "n2 = int(input('Digite outro numero : '))\n",
        "print('A soma vale {}'.format(n1+n2))\n",
        "print('A mutiplicação vale {}'.format(n1*n2))\n",
        "print('A divisão vale {:.3f}'.format(n1/n2))\n",
        "print('A divisão inteir vale {}'.format(n1//n2))\n",
        "print('A exponeciação vale {}'.format(n1**n2))"
      ]
    },
    {
      "cell_type": "markdown",
      "metadata": {
        "id": "2iTL1-IHz9OG"
      },
      "source": [
        "## ***Desafios da Aula***\n",
        "1. **Desafio 005:** Faça um progrma em python que leia um número inteiro e mostre na tela o seu sucessor e seu antecessor\n",
        "2. **Desafio 006:** Faça um progrma em python que leia um numero e mostre na tela o seu dobro, o triplo e sua raiz quadrada\n",
        "2. **Desafio 007:** Desenvolva um programa que leia as duas notas de uma aluno ,e calcule sua média.\n",
        "2. **Desafio 008:** Escreva um programa que leia o valor em metros e o exiba convertido em centrimetros e milimetros\n",
        "2. **Desafio 009:** Faça um programa que leia um numero inteiro qualquer e mostre na sua tela a sua tabuada\n",
        "2. **Desafio 010:** Crie um programa que leia quanto dinheiro uma pesoa tem na carteira e mostre quantos dolares ela pode comprar, considere US$ 1,00 = R$3,27\n",
        "2. **Desafio 011:** Faça um programa que leia a largura e a altura e altura de uma parede em metros,calcule a sua área e a quantidade de tinta necessária para pinta-la , sabendo que cada litro de tinta pinta um uma area de 2m².\n",
        "2. **Desafio 012:** Faça um algoritmo que leia o preço  de um produto e motre seu novo preço com 5% de desconto\n",
        "2. **Desafio 013:** Faça um algoritmo que leia o salario de um funcionário e mostre seu novo salário,com 15% de aumento"
      ]
    },
    {
      "cell_type": "markdown",
      "metadata": {
        "id": "zdhHeX8H3-n6"
      },
      "source": [
        "### **Desafio 005:** Faça um progrma em python que leia um número inteiro e mostre na tela o seu sucessor e seu antecessor"
      ]
    },
    {
      "cell_type": "code",
      "execution_count": null,
      "metadata": {
        "id": "YNSybyoW4NjE"
      },
      "outputs": [],
      "source": [
        "n1 = int(input('Digite um numero: '))\n",
        "print('O numero que Você digitou é {} seu sucessor é {} e seu antecessor é {}'.format(n1,n1+1,n1-1))"
      ]
    },
    {
      "cell_type": "markdown",
      "metadata": {
        "id": "cAbnni-ZrcuU"
      },
      "source": [
        "\n",
        "### **Desafio 006:** Faça um progrma em python que leia um numero e mostre na tela o seu dobro, o triplo e sua raiz quadrada"
      ]
    },
    {
      "cell_type": "code",
      "execution_count": null,
      "metadata": {
        "id": "zYKz5z6PrpKM"
      },
      "outputs": [],
      "source": [
        "n1 = int(input('Digite um numero: '))\n",
        "print('o numero que você digitou é {}\\nseu dobro é igual a {}\\nseu triplo é igual a {}\\ne sua raiz é igual a {}'.format(n1,n1*2,n1*3,n1**(1/2)))"
      ]
    },
    {
      "cell_type": "markdown",
      "metadata": {
        "id": "FwbEany9s0Ct"
      },
      "source": [
        "### **Desafio 007:** Desenvolva um programa que leia as duas notas de uma aluno e calcule sua média."
      ]
    },
    {
      "cell_type": "code",
      "execution_count": null,
      "metadata": {
        "id": "IhJPajqAs_oy"
      },
      "outputs": [],
      "source": [
        "n1 = int(input('Qual a primeira nota ? '))\n",
        "n2 = int(input('Qual a segunda nota ? '))\n",
        "media = (n1 + n2)/2\n",
        "print('Sua primeira nota foi {} sua segunda nota foi {} sua média é igual {}'.format(n1,n2,media))"
      ]
    },
    {
      "cell_type": "markdown",
      "metadata": {
        "id": "UZ8s9yyZutVJ"
      },
      "source": [
        "### **Desafio 008:** Escreva um programa que leia o valor em metros e o exiba convertido em centrimetros e milimetros"
      ]
    },
    {
      "cell_type": "code",
      "execution_count": null,
      "metadata": {
        "id": "qsHKMKVEu10l"
      },
      "outputs": [],
      "source": [
        "n_metros = float(input('Digite o valor em metros que vc quer converter'))\n",
        "print('O valor digitado foi {} metro(s) é igual a {} centrimetro(s) e {} milimetro(s)'.format(n_metros,n_metros*100, n_metros* 1000))"
      ]
    },
    {
      "cell_type": "markdown",
      "metadata": {
        "id": "RB0f-F7dQSKb"
      },
      "source": [
        " ### **Desafio 009:** Faça um programa que leia um numero inteiro qualquer e mostre na sua tela a sua tabuada\n",
        "\n"
      ]
    },
    {
      "cell_type": "code",
      "execution_count": null,
      "metadata": {
        "id": "SQeYziCdQa3n"
      },
      "outputs": [],
      "source": [
        "valor =int(input('Digite um valor pra saber sua tabuada:'))\n",
        "print('{} x 1 = {}\\n{} x 2 = {}\\n{} x 3 = {}\\n{} x 4 = {}\\n{} x 5 = {}\\n{} x 6 = {}\\n{} x 7 = {}\\n{} x 8 = {}\\n{} x 9 = {}\\n'.format(valor,valor*1,valor,valor*2,valor,valor*3,valor,valor*4,valor,valor*5,valor,valor*6,valor,valor*7,valor,valor*8,valor,valor*9))"
      ]
    },
    {
      "cell_type": "markdown",
      "metadata": {
        "id": "p3QNRQOaRdp9"
      },
      "source": [
        "### **Desafio 010:** Crie um programa que leia quanto dinheiro uma pesoa tem na carteira e mostre quantos dolares ela pode comprar, considere US$ 1,00 = R$ 3,27"
      ]
    },
    {
      "cell_type": "code",
      "execution_count": null,
      "metadata": {
        "id": "wn9943TKRc-T"
      },
      "outputs": [],
      "source": [
        "qtd_reais = float(input('Digite quantas reias você quer converter '))\n",
        "print('você tem {} reias e pode comprar U$ {} dolares'.format(qtd_reais, qtd_reais/3.27))"
      ]
    },
    {
      "cell_type": "markdown",
      "metadata": {
        "id": "O70CgnBRTDW2"
      },
      "source": [
        "### **Desafio 011:** Faça um programa que leia a largura e a altura e altura de uma parede em metros,calcule a sua área e a quantidade de tinta necessária para pinta-la , sabendo que cada litro de tinta pinta um uma area de 2m².\n"
      ]
    },
    {
      "cell_type": "code",
      "execution_count": null,
      "metadata": {
        "id": "Fr_WDybXTaOv"
      },
      "outputs": [],
      "source": [
        "largura = float(input('Digite a largura da parede'))\n",
        "altura = float(input('Digite a altura da parede'))\n",
        "print('Sua parede tem {} de área e para pintar a parede será nessecessário {} de tinta'.format(largura * altura, (largura * altura)/2))"
      ]
    },
    {
      "cell_type": "markdown",
      "metadata": {
        "id": "qCarFkcqTQX4"
      },
      "source": [
        "### **Desafio 012:** Faça um algoritmo que leia o preço  de um produto e motre seu novo preço com 5% de desconto\n"
      ]
    },
    {
      "cell_type": "code",
      "execution_count": null,
      "metadata": {
        "id": "BmRat71bTbFV"
      },
      "outputs": [],
      "source": [
        "preco_prod = float(input('Qual o preço do produto ?'))\n",
        "print('O preço final do produto com desconto é R$ {}'.format(preco_prod * 0.95))"
      ]
    },
    {
      "cell_type": "markdown",
      "metadata": {
        "id": "IU9nuy82TSm-"
      },
      "source": [
        "### **Desafio 013:** Faça um algoritmo que leia o salario de um funcionário e mostre seu novo salário,com 15% de aumento"
      ]
    },
    {
      "cell_type": "code",
      "execution_count": null,
      "metadata": {
        "id": "zkMNlh6UTc-F"
      },
      "outputs": [],
      "source": [
        "salario = float(input('Digite o valor do seu salario pra calculamos o aumento '))\n",
        "print('O salario é de {} reias e vai ter um aumento de 15% aumentando {} reais e seu novo salario será {} reais'.format(salario,salario*0.15,salario*1.15))"
      ]
    },
    {
      "cell_type": "markdown",
      "metadata": {
        "id": "jo_kQTwQZFPy"
      },
      "source": [
        "### **Desafios 014:** Escreva um programa que converta uma temperatura digitando em graus Celsius e converta para graus Fahrenheit\n"
      ]
    },
    {
      "cell_type": "code",
      "execution_count": null,
      "metadata": {
        "id": "kiDT3qJ1ZVeK"
      },
      "outputs": [],
      "source": [
        "temperatura_C = float(input('Informe a temperatura é Cº :'))\n",
        "print('A temperatura de {} celsius é igual a {} Fahrenheit'.format(temperatura_C, (temperatura_C * (9/5) + 32)))"
      ]
    },
    {
      "cell_type": "markdown",
      "metadata": {
        "id": "Porg7A-jaeL0"
      },
      "source": [
        "### **Desafios 015:** Escreva um programa que pergunte a quantidade de Km percorridos por um carro alugado e a quantidade de dias pelos quais ele foi alugado. Calcule o preço a pagar, sabendo que o carro custa R$ 60 por dia e R\\$ 0,15 por Km rodado."
      ]
    },
    {
      "cell_type": "code",
      "execution_count": null,
      "metadata": {
        "id": "niCtG5HUar6-"
      },
      "outputs": [],
      "source": [
        "dias_rodado = float(input('Digite os dias que você ficou com o carro '))\n",
        "km_rodado = float(input('Digite os km rodado '))\n",
        "print('Você ficou com o carro por {} dias e rodou {} km o preço a pagar é de {} reais '.format(dias_rodado,km_rodado,(dias_rodado * 60 + km_rodado * 0.15)))"
      ]
    },
    {
      "cell_type": "markdown",
      "metadata": {
        "id": "DH3d88vo7FDg"
      },
      "source": [
        "# **Modulo 04  - Usando módulo em python**"
      ]
    },
    {
      "cell_type": "code",
      "execution_count": null,
      "metadata": {
        "id": "y3LHn9qI7Opm"
      },
      "outputs": [],
      "source": [
        "#Importando toda uma biblioteca\n",
        "import math\n",
        "num = int(input('Digite um numero para saber qual a raiz quadrada desse numero'))\n",
        "print(math.sqrt(num))"
      ]
    },
    {
      "cell_type": "code",
      "execution_count": null,
      "metadata": {
        "id": "xzYrNvaA7nGZ"
      },
      "outputs": [],
      "source": [
        "#importando uma funcionalidade de uma biblioteca\n",
        "from math import sqrt\n",
        "num = int(input('Digite um numero para saber qual a raiz quadrada desse numero'))\n",
        "print(math.sqrt(num))"
      ]
    },
    {
      "cell_type": "code",
      "execution_count": null,
      "metadata": {
        "id": "qfxYGYGw8Wum"
      },
      "outputs": [],
      "source": [
        "#importando a biblioteca random\n",
        "import random\n",
        "num = random.random()\n",
        "num2 = random.randint(1,10)\n",
        "print(num)\n",
        "print(num2)"
      ]
    },
    {
      "cell_type": "code",
      "execution_count": null,
      "metadata": {
        "id": "VGHCnZvI9cd5"
      },
      "outputs": [],
      "source": [
        "!python -m pip install emoji --upgrade\n",
        "import emoji\n",
        "print(emoji.emojize(':smiling_face_with_sunglasses:'))"
      ]
    },
    {
      "cell_type": "markdown",
      "metadata": {
        "id": "LZ1oSAxTBFv3"
      },
      "source": [
        "### ***Desafios da aula***\n",
        "\n",
        "1. **Desafio 016:** Crie um progama que leia um número real qualquer pelo telcado e mostre na tela a sua porção inteira ex.: Digite um número 6.127 , o numero 6.127 tem a parte inteira 6.\n",
        "1. **Desafio 017:** Faça um programa que leia o comprimento do cateto oposto e do cateto adjacente de um triângulo retângulo, calcule e mostre o comprimento da hipotenusa\n",
        "1. **Desafio 018:** Faça um programa que leia o comprimeto do ângulo qualquer e mostre na tela o valor do seno cosseno e tangente desse ângulo\n",
        "1. **Desafio 019:** Um professor quer sortear um dos seus quatros.Faça um programa que ajude ele , lendo o nome deles e escrevendo o nome do escolhido\n",
        "1. **Desafio 020:** O mesmo professor do desafio anterior quer sortear a ordem de apresentação de trabalhos dos alunos faça um programa que leia o nome dos quatros alunos e mostre a ele a ordem sorteada\n",
        "1. **Desafio 021:** faça um programa em python que abra e reproduza o áudio de um arquivo mp3\n",
        "\n",
        "\n"
      ]
    },
    {
      "cell_type": "markdown",
      "metadata": {
        "id": "5IhqzST-fsZG"
      },
      "source": [
        "### **Desafio 016:** Crie um progama que leia um número real qualquer pelo telcado e mostre na tela a sua porção inteira ex.: Digite um número 6.127 , o numero 6.127 tem a parte inteira 6."
      ]
    },
    {
      "cell_type": "code",
      "execution_count": null,
      "metadata": {
        "id": "j4NV_37sfzvu"
      },
      "outputs": [],
      "source": [
        "import math\n",
        "num = float(input('Digite um numero: '))\n",
        "print('a parte inteira do numero {} é {}'.format(num, math.trunc(num)))"
      ]
    },
    {
      "cell_type": "markdown",
      "metadata": {
        "id": "3pD3id6Ngn0z"
      },
      "source": [
        "### **Desafio 017:** Faça um programa que leia o comprimento do cateto oposto e do cateto adjacente de um triângulo retângulo, calcule e mostre o comprimento da hipotenusa"
      ]
    },
    {
      "cell_type": "code",
      "execution_count": null,
      "metadata": {
        "id": "qVT3GTdwgwx7"
      },
      "outputs": [],
      "source": [
        "import math\n",
        "catop = float(input('Digite o valor do cateto oposto'))\n",
        "catad = float(input('Difite o valor do cateto adjacente'))\n",
        "print('O valor da hipotenusa é {}'.format(math.hypot(catop,catad)))"
      ]
    },
    {
      "cell_type": "markdown",
      "metadata": {
        "id": "5_6wP4tmhu5U"
      },
      "source": [
        "### **Desafio 018:** Faça um programa que leia o comprimeto do ângulo qualquer e mostre na tela o valor do seno cosseno e tangente desse ângulo"
      ]
    },
    {
      "cell_type": "code",
      "execution_count": null,
      "metadata": {
        "id": "Ybo5jVGNh0iL"
      },
      "outputs": [],
      "source": [
        "import math;\n",
        "comp = int(input('Digite o angulo: '))\n",
        "\n",
        "print('O angulo {}º\\nSeno {:.2f}\\nCosseno {:.2f}\\nTangente {:.2f}'.format(comp, math.sin(math.radians(comp)), math.cos(math.radians(comp)),math.tan(math.radians(comp))))"
      ]
    },
    {
      "cell_type": "markdown",
      "metadata": {
        "id": "gsd-_fadlInr"
      },
      "source": [
        "### **Desafio 019:** Um professor quer sortear um dos seus quatros.Faça um programa que ajude ele , lendo o nome deles e escrevendo o nome do escolhido"
      ]
    },
    {
      "cell_type": "code",
      "execution_count": null,
      "metadata": {
        "id": "AMQBa2hIlNKZ"
      },
      "outputs": [],
      "source": [
        "import random\n",
        "aluno1 = input('Digite o nome do primeiro aluno ')\n",
        "aluno2 = input('Digite o nome do segundo aluno ')\n",
        "aluno3 = input('Digite o nome do terceiro aluno ')\n",
        "aluno4 = input('Digite o nome do quarto aluno ')\n",
        "print('O aluno escolhido foi {}'.format(random.choice([aluno1,aluno2,aluno3,aluno4])))"
      ]
    },
    {
      "cell_type": "markdown",
      "metadata": {
        "id": "CPVKMquPnkQR"
      },
      "source": [
        "### **Desafio 020:** O mesmo professor do desafio anterior quer sortear a ordem de apresentação de trabalhos dos alunos faça um programa que leia o nome dos quatros alunos e mostre a ele a ordem sorteada"
      ]
    },
    {
      "cell_type": "code",
      "execution_count": null,
      "metadata": {
        "id": "wGfFHpSrnzdR"
      },
      "outputs": [],
      "source": [
        "import random\n",
        "aluno1 = input('Digite o nome do primeiro aluno ')\n",
        "aluno2 = input('Digite o nome do segundo aluno ')\n",
        "aluno3 = input('Digite o nome do terceiro aluno ')\n",
        "aluno4 = input('Digite o nome do quarto aluno ')\n",
        "lista = [aluno1,aluno2,aluno3,aluno4]\n",
        "random.shuffle(lista)\n",
        "print('A ordem de apresentação será{}'.format(lista))"
      ]
    },
    {
      "cell_type": "markdown",
      "metadata": {
        "id": "X_cA3ziEqJfG"
      },
      "source": [
        "### **Desafio 021:** faça um programa em python que abra e reproduza o áudio de um arquivo mp3"
      ]
    },
    {
      "cell_type": "code",
      "execution_count": null,
      "metadata": {
        "id": "lixc1E2JqESd"
      },
      "outputs": [],
      "source": [
        "##TO DO\n",
        "\n"
      ]
    },
    {
      "cell_type": "markdown",
      "metadata": {
        "id": "Wc-Qa-eMvOvT"
      },
      "source": [
        "## **Aula 09** - Manipulando texto"
      ]
    },
    {
      "cell_type": "code",
      "execution_count": null,
      "metadata": {
        "id": "s64Sm6qK0yZG"
      },
      "outputs": [],
      "source": [
        "frase = 'Curso em video python'\n",
        "print(frase)\n",
        "##Fatiamento\n",
        "print(frase[3])\n",
        "print(frase[3:13])\n",
        "print(frase[:13])\n",
        "print(frase[13:])\n",
        "print(frase[1:15])\n",
        "print(frase[1:15:2])\n",
        "print(frase[1::2])\n",
        "print(frase[::2])\n",
        "\n",
        "\n",
        "##Analise\n",
        "print(frase.count('o'))\n",
        "print(len(frase))\n",
        "print(frase.replace('python','android'))\n",
        "print(frase.find('Curso'))\n",
        "print('Curso' in frase )\n",
        "\n",
        "#Divisão\n",
        "print(frase.split())"
      ]
    },
    {
      "cell_type": "markdown",
      "metadata": {
        "id": "u-VlG0sV3muV"
      },
      "source": [
        "### ***Desafios da aula***\n",
        "1. **Desafios 022:** Crie um programa que leia o nome completo de uma pessoa e mostre:\n",
        "> * O nome com todas as letras maiuscula\n",
        "> * O nome com todas as letras minuscula\n",
        "> * Quantas letras ao todo(sem considera os espaço)\n",
        "> * Quantas letras tem o primeiro nome\n",
        "\n",
        "\n",
        "\n",
        "2. **Desafios 023:** Faça um programa que leia um numero de 0 a 9999 e mostre na tela cada um dos digitos separados\n",
        "> ex: digite um numero 1834\n",
        "> * Unidade: 4\n",
        "> * Dezena : 3\n",
        "> * Cetena : 8\n",
        "> * Milhar : 1  \n",
        "3. **Desafios 024:** Crie um programa em python que leia o nome de uma cidade e diga se ela começa ou não com a palavra \"santo\"\n",
        "4. **Desafios 025:** Crie um programa que leia o nome de uma pessoa e diga se ela tem 'Silva' no nome\n",
        "5. **Desafios 026:** Faça um programa que leia um frase pelo teclado e motre:\n",
        "> * Quantas vezes aparece a letra 'A'\n",
        "> * Em que posição ela aparece a primeira vez\n",
        "> * Em que posição ela aparece a ultima vez\n",
        "6. **Desafios 027:** mostre um programa que leia o nome completo de uma pessoa,mostrando em seguida o primerio e o ultimo nome separadamente\n",
        "> * Ana maria de souza\n",
        "> * Primeiro = Ana\n",
        "> * Ultimo = Souza\n",
        "\n"
      ]
    },
    {
      "cell_type": "markdown",
      "metadata": {
        "id": "Fqg0lwjU824_"
      },
      "source": [
        "### **Desafios 022:** Crie um programa que leia o nome completo de uma pessoa e mostre:\n",
        "> * O nome com todas as letras maiuscula\n",
        "> * O nome com todas as letras minuscula\n",
        "> * Quantas letras ao todo(sem considera os espaço)\n",
        "> * Quantas letras tem o primeiro nome\n"
      ]
    },
    {
      "cell_type": "code",
      "execution_count": null,
      "metadata": {
        "id": "In-vbdOy9_95"
      },
      "outputs": [],
      "source": [
        "nome = str(input('Digite seu nome: ')).strip()\n",
        "print('Seu nome em maiuscula fica : {}'.format(nome.upper()))\n",
        "print('Seu nome em minuscula fica : {}'.format(nome.lower()))\n",
        "print('Seu nome tem {} letras'.format(len(nome.replace(' ',''))))\n",
        "print('Seu primeiro nome tem {} letras'.format(len(nome.split()[0])))"
      ]
    },
    {
      "cell_type": "markdown",
      "metadata": {
        "id": "IbYgZT3Y9BQU"
      },
      "source": [
        "### **Desafios 023:** Faça um programa que leia um numero de 0 a 9999 e mostre na tela cada um dos digitos separados\n",
        "> ex: digite um numero 1834\n",
        "> * Unidade: 4\n",
        "> * Dezena : 3\n",
        "> * Centena : 8\n",
        "> * Milhar : 1  "
      ]
    },
    {
      "cell_type": "code",
      "execution_count": null,
      "metadata": {
        "id": "-DAVJ4hGA1LG"
      },
      "outputs": [],
      "source": [
        "num = int(input('Digite um numero: '))\n",
        "print(\"\"\"\n",
        "Analisando um numero....\n",
        "Unidade: {}\n",
        "Dezena: {}\n",
        "Centena: {}\n",
        "Milhar:{} \"\"\".format(((num%1000)%100)%10 ,((num%1000)%100)//10,(num%1000)//100,num//1000))\n",
        "\n"
      ]
    },
    {
      "cell_type": "markdown",
      "metadata": {
        "id": "eq53P9UC9TQ0"
      },
      "source": [
        "### **Desafios 024:** Crie um programa em python que leia o nome de uma cidade e diga se ela começa ou não com a palavra \"santo\"\n",
        "\n"
      ]
    },
    {
      "cell_type": "code",
      "execution_count": null,
      "metadata": {
        "id": "Gi7IgpUxB2aG"
      },
      "outputs": [],
      "source": [
        "nome_cidade = input('Em que cidade você nasceu ? ').strip()\n",
        "print('A cidade começa com santo ? {}'.format('santo' in nome_cidade.split()[0].lower()))"
      ]
    },
    {
      "cell_type": "markdown",
      "metadata": {
        "id": "o5gzmLYW9daU"
      },
      "source": [
        "### **Desafios 025:** Crie um programa que leia o nome de uma pessoa e diga se ela tem 'Silva' no nome"
      ]
    },
    {
      "cell_type": "code",
      "execution_count": null,
      "metadata": {
        "id": "e-Dm32xADSTD"
      },
      "outputs": [],
      "source": [
        "nome = input('Qual seu nome ?').strip()\n",
        "print('o seu nome possui silva ? {}'.format('silva' in nome.lower()))"
      ]
    },
    {
      "cell_type": "markdown",
      "metadata": {
        "id": "Syy28MV49vaL"
      },
      "source": [
        "### **Desafios 026:** Faça um programa que leia um frase pelo teclado e motre:\n",
        "> * Quantas vezes aparece a letra 'A'\n",
        "> * Em que posição ela aparece a primeira vez\n",
        "> * Em que posição ela aparece a ultima vez"
      ]
    },
    {
      "cell_type": "code",
      "execution_count": null,
      "metadata": {
        "id": "kJxTgntQWNte"
      },
      "outputs": [],
      "source": [
        "frase = str(input('Digite uma frase ')).lower().strip()\n",
        "print('Numero de A: {}'.format(frase.count('a')))\n",
        "print('O primeiro A aparece na posição: {}'.format(frase.find('a')))\n",
        "print('O ultimo A aparece na posição: {}'.format(frase.rfind('a')))"
      ]
    },
    {
      "cell_type": "markdown",
      "metadata": {
        "id": "72n-kLpS93a5"
      },
      "source": [
        "### **Desafios 027:** mostre um programa que leia o nome completo de uma pessoa,mostrando em seguida o primerio e o ultimo nome separadamente\n",
        "> * Ana maria de souza\n",
        "> * Primeiro = Ana\n",
        "> * Ultimo = Souza\n"
      ]
    },
    {
      "cell_type": "code",
      "execution_count": null,
      "metadata": {
        "id": "DALlS-aDZ-4o"
      },
      "outputs": [],
      "source": [
        "nome_completo = str(input('Digite o seu nome: '))\n",
        "print('Seu primeiro nome é: {}'.format(nome_completo.split()[0]))\n",
        "print('Seu ultimo nome é: {}'.format(nome_completo.split()[len(nome_completo.split()) -1]))"
      ]
    },
    {
      "cell_type": "markdown",
      "metadata": {
        "id": "ZNvfjtpyPsFM"
      },
      "source": [
        "# **Modulo 05 - Condições em python(if...else)**"
      ]
    },
    {
      "cell_type": "code",
      "execution_count": 4,
      "metadata": {
        "id": "b2ZV-Hl47F3m"
      },
      "outputs": [
        {
          "name": "stdout",
          "output_type": "stream",
          "text": [
            "Que nome bonito você tem !!!\n",
            "Bom dia william!\n"
          ]
        }
      ],
      "source": [
        "nome = str(input('Qual é o seu nome: ')).strip().lower()\n",
        "if nome == 'william':\n",
        "  print('Que nome bonito você tem !!!')\n",
        "print('Bom dia {}!'.format(nome))"
      ]
    },
    {
      "cell_type": "code",
      "execution_count": null,
      "metadata": {
        "id": "mAoXY_V8GRSC"
      },
      "outputs": [],
      "source": [
        "nota1 = float(input('Digite a primeira nota: '))\n",
        "nota2 = float(input('Digite a segunda nota: '))\n",
        "print('Sua média foi {}'.format((nota1+ nota2)/2))\n",
        "if((nota1 + nota2)/2 >=6):\n",
        "  print('Sua média foi boa! PARABÉNS!')\n",
        "else:\n",
        "  print('Sua média foi ruim! ESTUDE MAIS')"
      ]
    },
    {
      "cell_type": "markdown",
      "metadata": {
        "id": "WXjPLxJaZWlj"
      },
      "source": [
        "### ***Desafaios da aula***\n",
        "\n",
        "1. **Desafio 028:** Escreva um programa que faça computador 'pensar' em um numero inteiro entre 0 e 5 e peça para o usuario tentar descobrir qual foi o número escolhido pelo computador. o programador deverá escrever na tela se o usuario venceu ou perdeu\n",
        "2. **Desafio 029:** Escreve um programa que leia a velocidade de um carro.Se ele ultrapassar 80km/h.Mostre uma mensagem dizendo que ele foi multado.A multa vai custar R\\$7,00 por cada km acima do limite\n",
        "3. **Desafio 030:** Crie um programa que leia um numero interio qualquer e mostre na tela se ele é par ou impar.\n",
        "4. **Desafio 031:** Desenvolva um programa que pergunte a distancia da viagem em km.Calcule o preço da passagem.Cobrado R\\$0,50 por km para viagem até 200 km a R\\$0,45 para viagens mais longas\n",
        "5. **Desafio 032:** Faça um programa que leia um ano qualquer e mostre se ele é bissexto\n",
        "6. **Desafio 033:** Faça um programa que leia três numeros e mostre qual é o maior e qual é o menor\n",
        "7. **Desafio 034:** Escreva um programa que pergunte o salario de um funcionario e calcule o valor do seu aumento.Para salario superiores a R\\$1.250,00 calcule um aumento de 10% para inferiores ou iguais , o aumento é de 15%\n",
        "8. **Desafio 035:** Desenvolva um programa que leia o comprimento de três retas e diga se elas podem ou não formar um triângulo"
      ]
    },
    {
      "cell_type": "markdown",
      "metadata": {
        "id": "qcSNWxYtLq7T"
      },
      "source": [
        "### **Desafio 028:** Escreva um programa que faça computador 'pensar' em um numero inteiro entre 0 e 5 e peça para o usuario tentar descobrir qual foi o número escolhido pelo computador. o programador deverá escrever na tela se o usuario venceu ou perdeu"
      ]
    },
    {
      "cell_type": "code",
      "execution_count": null,
      "metadata": {
        "id": "OcNxk4P0LmVS"
      },
      "outputs": [],
      "source": [
        "import random\n",
        "n_sorteado = random.randint(0,5)\n",
        "print('{:=^50}\\n{:^50}\\n{:=^50}'.format('','JOGO DA ADIVINHAÇÃO',''))\n",
        "num = int(input('DIGITE UM NUMERO DE 0 a 5: '))\n",
        "if(num == n_sorteado):\n",
        "  print('VOCÊ ACERTOU !!!!')\n",
        "else:\n",
        "  print('VOCÊ ERROU O NUMERO ESCOLHIDO FOI {} TENTE DE NOVO.....'.format(n_sorteado))"
      ]
    },
    {
      "cell_type": "markdown",
      "metadata": {
        "id": "aT7ymWenRgPN"
      },
      "source": [
        "### **Desafio 029:** Escreve um programa que leia a velocidade de um carro.Se ele ultrapassar 80km/h.Mostre uma mensagem dizendo que ele foi multado.A multa vai custar R$7,00 por cada km acima do limite"
      ]
    },
    {
      "cell_type": "code",
      "execution_count": null,
      "metadata": {
        "id": "eUHhVWAgRoz1"
      },
      "outputs": [],
      "source": [
        "import math\n",
        "velocidade = float(input('Digite a velocidade do carro: '))\n",
        "if(velocidade > 80):\n",
        "  print('Você foi multado por execesso de velocidade por passar {:.2f}  acima do permitido e pagara R$ {} de multa'.format(velocidade - 80, math.trunc(velocidade - 80) * 7))\n",
        "else:\n",
        "  print('Você está dentro do limite da velocidade continue respeitando a limite de velocidade !')"
      ]
    },
    {
      "cell_type": "markdown",
      "metadata": {
        "id": "gCjw-diJcIn9"
      },
      "source": [
        "### **Desafio 030:** Crie um programa que leia um numero interio qualquer e mostre na tela se ele é par ou impar."
      ]
    },
    {
      "cell_type": "code",
      "execution_count": null,
      "metadata": {
        "colab": {
          "base_uri": "https://localhost:8080/"
        },
        "id": "VBV9f-azcRDF",
        "outputId": "c036075c-d334-434a-972a-6594f2d1a613"
      },
      "outputs": [
        {
          "name": "stdout",
          "output_type": "stream",
          "text": [
            "Digite um numero: 26\n",
            "26 é par\n"
          ]
        }
      ],
      "source": [
        "num = int(input('Digite um numero: '))\n",
        "if num%2 == 0:\n",
        "  print('{} é par'.format(num))\n",
        "else:\n",
        "  print('{} é impar'.format(num))"
      ]
    },
    {
      "cell_type": "markdown",
      "metadata": {
        "id": "H94NIUhMczSI"
      },
      "source": [
        "###**Desafio 031:** Desenvolva um programa que pergunte a distancia da viagem em km.Calcule o preço da passagem.Cobrado R\\$0,50 por km para viagem até 200 km a R\\$0,45 para viagens mais longas\n"
      ]
    },
    {
      "cell_type": "code",
      "execution_count": null,
      "metadata": {
        "id": "WJaYw9RZc61d"
      },
      "outputs": [],
      "source": [
        "distancia = float(input('Digite a distância da viagem: '))\n",
        "if(distancia >= 200):\n",
        "  print('a passagem custa R$0,45 por km então o preço final é de R$ {:.2f}'.format(distancia*0.45))\n",
        "else:\n",
        "  print('a passagem custa R$0,50 por km então o preço final é de R$ {:.2f}'.format(distancia*0.50))\n"
      ]
    },
    {
      "cell_type": "markdown",
      "metadata": {
        "id": "0z8BUDaAEN26"
      },
      "source": [
        "### **Desafio 032:** Faça um programa que leia um ano qualquer e mostre se ele é bissexto"
      ]
    },
    {
      "cell_type": "code",
      "execution_count": null,
      "metadata": {
        "id": "gpxjbWUlEvuI"
      },
      "outputs": [],
      "source": [
        "ano = int(input('Digite o ano :'))\n",
        "if((ano%4) == 0 and (ano%100 != 0 or ano%400 == 0)):\n",
        "  print('{} é um ano é bissexto'.format(ano))\n",
        "else:\n",
        "  print('{} não é um ano bissexto'.format(ano))"
      ]
    },
    {
      "cell_type": "markdown",
      "metadata": {
        "id": "pTpKPL4-IUFk"
      },
      "source": [
        "### **Desafio 033:** Faça um programa que leia três numeros e mostre qual é o maior e qual é o menor"
      ]
    },
    {
      "cell_type": "code",
      "execution_count": null,
      "metadata": {
        "id": "bV5kuZn0IYAp"
      },
      "outputs": [],
      "source": [
        "n1 = int(input('Digite o primeiro numero: '))\n",
        "n2 = int(input('Digite o segundo numero: '))\n",
        "n3 = int(input('Digite o terceiro numero:'))\n",
        "\n",
        "if(n1 > n2 and n1 > n3):\n",
        "  if(n2 > n3):\n",
        "    print('Maior numero: {}\\nMenor numero: {}'.format(n1,n3))\n",
        "  else:\n",
        "    print('Maior numero: {}\\nMenor numero: {}'.format(n1,n2))\n",
        "else:\n",
        "  if(n2 > n3 and n2 > n1):\n",
        "    if(n1 > n3):\n",
        "      print('Maior numero: {}\\nMenor numero: {}'.format(n2,n3))\n",
        "    else:\n",
        "      print('Maior numero: {}\\nMenor numero: {}'.format(n2,n1))\n",
        "\n",
        "  else:\n",
        "    if(n3 > n1 and n3 > n2):\n",
        "      if(n1 > n2):\n",
        "        print('Maior numero: {}\\nMenor numero: {}'.format(n3,n2))\n",
        "      else:\n",
        "        print('Maior numero: {}\\nMenor numero: {}'.format(n3,n1))\n",
        "\n",
        "\n"
      ]
    },
    {
      "cell_type": "markdown",
      "metadata": {
        "id": "zJMILPPyYyk4"
      },
      "source": [
        "### **Desafio 034:** Escreva um programa que pergunte o salario de um funcionario e calcule o valor do seu aumento.Para salario superiores a R$1.250,00 calcule um aumento de 10% para inferiores ou iguais , o aumento é de 15%"
      ]
    },
    {
      "cell_type": "code",
      "execution_count": null,
      "metadata": {
        "id": "RZ_-Ck8ZY-Vz"
      },
      "outputs": [],
      "source": [
        "salario = float(input('Digite o salario: R$ '))\n",
        "print('Seu salario novo é de R$ {:.2f}'.format(salario * 1.10) if salario >=1250 else 'Seu salario novo é de R$ {:.2f}'.format(salario * 1.15))"
      ]
    },
    {
      "cell_type": "markdown",
      "metadata": {
        "id": "TuF4ghjRcUse"
      },
      "source": [
        "### **Desafio 035:** Desenvolva um programa que leia o comprimento de três retas e diga se elas podem ou não formar um triângulo"
      ]
    },
    {
      "cell_type": "code",
      "execution_count": null,
      "metadata": {
        "colab": {
          "base_uri": "https://localhost:8080/"
        },
        "id": "_1PF1-MichB2",
        "outputId": "c842640c-2839-4677-9ccd-daf15f4980f4"
      },
      "outputs": [],
      "source": [
        "r1 = int(input('Digite o valor da primeira reta '))\n",
        "r2 = int(input('Digite o valor da segunda reta '))\n",
        "r3 = int(input('Digite o valor da teceira reta '))\n",
        "if(r1 < r2 + r3 and r2 < r1 + r3 and r3 < r1 + r2):\n",
        "  print('Essas retas formam um triângulo ')\n",
        "else:\n",
        "  print('Essas retas não formam um triângulo ')\n"
      ]
    },
    {
      "cell_type": "markdown",
      "metadata": {},
      "source": [
        "# **MODULO 06** - Adicionando cores ao python\n"
      ]
    },
    {
      "cell_type": "code",
      "execution_count": null,
      "metadata": {},
      "outputs": [],
      "source": [
        "print('\\033[1;31;43mOlá,Mundo')\n",
        "print('\\033[4;30;45mOlá,Mundo')\n",
        "print('\\033[0;33;44mOlá,Mundo') \n",
        "\n",
        "a = 3\n",
        "b = 5\n",
        "print('os valores são \\033[32;44m{}\\033[m e \\033[31;44m{}\\033[m !!!'.format(a, b))\n",
        "\n",
        "cores = {'limpa': '\\033[m', \n",
        "         'azul':'\\033[34m',\n",
        "         'amarelo': '\\033[33m',\n",
        "         'pretoebranco': '\\033[7;30m'}\n",
        "\n",
        "nome = 'William'\n",
        "print('Olá ! Muito prazer em te conhecer, {}{}{} !!!!'.format(cores['pretoebranco'], nome, cores['limpa']))\n",
        "\n",
        "\n"
      ]
    }
  ],
  "metadata": {
    "colab": {
      "include_colab_link": true,
      "provenance": []
    },
    "kernelspec": {
      "display_name": "Python 3",
      "name": "python3"
    },
    "language_info": {
      "codemirror_mode": {
        "name": "ipython",
        "version": 3
      },
      "file_extension": ".py",
      "mimetype": "text/x-python",
      "name": "python",
      "nbconvert_exporter": "python",
      "pygments_lexer": "ipython3",
      "version": "3.10.12"
    }
  },
  "nbformat": 4,
  "nbformat_minor": 0
}
