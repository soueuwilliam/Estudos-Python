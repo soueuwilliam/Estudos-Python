{
  "cells": [
    {
      "cell_type": "markdown",
      "metadata": {
        "colab_type": "text",
        "id": "view-in-github"
      },
      "source": [
        "<a href=\"https://colab.research.google.com/github/soueuwilliam/Estudos-Python/blob/main/curso_em_video/Mundo03.ipynb\" target=\"_parent\"><img src=\"https://colab.research.google.com/assets/colab-badge.svg\" alt=\"Open In Colab\"/></a>"
      ]
    },
    {
      "cell_type": "markdown",
      "metadata": {
        "id": "-zb3aAVj3E0k"
      },
      "source": [
        "# Modulo 01 - tuplas em python"
      ]
    },
    {
      "cell_type": "markdown",
      "metadata": {
        "id": "INYENm2Q3E0k"
      },
      "source": [
        "## Aula 16 - Tuplas"
      ]
    },
    {
      "cell_type": "code",
      "execution_count": null,
      "metadata": {
        "id": "8UWx3Ywl3E0k"
      },
      "outputs": [],
      "source": [
        "lanche = ('Hambuguer','Suco','Pizza','Pudim', 'Batata frita')\n",
        "\n",
        "#Fatiamento\n",
        "# print(lanche)\n",
        "# print(lanche[1])\n",
        "# print(lanche[2:])\n",
        "# print(lanche[:2])\n",
        "# print(lanche[1:3])\n",
        "\n",
        "# for cont in range(0, len(lanche)):\n",
        "#     print(f'Eu vou comer {lanche[cont]} na posição {cont}')\n",
        "# print('Comi para caramba')\n",
        "\n",
        "# for comida in lanche:\n",
        "#     print(f'Eu vou comer {comida}')\n",
        "# print('Comi para caramba')\n",
        "\n",
        "for pos,comida in enumerate(lanche):\n",
        "    print(f'Eu vou comer {comida} na posição {pos}')\n",
        "\n",
        "#Função sorted para ordenar um tupla\n",
        "print(sorted(lanche))"
      ]
    },
    {
      "cell_type": "code",
      "execution_count": null,
      "metadata": {
        "id": "QteATNSC3E0l"
      },
      "outputs": [],
      "source": [
        "a = (2, 5, 4)\n",
        "b = (5, 8, 1, 2)\n",
        "c = a + b\n",
        "print(c)\n",
        "print(len(c))\n",
        "print(c.count(5))\n",
        "print(c.index(8))\n",
        "print(c.index(5, 2))"
      ]
    },
    {
      "cell_type": "code",
      "execution_count": null,
      "metadata": {
        "id": "mI_DUg783E0l"
      },
      "outputs": [],
      "source": [
        "pessoa = ('william', 25 , 'M', 99.88)\n",
        "del(pessoa)\n",
        "print(pessoa)"
      ]
    },
    {
      "cell_type": "markdown",
      "metadata": {
        "id": "jAitKb8S3E0l"
      },
      "source": [
        "### Desafios da Aula\n",
        "\n",
        "1. **Desafios 072:** crie um programa que tenha uma **tupla** totalemnte preencido com uma contagem por extensão, de **zero** até **vinte**\n",
        "2. **Desafios 073:** crie um **tupla** preencida com os **20 primeiros** colocados da tabela do **Campeonato Brasileiro do Futebol**, na ordem da colocação.Depois mostra:\n",
        "    * penas os **5 primeiros** colocados\n",
        "    * Os Ultimos **4 colocados** da tabela\n",
        "    * Uma lista com os times em **ordem alfabéticas**\n",
        "    * Em que **posição** na tabela está o time **chapecoense**\n",
        "3. **Desafios 074:** Crie um programa que vai gerar 5 numeros aleátorios e colocar em um tupla , depois disso, mostra a listagem de numeros gerados e também indique o menor e o maior valor que estão na tupla\n",
        "4. **Desafios 075:** Desenvolve um programa que leai quatros valores pelo teclado e guarde-os em um tupla.No final mostre:\n",
        "    * Quantas vezes apareceu o valor **9**\n",
        "    * Em que posição foi digitado o primeiro valor **3**\n",
        "    * Quais foram os números **pares**\n",
        "5. **Desafios 076:** Crie um programa que tenha uma **tupla** única com **nomes de produtos** e seus respectivos preços na sequência no final mostre um sequência de preço organizando de forma **tabular**\n",
        "6. **Desafios 077:** Crie um programa que tenha uma tupla com varias palavras(não usar acentos) depois disso você deve mostrar para cada palavra quais são suas vogais"
      ]
    },
    {
      "cell_type": "markdown",
      "metadata": {
        "id": "eDfzmYeK3E0m"
      },
      "source": [
        "### **Desafios 072:** crie um programa que tenha uma **tupla** totalmente preenchido com uma contagem por extensão, de **zero** até **vinte**"
      ]
    },
    {
      "cell_type": "code",
      "execution_count": null,
      "metadata": {
        "id": "Ol8JRBmv3E0m"
      },
      "outputs": [],
      "source": [
        "numeros_por_extenso = (\n",
        "    \"Zero\", \"Um\", \"Dois\", \"Três\", \"Quatro\", \"Cinco\", \"Seis\", \"Sete\", \"Oito\", \"Nove\",\n",
        "    \"Dez\", \"Onze\", \"Doze\", \"Treze\", \"Quatorze\", \"Quinze\", \"Dezesseis\", \"Dezessete\", \"Dezoito\", \"Dezenove\", \"Vinte\"\n",
        ")\n",
        "\n",
        "while True:\n",
        "    n = int(input('Digite um numero de 1 a 20'))\n",
        "    if 0 <= n <= 20:\n",
        "        break\n",
        "    print('Tente novamente',end ='')\n",
        "print(f'O numero {n} escrito por extenso fica {numeros_por_extenso[n]}')"
      ]
    },
    {
      "cell_type": "markdown",
      "metadata": {
        "id": "yncQzMv53E0m"
      },
      "source": [
        "### **Desafios 073:** crie um **tupla** preencida com os **20 primeiros** colocados da tabela do **Campeonato Brasileiro do Futebol**, na ordem da colocação.Depois mostra:\n",
        "* Apenas os **5 primeiros** colocados\n",
        "* Os Ultimos **4 colocados** da tabela\n",
        "* Uma lista com os times em **ordem alfabéticas**\n",
        "* Em que **posição** na tabela está o time **chapecoense**"
      ]
    },
    {
      "cell_type": "code",
      "execution_count": null,
      "metadata": {
        "id": "vGeyRy-E3E0m"
      },
      "outputs": [],
      "source": [
        "classificacao_brasileirao_2018 = (\n",
        "    \"Palmeiras\",\n",
        "    \"Flamengo\",\n",
        "    \"Internacional\",\n",
        "    \"Grêmio\",\n",
        "    \"São Paulo\",\n",
        "    \"Atlético-MG\",\n",
        "    \"Athletico-PR\",\n",
        "    \"Cruzeiro\",\n",
        "    \"Botafogo\",\n",
        "    \"Santos\",\n",
        "    \"Bahia\",\n",
        "    \"Fluminense\",\n",
        "    \"Corinthians\",\n",
        "    \"Chapecoense\",\n",
        "    \"Ceará\",\n",
        "    \"Vasco\",\n",
        "    \"América-MG\",\n",
        "    \"Sport\",\n",
        "    \"Vitória\",\n",
        "    \"Paraná\"\n",
        ")\n",
        "print('-='*50)\n",
        "print(f'{\"BRASILEIRÃO 2018\":^100}')\n",
        "print('-='*50)\n",
        "print(f'* Os Cinco primeiros colocados são: {classificacao_brasileirao_2018[:5]}')\n",
        "print(f'* Os Quatros últimos colocados são: {classificacao_brasileirao_2018[-4:]}')\n",
        "print(f'* A chapecoense está na  {classificacao_brasileirao_2018.index(\"Chapecoense\") + 1}ª posição')\n",
        "print(f'* Os times em ordem alfabética ficam:  {sorted(classificacao_brasileirao_2018)}')"
      ]
    },
    {
      "cell_type": "markdown",
      "metadata": {
        "id": "mhHHvHwp3E0m"
      },
      "source": [
        "### **Desafios 074:** Crie um programa que vai gerar 5 numeros aleátorios e colocar em um tupla , depois disso, mostra a listagem de numeros gerados e também indique o menor e o maior valor que estão na tupla"
      ]
    },
    {
      "cell_type": "code",
      "execution_count": null,
      "metadata": {
        "id": "0INxaEiz3E0m"
      },
      "outputs": [],
      "source": [
        "from random import randint\n",
        "listas_n_aleatorios = (randint(1,1000),randint(1,1000),\n",
        "                       randint(1,1000),randint(1,1000),randint(1,1000))\n",
        "\n",
        "print(f'Os numeros escolhidos foram: ',end='')\n",
        "for numero in listas_n_aleatorios:\n",
        "    print(f'{numero} ', end = '')\n",
        "\n",
        "print(f'\\nO maior numero escolhido foi {max(listas_n_aleatorios)}')\n",
        "print(f'O menor numero escolhido foi {min(listas_n_aleatorios)}')"
      ]
    },
    {
      "cell_type": "markdown",
      "metadata": {
        "id": "E3aNCRuM3E0m"
      },
      "source": [
        "### **Desafios 075:** Desenvolve um programa que leia quatros valores pelo teclado e guarde-os em um tupla. No final mostre:\n",
        "* Quantas vezes apareceu o valor **9**\n",
        "* Em que posição foi digitado o primeiro valor **3**\n",
        "* Quais foram os números **pares**"
      ]
    },
    {
      "cell_type": "code",
      "execution_count": null,
      "metadata": {
        "id": "1kPNCZQM3E0n"
      },
      "outputs": [],
      "source": [
        "numeros_digitados = (int(input('Digite o primeiro valor')),int(input('Digite o primeiro valor')),\n",
        "                    int(input('Digite o primeiro valor')),int(input('Digite o primeiro valor')))\n",
        "print(f'O valor 9 apareceu {numeros_digitados.count(9)} vezes' if numeros_digitados.count(9) > 0 else f'O valor 9 não apareceu nenhuma vez')\n",
        "print(f'O valor 3 apareceu na posição {numeros_digitados.index(3)}' if 3 in numeros_digitados  else f'O valor 3 não foi digitado')\n",
        "print(f'Os valores pare são', end=' ')\n",
        "for n in numeros_digitados:\n",
        "    if n%2 == 0:\n",
        "        print(f'{n} ',end='')"
      ]
    },
    {
      "cell_type": "markdown",
      "metadata": {
        "id": "x1eZr7ZC3E0n"
      },
      "source": [
        "### **Desafios 076:** Crie um programa que tenha uma **tupla** única com **nomes de produtos** e seus respectivos preços na sequência no final mostre um sequência de preço organizando de forma **tabular**"
      ]
    },
    {
      "cell_type": "code",
      "execution_count": null,
      "metadata": {
        "id": "peV9A9fx3E0n"
      },
      "outputs": [],
      "source": [
        "produtos_e_precos = (\n",
        "    \"Camiseta\", 29.99,\n",
        "    \"Notebook\", 899.99,\n",
        "    \"Caneta\", 1.50,\n",
        "    \"Tênis\", 79.95,\n",
        "    \"Fone de Ouvido\", 49.99\n",
        ")\n",
        "print('-'*60)\n",
        "print(f'{\"LISTA DE PREÇOS\":^60}')\n",
        "print('-'*60)\n",
        "for c in range(0, len(produtos_e_precos)):\n",
        "    if c % 2 == 0:\n",
        "        print(f'{produtos_e_precos[c]:.<50}' ,end=' ')\n",
        "    else:\n",
        "        print(f'R$ {produtos_e_precos[c]:>6.2f}')\n",
        "print('-'*60)"
      ]
    },
    {
      "cell_type": "markdown",
      "metadata": {
        "id": "HEhy-8tX3E0n"
      },
      "source": [
        "### **Desafios 077:** Crie um programa que tenha uma tupla com varias palavras(não usar acentos) depois disso você deve mostrar para cada palavra quais são suas vogais"
      ]
    },
    {
      "cell_type": "code",
      "execution_count": null,
      "metadata": {
        "id": "jI8rDXxe3E0n"
      },
      "outputs": [],
      "source": [
        "palavras_sem_acento = (\n",
        "    \"carro\", \"cachorro\", \"computador\", \"telefone\", \"pizza\",\n",
        "    \"programacao\", \"escola\", \"amigo\", \"oculos\", \"chocolate\",\n",
        "    \"futebol\", \"guitarra\", \"viagem\", \"janela\", \"celular\",\n",
        "    \"gato\", \"musica\", \"livro\", \"cadeira\", \"piano\",\n",
        "    \"sol\", \"lua\", \"estrela\", \"mar\", \"montanha\",\n",
        "    \"cidade\", \"coracao\", \"familia\", \"tempo\", \"espaco\"\n",
        ")\n",
        "\n",
        "for palavra in palavras_sem_acento:\n",
        "    print(f'\\nNa palavra {palavra.upper()} temos ', end='')\n",
        "    for vogais in palavra:\n",
        "        if vogais.lower() in 'aeiou':\n",
        "            print(f'{vogais} ',end = '')"
      ]
    },
    {
      "cell_type": "markdown",
      "metadata": {
        "id": "o1jpKlCy3E0n"
      },
      "source": [
        "# Modulo 02 - Lista em python"
      ]
    },
    {
      "cell_type": "markdown",
      "metadata": {
        "id": "5fkRM9fN3E0n"
      },
      "source": [
        "## **Aula 17:** Listas(parte 01)"
      ]
    },
    {
      "cell_type": "code",
      "execution_count": null,
      "metadata": {
        "id": "KSwpmnOc3E0n"
      },
      "outputs": [],
      "source": [
        "num = (2, 5, 9, 1)\n",
        "num[2] = 3\n",
        "print(num)"
      ]
    },
    {
      "cell_type": "code",
      "execution_count": null,
      "metadata": {
        "id": "GU6X-7aM3E0n"
      },
      "outputs": [],
      "source": [
        "num = [2, 5, 9, 1]\n",
        "num[2] = 3\n",
        "#Para adicionar valores\n",
        "num.append(7)\n",
        "#Para ordernar os valores de maneira crescente\n",
        "num.sort()\n",
        "#Para ordenar os valores de forma decrescente\n",
        "num.sort(reverse=True)\n",
        "#Para Inserir valores\n",
        "num.insert(2,2)\n",
        "num.remove(2)\n",
        "#Para remover elementos\n",
        "num.pop()\n",
        "num.pop(2)\n",
        "if 4 in num:\n",
        "    num.remove(4)\n",
        "else:\n",
        "    print('Não achei o numero 4')\n",
        "\n",
        "print(num)\n",
        "print(f'Essa lista tem {len(num)} elementos')\n"
      ]
    },
    {
      "cell_type": "code",
      "execution_count": null,
      "metadata": {
        "id": "I90_ZWNh3E0o"
      },
      "outputs": [],
      "source": [
        "valores = []\n",
        "valores.append(5)\n",
        "valores.append(9)\n",
        "valores.append(4)\n",
        "\n",
        "for v in valores:\n",
        "    print(f'{v}...', end='')\n",
        "\n",
        "print('\\ncheguei ao final da lista')"
      ]
    },
    {
      "cell_type": "code",
      "execution_count": null,
      "metadata": {
        "id": "4Rhf948u3E0o"
      },
      "outputs": [],
      "source": [
        "valores = []\n",
        "for cont in range(0,5):\n",
        "    valores.append(int(input('Digite um valor: ')))\n",
        "\n",
        "for c,v in enumerate(valores):\n",
        "    print(f'Na posição {c} encontrei {v}')"
      ]
    },
    {
      "cell_type": "code",
      "execution_count": null,
      "metadata": {
        "id": "UjgXioQT3E0o"
      },
      "outputs": [],
      "source": [
        "a = [2, 3, 4, 7]\n",
        "b = a\n",
        "b[2] = 5 # Faz um ligação entre a lista\n",
        "print(f'Lista A {a}')\n",
        "print(f'Lista B {b}')\n",
        "\n",
        "b = a[:]\n",
        "b[2] = 8\n",
        "print(f'Lista A {a}')\n",
        "print(f'Lista B {b}')\n",
        "\n"
      ]
    },
    {
      "cell_type": "markdown",
      "metadata": {
        "id": "jF3Xx9m93E0o"
      },
      "source": [
        "### Desafios da Aula\n",
        "1. **Desafio 078:** Faça um programa que leia **5 valores numéricos** e guade-os em uma **lista**. No final, mostre qual foi o **maior** e o **menor** valor digitado e as suas respectivas **posições** na lista\n",
        "2. **Desafio 079:** Crie um programa aonde o usuario pode digitar vários **valores numéricos** e cadastra-se em uma **lista**.Caso o número já existe lá dentro, ele **não será adicionado**.No final, serão exibidos todos os **valores unicos** digitados em **ordem crescente**\n",
        "3. **Desafio 080:** Crie um programa onde o usuario possa difgitar 5 valores numéricos e cadastre-os em uma lista. já na posição correta de inserção(sem usar o sort()).No final.mostre a lista ordenada na tela\n",
        "4. **Desafio 081:** Crie um programa que vai ler vários números e colocar em um lista\n",
        "depois disso mostre:  \n",
        "a. **Quantos** números foram digitados  \n",
        "b. A lista de valores ordenada de forma **decrescente**  \n",
        "c. Se o valor **5** foi digitado e está ou não na **lista**\n",
        "5. **Desafio 082:** Crie um programa que vai ler **vários números** e colocar em uma **lista**.  \n",
        "Depois disso crie **duas listas extras** que vão conter apenas os valores **pares** e os valores **impares** digitado, respectivamente\n",
        "Ao final, mostre o conteudo das **três listas** geradas\n",
        "6. **Desafio 083:** Crie um programa onde o usuario digite uma **expressão** qualquer que use parênteses.Seu aplicativo devrá analisar se a expressão passada está com os parênteses abertos e fechados na **ordem correta**"
      ]
    },
    {
      "cell_type": "markdown",
      "metadata": {
        "id": "n2CHQN8u7o-N"
      },
      "source": [
        "### **Desafio 078:** Faça um programa que leia **5 valores numéricos** e guade-os em uma **lista**. No final, mostre qual foi o **maior** e o **menor** valor digitado e as suas respectivas **posições** na lista\n"
      ]
    },
    {
      "cell_type": "code",
      "execution_count": null,
      "metadata": {},
      "outputs": [],
      "source": [
        "n = list()\n",
        "for c in range(1,6):\n",
        "    n.append(int(input(f'Digite o {c}º valor')))\n",
        "print(f'O maior valor é {max(n)} nas posições ',end = ' ')\n",
        "for i, v in enumerate(n):\n",
        "    if v == max(n):\n",
        "        print(f'{i}...' , end = '')\n",
        "\n",
        "print(f'\\nO menor valor é {min(n)} nas posições ',end = ' ')\n",
        "for i, v in enumerate(n):\n",
        "    if v == min(n):\n",
        "        print(f'{i}...' , end = '')\n"
      ]
    },
    {
      "cell_type": "markdown",
      "metadata": {
        "id": "3-pwmqX871Pd"
      },
      "source": [
        "### **Desafio 079:** Crie um programa aonde o usuario pode digitar vários **valores numéricos** e cadastra-se em uma **lista**.Caso o número já existe lá dentro, ele **não será adicionado**.No final, serão exibidos todos os **valores unicos** digitados em **ordem crescente**\n"
      ]
    },
    {
      "cell_type": "code",
      "execution_count": null,
      "metadata": {},
      "outputs": [],
      "source": [
        "n_casdastrado = list()\n",
        "while True:\n",
        "    num = int(input(f'Digite o numero Para casdratar'))\n",
        "    if num not in n_casdastrado:\n",
        "        n_casdastrado.append(num)\n",
        "        print(f'Numero cadastrado com sucesso')\n",
        "    else:\n",
        "        print(f'{num} já existe e não pode ser cadastrado')\n",
        "    \n",
        "    continuar = str(input('Deseja cadastrar novos numero ?[S/N]'))[0].lower().strip()\n",
        "    if continuar == 'n':\n",
        "        break\n",
        "\n",
        "print(f'Numeros cadastrados foram: ',end='')\n",
        "for c in sorted(n_casdastrado):\n",
        "    print(f'{c} ', end='')"
      ]
    },
    {
      "cell_type": "markdown",
      "metadata": {
        "id": "3-yR0Ta473uL"
      },
      "source": [
        "### **Desafio 080:** Crie um programa onde o usuario possa digitar 5 valores numéricos e cadastre-os em uma lista. já na posição correta de inserção(sem usar o sort()).No final.mostre a lista ordenada na tela\n"
      ]
    },
    {
      "cell_type": "code",
      "execution_count": null,
      "metadata": {},
      "outputs": [],
      "source": [
        "n_casdastrado = list()\n",
        "for c in range(0,5):\n",
        "    num = int(input(f'Digite o numero para casdratar'))\n",
        "    if c == 0 or num > n_casdastrado[-1]:\n",
        "        n_casdastrado.append(num)\n",
        "    else:\n",
        "        pos = 0 \n",
        "        while pos < len(n_casdastrado):\n",
        "            if num <= n_casdastrado[pos]:\n",
        "                n_casdastrado.insert(pos , num)\n",
        "                break\n",
        "            pos += 1\n",
        "print(n_casdastrado)"
      ]
    },
    {
      "cell_type": "markdown",
      "metadata": {
        "id": "Wt_YAAAp7559"
      },
      "source": [
        "### **Desafio 081:** Crie um programa que vai ler vários números e colocar em um lista depois disso mostre:  \n",
        "  a. **Quantos** números foram digitados  \n",
        "  b. A lista de valores ordenada de forma **decrescente**  \n",
        "  c. Se o valor **5** foi digitado e está ou não na **lista**\n"
      ]
    },
    {
      "cell_type": "code",
      "execution_count": 14,
      "metadata": {},
      "outputs": [
        {
          "name": "stdout",
          "output_type": "stream",
          "text": [
            "-=-=-=-=-=-=-=-=-=-=-=-=-=-=-=-=-=-=-=-=-=-=-=-=-=-=-=-=-=-=-=-=-=-=-=-=-=-=-=-=-=-=-=-=-=-=-=-=-=-=\n",
            "O numero 5 foi digitado \n",
            "A quantiadade de numeros digitados foi 4\n",
            "A lista em ordem descrescente fica [5, 4, 3, 2]\n",
            "-=-=-=-=-=-=-=-=-=-=-=-=-=-=-=-=-=-=-=-=-=-=-=-=-=-=-=-=-=-=-=-=-=-=-=-=-=-=-=-=-=-=-=-=-=-=-=-=-=-=\n"
          ]
        }
      ],
      "source": [
        "lista_numeros = list()\n",
        "while True:\n",
        "    lista_numeros.append(int(input(f'Digite o numero para casdastrar')))\n",
        "    continuar = str(input('Deseja cadastrar novos numero ?[S/N]'))[0].lower().strip()\n",
        "    if continuar == 'n':\n",
        "        break\n",
        "\n",
        "print('-='*50)\n",
        "print(f'O numero 5 foi digitado ' if 5 in lista_numeros else 'O numero 5 não foi digitado')\n",
        "print(f'A quantiadade de numeros digitados foi {len(lista_numeros)}')\n",
        "print(f'A lista em ordem descrescente fica {sorted(lista_numeros, reverse=True)}')\n",
        "print('-='*50)\n"
      ]
    },
    {
      "cell_type": "markdown",
      "metadata": {
        "id": "aYC3L_RE78Ck"
      },
      "source": [
        "### **Desafio 082:** Crie um programa que vai ler **vários números** e colocar em uma **lista**.Depois disso crie **duas listas extras** que vão conter apenas os valores **pares** e os valores **impares** digitado, respectivamente Ao final, mostre o conteudo das **três listas** geradas\n"
      ]
    },
    {
      "cell_type": "code",
      "execution_count": null,
      "metadata": {},
      "outputs": [],
      "source": [
        "todos_numeros = list()\n",
        "numeros_pares = list()\n",
        "numeros_impares = list()\n",
        "\n",
        "while True:\n",
        "    todos_numeros.append(int(input(f'Digite o numero para casdastrar')))\n",
        "    while True:\n",
        "        continuar = str(input('Deseja cadastrar novos numero ?[S/N]'))[0].lower().strip()\n",
        "        if continuar in 'sn':\n",
        "            break\n",
        "    if continuar == 'n':\n",
        "        break\n",
        "for c in todos_numeros:\n",
        "    if c % 2 == 0:\n",
        "        numeros_pares.append(c)\n",
        "    else:\n",
        "        numeros_impares.append(c)\n",
        "\n",
        "print(f'Lista de numeros pares {numeros_pares}')\n",
        "print(f'Lista de numeros impares {numeros_impares}')"
      ]
    },
    {
      "cell_type": "markdown",
      "metadata": {
        "id": "6WF0waGi7_9V"
      },
      "source": [
        "### **Desafio 083:** Crie um programa onde o usuario digite uma **expressão** qualquer que use parênteses.Seu aplicativo devrá analisar se a expressão passada está com os parênteses abertos e fechados na **ordem correta**"
      ]
    },
    {
      "cell_type": "code",
      "execution_count": null,
      "metadata": {},
      "outputs": [],
      "source": [
        "expresao = str(input(f'Digite uma expresão'))\n"
      ]
    }
  ],
  "metadata": {
    "colab": {
      "include_colab_link": true,
      "provenance": []
    },
    "kernelspec": {
      "display_name": "Python 3",
      "language": "python",
      "name": "python3"
    },
    "language_info": {
      "codemirror_mode": {
        "name": "ipython",
        "version": 3
      },
      "file_extension": ".py",
      "mimetype": "text/x-python",
      "name": "python",
      "nbconvert_exporter": "python",
      "pygments_lexer": "ipython3",
      "version": "3.10.12"
    }
  },
  "nbformat": 4,
  "nbformat_minor": 0
}
