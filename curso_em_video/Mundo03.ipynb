{
 "cells": [
  {
   "cell_type": "markdown",
   "metadata": {},
   "source": [
    "# Modulo 01 - tuplas em python"
   ]
  },
  {
   "cell_type": "markdown",
   "metadata": {},
   "source": [
    "## Aula 16 - Tuplas"
   ]
  },
  {
   "cell_type": "code",
   "execution_count": null,
   "metadata": {},
   "outputs": [],
   "source": [
    "lanche = ('Hambuguer','Suco','Pizza','Pudim', 'Batata frita')\n",
    "\n",
    "#Fatiamento\n",
    "# print(lanche)\n",
    "# print(lanche[1])\n",
    "# print(lanche[2:])\n",
    "# print(lanche[:2])\n",
    "# print(lanche[1:3])\n",
    "\n",
    "# for cont in range(0, len(lanche)):\n",
    "#     print(f'Eu vou comer {lanche[cont]} na posição {cont}')\n",
    "# print('Comi para caramba')\n",
    "\n",
    "# for comida in lanche:\n",
    "#     print(f'Eu vou comer {comida}')\n",
    "# print('Comi para caramba')\n",
    "\n",
    "for pos,comida in enumerate(lanche):\n",
    "    print(f'Eu vou comer {comida} na posição {pos}')\n",
    "\n",
    "#Função sorted para ordenar um tupla \n",
    "print(sorted(lanche))"
   ]
  },
  {
   "cell_type": "code",
   "execution_count": null,
   "metadata": {},
   "outputs": [],
   "source": [
    "a = (2, 5, 4)\n",
    "b = (5, 8, 1, 2)\n",
    "c = a + b\n",
    "print(c)\n",
    "print(len(c))\n",
    "print(c.count(5))\n",
    "print(c.index(8))\n",
    "print(c.index(5, 2))"
   ]
  },
  {
   "cell_type": "code",
   "execution_count": null,
   "metadata": {},
   "outputs": [],
   "source": [
    "pessoa = ('william', 25 , 'M', 99.88)\n",
    "del(pessoa)\n",
    "print(pessoa)"
   ]
  },
  {
   "cell_type": "markdown",
   "metadata": {},
   "source": [
    "### Desafios da Aula\n",
    "\n",
    "1. **Desafios 072:** crie um programa que tenha uma **tupla** totalemnte preencido com uma contagem por extensão, de **zero** até **vinte**\n",
    "2. **Desafios 073:** crie um **tupla** preencida com os **20 primeiros** colocados da tabela do **Campeonato Brasileiro do Futebol**, na ordem da colocação.Depois mostra:\n",
    "    * penas os **5 primeiros** colocados\n",
    "    * Os Ultimos **4 colocados** da tabela\n",
    "    * Uma lista com os times em **ordem alfabéticas** \n",
    "    * Em que **posição** na tabela está o time **chapecoense**\n",
    "3. **Desafios 074:** Crie um programa que vai gerar 5 numeros aleátorios e colocar em um tupla , depois disso, mostra a listagem de numeros gerados e também indique o menor e o maior valor que estão na tupla \n",
    "4. **Desafios 075:** Desenvolve um programa que leai quatros valores pelo teclado e guarde-os em um tupla.No final mostre:\n",
    "    * Quantas vezes apareceu o valor **9**\n",
    "    * Em que posição foi digitado o primeiro valor **3**\n",
    "    * Quais foram os números **pares**\n",
    "5. **Desafios 076:** Crie um programa que tenha uma **tupla** única com **nomes de produtos** e seus respectivos preços na sequência no final mostre um sequência de preço organizando de forma **tabular** \n",
    "6. **Desafios 077:** Crie um programa que tenha uma tupla com varias palavras(não usar acentos) depois disso você deve mostrar para cada palavra quais são suas vogais"
   ]
  },
  {
   "cell_type": "markdown",
   "metadata": {},
   "source": [
    "### **Desafios 072:** crie um programa que tenha uma **tupla** totalmente preenchido com uma contagem por extensão, de **zero** até **vinte**"
   ]
  },
  {
   "cell_type": "code",
   "execution_count": null,
   "metadata": {},
   "outputs": [],
   "source": [
    "numeros_por_extenso = (\n",
    "    \"Zero\", \"Um\", \"Dois\", \"Três\", \"Quatro\", \"Cinco\", \"Seis\", \"Sete\", \"Oito\", \"Nove\",\n",
    "    \"Dez\", \"Onze\", \"Doze\", \"Treze\", \"Quatorze\", \"Quinze\", \"Dezesseis\", \"Dezessete\", \"Dezoito\", \"Dezenove\", \"Vinte\"\n",
    ")\n",
    "\n",
    "while True:\n",
    "    n = int(input('Digite um numero de 1 a 20'))\n",
    "    if 0 <= n <= 20:\n",
    "        break\n",
    "    print('Tente novamente',end ='')\n",
    "print(f'O numero {n} escrito por extenso fica {numeros_por_extenso[n]}')"
   ]
  },
  {
   "cell_type": "markdown",
   "metadata": {},
   "source": [
    "### **Desafios 073:** crie um **tupla** preencida com os **20 primeiros** colocados da tabela do **Campeonato Brasileiro do Futebol**, na ordem da colocação.Depois mostra:\n",
    "* Apenas os **5 primeiros** colocados\n",
    "* Os Ultimos **4 colocados** da tabela\n",
    "* Uma lista com os times em **ordem alfabéticas** \n",
    "* Em que **posição** na tabela está o time **chapecoense**"
   ]
  },
  {
   "cell_type": "code",
   "execution_count": null,
   "metadata": {},
   "outputs": [],
   "source": [
    "classificacao_brasileirao_2018 = (\n",
    "    \"Palmeiras\",\n",
    "    \"Flamengo\",\n",
    "    \"Internacional\",\n",
    "    \"Grêmio\",\n",
    "    \"São Paulo\",\n",
    "    \"Atlético-MG\",\n",
    "    \"Athletico-PR\",\n",
    "    \"Cruzeiro\",\n",
    "    \"Botafogo\",\n",
    "    \"Santos\",\n",
    "    \"Bahia\",\n",
    "    \"Fluminense\",\n",
    "    \"Corinthians\",\n",
    "    \"Chapecoense\",\n",
    "    \"Ceará\",\n",
    "    \"Vasco\",\n",
    "    \"América-MG\",\n",
    "    \"Sport\",\n",
    "    \"Vitória\",\n",
    "    \"Paraná\"\n",
    ")\n",
    "print('-='*50)\n",
    "print(f'{\"BRASILEIRÃO 2018\":^100}')\n",
    "print('-='*50)\n",
    "print(f'* Os Cinco primeiros colocados são: {classificacao_brasileirao_2018[:5]}')\n",
    "print(f'* Os Quatros últimos colocados são: {classificacao_brasileirao_2018[-4:]}')\n",
    "print(f'* A chapecoense está na  {classificacao_brasileirao_2018.index(\"Chapecoense\") + 1}ª posição')\n",
    "print(f'* Os times em ordem alfabética ficam:  {sorted(classificacao_brasileirao_2018)}')"
   ]
  },
  {
   "cell_type": "markdown",
   "metadata": {},
   "source": [
    "### **Desafios 074:** Crie um programa que vai gerar 5 numeros aleátorios e colocar em um tupla , depois disso, mostra a listagem de numeros gerados e também indique o menor e o maior valor que estão na tupla "
   ]
  },
  {
   "cell_type": "code",
   "execution_count": null,
   "metadata": {},
   "outputs": [],
   "source": [
    "from random import randint\n",
    "listas_n_aleatorios = (randint(1,1000),randint(1,1000),\n",
    "                       randint(1,1000),randint(1,1000),randint(1,1000))\n",
    "\n",
    "print(f'Os numeros escolhidos foram: ',end='')\n",
    "for numero in listas_n_aleatorios:\n",
    "    print(f'{numero} ', end = '')\n",
    "\n",
    "print(f'\\nO maior numero escolhido foi {max(listas_n_aleatorios)}')\n",
    "print(f'O menor numero escolhido foi {min(listas_n_aleatorios)}')"
   ]
  },
  {
   "cell_type": "markdown",
   "metadata": {},
   "source": [
    "### **Desafios 075:** Desenvolve um programa que leia quatros valores pelo teclado e guarde-os em um tupla. No final mostre:\n",
    "* Quantas vezes apareceu o valor **9**\n",
    "* Em que posição foi digitado o primeiro valor **3**\n",
    "* Quais foram os números **pares**"
   ]
  },
  {
   "cell_type": "code",
   "execution_count": null,
   "metadata": {},
   "outputs": [],
   "source": [
    "numeros_digitados = (int(input('Digite o primeiro valor')),int(input('Digite o primeiro valor')),\n",
    "                    int(input('Digite o primeiro valor')),int(input('Digite o primeiro valor')))\n",
    "print(f'O valor 9 apareceu {numeros_digitados.count(9)} vezes' if numeros_digitados.count(9) > 0 else f'O valor 9 não apareceu nenhuma vez')\n",
    "print(f'O valor 3 apareceu na posição {numeros_digitados.index(3)}' if 3 in numeros_digitados  else f'O valor 3 não foi digitado')\n",
    "print(f'Os valores pare são', end=' ')\n",
    "for n in numeros_digitados:\n",
    "    if n%2 == 0:\n",
    "        print(f'{n} ',end='')"
   ]
  },
  {
   "cell_type": "markdown",
   "metadata": {},
   "source": [
    "### **Desafios 076:** Crie um programa que tenha uma **tupla** única com **nomes de produtos** e seus respectivos preços na sequência no final mostre um sequência de preço organizando de forma **tabular** "
   ]
  },
  {
   "cell_type": "code",
   "execution_count": null,
   "metadata": {},
   "outputs": [],
   "source": [
    "produtos_e_precos = (\n",
    "    \"Camiseta\", 29.99,\n",
    "    \"Notebook\", 899.99,\n",
    "    \"Caneta\", 1.50,\n",
    "    \"Tênis\", 79.95,\n",
    "    \"Fone de Ouvido\", 49.99\n",
    ")\n",
    "print('-'*60)\n",
    "print(f'{\"LISTA DE PREÇOS\":^60}')\n",
    "print('-'*60)\n",
    "for c in range(0, len(produtos_e_precos)):\n",
    "    if c % 2 == 0:\n",
    "        print(f'{produtos_e_precos[c]:.<50}' ,end=' ')\n",
    "    else:\n",
    "        print(f'R$ {produtos_e_precos[c]:>6.2f}')\n",
    "print('-'*60)"
   ]
  },
  {
   "cell_type": "markdown",
   "metadata": {},
   "source": [
    "### **Desafios 077:** Crie um programa que tenha uma tupla com varias palavras(não usar acentos) depois disso você deve mostrar para cada palavra quais são suas vogais"
   ]
  },
  {
   "cell_type": "code",
   "execution_count": 124,
   "metadata": {},
   "outputs": [
    {
     "name": "stdout",
     "output_type": "stream",
     "text": [
      "\n",
      "Na palavra CARRO temos a o \n",
      "Na palavra CACHORRO temos a o o \n",
      "Na palavra COMPUTADOR temos o u a o \n",
      "Na palavra TELEFONE temos e e o e \n",
      "Na palavra PIZZA temos i a \n",
      "Na palavra PROGRAMACAO temos o a a a o \n",
      "Na palavra ESCOLA temos e o a \n",
      "Na palavra AMIGO temos a i o \n",
      "Na palavra OCULOS temos o u o \n",
      "Na palavra CHOCOLATE temos o o a e \n",
      "Na palavra FUTEBOL temos u e o \n",
      "Na palavra GUITARRA temos u i a a \n",
      "Na palavra VIAGEM temos i a e \n",
      "Na palavra JANELA temos a e a \n",
      "Na palavra CELULAR temos e u a \n",
      "Na palavra GATO temos a o \n",
      "Na palavra MUSICA temos u i a \n",
      "Na palavra LIVRO temos i o \n",
      "Na palavra CADEIRA temos a e i a \n",
      "Na palavra PIANO temos i a o \n",
      "Na palavra SOL temos o \n",
      "Na palavra LUA temos u a \n",
      "Na palavra ESTRELA temos e e a \n",
      "Na palavra MAR temos a \n",
      "Na palavra MONTANHA temos o a a \n",
      "Na palavra CIDADE temos i a e \n",
      "Na palavra CORACAO temos o a a o \n",
      "Na palavra FAMILIA temos a i i a \n",
      "Na palavra TEMPO temos e o \n",
      "Na palavra ESPACO temos e a o "
     ]
    }
   ],
   "source": [
    "palavras_sem_acento = (\n",
    "    \"carro\", \"cachorro\", \"computador\", \"telefone\", \"pizza\", \n",
    "    \"programacao\", \"escola\", \"amigo\", \"oculos\", \"chocolate\",\n",
    "    \"futebol\", \"guitarra\", \"viagem\", \"janela\", \"celular\",\n",
    "    \"gato\", \"musica\", \"livro\", \"cadeira\", \"piano\",\n",
    "    \"sol\", \"lua\", \"estrela\", \"mar\", \"montanha\",\n",
    "    \"cidade\", \"coracao\", \"familia\", \"tempo\", \"espaco\"\n",
    ")\n",
    "\n",
    "for palavra in palavras_sem_acento:\n",
    "    print(f'\\nNa palavra {palavra.upper()} temos ', end='')\n",
    "    for vogais in palavra:\n",
    "        if vogais.lower() in 'aeiou':\n",
    "            print(f'{vogais} ',end = '')\n",
    "\n",
    "\n"
   ]
  }
 ],
 "metadata": {
  "kernelspec": {
   "display_name": "Python 3",
   "language": "python",
   "name": "python3"
  },
  "language_info": {
   "codemirror_mode": {
    "name": "ipython",
    "version": 3
   },
   "file_extension": ".py",
   "mimetype": "text/x-python",
   "name": "python",
   "nbconvert_exporter": "python",
   "pygments_lexer": "ipython3",
   "version": "3.10.12"
  }
 },
 "nbformat": 4,
 "nbformat_minor": 2
}
