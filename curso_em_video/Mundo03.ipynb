{
  "cells": [
    {
      "cell_type": "markdown",
      "metadata": {
        "colab_type": "text",
        "id": "view-in-github"
      },
      "source": [
        "<a href=\"https://colab.research.google.com/github/soueuwilliam/Estudos-Python/blob/main/curso_em_video/Mundo03.ipynb\" target=\"_parent\"><img src=\"https://colab.research.google.com/assets/colab-badge.svg\" alt=\"Open In Colab\"/></a>"
      ]
    },
    {
      "cell_type": "markdown",
      "metadata": {
        "id": "-zb3aAVj3E0k"
      },
      "source": [
        "# Modulo 01 - tuplas em python"
      ]
    },
    {
      "cell_type": "markdown",
      "metadata": {
        "id": "INYENm2Q3E0k"
      },
      "source": [
        "## Aula 16 - Tuplas"
      ]
    },
    {
      "cell_type": "code",
      "execution_count": null,
      "metadata": {
        "id": "8UWx3Ywl3E0k"
      },
      "outputs": [],
      "source": [
        "lanche = ('Hambuguer','Suco','Pizza','Pudim', 'Batata frita')\n",
        "\n",
        "#Fatiamento\n",
        "# print(lanche)\n",
        "# print(lanche[1])\n",
        "# print(lanche[2:])\n",
        "# print(lanche[:2])\n",
        "# print(lanche[1:3])\n",
        "\n",
        "# for cont in range(0, len(lanche)):\n",
        "#     print(f'Eu vou comer {lanche[cont]} na posição {cont}')\n",
        "# print('Comi para caramba')\n",
        "\n",
        "# for comida in lanche:\n",
        "#     print(f'Eu vou comer {comida}')\n",
        "# print('Comi para caramba')\n",
        "\n",
        "for pos,comida in enumerate(lanche):\n",
        "    print(f'Eu vou comer {comida} na posição {pos}')\n",
        "\n",
        "#Função sorted para ordenar um tupla\n",
        "print(sorted(lanche))"
      ]
    },
    {
      "cell_type": "code",
      "execution_count": null,
      "metadata": {
        "id": "QteATNSC3E0l"
      },
      "outputs": [],
      "source": [
        "a = (2, 5, 4)\n",
        "b = (5, 8, 1, 2)\n",
        "c = a + b\n",
        "print(c)\n",
        "print(len(c))\n",
        "print(c.count(5))\n",
        "print(c.index(8))\n",
        "print(c.index(5, 2))"
      ]
    },
    {
      "cell_type": "code",
      "execution_count": null,
      "metadata": {
        "id": "mI_DUg783E0l"
      },
      "outputs": [],
      "source": [
        "pessoa = ('william', 25 , 'M', 99.88)\n",
        "del(pessoa)\n",
        "print(pessoa)"
      ]
    },
    {
      "cell_type": "markdown",
      "metadata": {
        "id": "jAitKb8S3E0l"
      },
      "source": [
        "### Desafios da Aula\n",
        "\n",
        "1. **Desafios 072:** crie um programa que tenha uma **tupla** totalemnte preencido com uma contagem por extensão, de **zero** até **vinte**\n",
        "2. **Desafios 073:** crie um **tupla** preencida com os **20 primeiros** colocados da tabela do **Campeonato Brasileiro do Futebol**, na ordem da colocação.Depois mostra:\n",
        "    * penas os **5 primeiros** colocados\n",
        "    * Os Ultimos **4 colocados** da tabela\n",
        "    * Uma lista com os times em **ordem alfabéticas**\n",
        "    * Em que **posição** na tabela está o time **chapecoense**\n",
        "3. **Desafios 074:** Crie um programa que vai gerar 5 numeros aleátorios e colocar em um tupla , depois disso, mostra a listagem de numeros gerados e também indique o menor e o maior valor que estão na tupla\n",
        "4. **Desafios 075:** Desenvolve um programa que leai quatros valores pelo teclado e guarde-os em um tupla.No final mostre:\n",
        "    * Quantas vezes apareceu o valor **9**\n",
        "    * Em que posição foi digitado o primeiro valor **3**\n",
        "    * Quais foram os números **pares**\n",
        "5. **Desafios 076:** Crie um programa que tenha uma **tupla** única com **nomes de produtos** e seus respectivos preços na sequência no final mostre um sequência de preço organizando de forma **tabular**\n",
        "6. **Desafios 077:** Crie um programa que tenha uma tupla com varias palavras(não usar acentos) depois disso você deve mostrar para cada palavra quais são suas vogais"
      ]
    },
    {
      "cell_type": "markdown",
      "metadata": {
        "id": "eDfzmYeK3E0m"
      },
      "source": [
        "### **Desafios 072:** crie um programa que tenha uma **tupla** totalmente preenchido com uma contagem por extensão, de **zero** até **vinte**"
      ]
    },
    {
      "cell_type": "code",
      "execution_count": null,
      "metadata": {
        "id": "Ol8JRBmv3E0m"
      },
      "outputs": [],
      "source": [
        "numeros_por_extenso = (\n",
        "    \"Zero\", \"Um\", \"Dois\", \"Três\", \"Quatro\", \"Cinco\", \"Seis\", \"Sete\", \"Oito\", \"Nove\",\n",
        "    \"Dez\", \"Onze\", \"Doze\", \"Treze\", \"Quatorze\", \"Quinze\", \"Dezesseis\", \"Dezessete\", \"Dezoito\", \"Dezenove\", \"Vinte\"\n",
        ")\n",
        "\n",
        "while True:\n",
        "    n = int(input('Digite um numero de 1 a 20'))\n",
        "    if 0 <= n <= 20:\n",
        "        break\n",
        "    print('Tente novamente',end ='')\n",
        "print(f'O numero {n} escrito por extenso fica {numeros_por_extenso[n]}')"
      ]
    },
    {
      "cell_type": "markdown",
      "metadata": {
        "id": "yncQzMv53E0m"
      },
      "source": [
        "### **Desafios 073:** crie um **tupla** preencida com os **20 primeiros** colocados da tabela do **Campeonato Brasileiro do Futebol**, na ordem da colocação.Depois mostra:\n",
        "* Apenas os **5 primeiros** colocados\n",
        "* Os Ultimos **4 colocados** da tabela\n",
        "* Uma lista com os times em **ordem alfabéticas**\n",
        "* Em que **posição** na tabela está o time **chapecoense**"
      ]
    },
    {
      "cell_type": "code",
      "execution_count": null,
      "metadata": {
        "id": "vGeyRy-E3E0m"
      },
      "outputs": [],
      "source": [
        "classificacao_brasileirao_2018 = (\n",
        "    \"Palmeiras\",\n",
        "    \"Flamengo\",\n",
        "    \"Internacional\",\n",
        "    \"Grêmio\",\n",
        "    \"São Paulo\",\n",
        "    \"Atlético-MG\",\n",
        "    \"Athletico-PR\",\n",
        "    \"Cruzeiro\",\n",
        "    \"Botafogo\",\n",
        "    \"Santos\",\n",
        "    \"Bahia\",\n",
        "    \"Fluminense\",\n",
        "    \"Corinthians\",\n",
        "    \"Chapecoense\",\n",
        "    \"Ceará\",\n",
        "    \"Vasco\",\n",
        "    \"América-MG\",\n",
        "    \"Sport\",\n",
        "    \"Vitória\",\n",
        "    \"Paraná\"\n",
        ")\n",
        "print('-='*50)\n",
        "print(f'{\"BRASILEIRÃO 2018\":^100}')\n",
        "print('-='*50)\n",
        "print(f'* Os Cinco primeiros colocados são: {classificacao_brasileirao_2018[:5]}')\n",
        "print(f'* Os Quatros últimos colocados são: {classificacao_brasileirao_2018[-4:]}')\n",
        "print(f'* A chapecoense está na  {classificacao_brasileirao_2018.index(\"Chapecoense\") + 1}ª posição')\n",
        "print(f'* Os times em ordem alfabética ficam:  {sorted(classificacao_brasileirao_2018)}')"
      ]
    },
    {
      "cell_type": "markdown",
      "metadata": {
        "id": "mhHHvHwp3E0m"
      },
      "source": [
        "### **Desafios 074:** Crie um programa que vai gerar 5 numeros aleátorios e colocar em um tupla , depois disso, mostra a listagem de numeros gerados e também indique o menor e o maior valor que estão na tupla"
      ]
    },
    {
      "cell_type": "code",
      "execution_count": null,
      "metadata": {
        "id": "0INxaEiz3E0m"
      },
      "outputs": [],
      "source": [
        "from random import randint\n",
        "listas_n_aleatorios = (randint(1,1000),randint(1,1000),\n",
        "                       randint(1,1000),randint(1,1000),randint(1,1000))\n",
        "\n",
        "print(f'Os numeros escolhidos foram: ',end='')\n",
        "for numero in listas_n_aleatorios:\n",
        "    print(f'{numero} ', end = '')\n",
        "\n",
        "print(f'\\nO maior numero escolhido foi {max(listas_n_aleatorios)}')\n",
        "print(f'O menor numero escolhido foi {min(listas_n_aleatorios)}')"
      ]
    },
    {
      "cell_type": "markdown",
      "metadata": {
        "id": "E3aNCRuM3E0m"
      },
      "source": [
        "### **Desafios 075:** Desenvolve um programa que leia quatros valores pelo teclado e guarde-os em um tupla. No final mostre:\n",
        "* Quantas vezes apareceu o valor **9**\n",
        "* Em que posição foi digitado o primeiro valor **3**\n",
        "* Quais foram os números **pares**"
      ]
    },
    {
      "cell_type": "code",
      "execution_count": null,
      "metadata": {
        "id": "1kPNCZQM3E0n"
      },
      "outputs": [],
      "source": [
        "numeros_digitados = (int(input('Digite o primeiro valor')),int(input('Digite o primeiro valor')),\n",
        "                    int(input('Digite o primeiro valor')),int(input('Digite o primeiro valor')))\n",
        "print(f'O valor 9 apareceu {numeros_digitados.count(9)} vezes' if numeros_digitados.count(9) > 0 else f'O valor 9 não apareceu nenhuma vez')\n",
        "print(f'O valor 3 apareceu na posição {numeros_digitados.index(3)}' if 3 in numeros_digitados  else f'O valor 3 não foi digitado')\n",
        "print(f'Os valores pares são', end=' ')\n",
        "for n in numeros_digitados:\n",
        "    if n%2 == 0:\n",
        "        print(f'{n} ',end='')"
      ]
    },
    {
      "cell_type": "markdown",
      "metadata": {
        "id": "x1eZr7ZC3E0n"
      },
      "source": [
        "### **Desafios 076:** Crie um programa que tenha uma **tupla** única com **nomes de produtos** e seus respectivos preços na sequência no final mostre um sequência de preço organizando de forma **tabular**"
      ]
    },
    {
      "cell_type": "code",
      "execution_count": null,
      "metadata": {
        "id": "peV9A9fx3E0n"
      },
      "outputs": [],
      "source": [
        "produtos_e_precos = (\n",
        "    \"Camiseta\", 29.99,\n",
        "    \"Notebook\", 899.99,\n",
        "    \"Caneta\", 1.50,\n",
        "    \"Tênis\", 79.95,\n",
        "    \"Fone de Ouvido\", 49.99\n",
        ")\n",
        "print('-'*60)\n",
        "print(f'{\"LISTA DE PREÇOS\":^60}')\n",
        "print('-'*60)\n",
        "for c in range(0, len(produtos_e_precos)):\n",
        "    if c % 2 == 0:\n",
        "        print(f'{produtos_e_precos[c]:.<50}' ,end=' ')\n",
        "    else:\n",
        "        print(f'R$ {produtos_e_precos[c]:>6.2f}')\n",
        "print('-'*60)"
      ]
    },
    {
      "cell_type": "markdown",
      "metadata": {
        "id": "HEhy-8tX3E0n"
      },
      "source": [
        "### **Desafios 077:** Crie um programa que tenha uma tupla com varias palavras(não usar acentos) depois disso você deve mostrar para cada palavra quais são suas vogais"
      ]
    },
    {
      "cell_type": "code",
      "execution_count": null,
      "metadata": {
        "id": "jI8rDXxe3E0n"
      },
      "outputs": [],
      "source": [
        "palavras_sem_acento = (\n",
        "    \"carro\", \"cachorro\", \"computador\", \"telefone\", \"pizza\",\n",
        "    \"programacao\", \"escola\", \"amigo\", \"oculos\", \"chocolate\",\n",
        "    \"futebol\", \"guitarra\", \"viagem\", \"janela\", \"celular\",\n",
        "    \"gato\", \"musica\", \"livro\", \"cadeira\", \"piano\",\n",
        "    \"sol\", \"lua\", \"estrela\", \"mar\", \"montanha\",\n",
        "    \"cidade\", \"coracao\", \"familia\", \"tempo\", \"espaco\"\n",
        ")\n",
        "\n",
        "for palavra in palavras_sem_acento:\n",
        "    print(f'\\nNa palavra {palavra.upper()} temos ', end='')\n",
        "    for vogais in palavra:\n",
        "        if vogais.lower() in 'aeiou':\n",
        "            print(f'{vogais} ',end = '')"
      ]
    },
    {
      "cell_type": "markdown",
      "metadata": {
        "id": "o1jpKlCy3E0n"
      },
      "source": [
        "# Modulo 02 - Lista em python"
      ]
    },
    {
      "cell_type": "markdown",
      "metadata": {
        "id": "5fkRM9fN3E0n"
      },
      "source": [
        "## **Aula 17:** Listas(parte 01)"
      ]
    },
    {
      "cell_type": "code",
      "execution_count": null,
      "metadata": {
        "id": "KSwpmnOc3E0n"
      },
      "outputs": [],
      "source": [
        "num = (2, 5, 9, 1)\n",
        "num[2] = 3\n",
        "print(num)"
      ]
    },
    {
      "cell_type": "code",
      "execution_count": null,
      "metadata": {
        "id": "GU6X-7aM3E0n"
      },
      "outputs": [],
      "source": [
        "num = [2, 5, 9, 1]\n",
        "num[2] = 3\n",
        "#Para adicionar valores\n",
        "num.append(7)\n",
        "#Para ordernar os valores de maneira crescente\n",
        "num.sort()\n",
        "#Para ordenar os valores de forma decrescente\n",
        "num.sort(reverse=True)\n",
        "#Para Inserir valores\n",
        "num.insert(2,2)\n",
        "num.remove(2)\n",
        "#Para remover elementos\n",
        "num.pop()\n",
        "num.pop(2)\n",
        "if 4 in num:\n",
        "    num.remove(4)\n",
        "else:\n",
        "    print('Não achei o numero 4')\n",
        "\n",
        "print(num)\n",
        "print(f'Essa lista tem {len(num)} elementos')\n"
      ]
    },
    {
      "cell_type": "code",
      "execution_count": null,
      "metadata": {
        "id": "I90_ZWNh3E0o"
      },
      "outputs": [],
      "source": [
        "valores = []\n",
        "valores.append(5)\n",
        "valores.append(9)\n",
        "valores.append(4)\n",
        "\n",
        "for v in valores:\n",
        "    print(f'{v}...', end='')\n",
        "\n",
        "print('\\ncheguei ao final da lista')"
      ]
    },
    {
      "cell_type": "code",
      "execution_count": null,
      "metadata": {
        "id": "4Rhf948u3E0o"
      },
      "outputs": [],
      "source": [
        "valores = []\n",
        "for cont in range(0,5):\n",
        "    valores.append(int(input('Digite um valor: ')))\n",
        "\n",
        "for c,v in enumerate(valores):\n",
        "    print(f'Na posição {c} encontrei {v}')"
      ]
    },
    {
      "cell_type": "code",
      "execution_count": null,
      "metadata": {
        "id": "UjgXioQT3E0o"
      },
      "outputs": [],
      "source": [
        "a = [2, 3, 4, 7]\n",
        "b = a\n",
        "b[2] = 5 # Faz um ligação entre a lista\n",
        "print(f'Lista A {a}')\n",
        "print(f'Lista B {b}')\n",
        "\n",
        "b = a[:]\n",
        "b[2] = 8\n",
        "print(f'Lista A {a}')\n",
        "print(f'Lista B {b}')\n",
        "\n"
      ]
    },
    {
      "cell_type": "markdown",
      "metadata": {
        "id": "jF3Xx9m93E0o"
      },
      "source": [
        "### Desafios da Aula\n",
        "1. **Desafio 078:** Faça um programa que leia **5 valores numéricos** e guade-os em uma **lista**. No final, mostre qual foi o **maior** e o **menor** valor digitado e as suas respectivas **posições** na lista\n",
        "2. **Desafio 079:** Crie um programa aonde o usuario pode digitar vários **valores numéricos** e cadastra-se em uma **lista**.Caso o número já existe lá dentro, ele **não será adicionado**.No final, serão exibidos todos os **valores unicos** digitados em **ordem crescente**\n",
        "3. **Desafio 080:** Crie um programa onde o usuario possa difgitar 5 valores numéricos e cadastre-os em uma lista. já na posição correta de inserção(sem usar o sort()).No final.mostre a lista ordenada na tela\n",
        "4. **Desafio 081:** Crie um programa que vai ler vários números e colocar em um lista\n",
        "depois disso mostre:  \n",
        "a. **Quantos** números foram digitados  \n",
        "b. A lista de valores ordenada de forma **decrescente**  \n",
        "c. Se o valor **5** foi digitado e está ou não na **lista**\n",
        "5. **Desafio 082:** Crie um programa que vai ler **vários números** e colocar em uma **lista**.  \n",
        "Depois disso crie **duas listas extras** que vão conter apenas os valores **pares** e os valores **impares** digitado, respectivamente\n",
        "Ao final, mostre o conteudo das **três listas** geradas\n",
        "6. **Desafio 083:** Crie um programa onde o usuario digite uma **expressão** qualquer que use parênteses.Seu aplicativo devrá analisar se a expressão passada está com os parênteses abertos e fechados na **ordem correta**"
      ]
    },
    {
      "cell_type": "markdown",
      "metadata": {
        "id": "n2CHQN8u7o-N"
      },
      "source": [
        "### **Desafio 078:** Faça um programa que leia **5 valores numéricos** e guade-os em uma **lista**. No final, mostre qual foi o **maior** e o **menor** valor digitado e as suas respectivas **posições** na lista\n"
      ]
    },
    {
      "cell_type": "code",
      "execution_count": null,
      "metadata": {},
      "outputs": [],
      "source": [
        "n = list()\n",
        "for c in range(1,6):\n",
        "    n.append(int(input(f'Digite o {c}º valor')))\n",
        "print(f'O maior valor é {max(n)} nas posições ',end = ' ')\n",
        "for i, v in enumerate(n):\n",
        "    if v == max(n):\n",
        "        print(f'{i}...' , end = '')\n",
        "\n",
        "print(f'\\nO menor valor é {min(n)} nas posições ',end = ' ')\n",
        "for i, v in enumerate(n):\n",
        "    if v == min(n):\n",
        "        print(f'{i}...' , end = '')\n"
      ]
    },
    {
      "cell_type": "markdown",
      "metadata": {
        "id": "3-pwmqX871Pd"
      },
      "source": [
        "### **Desafio 079:** Crie um programa aonde o usuario pode digitar vários **valores numéricos** e cadastra-se em uma **lista**.Caso o número já existe lá dentro, ele **não será adicionado**.No final, serão exibidos todos os **valores unicos** digitados em **ordem crescente**\n"
      ]
    },
    {
      "cell_type": "code",
      "execution_count": null,
      "metadata": {},
      "outputs": [],
      "source": [
        "n_casdastrado = list()\n",
        "while True:\n",
        "    num = int(input(f'Digite o numero Para casdratar'))\n",
        "    if num not in n_casdastrado:\n",
        "        n_casdastrado.append(num)\n",
        "        print(f'Numero cadastrado com sucesso')\n",
        "    else:\n",
        "        print(f'{num} já existe e não pode ser cadastrado')\n",
        "    \n",
        "    continuar = str(input('Deseja cadastrar novos numero ?[S/N]'))[0].lower().strip()\n",
        "    if continuar == 'n':\n",
        "        break\n",
        "\n",
        "print(f'Numeros cadastrados foram: ',end='')\n",
        "for c in sorted(n_casdastrado):\n",
        "    print(f'{c} ', end='')"
      ]
    },
    {
      "cell_type": "markdown",
      "metadata": {
        "id": "3-yR0Ta473uL"
      },
      "source": [
        "### **Desafio 080:** Crie um programa onde o usuario possa digitar 5 valores numéricos e cadastre-os em uma lista. já na posição correta de inserção(sem usar o sort()).No final.mostre a lista ordenada na tela\n"
      ]
    },
    {
      "cell_type": "code",
      "execution_count": null,
      "metadata": {},
      "outputs": [],
      "source": [
        "n_casdastrado = list()\n",
        "for c in range(0,5):\n",
        "    num = int(input(f'Digite o numero para casdratar'))\n",
        "    if c == 0 or num > n_casdastrado[-1]:\n",
        "        n_casdastrado.append(num)\n",
        "    else:\n",
        "        pos = 0 \n",
        "        while pos < len(n_casdastrado):\n",
        "            if num <= n_casdastrado[pos]:\n",
        "                n_casdastrado.insert(pos , num)\n",
        "                break\n",
        "            pos += 1\n",
        "print(n_casdastrado)"
      ]
    },
    {
      "cell_type": "markdown",
      "metadata": {
        "id": "Wt_YAAAp7559"
      },
      "source": [
        "### **Desafio 081:** Crie um programa que vai ler vários números e colocar em um lista depois disso mostre:  \n",
        "  a. **Quantos** números foram digitados  \n",
        "  b. A lista de valores ordenada de forma **decrescente**  \n",
        "  c. Se o valor **5** foi digitado e está ou não na **lista**\n"
      ]
    },
    {
      "cell_type": "code",
      "execution_count": null,
      "metadata": {},
      "outputs": [],
      "source": [
        "lista_numeros = list()\n",
        "while True:\n",
        "    lista_numeros.append(int(input(f'Digite o numero para casdastrar')))\n",
        "    continuar = str(input('Deseja cadastrar novos numero ?[S/N]'))[0].lower().strip()\n",
        "    if continuar == 'n':\n",
        "        break\n",
        "\n",
        "print('-='*50)\n",
        "print(f'O numero 5 foi digitado ' if 5 in lista_numeros else 'O numero 5 não foi digitado')\n",
        "print(f'A quantiadade de numeros digitados foi {len(lista_numeros)}')\n",
        "print(f'A lista em ordem descrescente fica {sorted(lista_numeros, reverse=True)}')\n",
        "print('-='*50)\n"
      ]
    },
    {
      "cell_type": "markdown",
      "metadata": {
        "id": "aYC3L_RE78Ck"
      },
      "source": [
        "### **Desafio 082:** Crie um programa que vai ler **vários números** e colocar em uma **lista**.Depois disso crie **duas listas extras** que vão conter apenas os valores **pares** e os valores **impares** digitado, respectivamente Ao final, mostre o conteudo das **três listas** geradas\n"
      ]
    },
    {
      "cell_type": "code",
      "execution_count": null,
      "metadata": {},
      "outputs": [],
      "source": [
        "todos_numeros = list()\n",
        "numeros_pares = list()\n",
        "numeros_impares = list()\n",
        "\n",
        "while True:\n",
        "    todos_numeros.append(int(input(f'Digite o numero para casdastrar')))\n",
        "    while True:\n",
        "        continuar = str(input('Deseja cadastrar novos numero ?[S/N]'))[0].lower().strip()\n",
        "        if continuar in 'sn':\n",
        "            break\n",
        "    if continuar == 'n':\n",
        "        break\n",
        "for c in todos_numeros:\n",
        "    if c % 2 == 0:\n",
        "        numeros_pares.append(c)\n",
        "    else:\n",
        "        numeros_impares.append(c)\n",
        "\n",
        "print(f'Lista completa de numeros {todos_numeros}')\n",
        "print(f'Lista de numeros pares {numeros_pares}')\n",
        "print(f'Lista de numeros impares {numeros_impares}')"
      ]
    },
    {
      "cell_type": "markdown",
      "metadata": {
        "id": "6WF0waGi7_9V"
      },
      "source": [
        "### **Desafio 083:** Crie um programa onde o usuario digite uma **expressão** qualquer que use parênteses.Seu aplicativo devrá analisar se a expressão passada está com os parênteses abertos e fechados na **ordem correta**"
      ]
    },
    {
      "cell_type": "code",
      "execution_count": null,
      "metadata": {},
      "outputs": [],
      "source": [
        "expresao = str(input(f'Digite uma expresão'))\n",
        "pilha = []\n",
        "\n",
        "for simb in expresao:\n",
        "    if simb == '(':\n",
        "        pilha.append('(')\n",
        "    elif simb == ')':\n",
        "        if len(pilha) > 0:\n",
        "            pilha.pop()\n",
        "        else:\n",
        "            pilha.append(')')\n",
        "            break\n",
        "\n",
        "if len(pilha) == 0:\n",
        "    print('Sua expressão está valida')\n",
        "else: \n",
        "    print('Sua expressão está invalida')"
      ]
    },
    {
      "cell_type": "markdown",
      "metadata": {},
      "source": [
        "## **Aula 18:** Lista(parte 2)"
      ]
    },
    {
      "cell_type": "code",
      "execution_count": null,
      "metadata": {},
      "outputs": [],
      "source": [
        "teste = list()\n",
        "teste.append('Gustavo')\n",
        "teste.append(40)\n",
        "galera = list()\n",
        "galera.append(teste[:])\n",
        "teste[0] = 'Maria'\n",
        "teste[1] = 22\n",
        "galera.append(teste[:])\n",
        "print(galera)"
      ]
    },
    {
      "cell_type": "code",
      "execution_count": null,
      "metadata": {},
      "outputs": [],
      "source": [
        "galera = [['joão',19],['ana',33],['joaquim',13],['maria',45]]\n",
        "print('~=' * 30)\n",
        "print(galera[0])\n",
        "print(galera[0])\n",
        "print(galera[0][0])\n",
        "print(galera[2][1])\n",
        "\n",
        "for p in galera:\n",
        "    print(p)\n",
        "\n",
        "for p in galera:\n",
        "    print(f'{p[0]} tem {p[1]} anos de idade')\n"
      ]
    },
    {
      "cell_type": "code",
      "execution_count": null,
      "metadata": {},
      "outputs": [],
      "source": [
        "galera = list()\n",
        "dado = list()\n",
        "totalmaior = totalmenor = 0\n",
        "\n",
        "for c in range(0,3):\n",
        "    dado.append(str(input('Nome')).strip())\n",
        "    dado.append(int(input('idade')))\n",
        "    galera.append(dado[:])\n",
        "    dado.clear()\n",
        "print(galera)\n",
        "\n",
        "for p in galera:\n",
        "    if p[1]>= 21:\n",
        "        print(f'{p[0]} é maior de idade')\n",
        "        totalmaior+=1\n",
        "    else:\n",
        "        print(f'{p[0]} é menor da idade')\n",
        "        totalmenor+=1   \n",
        "print(f'Temos {totalmaior} maiores e {totalmenor} de idade')"
      ]
    },
    {
      "cell_type": "markdown",
      "metadata": {},
      "source": [
        "### **Desafios da Aula**\n",
        "\n",
        "1. **Desafio 084:** Faça um programa que leia o nome e peso de varias pessoas guardando tudo em uma lista.No final mostra  \n",
        "    a. Quantas pessoas foram cadastradas  \n",
        "    b. Uma listagem com as pessoas mais pesadas  \n",
        "    c. Uma listagem com as pessoas mais leves   \n",
        "2. **Desafio 085:** Crie um programa onde o usuário possa digitar **sete valores numéricos** e cadastre-os em uma **lista unica** que mantenha separados os valores **pares** e **impares**.No final mostre os valores pares e impares em ordem **crescente**\n",
        "3. **Desafio 086:** Crie um programa que crie uma **matriz** de **dimesão 3x3** e preencha com valores lidos pelo teclado.No final mostre a **matriz** na tela.Com a formatação correta\n",
        "4. **Desafio 087:** Aprimore o **desafio anterior**, mostrando no final  \n",
        "    a. A **soma** de todos os **valores pares** digitados  \n",
        "    b. A **soma** dos valores da **terceira coluna**  \n",
        "    c. O **maior** valor da **segunda linha**  \n",
        "5. **Desafio 088:** Faça um programa que ajude um jogador da **MEGA SENA** a criar a **palpites**.O programa vai perguntar **quantos jogos** serão gerados e vai sortear **6 números entre 1 e 60** para cada jogo.Cadastrando tudo em uma **lista composta**\n",
        "6. **Desafio 089:** Crie um programa que leia nome e duas notas de várias alunos e guarde tudo em uma lista composta.No final,mostre um boletim contendo a media de cada um e permita que o usuário possa mostrar as notas de cada aluno individualmente"
      ]
    },
    {
      "cell_type": "markdown",
      "metadata": {},
      "source": [
        "### **Desafio 084:** Faça um programa que leia o nome e peso de varias pessoas guardando tudo em uma lista.No final mostra  \n",
        "a. Quantas pessoas foram cadastradas  \n",
        "b. Uma listagem com as pessoas mais pesadas  \n",
        "c. Uma listagem com as pessoas mais leves  "
      ]
    },
    {
      "cell_type": "code",
      "execution_count": null,
      "metadata": {},
      "outputs": [],
      "source": [
        "import sys\n",
        "dados = list()\n",
        "lista_pesos = []\n",
        "while True:\n",
        "    dados.append(str(input('Digite o seu nome:')))\n",
        "    dados.append(int(input('Digite o seu peso')))\n",
        "    lista_pesos.append(dados[:])\n",
        "    dados.clear()\n",
        "    while True:\n",
        "        continuar = str(input('Quer continuar ? [S/N]'))[0].lower()\n",
        "        if continuar in 'sn':\n",
        "            break\n",
        "    if continuar in 'n':\n",
        "        break\n",
        "\n",
        "lista_pesos.sort(key=lambda pessoa:pessoa[1])\n",
        "\n",
        "print(f'Ao todo {len(lista_pesos)} foram cadastradas')\n",
        "print(f'A(s) pessoas mais leve pesa(m) {min(lista_pesos,key=lambda pessoa:pessoa[1])[1]} e são',end = '')\n",
        "menor = min(lista_pesos,key=lambda pessoa:pessoa[1])\n",
        "maior = max(lista_pesos,key=lambda pessoa:pessoa[1])\n",
        "for c in range(0 , len(lista_pesos)):\n",
        "    if lista_pesos[c][1] != menor[1]:\n",
        "        break\n",
        "    print(f'{lista_pesos[c][0]},' ,end = '')\n",
        "sys.stdout.write('\\b')  # Retrocede o cursor em uma posição\n",
        "sys.stdout.write(\".\")  # Substitui o último caractere por \"X\"\n",
        "sys.stdout.flush()  # Certifica-se de que as alterações são visíveis   \n",
        "    \n",
        "print(f'\\nA(s) pessoa(s) mais pesadas pesam {max(lista_pesos , key=lambda pessoa:pessoa[1])[1]} e são', end='')\n",
        "for c in range(len(lista_pesos), 0, -1):\n",
        "    if lista_pesos[c-1][1] != maior[1]:\n",
        "        break\n",
        "    print(f'{lista_pesos[c -1][0]},' ,end = '', flush=True)\n",
        "sys.stdout.write('\\b')  # Retrocede o cursor em uma posição\n",
        "sys.stdout.write(\".\")  # Substitui o último caractere por \"X\"\n",
        "sys.stdout.flush()  # Certifica-se de que as alterações são visíveis"
      ]
    },
    {
      "cell_type": "markdown",
      "metadata": {},
      "source": [
        "### **Desafio 085:** Crie um programa onde o usuário possa digitar **sete valores numéricos** e cadastre-os em uma **lista unica** que mantenha separados os valores **pares** e **impares**.No final mostre os valores pares e impares em ordem **crescente**\n"
      ]
    },
    {
      "cell_type": "code",
      "execution_count": null,
      "metadata": {},
      "outputs": [],
      "source": [
        "num = 0\n",
        "pares_impares = [[],[]]\n",
        "for c in range(0,7):\n",
        "    num = int(input('Digite um numero'))\n",
        "    if num % 2 == 0:\n",
        "        pares_impares[0].append(num)\n",
        "    else:\n",
        "        pares_impares[1].append(num)\n",
        "print(f'A lista de numeros pares é {sorted(pares_impares[0])}')\n",
        "print(f'A lista de numeros impares é {sorted(pares_impares[1])}')\n"
      ]
    },
    {
      "cell_type": "markdown",
      "metadata": {},
      "source": [
        "### **Desafio 086:** Crie um programa que crie uma **matriz** de **dimesão 3x3** e preencha com valores lidos pelo teclado.No final mostre a **matriz** na tela.Com a formatação correta\n"
      ]
    },
    {
      "cell_type": "code",
      "execution_count": null,
      "metadata": {},
      "outputs": [],
      "source": [
        "dados_matriz = list()\n",
        "matriz = list()\n",
        "num = 0\n",
        "for c in range(1,10):\n",
        "    num = int(input(f'Digite um valor para matriz'))\n",
        "    dados_matriz.append(num)\n",
        "    if c % 3 == 0:\n",
        "        matriz.append(dados_matriz[:])\n",
        "        dados_matriz.clear()\n",
        "    \n",
        "\n",
        "for i in range(0 , 3):\n",
        "    print(f'\\n ')\n",
        "    for j in range(0, 3):\n",
        "        print(f'[ {matriz[i][j]:^5} ]',end= ' ')"
      ]
    },
    {
      "cell_type": "markdown",
      "metadata": {},
      "source": [
        "### **Desafio 087:** Aprimore o **desafio anterior**, mostrando no final  \n",
        "a. A **soma** de todos os **valores pares** digitados  \n",
        "b. A **soma** dos valores da **terceira coluna**  \n",
        "c. O **maior** valor da **segunda linha**  \n"
      ]
    },
    {
      "cell_type": "code",
      "execution_count": null,
      "metadata": {},
      "outputs": [],
      "source": [
        "\n",
        "dados_matriz = list()\n",
        "matriz = list()\n",
        "num = 0\n",
        "soma = 0 \n",
        "for c in range(1,10):\n",
        "    num = int(input(f'Digite um valor para matriz'))\n",
        "    dados_matriz.append(num)\n",
        "    soma+= num\n",
        "    if c % 3 == 0:\n",
        "        matriz.append(dados_matriz[:])\n",
        "        dados_matriz.clear()\n",
        "    \n",
        "print(f'-'*30)\n",
        "for i in range(0 , 3):\n",
        "    print()\n",
        "    for j in range(0, 3):\n",
        "        print(f'[ {matriz[i][j]:^5} ]',end= ' ')\n",
        "print()\n",
        "print(f'-'*30)\n",
        "    \n",
        "print(f'\\nA soma de todos os valores pares ficou {sum(sum(element for element in linha if element % 2 == 0) for linha in matriz)}')\n",
        "print(f'A soma dos valores da terceira coluna ficou {sum(linha[2] for linha in matriz)}')\n",
        "print(f'O maior valor da segunda linha é {max(matriz[1])}')\n"
      ]
    },
    {
      "cell_type": "markdown",
      "metadata": {},
      "source": [
        "### **Desafio 088:** Faça um programa que ajude um jogador da **MEGA SENA** a criar a **palpites**.O programa vai perguntar **quantos jogos** serão gerados e vai sortear **6 números entre 1 e 60** para cada jogo.Cadastrando tudo em uma **lista composta**\n"
      ]
    },
    {
      "cell_type": "code",
      "execution_count": null,
      "metadata": {},
      "outputs": [],
      "source": [
        "from random import randint\n",
        "from time import sleep\n",
        "qtd_jogos = int(input('Digite a quantidade de jogos desejados:'))\n",
        "jogos = list()\n",
        "jogo = list()\n",
        "for games in range (0, qtd_jogos):\n",
        "    while True:\n",
        "        num = randint(1,61)\n",
        "        if num not in jogo:\n",
        "            jogo.append(num)\n",
        "        if len(jogo) == 6:\n",
        "            jogos.append(jogo[:])\n",
        "            jogo.clear()\n",
        "            break\n",
        "for idx,game in enumerate(jogos):\n",
        "    sleep(1)\n",
        "    print(f'jogo nº{idx + 1} -> {game}')"
      ]
    },
    {
      "cell_type": "markdown",
      "metadata": {},
      "source": [
        "### **Desafio 089:** Crie um programa que leia nome e duas notas de várias alunos e guarde tudo em uma lista composta.No final,mostre um boletim contendo a media de cada um e permita que o usuário possa mostrar as notas de cada aluno individualmente"
      ]
    },
    {
      "cell_type": "code",
      "execution_count": null,
      "metadata": {},
      "outputs": [],
      "source": [
        "dados = list()\n",
        "boletim = list()\n",
        "\n",
        "while True:\n",
        "    dados.append(str(input('Nome do aluno: ')))\n",
        "    dados.append(float(input('Digite a primeira nota: ')))\n",
        "    dados.append(float(input('Digite a segunda nota: ')))\n",
        "    dados.append(float((dados[1] + dados[2])/2))\n",
        "    boletim.append(dados[:])\n",
        "    dados.clear()\n",
        "    while True:\n",
        "        continuar = str(input('Quer continuar ? [S/N]'))[0].lower()\n",
        "        if continuar in 'sn':\n",
        "            break\n",
        "    if continuar in 'n':\n",
        "        break\n",
        "while True: \n",
        "    print(f'-'*30)\n",
        "    print(f'| {\"INDEX\":^5} | {\"NOME\":^10} | {\"MEDIA\":^5} |')\n",
        "    print(f'-'*30)\n",
        "    for idx, aluno in enumerate(boletim):\n",
        "        \n",
        "        print(f'| {idx + 1:^5} | {aluno[0].capitalize():<10} | {aluno[3]:^5} |')\n",
        "        print(f'-'*30)\n",
        "    while True:\n",
        "        continuar = str(input('Deseja vê a nota de algum aluno ? [S/N]'))[0].lower()\n",
        "        if continuar in 'sn':\n",
        "            break\n",
        "    if continuar in 'n':\n",
        "        break\n",
        "    else:\n",
        "        while True:\n",
        "            num_aluno = int(input('Qual aluno deseja vê a nota de qual alunos ?(Digite o numero) '))\n",
        "            if num_aluno <= len(boletim):\n",
        "                \n",
        "                print(f'| {\"NOME\":<8} | {\"NOTA 1\":^5} | {\"NOTA 2\":^5} |')\n",
        "                print(f'-'*30)\n",
        "                print(f'| {boletim[num_aluno-1][0].capitalize():<8} | {boletim[num_aluno-1][1]:^6} | {boletim[num_aluno-1][2]:^6} |')\n",
        "                break"
      ]
    },
    {
      "cell_type": "markdown",
      "metadata": {},
      "source": [
        "# **Modulo 03:** Dicionários em python"
      ]
    },
    {
      "cell_type": "markdown",
      "metadata": {},
      "source": [
        "## Aula 19 - Dicionários"
      ]
    },
    {
      "cell_type": "code",
      "execution_count": null,
      "metadata": {},
      "outputs": [],
      "source": [
        "pessoas = {\n",
        "    'nome':'William', 'Sexo':'M', 'Idade': 25\n",
        "}\n",
        "print(f'{pessoas[\"nome\"]} tem {pessoas[\"Idade\"]} anos')\n",
        "pessoas['nome'] = 'leandro'\n",
        "pessoas['peso'] = 98.5\n",
        "\n",
        "for k,v in pessoas.items():\n",
        "    print(f'{k} = {v}')"
      ]
    },
    {
      "cell_type": "code",
      "execution_count": null,
      "metadata": {},
      "outputs": [],
      "source": [
        "lista_estados = [\n",
        "    {\"uf\": \"Acre\", \"sigla\": \"AC\"},\n",
        "    {\"uf\": \"Alagoas\", \"sigla\": \"AL\"},\n",
        "    {\"uf\": \"Amapá\", \"sigla\": \"AP\"},\n",
        "    {\"uf\": \"Amazonas\", \"sigla\": \"AM\"},\n",
        "    {\"uf\": \"Bahia\", \"sigla\": \"BA\"},\n",
        "    {\"uf\": \"Ceará\", \"sigla\": \"CE\"},\n",
        "    {\"uf\": \"Distrito Federal\", \"sigla\": \"DF\"},\n",
        "    {\"uf\": \"Espírito Santo\", \"sigla\": \"ES\"},\n",
        "    {\"uf\": \"Goiás\", \"sigla\": \"GO\"},\n",
        "    {\"uf\": \"Maranhão\", \"sigla\": \"MA\"},\n",
        "    {\"uf\": \"Mato Grosso\", \"sigla\": \"MT\"},\n",
        "    {\"uf\": \"Mato Grosso do Sul\", \"sigla\": \"MS\"},\n",
        "    {\"uf\": \"Minas Gerais\", \"sigla\": \"MG\"},\n",
        "    {\"uf\": \"Pará\", \"sigla\": \"PA\"},\n",
        "    {\"uf\": \"Paraíba\", \"sigla\": \"PB\"},\n",
        "    {\"uf\": \"Paraná\", \"sigla\": \"PR\"},\n",
        "    {\"uf\": \"Pernambuco\", \"sigla\": \"PE\"},\n",
        "    {\"uf\": \"Piauí\", \"sigla\": \"PI\"},\n",
        "    {\"uf\": \"Rio de Janeiro\", \"sigla\": \"RJ\"},\n",
        "    {\"uf\": \"Rio Grande do Norte\", \"sigla\": \"RN\"},\n",
        "    {\"uf\": \"Rio Grande do Sul\", \"sigla\": \"RS\"},\n",
        "    {\"uf\": \"Rondônia\", \"sigla\": \"RO\"},\n",
        "    {\"uf\": \"Roraima\", \"sigla\": \"RR\"},\n",
        "    {\"uf\": \"Santa Catarina\", \"sigla\": \"SC\"},\n",
        "    {\"uf\": \"São Paulo\", \"sigla\": \"SP\"},\n",
        "    {\"uf\": \"Sergipe\", \"sigla\": \"SE\"},\n",
        "    {\"uf\": \"Tocantins\", \"sigla\": \"TO\"}\n",
        "]\n",
        "\n",
        "print(f'{lista_estados[0][\"uf\"]}' ,end= ' ')\n",
        "print(f'{lista_estados[0][\"sigla\"]}')\n"
      ]
    },
    {
      "cell_type": "code",
      "execution_count": null,
      "metadata": {},
      "outputs": [],
      "source": [
        "estado = dict()\n",
        "brasil = list()\n",
        "\n",
        "for c in range(0, 3):\n",
        "    estado['uf'] = str(input('Unidade federativa: ')).title()\n",
        "    estado['sigla'] = str(input('sigla do estado: ')).upper()\n",
        "    brasil.append(estado.copy())\n",
        "print(brasil)\n"
      ]
    },
    {
      "cell_type": "markdown",
      "metadata": {},
      "source": [
        "### Desafios da aula \n",
        "1. **Desafio 090:** Faça um programa que leia nome e média de um aluno guardando a situação em um dicionário.No final mostre a estrutrura do conteudo da estrutura na tela\n",
        "2. **Desafio 091:** Crie um programa em que **4 jogadores** joguem um **dado** e tenham resultados **aleatórios**.Guarde esses resultados em um **dicionário**.No final coloque esse dicionario em **ordem**. Sabendo que o **vencedor** tirou o **maior número** no dado\n",
        "3. **Desafio 092:** Crie um programa que leia o **nome**, **ano de nascimento** e **carteira de trabalho** e cadastre-os(com **idade**) em um **dicionario** se por acaso o **CTPS** for diferente de zero.O dicionario receberá também o **ano de contratação** e o **salário**.Calcule e acrescente, além da **idade**,com quantos a pessoa vai se **aposentar**\n",
        "4. **Desafio 093:** Crie um programa que gerencie o aproveitamento de um **jogador de futebol**.O programa vai ler o **nome do jogador** e quantas partidas ele jogou.Depois vai le a **quantidade de gols** feitos em **cada partida**.No final, tudo isso será guardado em um **dicionario** incluindo o **total de gols** feitos durante o campeonato\n",
        "5. **Desafio 094:** Crie um programa que leia **nome**, **sexo** e **idade** de **várias pessoas**, guardando os dados de cada pessoa em um **dicionário** e todos os dicionários em uma **lista**. No final, mostre: \n",
        "a. Quantas pessoas foram cadastradas  \n",
        "b. A média de idade  \n",
        "c. Uma lista com as mulheres  \n",
        "d. Uma lista de pessoas com idade acima da média  \n",
        "6. **Desafio 095:** Aprimore o desafio 93 para que ele funcione com vários jogadores, incluindo um sistema de visualização de detalhes do aproveitamento de cada jogador."
      ]
    },
    {
      "cell_type": "markdown",
      "metadata": {},
      "source": [
        "### **Desafio 090:** Faça um programa que leia nome e média de um aluno guardando a situação em um dicionário.No final mostre a estrutrura do conteudo na tela"
      ]
    },
    {
      "cell_type": "code",
      "execution_count": null,
      "metadata": {},
      "outputs": [],
      "source": [
        "boletim = dict()\n",
        "\n",
        "boletim['Nome'] = str(input('DIGITE O NOME DO ALUNO:'))\n",
        "boletim['nota_1'] = float(input('DIGITE O VALOR DA PRIMEIRA NOTA: '))\n",
        "boletim['nota_2'] = float(input('DIGITE O VALOR DA SEGUNDA NOTA: '))\n",
        "boletim['media'] = (boletim['nota_1'] + boletim['nota_2'])/2\n",
        "boletim['situacao'] = 'Aprovado' if boletim[\"media\"] >= 7 else 'RECUPERAÇÃO' if 5 <= boletim[\"media\"] < 7 else 'REPROVADO'\n",
        "\n",
        "print(f' - Nome do aluno: {boletim[\"Nome\"].capitalize()}')\n",
        "print(f' - Média do aluno: {boletim[\"media\"]:.1f}')\n",
        "print(f' - Situação: {boletim[\"situacao\"]}')\n"
      ]
    },
    {
      "cell_type": "markdown",
      "metadata": {},
      "source": [
        "### **Desafio 091:** Crie um programa em que **4 jogadores** joguem um **dado** e tenham resultados **aleatórios**.Guarde esses resultados em um **dicionário**.No final coloque esse dicionario em **ordem**. Sabendo que o **vencedor** tirou o **maior número** no dado"
      ]
    },
    {
      "cell_type": "code",
      "execution_count": null,
      "metadata": {},
      "outputs": [],
      "source": [
        "from random import randint\n",
        "from time import sleep\n",
        "from operator import itemgetter\n",
        "jogo = {\n",
        "    'jogador Nº 1': randint(1,6),\n",
        "    'jogador Nº 2': randint(1,6),\n",
        "    'jogador Nº 3': randint(1,6),\n",
        "    'jogador Nº 4': randint(1,6)\n",
        "}\n",
        "\n",
        "ranking = list()\n",
        "print(f'{\" Valores sorteados \":-^32}')\n",
        "for k,v in jogo.items():\n",
        "    sleep(0.5)\n",
        "    print(f'{f\"{k} tirou {v} no dado\":^32}')\n",
        "\n",
        "ranking = sorted(jogo.items(), key=itemgetter(1), reverse=True)\n",
        "print(f'{\" RANKING \":-^32}')\n",
        "for i, v in enumerate(ranking):\n",
        "    print(f'{i+1}º lugar: [{v[0]}] com [{v[1]}]')\n",
        "\n",
        "\n"
      ]
    },
    {
      "cell_type": "markdown",
      "metadata": {},
      "source": [
        "### **Desafio 092:** Crie um programa que leia o **nome**, **ano de nascimento** e **carteira de trabalho** e cadastre-os(com **idade**) em um **dicionario** se por acaso o **CTPS** for diferente de zero.O dicionario receberá também o **ano de contratação** e o **salário**.Calcule e acrescente, além da **idade**,com quantos a pessoa vai se **aposentar**"
      ]
    },
    {
      "cell_type": "code",
      "execution_count": null,
      "metadata": {},
      "outputs": [],
      "source": [
        "import datetime\n",
        "\n",
        "dados = dict()\n",
        "\n",
        "dados['nome'] = str(input('Nome: '))\n",
        "dados['ano_nascimento'] = int(input('Ano de nascimento: '))\n",
        "dados['idade'] = datetime.date.today().year - dados['ano_nascimento']\n",
        "dados['CTPS'] = int(input('Carteira de trablho (0 não tem)'))\n",
        "\n",
        "\n",
        "if dados['CTPS'] != 0:\n",
        "    dados['ano_contratacao'] = int(input(\"Ano de contratação\"))\n",
        "    dados['salarios'] = float(input('Digite o seu salario'))\n",
        "    dados['idade_aposetadoria'] = (dados['ano_contratacao'] + 35) - dados['ano_nascimento']\n",
        "for k,v in dados.items():\n",
        "    print(f' - {k} : {v}')\n"
      ]
    },
    {
      "cell_type": "markdown",
      "metadata": {},
      "source": [
        "### **Desafio 093:** Crie um programa que gerencie o aproveitamento de um **jogador de futebol**.O programa vai ler o **nome do jogador** e quantas partidas ele jogou.Depois vai le a **quantidade de gols** feitos em **cada partida**.No final, tudo isso será guardado em um **dicionario** incluindo o **total de gols** feitos durante o campeonato"
      ]
    },
    {
      "cell_type": "code",
      "execution_count": null,
      "metadata": {},
      "outputs": [],
      "source": [
        "from random import randint\n",
        "from time import sleep\n",
        "\n",
        "dados_jogador = {'nome do jogador': 'fulano', 'qtd_jogos': 0, 'qtd_gols': list() }\n",
        "dados_jogador['nome do jogador'] = str(input('Digite o nome do jogador: '))\n",
        "dados_jogador['qtd_jogos'] = int(input(f'Quantos jogos fez {dados_jogador[\"nome do jogador\"]} ?'))\n",
        "\n",
        "\n",
        "for c  in range(0, dados_jogador['qtd_jogos']):\n",
        "    gols = int(input(f'Quantidade de gols na partida {c}: '))\n",
        "    # gols = randint(0,6)\n",
        "    dados_jogador['qtd_gols'].append(gols)\n",
        "print('-'*50)\n",
        "print(dados_jogador)\n",
        "print('-'*50)\n",
        "for k , v in dados_jogador.items():\n",
        "    print(f'O campo {k} tem valor {v}')\n",
        "\n",
        "print('-'*50)\n",
        "print(f'O jogador {dados_jogador[\"nome do jogador\"]} jogou {dados_jogador[\"qtd_jogos\"]} partidas')\n",
        "for c in range ( 0, len(dados_jogador['qtd_gols'])):\n",
        "    print(f'\\t=> Na partida {c+1:>3}, fez {dados_jogador[\"qtd_gols\"][c]} gols')\n",
        "    sleep(1)\n",
        "print(f'Fazendo um total de {sum(dados_jogador[\"qtd_gols\"])} gols')"
      ]
    },
    {
      "cell_type": "markdown",
      "metadata": {},
      "source": [
        "### **Desafio 094:** Crie um programa que leia **nome**, **sexo** e **idade** de **várias pessoas**, guardando os dados de cada pessoa em um **dicionário** e todos os dicionários em uma **lista**. No final, mostre: \n",
        "a. Quantas pessoas foram cadastradas  \n",
        "b. A média de idade  \n",
        "c. Uma lista com as mulheres  \n",
        "d. Uma lista de pessoas com idade acima da média  "
      ]
    },
    {
      "cell_type": "code",
      "execution_count": null,
      "metadata": {},
      "outputs": [],
      "source": [
        "cadastro = list()\n",
        "dados = {\n",
        "    'nome':'fulano',\n",
        "    'sexo':'indefinido',\n",
        "    'idade': 0,\n",
        "}\n",
        "while True:\n",
        "    dados['nome'] = str(input('Digite seu nome: '))\n",
        "    while True:\n",
        "        dados['sexo'] = str(input('Digite o seu sexo: '))[0].lower()\n",
        "        if dados['sexo'] in 'mf':\n",
        "            break\n",
        "    dados['idade'] = int(input('Digite sua idade'))\n",
        "    cadastro.append(dados.copy())\n",
        "    while True:\n",
        "        continuar = str(input('Deseja cadastrar novos usuarios ?[S/N]'))[0].lower().strip()\n",
        "        if continuar in 'sn':\n",
        "            break\n",
        "    if continuar == 'n':\n",
        "        break\n",
        "media = sum(item[\"idade\"] for item in cadastro)/len(cadastro)\n",
        "## Quantidade de pessoas cadastadas\n",
        "print(f'Ao todo foram cadastradas {len(cadastro)} pessoas')\n",
        "\n",
        "## Média de idade\n",
        "print(f'A média de idade é {media} anos')\n",
        "\n",
        "## Lista de mulheres cadastrada\n",
        "print(f'A lista possui {sum(1 for qtd_sexo_f in cadastro if qtd_sexo_f[\"sexo\"] if qtd_sexo_f[\"sexo\"] == \"f\")} mulheres sendo elas: {\", \".join([mc[\"nome\"] for mc in cadastro if mc[\"sexo\"] == \"f\"])}')\n",
        "\n",
        "## Pessoas acima da media de idade \n",
        "print(f'As pessoas que tem idade acima da média são : {\", \".join([mqm[\"nome\"] for mqm in cadastro if mqm[\"idade\"] > media])}')"
      ]
    },
    {
      "cell_type": "markdown",
      "metadata": {},
      "source": [
        "### **Desafio 095:** Aprimore o desafio 93 para que ele funcione com vários jogadores, incluindo um sistema de visualização de detalhes do aproveitamento de cada jogador."
      ]
    },
    {
      "cell_type": "code",
      "execution_count": null,
      "metadata": {},
      "outputs": [],
      "source": [
        "from random import randint\n",
        "from time import sleep\n",
        "\n",
        "\n",
        "estatistica_jogadores = list()\n",
        "dados_jogador = {'nome do jogador': str, 'qtd_jogos': int, 'qtd_gols': list() }\n",
        "\n",
        "maior_qtd_jogos = 0\n",
        "while True:\n",
        "    dados_jogador['qtd_gols'] = list() \n",
        "    dados_jogador['nome do jogador'] = str(input('Digite o nome do jogador: '))\n",
        "    dados_jogador['qtd_jogos'] = int(input(f'Quantos jogos fez {dados_jogador[\"nome do jogador\"]} ?'))\n",
        "    maior_qtd_jogos = dados_jogador['qtd_jogos'] if dados_jogador['qtd_jogos'] > maior_qtd_jogos else maior_qtd_jogos\n",
        "\n",
        "\n",
        "    for c  in range(0, dados_jogador['qtd_jogos']):\n",
        "        # gols = int(input(f'Quantidade de gols na partida {c}: '))\n",
        "        gols = randint(0,6)\n",
        "        dados_jogador['qtd_gols'].append(gols)\n",
        "    estatistica_jogadores.append(dados_jogador.copy())\n",
        "    \n",
        "    while True:\n",
        "        continuar = str(input('Deseja cadastrar novos jogadores ?[S/N]'))[0].lower().strip()\n",
        "        if continuar in 'sn':\n",
        "            break\n",
        "    if continuar == 'n':\n",
        "        break\n",
        "\n",
        "\n",
        "print(f'{\"cod\":<5} {\"nome\":<15} {\"gols\":<{maior_qtd_jogos*3}} {\"total de gols\":>15}')\n",
        "print(f'-'*((maior_qtd_jogos*3)+51))\n",
        "while True:\n",
        "    for c,e in enumerate(estatistica_jogadores):\n",
        "        print(f'{c:>3}   {e[\"nome do jogador\"]:<15} {str(e[\"qtd_gols\"]):<{maior_qtd_jogos*3}} {str(sum(e[\"qtd_gols\"])):>15}')\n",
        "    while True:\n",
        "        cod_jogador = int(input('Mostrar dados de qual jogador ?  (999 para parar)'))\n",
        "        if cod_jogador  == 999:\n",
        "            break\n",
        "        elif cod_jogador < len(estatistica_jogadores):\n",
        "            print(f'-- Levatamento do jogador {estatistica_jogadores[cod_jogador][\"nome do jogador\"]}')\n",
        "            for j,c in  enumerate(estatistica_jogadores[cod_jogador]['qtd_gols']):\n",
        "                print(f'\\t=> Na partida {j+1} , fez {c} gols')\n",
        "                sleep(1)\n",
        "            print(f'-- Fazendo um total de {sum(estatistica_jogadores[cod_jogador][\"qtd_gols\"])} gols')    \n",
        "    if cod_jogador == 999:\n",
        "        break\n",
        "print(f'-'*((maior_qtd_jogos*3)+51))\n",
        "print('VOLTE SEMPRE')"
      ]
    },
    {
      "cell_type": "markdown",
      "metadata": {},
      "source": [
        "# Modulo 04 - Funções em python"
      ]
    },
    {
      "cell_type": "markdown",
      "metadata": {},
      "source": [
        "## Aula 20 - Funções(Parte 1)"
      ]
    },
    {
      "cell_type": "code",
      "execution_count": null,
      "metadata": {},
      "outputs": [],
      "source": [
        "def lin(qtd_linhas = 30):\n",
        "    print('-'*qtd_linhas)\n",
        "\n",
        "lin()\n",
        "print(f' {\"curso em video\".upper():^30} ')\n",
        "lin()\n",
        "lin()\n",
        "print(f' {\"Aprenda python\".upper():^30} ')\n",
        "lin()\n",
        "lin()\n",
        "print(f' {\"william campos\".upper():^30} ')\n",
        "lin()"
      ]
    },
    {
      "cell_type": "code",
      "execution_count": null,
      "metadata": {},
      "outputs": [],
      "source": [
        "def titulo(txt):\n",
        "    print('-'*30)\n",
        "    print(txt)\n",
        "    print('-'*30)\n",
        "\n",
        "titulo('  CURSO EM VIDEO ')\n",
        "titulo('  PYTHON É MUITO BOM ')\n",
        "titulo('  OI  ')\n"
      ]
    },
    {
      "cell_type": "code",
      "execution_count": null,
      "metadata": {},
      "outputs": [],
      "source": [
        "def soma(a, b):\n",
        "    s = a + b\n",
        "    print(s)\n",
        "\n",
        "soma(4, 5)\n",
        "soma(8, 9)\n",
        "soma(2, 1)\n",
        "soma(4, 1)"
      ]
    },
    {
      "cell_type": "code",
      "execution_count": null,
      "metadata": {},
      "outputs": [],
      "source": [
        "def contador(* num):\n",
        "    tam = len(num)\n",
        "    print(f'Recebi os valores {num} e são ao todo {tam} numeros')\n",
        "    # for valor in num:\n",
        "    #     print(f'{valor} ',end = ' ')\n",
        "    # print('FIM!')\n",
        "\n",
        "\n",
        "contador(2, 1, 7)\n",
        "contador(8, 0)\n",
        "contador(4, 4, 7, 6, 2)"
      ]
    },
    {
      "cell_type": "code",
      "execution_count": null,
      "metadata": {},
      "outputs": [],
      "source": [
        "def dobra(lst):\n",
        "    pos = 0\n",
        "    while pos < len(lst):\n",
        "        lst[pos] *= 2\n",
        "        pos += 1\n",
        "\n",
        "def soma (* valores):\n",
        "    s = 0\n",
        "    for num in valores:\n",
        "        s+= num\n",
        "    print(f'Somando os valores {valores} temos {s}')\n",
        "\n",
        "valores = [6, 3, 9, 1, 0, 2]\n",
        "dobra(valores)\n",
        "soma(5, 2)\n",
        "soma(2, 9, 4)\n",
        "\n",
        "print(valores)"
      ]
    },
    {
      "cell_type": "markdown",
      "metadata": {},
      "source": [
        "### **Desafios da aula**\n",
        "\n",
        "1. **Desafios 096:** Faça um programa que tenha uma **função** chamada **área()**, que receba as dimensões de um terreno retangular(**largura** e **comprimento**) e mostre a **área do terreno**.\n",
        "2. **Desafios 097:** Faça um programa que tenha uma função chamada escreva(),que receba um texto qualquer como paramêtro e mostre uma mensagem com tamanho adaptável.  \n",
        "        ex.:  \n",
        "            escreva('Olá,Mundo!')  \n",
        "        saida:  \n",
        "            -----------  \n",
        "            olá, Mundo!  \n",
        "            -----------  \n",
        "3. **Desafios 098:** Faça um programa que tenha um **Função** chamado **Contador()**, que receba três **parâmetros**: **inicio**,**fim** e **passo** e realize a contagem\n",
        "\n",
        "    Seu programa tem que realizar **três contagens** através da função criada:  \n",
        "        a) De **1** até **10**, de **1** em **1**  \n",
        "        b) De **10** até **0** , de **2** em **2**  \n",
        "        c) uma contagem **personalizada**  \n",
        "4. **Desafios 099:** Faça um programa que tenha uma **função** chamada **maior()**, que receba vários **parâmetros** com valores inteiros.  \n",
        "Seu progama tem que analisar todos os valores e dizer qual delas é o **maior**\n",
        "5. **Desafios 100:** Faça um programa que tenha uma **lista** chamada **números** e duas **funções** chamada **sorteio()** e **somaPar()**.A primeira função vai **5 numeros** e vai colocá-los dentro da lista e a segunda  função vai mostrar a **soma** entre todos os valores **PARES** sorteados pela função anterior"
      ]
    },
    {
      "cell_type": "markdown",
      "metadata": {},
      "source": [
        "### **Desafios 096:** Faça um programa que tenha uma **função** chamada **área()**, que receba as dimensões de um terreno retangular(**largura** e **comprimento**) e mostre a **área do terreno**."
      ]
    },
    {
      "cell_type": "code",
      "execution_count": null,
      "metadata": {},
      "outputs": [],
      "source": [
        "def area(largura , comprimento):\n",
        "    print(f'A areá de um terreno de {largura} X {comprimento} é equivalente a {largura*comprimento}m²')\n",
        "\n",
        "\n",
        "print('Controle de Terrenos')\n",
        "print('-'*30)\n",
        "largura = float(input('LARGURA (m): '))\n",
        "comprimento = float(input('COMPRIMENTO (m): '))\n",
        "area(largura,comprimento)"
      ]
    },
    {
      "cell_type": "markdown",
      "metadata": {},
      "source": [
        "### **Desafios 097:** Faça um programa que tenha uma função chamada escreva(),que receba um texto qualquer como paramêtro e mostre uma mensagem com tamanho adaptável.  \n",
        "        ex.:  \n",
        "            escreva('Olá,Mundo!')  \n",
        "        saida:  \n",
        "            -----------  \n",
        "            olá, Mundo!  \n",
        "            -----------  "
      ]
    },
    {
      "cell_type": "code",
      "execution_count": null,
      "metadata": {},
      "outputs": [],
      "source": [
        "def escreva(msg):\n",
        "    linha = len(msg) +4\n",
        "    print('~'*(linha))\n",
        "    print(f'  {msg}')\n",
        "    print('~'*(linha))\n",
        "\n",
        "\n",
        "escreva('Oĺá mundo')\n",
        "escreva('VASCO DA GAMA')\n",
        "escreva('CRVG')"
      ]
    },
    {
      "cell_type": "markdown",
      "metadata": {},
      "source": [
        "3. **Desafios 098:** Faça um programa que tenha um **Função** chamado **Contador()**, que receba três **parâmetros**: **inicio**,**fim** e **passo** e realize a contagem\n",
        "\n",
        "    Seu programa tem que realizar **três contagens** através da função criada:  \n",
        "        a) De **1** até **10**, de **1** em **1**  \n",
        "        b) De **10** até **0** , de **2** em **2**  \n",
        "        c) uma contagem **personalizada**  "
      ]
    },
    {
      "cell_type": "code",
      "execution_count": null,
      "metadata": {},
      "outputs": [],
      "source": [
        "from time import sleep\n",
        "def contador(inicio, fim, passo):\n",
        "    if passo < 0:\n",
        "        passo*=-1\n",
        "    elif passo == 0:\n",
        "        passo = 1\n",
        "    print('-'*30)\n",
        "    print(f'Contagem de {inicio} até {fim} de {passo}')\n",
        "    sleep(2.5)\n",
        "    cont  = inicio\n",
        "    if inicio < fim and passo > 0 :\n",
        "        while cont <=fim:\n",
        "            print(cont , end=' ',flush=True)\n",
        "            cont+=passo\n",
        "            sleep(0.5)\n",
        "    else:\n",
        "        while cont>= fim:\n",
        "            print(cont, end= ' ',flush=True)\n",
        "            cont-=passo \n",
        "            sleep(0.5)\n",
        "    print('FIM')\n",
        "    \n",
        "\n",
        "contador(1,10,1)\n",
        "contador(10,0,2)\n",
        "print('Agora é sua vez de personalizar a contagem!')\n",
        "init = int(input('Inicio: '))\n",
        "fim = int(input('FIM: '))\n",
        "pas = int(input('PASSO: '))\n",
        "contador(init, fim , pas)\n"
      ]
    },
    {
      "cell_type": "markdown",
      "metadata": {},
      "source": [
        "4. **Desafios 099:** Faça um programa que tenha uma **função** chamada **maior()**, que receba vários **parâmetros** com valores inteiros.  \n",
        "Seu progama tem que analisar todos os valores e dizer qual delas é o **maior**"
      ]
    },
    {
      "cell_type": "code",
      "execution_count": null,
      "metadata": {},
      "outputs": [],
      "source": [
        "def maior(*num):\n",
        "    if len(num)!= 0:\n",
        "        print('-'*(len(num)*2 +33))\n",
        "        print(f'| Analisando valores passado... ' , end= '', flush=True)\n",
        "        for c in num:\n",
        "            sleep(0.3)\n",
        "            print(c, end= ' ',flush=True)\n",
        "        print(f'|')\n",
        "        print(f'O maior valor é {max(num)} !',flush=True)\n",
        "    else:\n",
        "        print('-'*(len(num)*2 +30))\n",
        "        print('Não foi passado nanhum valor !')\n",
        "\n",
        "\n",
        "maior(2, 9, 4, 5, 7, 1)\n",
        "maior(4, 7, 0)\n",
        "maior(1, 2)\n",
        "maior(6)\n",
        "maior()"
      ]
    },
    {
      "cell_type": "markdown",
      "metadata": {},
      "source": [
        "5. **Desafios 100:** Faça um programa que tenha uma **lista** chamada **números** e duas **funções** chamada **sorteio()** e **somaPar()**.A primeira função vai **5 numeros** e vai colocá-los dentro da lista e a segunda  função vai mostrar a **soma** entre todos os valores **PARES** sorteados pela função anterior"
      ]
    },
    {
      "cell_type": "code",
      "execution_count": null,
      "metadata": {},
      "outputs": [],
      "source": [
        "from random import randint\n",
        "from time import sleep\n",
        "def sorteio(lista):\n",
        "    print('Sorteando os valores ...',end= ' ', flush= True)\n",
        "    for c in range(0,5):\n",
        "        n = randint(1,100)\n",
        "        lista.append(n)\n",
        "        print(f'{n} ', end =' ', flush=True)\n",
        "        sleep(0.3)\n",
        "    \n",
        "def somapar(lista):\n",
        "    print(f'\\nA soma do pares é {sum(n for n in lista if n%2==0 )}',flush = True)\n",
        "\n",
        "numeros = list()\n",
        "sorteio(numeros)\n",
        "somapar(numeros)"
      ]
    },
    {
      "cell_type": "markdown",
      "metadata": {},
      "source": [
        "## Aula 21 - Funções(parte 2)"
      ]
    },
    {
      "cell_type": "code",
      "execution_count": null,
      "metadata": {},
      "outputs": [],
      "source": [
        "## Ajuda interativa\n",
        "help(input)\n",
        "print(input.__doc__)"
      ]
    },
    {
      "cell_type": "code",
      "execution_count": null,
      "metadata": {},
      "outputs": [],
      "source": [
        "## DocStrings\n",
        "\n",
        "def contador(i,f,p):\n",
        "    \"\"\"\n",
        "        -> Faz um contagem e mostra na tela\n",
        "        :param i:Inicio da contagem\n",
        "        :param f:Inicio da contagem\n",
        "        :param p:Inicio da contagem\n",
        "        :return: Sem retorno\n",
        "    \"\"\"\n",
        "    c = i \n",
        "    while c <= f:\n",
        "        print(f'{c}', end='..')\n",
        "        c+=p\n",
        "    print('Fim !')\n",
        "\n",
        "help(contador)\n",
        "contador(2,10, 2)\n",
        "contador(0,100, 10)"
      ]
    },
    {
      "cell_type": "code",
      "execution_count": null,
      "metadata": {},
      "outputs": [],
      "source": [
        "## Paramêtros opcionais\n",
        "def somar(a =0,b=0,c=0):\n",
        "    \"\"\"\n",
        "        -> Faz a soma de três valores e mostra o resultado na tela\n",
        "        :param a: O primeiro valor\n",
        "        :param b: O segundo valor\n",
        "        :param c: O terceiro valor\n",
        "    \"\"\"\n",
        "    s = a + b + c\n",
        "    print(f'A soma vale {s}')\n",
        "help(somar)\n",
        "somar(3,2,5)\n",
        "somar(3,2)\n",
        "somar()\n",
        "somar(b=4,c=2)\n",
        "somar(c=3,a=2)\n"
      ]
    },
    {
      "cell_type": "code",
      "execution_count": null,
      "metadata": {},
      "outputs": [],
      "source": [
        "#Escopo de variavel\n",
        "\n",
        "def teste():\n",
        "    #Escopo local\n",
        "    x = 8\n",
        "    print(f'Na função teste, n vale {n}')\n",
        "    print(f'Na função teste, x vale {x}')\n",
        "\n",
        "#programa principal\n",
        "#Escopo global\n",
        "n = 2\n",
        "print(f'No programa principal, n vale {n}')\n",
        "teste()\n",
        "print(f'Na função teste, x vale {x}')"
      ]
    },
    {
      "cell_type": "code",
      "execution_count": null,
      "metadata": {},
      "outputs": [],
      "source": [
        "def funcao():\n",
        "    n1 = 4\n",
        "    print(f'N1 local vale {n1}')\n",
        "n1 = 2\n",
        "funcao()\n",
        "print(f'N1 global vale {n1}')\n"
      ]
    },
    {
      "cell_type": "code",
      "execution_count": null,
      "metadata": {},
      "outputs": [],
      "source": [
        "def teste(b):\n",
        "    global a \n",
        "    a = 8 \n",
        "    b+=4 \n",
        "    c = 2 \n",
        "    print(f'A dentro vale {a}')\n",
        "    print(f'B dentro vale {b}')\n",
        "    print(f'C dentro vale {c}')\n",
        "\n",
        "a=5 \n",
        "teste(a)\n",
        "print(f'A fora vale {a}')"
      ]
    },
    {
      "cell_type": "code",
      "execution_count": null,
      "metadata": {},
      "outputs": [],
      "source": [
        "def somar(a = 0 , b = 0 , c = 0):\n",
        "    s = a + b + c \n",
        "    return s\n",
        "\n",
        "r1 = somar(3,2,5)\n",
        "r2 = somar(1,7)\n",
        "r3 = somar(4)\n",
        "print(f'Meus calculos deram {r1}, {r2}, e {r3}.')\n"
      ]
    },
    {
      "cell_type": "code",
      "execution_count": null,
      "metadata": {},
      "outputs": [],
      "source": [
        "def fatorial(num = 1):\n",
        "    f = 1\n",
        "    for c in range(num, 0 , -1 ):\n",
        "        f *= c \n",
        "    return f\n",
        "\n",
        "n = int(input('Digite um numero : '))\n",
        "print(f'o Fatorial de {n} é {fatorial(n)}')\n",
        "\n",
        "\n",
        "f1 = fatorial(5)\n",
        "f2 = fatorial(4)\n",
        "f3 = fatorial() \n",
        "\n",
        "print(f'Os resultados são {f1} , {f2} e {f3}')"
      ]
    },
    {
      "cell_type": "code",
      "execution_count": 14,
      "metadata": {},
      "outputs": [
        {
          "name": "stdout",
          "output_type": "stream",
          "text": [
            "É par\n"
          ]
        }
      ],
      "source": [
        "def par(num=0):\n",
        "    if num  % 2 == 0:\n",
        "        return True\n",
        "    else:\n",
        "        return False\n",
        "\n",
        "num = int(input('Digite um numero: '))\n",
        "if par(num):\n",
        "    print('É par')\n",
        "else: \n",
        "    print('Não é par! ')"
      ]
    },
    {
      "cell_type": "markdown",
      "metadata": {},
      "source": [
        "### **Desafios de aula**\n",
        "\n",
        "1. **Desafios 101:** Crie um programa que tenha uma função chamada voto() que vai receber como parâmetro o ano de nascimento de uma pessoa, retornando um valor literal indicando se uma pessoa tem voto NEGADO, OPCIONAL e OBRIGATÓRIO nas eleições.\n",
        "2. **Desafios 102:** Crie um programa que tenha uma função fatorial() que receba dois parâmetros: o primeiro que indique o número a calcular e outro chamado show, que será um valor lógico (opcional) indicando se será mostrado ou não na tela o processo de cálculo do fatorial.\n",
        "3. **Desafios 103:** Faça um programa que tenha uma função chamada ficha(), que receba dois parâmetros opcionais: o nome de um jogador e quantos gols ele marcou. O programa deverá ser capaz de mostrar a ficha do jogador, mesmo que algum dado não tenha sido informado corretamente.\n",
        "4. **Desafios 104:** Crie um programa que tenha a função leiaInt(), que vai funcionar de forma semelhante 'a função input() do Python, só que fazendo a validação para aceitar apenas um valor numérico.\n",
        "5. **Desafios 105:** Faça um programa que tenha uma função notas() que pode receber várias notas de alunos e vai retornar um dicionário com as seguintes informações:\n",
        "\n",
        "- Quantidade de notas\n",
        "- A maior nota\n",
        "- A menor nota\n",
        "- A média da turma\n",
        "- A situação (opcional)\n",
        "\n",
        "Adicione também as docstrings dessa função para consulta pelo desenvolvedor.\n",
        "6. **Desafios 106:** Faça um mini-sistema que utilize o Interactive Help do Python. O usuário vai digitar o comando e o manual vai aparecer. Quando o usuário digitar a palavra 'FIM', o programa se encerrará. Importante: use cores.\n"
      ]
    }
  ],
  "metadata": {
    "colab": {
      "include_colab_link": true,
      "provenance": []
    },
    "kernelspec": {
      "display_name": "Python 3",
      "language": "python",
      "name": "python3"
    },
    "language_info": {
      "codemirror_mode": {
        "name": "ipython",
        "version": 3
      },
      "file_extension": ".py",
      "mimetype": "text/x-python",
      "name": "python",
      "nbconvert_exporter": "python",
      "pygments_lexer": "ipython3",
      "version": "3.10.12"
    }
  },
  "nbformat": 4,
  "nbformat_minor": 0
}
