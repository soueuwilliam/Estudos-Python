{
  "cells": [
    {
      "cell_type": "markdown",
      "metadata": {
        "id": "view-in-github",
        "colab_type": "text"
      },
      "source": [
        "<a href=\"https://colab.research.google.com/github/soueuwilliam/Estudos-Python/blob/main/imersao_python_alura/Aula02.ipynb\" target=\"_parent\"><img src=\"https://colab.research.google.com/assets/colab-badge.svg\" alt=\"Open In Colab\"/></a>"
      ]
    },
    {
      "cell_type": "markdown",
      "metadata": {
        "id": "iiynjDJ60ydE"
      },
      "source": [
        "# AULA 02 - IMPORTAÇÃO"
      ]
    },
    {
      "cell_type": "code",
      "execution_count": 3,
      "metadata": {
        "vscode": {
          "languageId": "plaintext"
        },
        "id": "Quaj9o140ydI"
      },
      "outputs": [],
      "source": [
        "import pandas as pd"
      ]
    },
    {
      "cell_type": "code",
      "source": [
        "df_principal = pd.read_excel(\"/content/Imersão_Python_for_google_colab.xlsx\", sheet_name=\"Principal\") #Importa o arquivo que você dejesa\n",
        "df_principal.head(10) #Mostra um certa quantidade de linhas que você deseja usar"
      ],
      "metadata": {
        "id": "FEL5HyB43oom"
      },
      "execution_count": null,
      "outputs": []
    },
    {
      "cell_type": "code",
      "source": [
        "df_totais_acoes = pd.read_excel(\"/content/Imersão_Python_for_google_colab.xlsx\", sheet_name=\"Total_de_acoes\") #Importa o arquivo que você dejesa\n",
        "df_totais_acoes.head(10) #Mostra um certa quantidade de linhas que você deseja usar"
      ],
      "metadata": {
        "id": "7dTiogaB5XRM"
      },
      "execution_count": null,
      "outputs": []
    },
    {
      "cell_type": "code",
      "source": [
        "df_tickets = pd.read_excel(\"/content/Imersão_Python_for_google_colab.xlsx\", sheet_name=\"Ticker\") #Importa o arquivo que você dejesa\n",
        "df_tickets.head(10) #Mostra um certa quantidade de linhas que você deseja usar"
      ],
      "metadata": {
        "id": "34xZksvY5Zky"
      },
      "execution_count": null,
      "outputs": []
    },
    {
      "cell_type": "code",
      "source": [
        "df_chat_gpt = pd.read_excel(\"/content/Imersão_Python_for_google_colab.xlsx\", sheet_name=\"Chat_gpt\") #Importa o arquivo que você dejesa\n",
        "df_chat_gpt.head(10) #Mostra um certa quantidade de linhas que você deseja usar"
      ],
      "metadata": {
        "id": "Z3MQX4Tu5aZt"
      },
      "execution_count": null,
      "outputs": []
    }
  ],
  "metadata": {
    "language_info": {
      "name": "python"
    },
    "colab": {
      "provenance": [],
      "include_colab_link": true
    },
    "kernelspec": {
      "name": "python3",
      "display_name": "Python 3"
    }
  },
  "nbformat": 4,
  "nbformat_minor": 0
}