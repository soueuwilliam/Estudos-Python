{
  "cells": [
    {
      "cell_type": "markdown",
      "metadata": {
        "colab_type": "text",
        "id": "view-in-github"
      },
      "source": [
        "<a href=\"https://colab.research.google.com/github/soueuwilliam/Estudos-Python/blob/main/imersao_python_alura/Aula02.ipynb\" target=\"_parent\"><img src=\"https://colab.research.google.com/assets/colab-badge.svg\" alt=\"Open In Colab\"/></a>"
      ]
    },
    {
      "cell_type": "markdown",
      "metadata": {
        "id": "iiynjDJ60ydE"
      },
      "source": [
        "# AULA 02 - IMPORTAÇÃO"
      ]
    },
    {
      "cell_type": "code",
      "execution_count": null,
      "metadata": {
        "id": "Quaj9o140ydI"
      },
      "outputs": [],
      "source": [
        "import pandas as pd\n",
        "import plotly.express as px\n",
        "path_arquivo_colab = \"/home/willliam/Documentos/github/pessoal/Estudos-Python/imersao_python_alura/Imersão_Python_for_google_colab.xlsx\""
      ]
    },
    {
      "cell_type": "code",
      "execution_count": null,
      "metadata": {
        "colab": {
          "base_uri": "https://localhost:8080/",
          "height": 424
        },
        "id": "FEL5HyB43oom",
        "outputId": "9d93b6eb-4560-4308-fec1-497f95c1c35a"
      },
      "outputs": [],
      "source": [
        "df_principal = pd.read_excel(path_arquivo_colab, sheet_name=\"Principal\") #Importa o arquivo que você dejesa\n",
        "df_principal"
      ]
    },
    {
      "cell_type": "code",
      "execution_count": null,
      "metadata": {
        "colab": {
          "base_uri": "https://localhost:8080/",
          "height": 424
        },
        "id": "7dTiogaB5XRM",
        "outputId": "caaf3be1-2dce-4824-bc81-d8f430593d28"
      },
      "outputs": [],
      "source": [
        "df_totais_acoes = pd.read_excel(path_arquivo_colab, sheet_name=\"Total_de_acoes\") #Importa o arquivo que você dejesa\n",
        "df_totais_acoes"
      ]
    },
    {
      "cell_type": "code",
      "execution_count": null,
      "metadata": {
        "colab": {
          "base_uri": "https://localhost:8080/",
          "height": 424
        },
        "id": "34xZksvY5Zky",
        "outputId": "a11fa80a-9788-4683-92ab-ea4c625c0478"
      },
      "outputs": [],
      "source": [
        "df_tickets = pd.read_excel(path_arquivo_colab, sheet_name=\"Ticker\") #Importa o arquivo que você dejesa\n",
        "df_tickets"
      ]
    },
    {
      "cell_type": "code",
      "execution_count": null,
      "metadata": {
        "id": "Z3MQX4Tu5aZt"
      },
      "outputs": [],
      "source": [
        "df_chat_gpt = pd.read_excel(path_arquivo_colab, sheet_name=\"Chat_gpt\") #Importa o arquivo que você dejesa\n",
        "df_chat_gpt"
      ]
    },
    {
      "cell_type": "markdown",
      "metadata": {
        "id": "LbpDCQp3g8CT"
      },
      "source": [
        "# Aula 03 -Manipulação de Dados e Criação de Gráficos com bibliotecas Python"
      ]
    },
    {
      "cell_type": "code",
      "execution_count": null,
      "metadata": {
        "colab": {
          "base_uri": "https://localhost:8080/",
          "height": 424
        },
        "id": "OTfKywSub-m5",
        "outputId": "f2108473-0817-44e7-8ea2-4a81a433ab19"
      },
      "outputs": [],
      "source": [
        "df_principal = df_principal[['Ativo', 'Data', 'Último (R$)', 'Var. Dia (%)']].copy()\n",
        "df_principal"
      ]
    },
    {
      "cell_type": "code",
      "execution_count": null,
      "metadata": {
        "id": "uAjHcFtxftKZ"
      },
      "outputs": [],
      "source": [
        "df_principal = df_principal.rename(columns={'Último (R$)':'valor_final','Var. Dia (%)':'var_dia_pct'}).copy()\n",
        "df_principal"
      ]
    },
    {
      "cell_type": "code",
      "execution_count": null,
      "metadata": {
        "colab": {
          "base_uri": "https://localhost:8080/",
          "height": 424
        },
        "id": "5Zy7NPMaheta",
        "outputId": "2f38ce05-780f-4f97-a687-afa34c96b28d"
      },
      "outputs": [],
      "source": [
        "df_principal['Var_pct'] = df_principal['var_dia_pct']/100\n",
        "df_principal['valor_inicial'] = df_principal['valor_final']/(df_principal['Var_pct'] + 1)\n",
        "df_principal"
      ]
    },
    {
      "cell_type": "code",
      "execution_count": null,
      "metadata": {},
      "outputs": [],
      "source": [
        "df_principal = df_principal.merge(df_totais_acoes,left_on='Ativo',right_on='Código',how='left')\n",
        "df_principal"
      ]
    },
    {
      "cell_type": "code",
      "execution_count": null,
      "metadata": {},
      "outputs": [],
      "source": [
        "df_principal = df_principal.drop(columns=['Código'])\n",
        "df_principal "
      ]
    },
    {
      "cell_type": "code",
      "execution_count": null,
      "metadata": {},
      "outputs": [],
      "source": [
        "df_principal['variacao_rs'] = (df_principal['valor_final'] - df_principal['valor_inicial']) * df_principal['Qtde. Teórica']\n",
        "df_principal"
      ]
    },
    {
      "cell_type": "code",
      "execution_count": null,
      "metadata": {},
      "outputs": [],
      "source": [
        "pd.options.display.float_format = '{:.2f}'.format"
      ]
    },
    {
      "cell_type": "code",
      "execution_count": null,
      "metadata": {},
      "outputs": [],
      "source": [
        "df_principal"
      ]
    },
    {
      "cell_type": "code",
      "execution_count": null,
      "metadata": {},
      "outputs": [],
      "source": [
        "df_principal['Qtde. Teórica'] = df_principal['Qtde. Teórica'].astype(int)\n",
        "df_principal"
      ]
    },
    {
      "cell_type": "code",
      "execution_count": null,
      "metadata": {},
      "outputs": [],
      "source": [
        "df_principal = df_principal.rename(columns={'Qtde. Teórica':'qtd_teorica'}).copy()\n",
        "df_principal"
      ]
    },
    {
      "cell_type": "code",
      "execution_count": null,
      "metadata": {},
      "outputs": [],
      "source": [
        "df_principal['Resultado'] = df_principal['variacao_rs'].apply(lambda x: 'Subiu' if x > 0 else ('Desceu'  if x < 0 else 'Estavel'))\n",
        "df_principal"
      ]
    },
    {
      "cell_type": "code",
      "execution_count": null,
      "metadata": {},
      "outputs": [],
      "source": [
        "df_principal = df_principal.merge(df_tickets,left_on='Ativo',right_on='Ticker',how='left')\n",
        "df_principal = df_principal.drop(columns=['Ticker'])\n",
        "df_principal"
      ]
    },
    {
      "cell_type": "code",
      "execution_count": null,
      "metadata": {},
      "outputs": [],
      "source": [
        "df_principal = df_principal.merge(df_chat_gpt,left_on='Nome',right_on='Nome',how='left')\n",
        "df_principal = df_principal.drop(columns=['Nome'])\n",
        "df_principal"
      ]
    },
    {
      "cell_type": "code",
      "execution_count": null,
      "metadata": {},
      "outputs": [],
      "source": [
        "df_principal['cat_idade'] = df_principal['Idade(Anos)'].apply(lambda x: 'Mais de 100' if x > 100 else ('Menos de 50'  if x < 50 else 'Entre 50 e 100'))\n",
        "df_principal"
      ]
    },
    {
      "cell_type": "markdown",
      "metadata": {},
      "source": [
        "### Analise"
      ]
    },
    {
      "cell_type": "code",
      "execution_count": null,
      "metadata": {},
      "outputs": [],
      "source": [
        "#Calcular o maior valor\n",
        "maior = df_principal['variacao_rs'].max()\n",
        "\n",
        "#Calcular o menor valor\n",
        "menor = df_principal['variacao_rs'].min()\n",
        "\n",
        "#Calcular a media \n",
        "media = df_principal['variacao_rs'].mean()\n",
        "\n",
        "#Calculando a media de quem subiu \n",
        "media_subiu = df_principal[df_principal['Resultado'] == 'Subiu']['variacao_rs'].mean()\n",
        "\n",
        "#Calculando a media de quem desceu\n",
        "media_desceu = df_principal[df_principal['Resultado'] == 'Desceu']['variacao_rs'].mean()\n",
        "\n",
        "\n",
        "#imprimindo resultado\n",
        "print(f'Maior\\tR$ {maior:,.2f}')\n",
        "print(f'Menor\\tR$ {menor:,.2f}')\n",
        "print(f'Média\\tR$ {media:,.2f}')\n",
        "print(f'Média de quem subiu\\tR$ {media_subiu:,.2f}')\n",
        "print(f'Média de quem desceu\\tR$ {media_desceu:,.2f}')\n",
        "\n",
        "\n"
      ]
    },
    {
      "cell_type": "code",
      "execution_count": null,
      "metadata": {},
      "outputs": [],
      "source": [
        "df_principal_subiu = df_principal[df_principal['Resultado'] == 'Subiu']\n",
        "df_principal_subiu"
      ]
    },
    {
      "cell_type": "code",
      "execution_count": null,
      "metadata": {},
      "outputs": [],
      "source": [
        "df_analise_segmento = df_principal_subiu.groupby('Segmento')['variacao_rs'].sum().reset_index()\n",
        "df_analise_segmento"
      ]
    },
    {
      "cell_type": "code",
      "execution_count": null,
      "metadata": {},
      "outputs": [],
      "source": [
        "df_analise_saldo = df_principal.groupby('Resultado')['variacao_rs'].sum().reset_index()\n",
        "df_analise_saldo"
      ]
    },
    {
      "cell_type": "markdown",
      "metadata": {},
      "source": [
        "### Graficos"
      ]
    },
    {
      "cell_type": "code",
      "execution_count": null,
      "metadata": {},
      "outputs": [],
      "source": [
        "fig = px.bar(df_analise_saldo, x='Resultado', y='variacao_rs', text='variacao_rs', title='Variação reias por resultado')\n",
        "fig.show()"
      ]
    },
    {
      "cell_type": "markdown",
      "metadata": {},
      "source": [
        "### Desafio"
      ]
    },
    {
      "cell_type": "code",
      "execution_count": null,
      "metadata": {},
      "outputs": [],
      "source": [
        "df_analise_saldo_desafio = df_analise_saldo.copy()\n",
        "df_analise_saldo_desafio['Valor_formatado'] = df_analise_saldo_desafio['variacao_rs'].apply(lambda x: f'{x:,.0f}')\n",
        "fig_desafio_formatando_valores = px.bar(df_analise_saldo_desafio, x='Resultado', y='variacao_rs', text='Valor_formatado', title='Variação reais por resultado',custom_data=['Valor_formatado'])\n",
        "fig_desafio_formatando_valores.show()"
      ]
    },
    {
      "cell_type": "code",
      "execution_count": null,
      "metadata": {},
      "outputs": [],
      "source": [
        "df_analise_segmento_desafio = df_analise_segmento\n",
        "fig_desafio_grafico_pizza = px.pie(df_analise_segmento_desafio , names='Segmento' , values='variacao_rs')\n",
        "fig_desafio_grafico_pizza.show()"
      ]
    },
    {
      "cell_type": "code",
      "execution_count": null,
      "metadata": {},
      "outputs": [],
      "source": [
        "df_analise_idade = df_principal.groupby('cat_idade').agg({'variacao_rs':'sum','Ativo':'count'}).reset_index()\n",
        "df_analise_idade\n"
      ]
    },
    {
      "cell_type": "code",
      "execution_count": null,
      "metadata": {},
      "outputs": [],
      "source": [
        "fig_idade_desafio = px.bar(df_analise_idade,x='cat_idade', y = 'variacao_rs',text='variacao_rs')\n",
        "fig_idade_desafio.show()"
      ]
    }
  ],
  "metadata": {
    "colab": {
      "include_colab_link": true,
      "provenance": []
    },
    "kernelspec": {
      "display_name": "Python 3",
      "name": "python3"
    },
    "language_info": {
      "codemirror_mode": {
        "name": "ipython",
        "version": 3
      },
      "file_extension": ".py",
      "mimetype": "text/x-python",
      "name": "python",
      "nbconvert_exporter": "python",
      "pygments_lexer": "ipython3",
      "version": "3.10.12"
    }
  },
  "nbformat": 4,
  "nbformat_minor": 0
}
