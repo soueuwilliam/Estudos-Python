{
  "nbformat": 4,
  "nbformat_minor": 0,
  "metadata": {
    "colab": {
      "provenance": [],
      "authorship_tag": "ABX9TyNsbFZpzC9jnT7Y4cs5aTU5",
      "include_colab_link": true
    },
    "kernelspec": {
      "name": "python3",
      "display_name": "Python 3"
    },
    "language_info": {
      "name": "python"
    }
  },
  "cells": [
    {
      "cell_type": "markdown",
      "metadata": {
        "id": "view-in-github",
        "colab_type": "text"
      },
      "source": [
        "<a href=\"https://colab.research.google.com/github/soueuwilliam/Estudos-Python/blob/main/CV_Mundo01.ipynb\" target=\"_parent\"><img src=\"https://colab.research.google.com/assets/colab-badge.svg\" alt=\"Open In Colab\"/></a>"
      ]
    },
    {
      "cell_type": "markdown",
      "source": [
        "#**Modulo 02 - Primeiros passos com o python:**\n",
        "\n"
      ],
      "metadata": {
        "id": "3iQb6Wme541b"
      }
    },
    {
      "cell_type": "markdown",
      "source": [
        "##Aula 03 - instalando python3 e o ILDE"
      ],
      "metadata": {
        "id": "OiitN7pJypcR"
      }
    },
    {
      "cell_type": "code",
      "source": [
        "##Comanndo pra mostrar algo na tela\n",
        "print('Olá, Mundo');"
      ],
      "metadata": {
        "id": "NqXQzfNAyoj_"
      },
      "execution_count": null,
      "outputs": []
    },
    {
      "cell_type": "code",
      "source": [
        "##Para printar o zen do python\n",
        "import this"
      ],
      "metadata": {
        "id": "BNItSc3WzwNp"
      },
      "execution_count": null,
      "outputs": []
    },
    {
      "cell_type": "markdown",
      "source": [
        "##Aula 04 - Primeiros comandos em python3\n"
      ],
      "metadata": {
        "id": "_0WripGu4zT8"
      }
    },
    {
      "cell_type": "code",
      "source": [
        "### para imprimir alguma mensagem na tela\n",
        "print('olá mundo')\n",
        "### para imprimir problemas matemáticos pra o usuario\n",
        "print(7 + 4)\n",
        "### pra concatenar string\n",
        "print ('7' + '4')\n",
        "###para printar letrar e numeros\n",
        "print('olá', 5)\n"
      ],
      "metadata": {
        "id": "JLlirYLVZ3Iv"
      },
      "execution_count": null,
      "outputs": []
    },
    {
      "cell_type": "code",
      "source": [
        "### Praticar usando variaveis\n",
        "nome = 'william'\n",
        "idade = 24\n",
        "peso = 97.00\n",
        "print(nome ,idade, peso)"
      ],
      "metadata": {
        "colab": {
          "base_uri": "https://localhost:8080/"
        },
        "id": "O6gwcAKMzlvy",
        "outputId": "feb8c163-77bb-4e3e-912f-9755199c3965"
      },
      "execution_count": 1,
      "outputs": [
        {
          "output_type": "stream",
          "name": "stdout",
          "text": [
            "william 24 97.0\n"
          ]
        }
      ]
    },
    {
      "cell_type": "code",
      "source": [
        "### interagindo com um usuario\n",
        "\n",
        "nome = input('Qual é seu nome ? ')\n",
        "idade = input('Qual a sua idade ? ')\n",
        "peso = input('Qual o seu peso ? ')\n",
        "print(nome, idade , peso)"
      ],
      "metadata": {
        "id": "IK7wumK23CEM"
      },
      "execution_count": null,
      "outputs": []
    },
    {
      "cell_type": "markdown",
      "source": [
        "###Desafios da Aula\n",
        "1. **Desafio 01:** Crie um script python que escreva um olá mundo na tela\n",
        "2. **Desafio 02:** Crie um script python que leia o nome de uma pesoa e mostre uma mensagem de boas-vindas de acordo com o valor digitado\n",
        "3. **Desafio 03:** Crie um script python que leia dois numeros e tente mostar a soma entre eles"
      ],
      "metadata": {
        "id": "vJYr0Bcw7g7d"
      }
    },
    {
      "cell_type": "markdown",
      "source": [
        "##Desafio 01: Crie um script python que escreva um olá mundo na tela"
      ],
      "metadata": {
        "id": "NWMjq1fBCG6A"
      }
    },
    {
      "cell_type": "code",
      "source": [
        "print('Olá , Mundo!')"
      ],
      "metadata": {
        "id": "QvXmdGl4B-ao"
      },
      "execution_count": null,
      "outputs": []
    },
    {
      "cell_type": "markdown",
      "source": [
        "##Desafios 02: Crie um script python que leia o nome de uma pesoa e mostre uma mensagem de boas-vindas de acordo com o valor digitado\n",
        "\n",
        "\n",
        "\n"
      ],
      "metadata": {
        "id": "ZCiEvC3U9N8O"
      }
    },
    {
      "cell_type": "code",
      "source": [
        "nome = input('Qual seu nome ? ')\n",
        "print('Olá {} Seja bem vindo aqui !'.format(nome))"
      ],
      "metadata": {
        "colab": {
          "base_uri": "https://localhost:8080/"
        },
        "id": "XfkSq8mu9T2_",
        "outputId": "2278311f-96fb-4f65-bef1-cb3955cee870"
      },
      "execution_count": 11,
      "outputs": [
        {
          "output_type": "stream",
          "name": "stdout",
          "text": [
            "Qual seu nome ? william\n",
            "Olá william Seja bem vindo aqui !\n"
          ]
        }
      ]
    }
  ]
}