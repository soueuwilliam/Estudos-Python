{
  "nbformat": 4,
  "nbformat_minor": 0,
  "metadata": {
    "colab": {
      "provenance": [],
      "authorship_tag": "ABX9TyOQDn20lli8Kdi0eu7r/38N",
      "include_colab_link": true
    },
    "kernelspec": {
      "name": "python3",
      "display_name": "Python 3"
    },
    "language_info": {
      "name": "python"
    }
  },
  "cells": [
    {
      "cell_type": "markdown",
      "metadata": {
        "id": "view-in-github",
        "colab_type": "text"
      },
      "source": [
        "<a href=\"https://colab.research.google.com/github/soueuwilliam/Estudos-Python/blob/main/CV_Mundo01.ipynb\" target=\"_parent\"><img src=\"https://colab.research.google.com/assets/colab-badge.svg\" alt=\"Open In Colab\"/></a>"
      ]
    },
    {
      "cell_type": "markdown",
      "source": [
        "AUla 03 - Instalando o python e o ILDE"
      ],
      "metadata": {
        "id": "OiitN7pJypcR"
      }
    },
    {
      "cell_type": "code",
      "source": [
        "##Comanndo pra mostrar algo na tela\n",
        "print('Olá, Mundo');"
      ],
      "metadata": {
        "id": "NqXQzfNAyoj_"
      },
      "execution_count": null,
      "outputs": []
    },
    {
      "cell_type": "code",
      "source": [
        "##Para printar o zen do python\n",
        "import this"
      ],
      "metadata": {
        "id": "BNItSc3WzwNp"
      },
      "execution_count": null,
      "outputs": []
    },
    {
      "cell_type": "markdown",
      "source": [
        "Aula 04 - Primeiros comandos em python3"
      ],
      "metadata": {
        "id": "_0WripGu4zT8"
      }
    },
    {
      "cell_type": "code",
      "source": [
        "### para imprimir alguma mensagem na tela\n",
        "print('olá mundo')\n",
        "### para imprimir problemas matemáticos pra o usuario\n",
        "print(7 + 4)\n",
        "### pra concatenar string\n",
        "print ('7' + '4')\n",
        "###para printar letrar e numeros\n",
        "print('olá', 5)\n"
      ],
      "metadata": {
        "id": "JLlirYLVZ3Iv"
      },
      "execution_count": null,
      "outputs": []
    },
    {
      "cell_type": "code",
      "source": [
        "### Praticar usando variaveis\n",
        "nome = 'william'\n",
        "idade = 24\n",
        "peso = 97.00\n",
        "print(nome ,idade, peso)"
      ],
      "metadata": {
        "colab": {
          "base_uri": "https://localhost:8080/"
        },
        "id": "O6gwcAKMzlvy",
        "outputId": "feb8c163-77bb-4e3e-912f-9755199c3965"
      },
      "execution_count": 1,
      "outputs": [
        {
          "output_type": "stream",
          "name": "stdout",
          "text": [
            "william 24 97.0\n"
          ]
        }
      ]
    }
  ]
}