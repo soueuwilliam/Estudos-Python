{
 "cells": [
  {
   "cell_type": "markdown",
   "metadata": {},
   "source": [
    "# Tratamento de dados 0"
   ]
  },
  {
   "cell_type": "markdown",
   "metadata": {},
   "source": [
    "# Aula 1 - Python? Que Python?"
   ]
  },
  {
   "cell_type": "markdown",
   "metadata": {},
   "source": [
    "# 1 - Apresentação do projeto"
   ]
  },
  {
   "cell_type": "markdown",
   "metadata": {},
   "source": [
    "# 2 - O que é python?"
   ]
  },
  {
   "cell_type": "markdown",
   "metadata": {},
   "source": [
    "Python é uma linguagem de programação. Linguagem de programação é meio que os humanos usam para interagir com os computadores. Linguagem de programação é um conjunto de comandos/instruções.\n",
    "Essas linguagens podem ser de alto ou baixo nível e o que classifica elas é a aproximidade com a linguagem de máquina. A linguagem que o computador entende é composta por apenas 0s e 1s, conhecida como linguagem de máquina e sistema binário, pois só existem 2 valores possíveis.  \n",
    "\n",
    "O python é uma liguagem de alto nível que ajuda tanto os pesquisadores quanto cientistas de dados a resolver problemas complexos da academia e da indústria.\n",
    "\n",
    "Como vimos no módulo passado, um projeto de ciência de dados contém diversas etapas, desde a extração e coleta de dados até a produtização/monitoramento da solução, e o python é tão versátil que podemos utilizá-lo para qualquer etapa do projeto e por isso que é uma das linguagens de programação mais utilizada para ciência de dados. \n",
    "\n",
    "Além disso, existem diversos códigos prontos, que são os módulos/pacotes/bibliotecas, desenvolvidos por outras pessoas que podemos facilmente importar e utilizar nos nossos projetos. \n",
    "\n",
    "Para machine learning não é diferente. Existem diversos algoritmos já implementados que para utilizá-lo basta importar e já está disponível para utilização. Vamos falar sobre essas bibliotecas mais pra frente.\n",
    "\n",
    "Além de tudo isso, o Python é conhecido pela sua simplicidade tornando-o uma linguagem mais fácil de aprender, e é também conhecido pela beleza da sua sintaxe.\n",
    "\n",
    "Espero que vocês se apaixonem por essa linguagem."
   ]
  },
  {
   "cell_type": "markdown",
   "metadata": {},
   "source": [
    "Gerações de linguagens de programação:\n",
    "\n",
    "![generalation_language](generalation_language.png)\n",
    "\n",
    "https://datacadamia.com/code/lang/generation"
   ]
  },
  {
   "cell_type": "markdown",
   "metadata": {},
   "source": [
    "# 3.0 - Como rodar um código python\n"
   ]
  },
  {
   "cell_type": "markdown",
   "metadata": {},
   "source": [
    "## 3.1 - Jupyter notebook\n"
   ]
  },
  {
   "cell_type": "code",
   "execution_count": 105,
   "metadata": {
    "ExecuteTime": {
     "end_time": "2021-05-02T18:17:35.667231Z",
     "start_time": "2021-05-02T18:17:35.661241Z"
    }
   },
   "outputs": [
    {
     "data": {
      "text/plain": [
       "2"
      ]
     },
     "execution_count": 105,
     "metadata": {},
     "output_type": "execute_result"
    }
   ],
   "source": [
    "1+1"
   ]
  },
  {
   "cell_type": "code",
   "execution_count": 106,
   "metadata": {
    "ExecuteTime": {
     "end_time": "2021-05-04T10:31:56.907975Z",
     "start_time": "2021-05-04T10:31:56.898929Z"
    }
   },
   "outputs": [
    {
     "data": {
      "text/plain": [
       "45"
      ]
     },
     "execution_count": 106,
     "metadata": {},
     "output_type": "execute_result"
    }
   ],
   "source": [
    "15*3"
   ]
  },
  {
   "cell_type": "code",
   "execution_count": 107,
   "metadata": {
    "ExecuteTime": {
     "end_time": "2021-05-04T10:32:01.428884Z",
     "start_time": "2021-05-04T10:32:01.420882Z"
    }
   },
   "outputs": [],
   "source": [
    "x = 15"
   ]
  },
  {
   "cell_type": "code",
   "execution_count": 108,
   "metadata": {
    "ExecuteTime": {
     "end_time": "2021-05-04T10:32:05.410912Z",
     "start_time": "2021-05-04T10:32:05.396303Z"
    }
   },
   "outputs": [
    {
     "data": {
      "text/plain": [
       "45"
      ]
     },
     "execution_count": 108,
     "metadata": {},
     "output_type": "execute_result"
    }
   ],
   "source": [
    "x*3"
   ]
  },
  {
   "cell_type": "markdown",
   "metadata": {},
   "source": [
    "## 3.2 - Interpretador\n",
    "\n"
   ]
  },
  {
   "cell_type": "markdown",
   "metadata": {},
   "source": [
    "Abrir o cmd.exe do anaconda navigator"
   ]
  },
  {
   "cell_type": "markdown",
   "metadata": {},
   "source": [
    "# 4.0 - Calculadora"
   ]
  },
  {
   "cell_type": "markdown",
   "metadata": {},
   "source": [
    "O python pode ser usado como uma calculadora para realizar operações matématicas"
   ]
  },
  {
   "cell_type": "code",
   "execution_count": 109,
   "metadata": {
    "ExecuteTime": {
     "end_time": "2021-05-01T21:29:49.600999Z",
     "start_time": "2021-05-01T21:29:49.584476Z"
    }
   },
   "outputs": [
    {
     "data": {
      "text/plain": [
       "2"
      ]
     },
     "execution_count": 109,
     "metadata": {},
     "output_type": "execute_result"
    }
   ],
   "source": [
    "1+1"
   ]
  },
  {
   "cell_type": "code",
   "execution_count": 110,
   "metadata": {
    "ExecuteTime": {
     "end_time": "2021-05-01T21:30:02.607770Z",
     "start_time": "2021-05-01T21:30:02.590801Z"
    }
   },
   "outputs": [
    {
     "data": {
      "text/plain": [
       "6"
      ]
     },
     "execution_count": 110,
     "metadata": {},
     "output_type": "execute_result"
    }
   ],
   "source": [
    "3*2"
   ]
  },
  {
   "cell_type": "code",
   "execution_count": 111,
   "metadata": {
    "ExecuteTime": {
     "end_time": "2021-05-01T21:30:37.063895Z",
     "start_time": "2021-05-01T21:30:37.049388Z"
    }
   },
   "outputs": [
    {
     "data": {
      "text/plain": [
       "7"
      ]
     },
     "execution_count": 111,
     "metadata": {},
     "output_type": "execute_result"
    }
   ],
   "source": [
    "3*2+1"
   ]
  },
  {
   "cell_type": "code",
   "execution_count": 112,
   "metadata": {
    "ExecuteTime": {
     "end_time": "2021-05-01T21:30:47.600601Z",
     "start_time": "2021-05-01T21:30:47.588414Z"
    }
   },
   "outputs": [
    {
     "data": {
      "text/plain": [
       "9"
      ]
     },
     "execution_count": 112,
     "metadata": {},
     "output_type": "execute_result"
    }
   ],
   "source": [
    "3*(2+1)"
   ]
  },
  {
   "cell_type": "code",
   "execution_count": 113,
   "metadata": {
    "ExecuteTime": {
     "end_time": "2021-05-01T21:47:36.305881Z",
     "start_time": "2021-05-01T21:47:36.294336Z"
    }
   },
   "outputs": [
    {
     "data": {
      "text/plain": [
       "9"
      ]
     },
     "execution_count": 113,
     "metadata": {},
     "output_type": "execute_result"
    }
   ],
   "source": [
    "3*3"
   ]
  },
  {
   "cell_type": "code",
   "execution_count": 114,
   "metadata": {
    "ExecuteTime": {
     "end_time": "2021-05-01T21:47:47.749802Z",
     "start_time": "2021-05-01T21:47:47.737631Z"
    }
   },
   "outputs": [
    {
     "data": {
      "text/plain": [
       "9"
      ]
     },
     "execution_count": 114,
     "metadata": {},
     "output_type": "execute_result"
    }
   ],
   "source": [
    "3**2"
   ]
  },
  {
   "cell_type": "code",
   "execution_count": 115,
   "metadata": {
    "ExecuteTime": {
     "end_time": "2021-05-01T21:46:02.037198Z",
     "start_time": "2021-05-01T21:46:02.027525Z"
    }
   },
   "outputs": [
    {
     "data": {
      "text/plain": [
       "3.0"
      ]
     },
     "execution_count": 115,
     "metadata": {},
     "output_type": "execute_result"
    }
   ],
   "source": [
    "9/3"
   ]
  },
  {
   "cell_type": "code",
   "execution_count": 116,
   "metadata": {
    "ExecuteTime": {
     "end_time": "2021-05-01T21:46:17.177490Z",
     "start_time": "2021-05-01T21:46:17.161359Z"
    }
   },
   "outputs": [
    {
     "data": {
      "text/plain": [
       "int"
      ]
     },
     "execution_count": 116,
     "metadata": {},
     "output_type": "execute_result"
    }
   ],
   "source": [
    "type(9)"
   ]
  },
  {
   "cell_type": "code",
   "execution_count": 117,
   "metadata": {
    "ExecuteTime": {
     "end_time": "2021-05-01T21:46:30.898980Z",
     "start_time": "2021-05-01T21:46:30.884565Z"
    }
   },
   "outputs": [
    {
     "data": {
      "text/plain": [
       "float"
      ]
     },
     "execution_count": 117,
     "metadata": {},
     "output_type": "execute_result"
    }
   ],
   "source": [
    "type(3.0)"
   ]
  },
  {
   "cell_type": "markdown",
   "metadata": {
    "ExecuteTime": {
     "end_time": "2021-05-01T21:35:22.168826Z",
     "start_time": "2021-05-01T21:35:22.151636Z"
    }
   },
   "source": [
    "__Tabela resumo contendo as operações mencionadas até agora__\n",
    "\n",
    "\n",
    "| Operação      | Operador   | Exemplos | Resultado|\n",
    "|---------------|------------|----------|----------|\n",
    "| Soma          |``+``       | ``1+1``  | ``2``    |\n",
    "| Subtração     |``-``       | ``3-1``  | ``2``    |\n",
    "| Multiplicação |``*``       | ``2*1``  | ``2``    |\n",
    "| Divisão       |``/``       | ``4/2``  | ``2``    |\n",
    "| Potenciação   |``**``      | ``2**2`` | ``4``    |\n",
    "\n",
    "\n"
   ]
  },
  {
   "cell_type": "markdown",
   "metadata": {},
   "source": [
    "## 5.0 - Ordem de execução\n",
    "\n",
    "A ordem de execução é a seguinte: primeiro resolve-se operações dentro de parêntesis, em seguida esta ordem:  \\*\\*, \\*, / , // , %, + e - . Parêntesis podem ser utilizados para manter a legibilidade do código, no entanto, não se aconselha terem-se linhas de código muito extensas.\n",
    "\n",
    "Alguns exemplos:"
   ]
  },
  {
   "cell_type": "code",
   "execution_count": 118,
   "metadata": {},
   "outputs": [
    {
     "data": {
      "text/plain": [
       "1729"
      ]
     },
     "execution_count": 118,
     "metadata": {},
     "output_type": "execute_result"
    }
   ],
   "source": [
    "10 ** 3 + 9 ** 3"
   ]
  },
  {
   "cell_type": "code",
   "execution_count": 119,
   "metadata": {
    "ExecuteTime": {
     "end_time": "2021-05-04T10:35:59.719294Z",
     "start_time": "2021-05-04T10:35:59.712299Z"
    }
   },
   "outputs": [
    {
     "data": {
      "text/plain": [
       "1000"
      ]
     },
     "execution_count": 119,
     "metadata": {},
     "output_type": "execute_result"
    }
   ],
   "source": [
    "10 ** 3"
   ]
  },
  {
   "cell_type": "code",
   "execution_count": 120,
   "metadata": {
    "ExecuteTime": {
     "end_time": "2021-05-04T10:36:05.722737Z",
     "start_time": "2021-05-04T10:36:05.716739Z"
    }
   },
   "outputs": [
    {
     "data": {
      "text/plain": [
       "729"
      ]
     },
     "execution_count": 120,
     "metadata": {},
     "output_type": "execute_result"
    }
   ],
   "source": [
    "9 ** 3"
   ]
  },
  {
   "cell_type": "code",
   "execution_count": 121,
   "metadata": {
    "ExecuteTime": {
     "end_time": "2021-05-04T10:36:11.711156Z",
     "start_time": "2021-05-04T10:36:11.704183Z"
    }
   },
   "outputs": [
    {
     "data": {
      "text/plain": [
       "1729"
      ]
     },
     "execution_count": 121,
     "metadata": {},
     "output_type": "execute_result"
    }
   ],
   "source": [
    "1000 + 729"
   ]
  },
  {
   "cell_type": "markdown",
   "metadata": {},
   "source": [
    "Neste exemplo de cima se resolvem primeiro as potencias (10 ** 3) e (9 ** 2) e em seguida a soma: 1000 + 729"
   ]
  },
  {
   "cell_type": "code",
   "execution_count": 122,
   "metadata": {
    "ExecuteTime": {
     "end_time": "2021-05-02T00:49:38.497074Z",
     "start_time": "2021-05-02T00:49:38.491041Z"
    }
   },
   "outputs": [
    {
     "data": {
      "text/plain": [
       "12"
      ]
     },
     "execution_count": 122,
     "metadata": {},
     "output_type": "execute_result"
    }
   ],
   "source": [
    "3 + 2 * 2 ** 2 + 1"
   ]
  },
  {
   "cell_type": "markdown",
   "metadata": {},
   "source": [
    "é bem diferente desse:"
   ]
  },
  {
   "cell_type": "code",
   "execution_count": 123,
   "metadata": {},
   "outputs": [
    {
     "data": {
      "text/plain": [
       "21"
      ]
     },
     "execution_count": 123,
     "metadata": {},
     "output_type": "execute_result"
    }
   ],
   "source": [
    "(3 + 2) * 2 ** 2 + 1"
   ]
  },
  {
   "cell_type": "markdown",
   "metadata": {},
   "source": [
    "Se quisermos resolver a conta da esquerda para a direita precisaremos de parêntesis ou alterar a ordem das operações."
   ]
  },
  {
   "cell_type": "code",
   "execution_count": 124,
   "metadata": {},
   "outputs": [
    {
     "data": {
      "text/plain": [
       "101"
      ]
     },
     "execution_count": 124,
     "metadata": {},
     "output_type": "execute_result"
    }
   ],
   "source": [
    "((3 + 2) * 2) ** 2 + 1"
   ]
  },
  {
   "cell_type": "code",
   "execution_count": 125,
   "metadata": {},
   "outputs": [
    {
     "data": {
      "text/plain": [
       "12"
      ]
     },
     "execution_count": 125,
     "metadata": {},
     "output_type": "execute_result"
    }
   ],
   "source": [
    "2 ** 2 * 2 + 3 + 1"
   ]
  },
  {
   "cell_type": "markdown",
   "metadata": {},
   "source": [
    "Nessa próxima expressão, resolve-se primeiro a conta dos parêntesis, depois a potência, depois a multiplicação, e por último a subtração.\n",
    "\n",
    "Expressão: 9 * (1 + 2) ** 2 - 1\n",
    "\n",
    "- 9 * <span style=\"color:red\">(1 + 2)</span> ** 2 - 1\n",
    "- 9 * <span style=\"color:red\">3 ** 2</span> - 1\n",
    "- <span style=\"color:red\">9 * 9</span> - 1\n",
    "- <span style=\"color:red\">81 - 1</span>\n",
    "- <span style=\"color:red\">80</span>"
   ]
  },
  {
   "cell_type": "code",
   "execution_count": 126,
   "metadata": {
    "ExecuteTime": {
     "end_time": "2021-05-04T10:39:25.623304Z",
     "start_time": "2021-05-04T10:39:25.613299Z"
    }
   },
   "outputs": [
    {
     "data": {
      "text/plain": [
       "80"
      ]
     },
     "execution_count": 126,
     "metadata": {},
     "output_type": "execute_result"
    }
   ],
   "source": [
    "9*(1+2)**2-1"
   ]
  },
  {
   "cell_type": "markdown",
   "metadata": {},
   "source": [
    "## 6.0 - Operadores de Atribuição\n",
    "No Python existem três tipos de operadores de atribuição numérica que visam simplificar a leitura do código.\n"
   ]
  },
  {
   "cell_type": "markdown",
   "metadata": {},
   "source": [
    "\n",
    "| Operador       | Exemplo         | Exemplo         |\n",
    "| :------------- | :----------:    | :----------:    |\n",
    "| =              | a = 1           | a = 1           |\n",
    "| +=             | b += 2          | b = b+1         |\n",
    "| -=             | c -= 3          | c = c - 3       |"
   ]
  },
  {
   "cell_type": "code",
   "execution_count": 127,
   "metadata": {},
   "outputs": [],
   "source": [
    "x= 10"
   ]
  },
  {
   "cell_type": "markdown",
   "metadata": {},
   "source": [
    "### 6.1 - Atribuição múltipla\n",
    "\n",
    "Se pode também atribuir valor a diversas variáveis em uma única linha como no exemplo abaixo:\n",
    "\n",
    "```\n",
    "a, b, c = 1, 42, 1729\n",
    "```\n",
    "\n",
    "é equivalente a:\n",
    "```\n",
    "a = 1\n",
    "b = 42\n",
    "c = 1729\n",
    "```"
   ]
  },
  {
   "cell_type": "code",
   "execution_count": 128,
   "metadata": {},
   "outputs": [],
   "source": [
    "a, b, c = 1, 42, 1729"
   ]
  },
  {
   "cell_type": "code",
   "execution_count": 129,
   "metadata": {},
   "outputs": [],
   "source": [
    "a = 1 \n",
    "b = 42\n",
    "c = 1729"
   ]
  },
  {
   "cell_type": "markdown",
   "metadata": {},
   "source": [
    "# Aula 2 - Tipos de dados"
   ]
  },
  {
   "cell_type": "markdown",
   "metadata": {},
   "source": [
    "## 1.0 - Inteiros ``int``\n",
    "Qualquer número tanto positivo quanto negativo sem casa decimal é do tipo inteiro."
   ]
  },
  {
   "cell_type": "code",
   "execution_count": 196,
   "metadata": {
    "ExecuteTime": {
     "end_time": "2021-05-01T21:50:51.355669Z",
     "start_time": "2021-05-01T21:50:51.344769Z"
    }
   },
   "outputs": [
    {
     "data": {
      "text/plain": [
       "int"
      ]
     },
     "execution_count": 196,
     "metadata": {},
     "output_type": "execute_result"
    }
   ],
   "source": [
    "type(10)"
   ]
  },
  {
   "cell_type": "code",
   "execution_count": 197,
   "metadata": {
    "ExecuteTime": {
     "end_time": "2021-05-01T21:50:57.597179Z",
     "start_time": "2021-05-01T21:50:57.583055Z"
    }
   },
   "outputs": [
    {
     "data": {
      "text/plain": [
       "int"
      ]
     },
     "execution_count": 197,
     "metadata": {},
     "output_type": "execute_result"
    }
   ],
   "source": [
    "type(11231232132131231)"
   ]
  },
  {
   "cell_type": "code",
   "execution_count": 198,
   "metadata": {
    "ExecuteTime": {
     "end_time": "2021-05-05T08:44:56.806100Z",
     "start_time": "2021-05-05T08:44:56.747523Z"
    }
   },
   "outputs": [
    {
     "data": {
      "text/plain": [
       "int"
      ]
     },
     "execution_count": 198,
     "metadata": {},
     "output_type": "execute_result"
    }
   ],
   "source": [
    "type(111111111111111111111111111111111111111111111111111111111111111111111111111111111)"
   ]
  },
  {
   "cell_type": "code",
   "execution_count": 199,
   "metadata": {
    "ExecuteTime": {
     "end_time": "2021-05-01T21:51:56.337748Z",
     "start_time": "2021-05-01T21:51:56.322123Z"
    },
    "scrolled": false
   },
   "outputs": [
    {
     "data": {
      "text/plain": [
       "int"
      ]
     },
     "execution_count": 199,
     "metadata": {},
     "output_type": "execute_result"
    }
   ],
   "source": [
    "x = 1\n",
    "type(x)"
   ]
  },
  {
   "cell_type": "code",
   "execution_count": 200,
   "metadata": {
    "ExecuteTime": {
     "end_time": "2021-05-01T21:51:56.460625Z",
     "start_time": "2021-05-01T21:51:56.453513Z"
    }
   },
   "outputs": [
    {
     "data": {
      "text/plain": [
       "10"
      ]
     },
     "execution_count": 200,
     "metadata": {},
     "output_type": "execute_result"
    }
   ],
   "source": [
    "x*10"
   ]
  },
  {
   "cell_type": "code",
   "execution_count": 201,
   "metadata": {
    "ExecuteTime": {
     "end_time": "2021-05-01T21:52:21.943529Z",
     "start_time": "2021-05-01T21:52:21.937055Z"
    }
   },
   "outputs": [],
   "source": [
    "y = x*10"
   ]
  },
  {
   "cell_type": "code",
   "execution_count": 202,
   "metadata": {
    "ExecuteTime": {
     "end_time": "2021-05-01T21:52:25.195089Z",
     "start_time": "2021-05-01T21:52:25.180442Z"
    }
   },
   "outputs": [
    {
     "data": {
      "text/plain": [
       "int"
      ]
     },
     "execution_count": 202,
     "metadata": {},
     "output_type": "execute_result"
    }
   ],
   "source": [
    "type(y)"
   ]
  },
  {
   "cell_type": "markdown",
   "metadata": {},
   "source": [
    "## 2.0 - Ponto flutuante ``float``\n",
    "O número que possui alguma casa decimal é float."
   ]
  },
  {
   "cell_type": "code",
   "execution_count": 203,
   "metadata": {
    "ExecuteTime": {
     "end_time": "2021-05-02T00:15:59.581826Z",
     "start_time": "2021-05-02T00:15:59.574821Z"
    }
   },
   "outputs": [
    {
     "data": {
      "text/plain": [
       "float"
      ]
     },
     "execution_count": 203,
     "metadata": {},
     "output_type": "execute_result"
    }
   ],
   "source": [
    "type(3.14)"
   ]
  },
  {
   "cell_type": "code",
   "execution_count": 204,
   "metadata": {
    "ExecuteTime": {
     "end_time": "2021-05-02T00:16:20.611920Z",
     "start_time": "2021-05-02T00:16:20.603925Z"
    }
   },
   "outputs": [
    {
     "data": {
      "text/plain": [
       "5.0"
      ]
     },
     "execution_count": 204,
     "metadata": {},
     "output_type": "execute_result"
    }
   ],
   "source": [
    "2*2.5"
   ]
  },
  {
   "cell_type": "markdown",
   "metadata": {},
   "source": [
    "A multiplicação que contém pelo menos 1 float gera um float como resultado, mesmo se o resultado for um número inteiro"
   ]
  },
  {
   "cell_type": "code",
   "execution_count": 205,
   "metadata": {
    "ExecuteTime": {
     "end_time": "2021-05-02T00:19:00.668599Z",
     "start_time": "2021-05-02T00:19:00.661634Z"
    }
   },
   "outputs": [
    {
     "data": {
      "text/plain": [
       "float"
      ]
     },
     "execution_count": 205,
     "metadata": {},
     "output_type": "execute_result"
    }
   ],
   "source": [
    "type(2*2.5)"
   ]
  },
  {
   "cell_type": "markdown",
   "metadata": {},
   "source": [
    "A operação de divisão sempre gera um float como resultado, mesmo sendo entre dois números inteiros"
   ]
  },
  {
   "cell_type": "code",
   "execution_count": 206,
   "metadata": {
    "ExecuteTime": {
     "end_time": "2021-05-02T00:16:57.500930Z",
     "start_time": "2021-05-02T00:16:57.495926Z"
    }
   },
   "outputs": [
    {
     "data": {
      "text/plain": [
       "int"
      ]
     },
     "execution_count": 206,
     "metadata": {},
     "output_type": "execute_result"
    }
   ],
   "source": [
    "type(2)"
   ]
  },
  {
   "cell_type": "code",
   "execution_count": 207,
   "metadata": {
    "ExecuteTime": {
     "end_time": "2021-05-02T00:17:00.559608Z",
     "start_time": "2021-05-02T00:17:00.553613Z"
    }
   },
   "outputs": [
    {
     "data": {
      "text/plain": [
       "int"
      ]
     },
     "execution_count": 207,
     "metadata": {},
     "output_type": "execute_result"
    }
   ],
   "source": [
    "type(1)"
   ]
  },
  {
   "cell_type": "code",
   "execution_count": 208,
   "metadata": {
    "ExecuteTime": {
     "end_time": "2021-05-02T00:17:06.460555Z",
     "start_time": "2021-05-02T00:17:06.452561Z"
    }
   },
   "outputs": [
    {
     "data": {
      "text/plain": [
       "float"
      ]
     },
     "execution_count": 208,
     "metadata": {},
     "output_type": "execute_result"
    }
   ],
   "source": [
    "type(2/1)"
   ]
  },
  {
   "cell_type": "markdown",
   "metadata": {},
   "source": [
    "Existe uma função dentro do python que transforma um número inteiro em float"
   ]
  },
  {
   "cell_type": "code",
   "execution_count": 209,
   "metadata": {},
   "outputs": [
    {
     "data": {
      "text/plain": [
       "1.0"
      ]
     },
     "execution_count": 209,
     "metadata": {},
     "output_type": "execute_result"
    }
   ],
   "source": [
    "float(1)"
   ]
  },
  {
   "cell_type": "markdown",
   "metadata": {},
   "source": [
    "## 3.0 - Cadeia de caractere (Texto) ``str``\n"
   ]
  },
  {
   "cell_type": "markdown",
   "metadata": {},
   "source": [
    "Dados tipo ``str`` são cadeias de caracteres, como \"batatinha\", \"1729\" e \"Rua Saturnino de Brito, 74\". Observe que mesmo o \"1729\" não é um número, e sim uma cadeia de cacteres (ou str), portanto não é passível de operações matemáticas a menos que seja convertido pra int ou float.\n",
    "\n",
    "Variáveis com dados tipo str podem ser criadas diretamente utilizando-se o operador de atribuição \"=\" e as aspas simples [' '] ou aspas duplas [\" \"] e não há diferença entre elas. Ficará claro nos exemplos abaixo:"
   ]
  },
  {
   "cell_type": "code",
   "execution_count": 210,
   "metadata": {
    "ExecuteTime": {
     "end_time": "2021-05-02T01:09:57.511782Z",
     "start_time": "2021-05-02T01:09:57.495461Z"
    }
   },
   "outputs": [],
   "source": [
    "pergunta = \"biscoito ou bolacha?\"\n",
    "resposta = 'bolacha'\n",
    "numero_em_texto = '1729'"
   ]
  },
  {
   "cell_type": "code",
   "execution_count": 211,
   "metadata": {
    "ExecuteTime": {
     "end_time": "2021-05-02T01:12:16.419638Z",
     "start_time": "2021-05-02T01:12:16.406181Z"
    }
   },
   "outputs": [
    {
     "data": {
      "text/plain": [
       "str"
      ]
     },
     "execution_count": 211,
     "metadata": {},
     "output_type": "execute_result"
    }
   ],
   "source": [
    "type(resposta)"
   ]
  },
  {
   "cell_type": "code",
   "execution_count": 212,
   "metadata": {
    "ExecuteTime": {
     "end_time": "2021-05-02T01:12:04.794157Z",
     "start_time": "2021-05-02T01:12:04.783009Z"
    }
   },
   "outputs": [
    {
     "data": {
      "text/plain": [
       "str"
      ]
     },
     "execution_count": 212,
     "metadata": {},
     "output_type": "execute_result"
    }
   ],
   "source": [
    "type(numero_em_texto)"
   ]
  },
  {
   "cell_type": "code",
   "execution_count": 213,
   "metadata": {
    "ExecuteTime": {
     "end_time": "2021-05-02T01:12:38.309183Z",
     "start_time": "2021-05-02T01:12:38.294061Z"
    }
   },
   "outputs": [
    {
     "data": {
      "text/plain": [
       "int"
      ]
     },
     "execution_count": 213,
     "metadata": {},
     "output_type": "execute_result"
    }
   ],
   "source": [
    "type(int(numero_em_texto))"
   ]
  },
  {
   "cell_type": "code",
   "execution_count": null,
   "metadata": {},
   "outputs": [],
   "source": []
  },
  {
   "cell_type": "markdown",
   "metadata": {
    "ExecuteTime": {
     "end_time": "2021-05-02T01:15:18.359903Z",
     "start_time": "2021-05-02T01:15:18.339802Z"
    }
   },
   "source": [
    "No **jupyter notebook**, quando você roda uma célula com uma variável no final, você vê o feedback com o valor dela na sequencia. O que não ocorre se o nome da variável não estiver no final da célula, nesses casos você pode utilizar a função *print()*."
   ]
  },
  {
   "cell_type": "code",
   "execution_count": 214,
   "metadata": {
    "ExecuteTime": {
     "end_time": "2021-05-02T01:15:44.588646Z",
     "start_time": "2021-05-02T01:15:44.575482Z"
    }
   },
   "outputs": [
    {
     "data": {
      "text/plain": [
       "'1729'"
      ]
     },
     "execution_count": 214,
     "metadata": {},
     "output_type": "execute_result"
    }
   ],
   "source": [
    "pergunta\n",
    "resposta\n",
    "numero_em_texto"
   ]
  },
  {
   "cell_type": "code",
   "execution_count": 215,
   "metadata": {
    "ExecuteTime": {
     "end_time": "2021-05-02T01:15:59.439373Z",
     "start_time": "2021-05-02T01:15:59.407876Z"
    }
   },
   "outputs": [
    {
     "name": "stdout",
     "output_type": "stream",
     "text": [
      "biscoito ou bolacha?\n",
      "bolacha\n",
      "1729\n"
     ]
    }
   ],
   "source": [
    "print(pergunta)\n",
    "print(resposta)\n",
    "print(numero_em_texto)"
   ]
  },
  {
   "cell_type": "markdown",
   "metadata": {},
   "source": [
    "A função len() pode ser usada para calcular o tamanho do texto. O python tem diversas funções úteis para manipulação de texto."
   ]
  },
  {
   "cell_type": "code",
   "execution_count": 216,
   "metadata": {
    "ExecuteTime": {
     "end_time": "2021-05-02T01:06:48.641606Z",
     "start_time": "2021-05-02T01:06:48.617962Z"
    }
   },
   "outputs": [
    {
     "data": {
      "text/plain": [
       "7"
      ]
     },
     "execution_count": 216,
     "metadata": {},
     "output_type": "execute_result"
    }
   ],
   "source": [
    "len(resposta)"
   ]
  },
  {
   "cell_type": "code",
   "execution_count": 217,
   "metadata": {
    "ExecuteTime": {
     "end_time": "2021-05-02T01:13:42.453143Z",
     "start_time": "2021-05-02T01:13:42.437698Z"
    }
   },
   "outputs": [
    {
     "data": {
      "text/plain": [
       "'BOLACHA'"
      ]
     },
     "execution_count": 217,
     "metadata": {},
     "output_type": "execute_result"
    }
   ],
   "source": [
    "resposta.upper()"
   ]
  },
  {
   "cell_type": "code",
   "execution_count": 218,
   "metadata": {
    "ExecuteTime": {
     "end_time": "2021-05-02T01:14:10.533910Z",
     "start_time": "2021-05-02T01:14:10.518189Z"
    }
   },
   "outputs": [
    {
     "data": {
      "text/plain": [
       "'biscoito ou bolacha?bolacha'"
      ]
     },
     "execution_count": 218,
     "metadata": {},
     "output_type": "execute_result"
    }
   ],
   "source": [
    "pergunta + resposta"
   ]
  },
  {
   "cell_type": "code",
   "execution_count": 219,
   "metadata": {
    "ExecuteTime": {
     "end_time": "2021-05-05T08:55:53.672075Z",
     "start_time": "2021-05-05T08:55:53.662073Z"
    }
   },
   "outputs": [
    {
     "data": {
      "text/plain": [
       "'biscoito ou bolacha? bolacha'"
      ]
     },
     "execution_count": 219,
     "metadata": {},
     "output_type": "execute_result"
    }
   ],
   "source": [
    "pergunta + ' ' + resposta"
   ]
  },
  {
   "cell_type": "code",
   "execution_count": 220,
   "metadata": {
    "ExecuteTime": {
     "end_time": "2021-05-02T01:17:08.417978Z",
     "start_time": "2021-05-02T01:17:08.404544Z"
    }
   },
   "outputs": [
    {
     "data": {
      "text/plain": [
       "'bolachabolachabolachabolachabolacha'"
      ]
     },
     "execution_count": 220,
     "metadata": {},
     "output_type": "execute_result"
    }
   ],
   "source": [
    "5 * resposta"
   ]
  },
  {
   "cell_type": "code",
   "execution_count": 221,
   "metadata": {
    "ExecuteTime": {
     "end_time": "2021-05-02T01:17:18.076182Z",
     "start_time": "2021-05-02T01:17:18.062669Z"
    }
   },
   "outputs": [
    {
     "data": {
      "text/plain": [
       "'b'"
      ]
     },
     "execution_count": 221,
     "metadata": {},
     "output_type": "execute_result"
    }
   ],
   "source": [
    "pergunta[0]"
   ]
  },
  {
   "cell_type": "markdown",
   "metadata": {},
   "source": [
    "## 4.0 - Booleano ``boolean``\n",
    "\n",
    "A simbologia lógica, ou booleana, foi inventada por [George Boole](https://pt.wikipedia.org/wiki/George_Boole) e tem uma importância histórica marcante na matemática e na computação desde então. Trata-se da representação de conceitos lógicos como \"verdadeiro\" e \"falso\" e de operações sobre esses conceitos. \n",
    "\n",
    "No Python, tipos **booleanos** recebem dois possíveis valores: *True* e *False* (1 e 0 respectivamente). Há operadores lógicos específicos que retornam booleanos, e têm usos diversos em programação:\n"
   ]
  },
  {
   "cell_type": "code",
   "execution_count": 222,
   "metadata": {
    "ExecuteTime": {
     "end_time": "2021-05-02T11:11:30.123110Z",
     "start_time": "2021-05-02T11:11:30.116107Z"
    }
   },
   "outputs": [
    {
     "data": {
      "text/plain": [
       "bool"
      ]
     },
     "execution_count": 222,
     "metadata": {},
     "output_type": "execute_result"
    }
   ],
   "source": [
    "type(True)"
   ]
  },
  {
   "cell_type": "code",
   "execution_count": 223,
   "metadata": {
    "ExecuteTime": {
     "end_time": "2021-05-02T11:12:09.525746Z",
     "start_time": "2021-05-02T11:12:09.518780Z"
    }
   },
   "outputs": [
    {
     "data": {
      "text/plain": [
       "bool"
      ]
     },
     "execution_count": 223,
     "metadata": {},
     "output_type": "execute_result"
    }
   ],
   "source": [
    "type(False)"
   ]
  },
  {
   "cell_type": "markdown",
   "metadata": {},
   "source": [
    "O tipo de dado booleano é case sensitive, ou seja, as letras maiúsculas e minúsculas importam e é até indicado pela cor da palavra."
   ]
  },
  {
   "cell_type": "code",
   "execution_count": 224,
   "metadata": {
    "ExecuteTime": {
     "end_time": "2021-05-02T11:11:36.374012Z",
     "start_time": "2021-05-02T11:11:36.338976Z"
    }
   },
   "outputs": [
    {
     "ename": "NameError",
     "evalue": "name 'true' is not defined",
     "output_type": "error",
     "traceback": [
      "\u001b[1;31m---------------------------------------------------------------------------\u001b[0m",
      "\u001b[1;31mNameError\u001b[0m                                 Traceback (most recent call last)",
      "Cell \u001b[1;32mIn[224], line 1\u001b[0m\n\u001b[1;32m----> 1\u001b[0m \u001b[38;5;28mtype\u001b[39m(\u001b[43mtrue\u001b[49m)\n",
      "\u001b[1;31mNameError\u001b[0m: name 'true' is not defined"
     ]
    }
   ],
   "source": [
    "type(true)"
   ]
  },
  {
   "cell_type": "code",
   "execution_count": null,
   "metadata": {
    "ExecuteTime": {
     "end_time": "2021-05-02T11:16:22.512741Z",
     "start_time": "2021-05-02T11:16:22.506743Z"
    }
   },
   "outputs": [
    {
     "data": {
      "text/plain": [
       "False"
      ]
     },
     "execution_count": 90,
     "metadata": {},
     "output_type": "execute_result"
    }
   ],
   "source": [
    "cond = 3 > 10\n",
    "cond"
   ]
  },
  {
   "cell_type": "code",
   "execution_count": null,
   "metadata": {
    "ExecuteTime": {
     "end_time": "2021-05-02T11:16:31.252952Z",
     "start_time": "2021-05-02T11:16:31.225889Z"
    }
   },
   "outputs": [
    {
     "data": {
      "text/plain": [
       "True"
      ]
     },
     "execution_count": 91,
     "metadata": {},
     "output_type": "execute_result"
    }
   ],
   "source": [
    "cond = 10 > 3\n",
    "cond"
   ]
  },
  {
   "cell_type": "code",
   "execution_count": null,
   "metadata": {
    "ExecuteTime": {
     "end_time": "2021-05-02T11:16:43.867628Z",
     "start_time": "2021-05-02T11:16:43.863626Z"
    }
   },
   "outputs": [
    {
     "data": {
      "text/plain": [
       "bool"
      ]
     },
     "execution_count": 92,
     "metadata": {},
     "output_type": "execute_result"
    }
   ],
   "source": [
    "type(cond)"
   ]
  },
  {
   "cell_type": "markdown",
   "metadata": {},
   "source": [
    "Na realidade variáveis Booleanas são números armazenados com 1 único bit, sendo 1 = True e 0 = False. Respondem portanto a operadores matemáticos, mas o resultado será um outro tipo numérico, *int* ou *float*."
   ]
  },
  {
   "cell_type": "code",
   "execution_count": null,
   "metadata": {
    "ExecuteTime": {
     "end_time": "2021-05-02T11:18:34.991705Z",
     "start_time": "2021-05-02T11:18:34.986703Z"
    }
   },
   "outputs": [],
   "source": [
    "verdadeiro = True\n",
    "falso = False"
   ]
  },
  {
   "cell_type": "code",
   "execution_count": null,
   "metadata": {
    "ExecuteTime": {
     "end_time": "2021-05-02T11:19:08.002076Z",
     "start_time": "2021-05-02T11:19:07.996076Z"
    }
   },
   "outputs": [
    {
     "data": {
      "text/plain": [
       "True"
      ]
     },
     "execution_count": 94,
     "metadata": {},
     "output_type": "execute_result"
    }
   ],
   "source": [
    "verdadeiro"
   ]
  },
  {
   "cell_type": "code",
   "execution_count": null,
   "metadata": {
    "ExecuteTime": {
     "end_time": "2021-05-02T11:18:41.235681Z",
     "start_time": "2021-05-02T11:18:41.229715Z"
    }
   },
   "outputs": [
    {
     "data": {
      "text/plain": [
       "0"
      ]
     },
     "execution_count": 95,
     "metadata": {},
     "output_type": "execute_result"
    }
   ],
   "source": [
    "verdadeiro * falso"
   ]
  },
  {
   "cell_type": "code",
   "execution_count": null,
   "metadata": {
    "ExecuteTime": {
     "end_time": "2021-05-02T11:19:27.653535Z",
     "start_time": "2021-05-02T11:19:27.648349Z"
    }
   },
   "outputs": [
    {
     "data": {
      "text/plain": [
       "2"
      ]
     },
     "execution_count": 96,
     "metadata": {},
     "output_type": "execute_result"
    }
   ],
   "source": [
    "verdadeiro + verdadeiro"
   ]
  },
  {
   "cell_type": "code",
   "execution_count": null,
   "metadata": {
    "ExecuteTime": {
     "end_time": "2021-05-02T11:19:30.780188Z",
     "start_time": "2021-05-02T11:19:30.776190Z"
    }
   },
   "outputs": [
    {
     "data": {
      "text/plain": [
       "2.5"
      ]
     },
     "execution_count": 97,
     "metadata": {},
     "output_type": "execute_result"
    }
   ],
   "source": [
    "verdadeiro * 2.5"
   ]
  },
  {
   "cell_type": "code",
   "execution_count": null,
   "metadata": {
    "ExecuteTime": {
     "end_time": "2021-05-02T11:19:33.941774Z",
     "start_time": "2021-05-02T11:19:33.936774Z"
    }
   },
   "outputs": [
    {
     "data": {
      "text/plain": [
       "int"
      ]
     },
     "execution_count": 98,
     "metadata": {},
     "output_type": "execute_result"
    }
   ],
   "source": [
    "type(verdadeiro + verdadeiro)"
   ]
  },
  {
   "cell_type": "code",
   "execution_count": null,
   "metadata": {
    "ExecuteTime": {
     "end_time": "2021-05-02T11:19:36.131618Z",
     "start_time": "2021-05-02T11:19:36.127653Z"
    }
   },
   "outputs": [
    {
     "data": {
      "text/plain": [
       "float"
      ]
     },
     "execution_count": 99,
     "metadata": {},
     "output_type": "execute_result"
    }
   ],
   "source": [
    "type(verdadeiro * 2.5)"
   ]
  },
  {
   "cell_type": "markdown",
   "metadata": {},
   "source": [
    "### 4.1 - Operadores *booleanos*\n",
    "\n",
    "\n",
    "| Operador          |Operação                                                     | Expressão                 |  Resultado    |\n",
    "| :-------:         |:-----------------------------------------------------------:| :-------------------:     |  :----------: |\n",
    "| ``==``            | Avalia se ambos os valores são iguais                       |    ``3 == 2``             |     False     |\n",
    "| ``>``             | Avalia se o valor da esquerda é maior que o da direita      |    ``7 > 5``              |     True      |\n",
    "| ``>=``            | Avalia se o valor da esquerda é maior ou igual ao da direita|    ``5 >= 5``             |     True      |\n",
    "| ``<``             | Avalia se o valor da esquerda é menor que o da direita      |    ``7 < 5``              |     False     |\n",
    "| ``<=``            | Avalia se o valor da esquerda é menor ou igual ao da direita|    ``7 <= 7``             |     True      |\n",
    "| ``!=``            | Avalia se o valor da esquerda diferente do da direita       |    ``3 != 2``             |     True      |\n",
    "| ``and``           | Avalia se duas expressões são verdadeiras                   | ``2 == 2`` and ``3 == 3`` |     True      |\n",
    "| ``or``            | Avalia se pelo menos uma expressão é verdadeira             | ``2 == 2`` or ``2 != 1``  |     True      |\n",
    "| ``not``           | Inverte a operação booleana à direita                       |  ``not 5 == 7``           |     True      |"
   ]
  },
  {
   "cell_type": "code",
   "execution_count": null,
   "metadata": {
    "ExecuteTime": {
     "end_time": "2021-05-02T13:10:50.245651Z",
     "start_time": "2021-05-02T13:10:50.240845Z"
    }
   },
   "outputs": [
    {
     "data": {
      "text/plain": [
       "False"
      ]
     },
     "execution_count": 100,
     "metadata": {},
     "output_type": "execute_result"
    }
   ],
   "source": [
    "2 == 3"
   ]
  },
  {
   "cell_type": "code",
   "execution_count": null,
   "metadata": {
    "ExecuteTime": {
     "end_time": "2021-05-02T13:10:55.109627Z",
     "start_time": "2021-05-02T13:10:55.102591Z"
    }
   },
   "outputs": [
    {
     "data": {
      "text/plain": [
       "False"
      ]
     },
     "execution_count": 101,
     "metadata": {},
     "output_type": "execute_result"
    }
   ],
   "source": [
    "2 > 3"
   ]
  },
  {
   "cell_type": "code",
   "execution_count": null,
   "metadata": {
    "ExecuteTime": {
     "end_time": "2021-05-02T12:04:47.638951Z",
     "start_time": "2021-05-02T12:04:47.631953Z"
    }
   },
   "outputs": [
    {
     "data": {
      "text/plain": [
       "True"
      ]
     },
     "execution_count": 102,
     "metadata": {},
     "output_type": "execute_result"
    }
   ],
   "source": [
    "verdadeiro and verdadeiro"
   ]
  },
  {
   "cell_type": "code",
   "execution_count": null,
   "metadata": {
    "ExecuteTime": {
     "end_time": "2021-05-02T12:04:55.319510Z",
     "start_time": "2021-05-02T12:04:55.314477Z"
    }
   },
   "outputs": [
    {
     "data": {
      "text/plain": [
       "1"
      ]
     },
     "execution_count": 103,
     "metadata": {},
     "output_type": "execute_result"
    }
   ],
   "source": [
    "int(verdadeiro and verdadeiro)"
   ]
  },
  {
   "cell_type": "code",
   "execution_count": null,
   "metadata": {
    "ExecuteTime": {
     "end_time": "2021-05-02T11:35:28.094653Z",
     "start_time": "2021-05-02T11:35:28.087658Z"
    }
   },
   "outputs": [
    {
     "data": {
      "text/plain": [
       "True"
      ]
     },
     "execution_count": 104,
     "metadata": {},
     "output_type": "execute_result"
    }
   ],
   "source": [
    "bool(1)"
   ]
  },
  {
   "cell_type": "code",
   "execution_count": null,
   "metadata": {
    "ExecuteTime": {
     "end_time": "2021-05-02T12:05:01.079017Z",
     "start_time": "2021-05-02T12:05:01.073019Z"
    }
   },
   "outputs": [],
   "source": [
    "verdadeiro or falso"
   ]
  },
  {
   "cell_type": "code",
   "execution_count": null,
   "metadata": {
    "ExecuteTime": {
     "end_time": "2021-05-02T12:05:04.518350Z",
     "start_time": "2021-05-02T12:05:04.511311Z"
    }
   },
   "outputs": [],
   "source": [
    "verdadeiro and falso"
   ]
  },
  {
   "cell_type": "code",
   "execution_count": null,
   "metadata": {
    "ExecuteTime": {
     "end_time": "2021-05-02T12:05:08.054695Z",
     "start_time": "2021-05-02T12:05:08.048696Z"
    }
   },
   "outputs": [],
   "source": [
    "not (verdadeiro and falso)"
   ]
  },
  {
   "cell_type": "markdown",
   "metadata": {},
   "source": [
    "**Tabela resumo contendo os tipos básicos mencionados até agora**\n",
    "\n",
    "\n",
    "| Estrutura         | Tipo       | Exemplos       | Descrição                                  |\n",
    "|-------------------|------------|----------------|--------------------------------------------|\n",
    "| Inteiro           |``int``     | ``x = 3``      | Números inteiros                           |\n",
    "| Ponto Flutuante   |``float``   | ``x = 3.14``    | Números reais                              |\n",
    "| Boleano           |``bool``    | ``x = True``   | Verdadeiro ou Falso                        |\n",
    "| Texto             |``str``     | ``x = 'pi'``  | Texto ou caractere                         |\n",
    "\n"
   ]
  },
  {
   "cell_type": "code",
   "execution_count": null,
   "metadata": {},
   "outputs": [],
   "source": []
  },
  {
   "cell_type": "markdown",
   "metadata": {},
   "source": [
    "# Aula 3 - Estruturas"
   ]
  },
  {
   "cell_type": "markdown",
   "metadata": {
    "ExecuteTime": {
     "end_time": "2021-04-28T00:48:21.251467Z",
     "start_time": "2021-04-28T00:48:21.249455Z"
    }
   },
   "source": [
    "# Listas, tuplas, conjuntos e dicionários"
   ]
  },
  {
   "cell_type": "markdown",
   "metadata": {},
   "source": [
    "O Python possui quatro estruturas básicas de dados nativas, que são coleções de dados, cada uma com suas características, e vêm a ajudar em programações mais complexas.\n",
    "\n",
    "As variáveis do Python podem ser classificadas em mutáveis e imutáveis. O conceito é o que se entende mesmo: variáveis mutáveis podem ter seu valor alterado, enquanto que variáveis imutáveis não podem ter seu valor alterado, a menos que se crie uma variável inteiramente nova em seu lugar.\n",
    "\n",
    "As estruturas, além disso, por serem coleções de dados, podem ser classificadas como ordenadas e não ordenadas.\n",
    "\n",
    "As quatro estruturas nativas do Python são:"
   ]
  },
  {
   "cell_type": "markdown",
   "metadata": {},
   "source": [
    "| Estrutura    | Tipo de dado|\n",
    "|--------------|-------------| \n",
    "|**Lista**     | ``list``    |\n",
    "|**Conjunto**  | ``set``     |\n",
    "|**Dicionário**| ``dict``    |\n",
    "|**Tupla**     | ``tuple``   |\n"
   ]
  },
  {
   "cell_type": "markdown",
   "metadata": {},
   "source": [
    "## 1.0 - Listas ``list``\n",
    "Listas são coleções de dados ordenados e mutáveis. São definidas por valores entre colchetes separados por vírgula."
   ]
  },
  {
   "cell_type": "code",
   "execution_count": 180,
   "metadata": {
    "ExecuteTime": {
     "end_time": "2021-05-02T13:34:02.855920Z",
     "start_time": "2021-05-02T13:34:02.852951Z"
    }
   },
   "outputs": [],
   "source": [
    "lista_1 = [1, 2, 3, 4]"
   ]
  },
  {
   "cell_type": "code",
   "execution_count": 181,
   "metadata": {
    "ExecuteTime": {
     "end_time": "2021-05-02T13:34:03.020783Z",
     "start_time": "2021-05-02T13:34:03.015782Z"
    }
   },
   "outputs": [
    {
     "data": {
      "text/plain": [
       "[1, 2, 3, 4]"
      ]
     },
     "execution_count": 181,
     "metadata": {},
     "output_type": "execute_result"
    }
   ],
   "source": [
    "lista_1"
   ]
  },
  {
   "cell_type": "code",
   "execution_count": 182,
   "metadata": {
    "ExecuteTime": {
     "end_time": "2021-05-02T13:34:03.166236Z",
     "start_time": "2021-05-02T13:34:03.162239Z"
    }
   },
   "outputs": [
    {
     "data": {
      "text/plain": [
       "4"
      ]
     },
     "execution_count": 182,
     "metadata": {},
     "output_type": "execute_result"
    }
   ],
   "source": [
    "len(lista_1)"
   ]
  },
  {
   "cell_type": "code",
   "execution_count": 183,
   "metadata": {
    "ExecuteTime": {
     "end_time": "2021-05-02T13:34:03.316578Z",
     "start_time": "2021-05-02T13:34:03.312611Z"
    }
   },
   "outputs": [
    {
     "data": {
      "text/plain": [
       "[1, 2, 3, 4, 5]"
      ]
     },
     "execution_count": 183,
     "metadata": {},
     "output_type": "execute_result"
    }
   ],
   "source": [
    "lista_1.append(5)\n",
    "lista_1"
   ]
  },
  {
   "cell_type": "code",
   "execution_count": 184,
   "metadata": {
    "ExecuteTime": {
     "end_time": "2021-05-02T13:46:04.299706Z",
     "start_time": "2021-05-02T13:46:04.294708Z"
    }
   },
   "outputs": [
    {
     "data": {
      "text/plain": [
       "1"
      ]
     },
     "execution_count": 184,
     "metadata": {},
     "output_type": "execute_result"
    }
   ],
   "source": [
    "lista_1[0]"
   ]
  },
  {
   "cell_type": "code",
   "execution_count": 185,
   "metadata": {
    "ExecuteTime": {
     "end_time": "2021-05-02T13:34:40.090433Z",
     "start_time": "2021-05-02T13:34:40.086167Z"
    }
   },
   "outputs": [
    {
     "data": {
      "text/plain": [
       "[6, 7, 8]"
      ]
     },
     "execution_count": 185,
     "metadata": {},
     "output_type": "execute_result"
    }
   ],
   "source": [
    "lista_2 = [6, 7, 8]\n",
    "lista_2"
   ]
  },
  {
   "cell_type": "code",
   "execution_count": 186,
   "metadata": {
    "ExecuteTime": {
     "end_time": "2021-05-02T13:34:50.497420Z",
     "start_time": "2021-05-02T13:34:50.492411Z"
    }
   },
   "outputs": [
    {
     "data": {
      "text/plain": [
       "[1, 2, 3, 4, 5, 6, 7, 8]"
      ]
     },
     "execution_count": 186,
     "metadata": {},
     "output_type": "execute_result"
    }
   ],
   "source": [
    "lista_1 + lista_2"
   ]
  },
  {
   "cell_type": "code",
   "execution_count": 187,
   "metadata": {
    "ExecuteTime": {
     "end_time": "2021-05-02T13:35:53.237849Z",
     "start_time": "2021-05-02T13:35:53.233463Z"
    }
   },
   "outputs": [
    {
     "data": {
      "text/plain": [
       "[8, 7, 6]"
      ]
     },
     "execution_count": 187,
     "metadata": {},
     "output_type": "execute_result"
    }
   ],
   "source": [
    "lista_2 = [8, 7, 6]\n",
    "lista_2"
   ]
  },
  {
   "cell_type": "code",
   "execution_count": 188,
   "metadata": {
    "ExecuteTime": {
     "end_time": "2021-05-02T13:36:08.660153Z",
     "start_time": "2021-05-02T13:36:08.644469Z"
    }
   },
   "outputs": [
    {
     "data": {
      "text/plain": [
       "[1, 2, 3, 4, 5, 8, 7, 6]"
      ]
     },
     "execution_count": 188,
     "metadata": {},
     "output_type": "execute_result"
    }
   ],
   "source": [
    "lista_3 = lista_1 + lista_2\n",
    "lista_3"
   ]
  },
  {
   "cell_type": "code",
   "execution_count": 189,
   "metadata": {
    "ExecuteTime": {
     "end_time": "2021-05-02T13:36:16.412032Z",
     "start_time": "2021-05-02T13:36:16.403902Z"
    }
   },
   "outputs": [
    {
     "data": {
      "text/plain": [
       "[1, 2, 3, 4, 5, 6, 7, 8]"
      ]
     },
     "execution_count": 189,
     "metadata": {},
     "output_type": "execute_result"
    }
   ],
   "source": [
    "lista_3.sort()\n",
    "lista_3"
   ]
  },
  {
   "cell_type": "code",
   "execution_count": 190,
   "metadata": {
    "ExecuteTime": {
     "end_time": "2021-05-02T13:39:06.605400Z",
     "start_time": "2021-05-02T13:39:06.596402Z"
    }
   },
   "outputs": [
    {
     "data": {
      "text/plain": [
       "['python', 'Guido van Rossum', 1991]"
      ]
     },
     "execution_count": 190,
     "metadata": {},
     "output_type": "execute_result"
    }
   ],
   "source": [
    "lista_com_diferentes_tipos = ['python', 'Guido van Rossum', 1991]\n",
    "lista_com_diferentes_tipos"
   ]
  },
  {
   "cell_type": "markdown",
   "metadata": {},
   "source": [
    "## 2.0 - Tuplas ``tuple``\n",
    "Tuplas são coleções de dados ordenados e imutáveis. São definidas por valores entre parênteses separados por vírgula."
   ]
  },
  {
   "cell_type": "code",
   "execution_count": 191,
   "metadata": {
    "ExecuteTime": {
     "end_time": "2021-05-02T14:02:52.573773Z",
     "start_time": "2021-05-02T14:02:52.567772Z"
    }
   },
   "outputs": [
    {
     "data": {
      "text/plain": [
       "(12, 34, 56, 'olá!')"
      ]
     },
     "execution_count": 191,
     "metadata": {},
     "output_type": "execute_result"
    }
   ],
   "source": [
    "tupla = (12, 34, 56, 'olá!')\n",
    "tupla"
   ]
  },
  {
   "cell_type": "code",
   "execution_count": 192,
   "metadata": {
    "ExecuteTime": {
     "end_time": "2021-05-02T13:56:12.184668Z",
     "start_time": "2021-05-02T13:56:12.180432Z"
    }
   },
   "outputs": [
    {
     "data": {
      "text/plain": [
       "(12, 34, 56, 'olá!')"
      ]
     },
     "execution_count": 192,
     "metadata": {},
     "output_type": "execute_result"
    }
   ],
   "source": [
    "tupla = 12, 34, 56, 'olá!'\n",
    "tupla"
   ]
  },
  {
   "cell_type": "code",
   "execution_count": 193,
   "metadata": {
    "ExecuteTime": {
     "end_time": "2021-05-02T13:56:15.320607Z",
     "start_time": "2021-05-02T13:56:15.291631Z"
    }
   },
   "outputs": [
    {
     "data": {
      "text/plain": [
       "4"
      ]
     },
     "execution_count": 193,
     "metadata": {},
     "output_type": "execute_result"
    }
   ],
   "source": [
    "len(tupla)"
   ]
  },
  {
   "cell_type": "code",
   "execution_count": 194,
   "metadata": {
    "ExecuteTime": {
     "end_time": "2021-05-02T13:56:17.433411Z",
     "start_time": "2021-05-02T13:56:17.428378Z"
    }
   },
   "outputs": [
    {
     "data": {
      "text/plain": [
       "12"
      ]
     },
     "execution_count": 194,
     "metadata": {},
     "output_type": "execute_result"
    }
   ],
   "source": [
    "tupla[0]"
   ]
  },
  {
   "cell_type": "markdown",
   "metadata": {},
   "source": [
    "*Imutável*: Significa que após a tupla ser criada, não conseguimos mais alterar seu tamanho e conteúdo"
   ]
  },
  {
   "cell_type": "code",
   "execution_count": 195,
   "metadata": {
    "ExecuteTime": {
     "end_time": "2021-05-02T13:56:22.408626Z",
     "start_time": "2021-05-02T13:56:22.400107Z"
    }
   },
   "outputs": [
    {
     "ename": "TypeError",
     "evalue": "'tuple' object does not support item assignment",
     "output_type": "error",
     "traceback": [
      "\u001b[1;31m---------------------------------------------------------------------------\u001b[0m",
      "\u001b[1;31mTypeError\u001b[0m                                 Traceback (most recent call last)",
      "Cell \u001b[1;32mIn[195], line 1\u001b[0m\n\u001b[1;32m----> 1\u001b[0m \u001b[43mtupla\u001b[49m\u001b[43m[\u001b[49m\u001b[38;5;241;43m0\u001b[39;49m\u001b[43m]\u001b[49m \u001b[38;5;241m=\u001b[39m \u001b[38;5;241m88888\u001b[39m\n",
      "\u001b[1;31mTypeError\u001b[0m: 'tuple' object does not support item assignment"
     ]
    }
   ],
   "source": [
    "tupla[0] = 88888"
   ]
  },
  {
   "cell_type": "code",
   "execution_count": null,
   "metadata": {
    "ExecuteTime": {
     "end_time": "2021-05-02T13:56:26.229591Z",
     "start_time": "2021-05-02T13:56:26.222596Z"
    }
   },
   "outputs": [],
   "source": [
    "tupla.append(4)"
   ]
  },
  {
   "cell_type": "markdown",
   "metadata": {},
   "source": [
    "A declaração ``tupla = 12, 34, 56, 'olá!'`` é um empacotamento de dados e podemos acessar (ou desempacotar) cada valor contido nele da seguinte maneira:"
   ]
  },
  {
   "cell_type": "code",
   "execution_count": null,
   "metadata": {
    "ExecuteTime": {
     "end_time": "2021-05-02T14:05:09.885718Z",
     "start_time": "2021-05-02T14:05:09.880748Z"
    }
   },
   "outputs": [],
   "source": [
    "a, b, c, d = 12, 34, 56, 'olá!'\n",
    "print(a)\n",
    "print(b)\n",
    "print(c)\n",
    "print(d)"
   ]
  },
  {
   "cell_type": "code",
   "execution_count": null,
   "metadata": {
    "ExecuteTime": {
     "end_time": "2021-05-02T14:06:20.128389Z",
     "start_time": "2021-05-02T14:06:20.115191Z"
    }
   },
   "outputs": [],
   "source": [
    "a, b, c, d = tupla\n",
    "print(a)\n",
    "print(b)\n",
    "print(c)\n",
    "print(d)"
   ]
  },
  {
   "cell_type": "markdown",
   "metadata": {},
   "source": [
    "## 3.0 - Conjuntos ``set``\n",
    "\n",
    "O terceiro tipo de dado é o conjunto. O conjunto é uma coleção de dados não ordenada com dados não duplicados.\n",
    "\n",
    "Chaves ou a função set() pode ser usada para criar um conjunto."
   ]
  },
  {
   "cell_type": "code",
   "execution_count": null,
   "metadata": {
    "ExecuteTime": {
     "end_time": "2021-05-02T14:26:25.730897Z",
     "start_time": "2021-05-02T14:26:25.727893Z"
    }
   },
   "outputs": [],
   "source": [
    "pares = {2, 4, 6, 8, 10}\n",
    "pares"
   ]
  },
  {
   "cell_type": "code",
   "execution_count": null,
   "metadata": {
    "ExecuteTime": {
     "end_time": "2021-05-02T14:29:08.038974Z",
     "start_time": "2021-05-02T14:29:08.033976Z"
    }
   },
   "outputs": [],
   "source": [
    "teste = set('teste') #valores unicos em 'teste'\n",
    "teste"
   ]
  },
  {
   "cell_type": "code",
   "execution_count": null,
   "metadata": {
    "ExecuteTime": {
     "end_time": "2021-05-02T14:33:32.245140Z",
     "start_time": "2021-05-02T14:33:32.239138Z"
    }
   },
   "outputs": [],
   "source": [
    "impares = {1, 3, 5, 7, 9, 11, 13}\n",
    "primos = {2, 3, 5, 7, 11, 13}"
   ]
  },
  {
   "cell_type": "markdown",
   "metadata": {},
   "source": [
    "Os conjuntos suportam operações matemáticas como união, interseção, diferença e diferença simétrica."
   ]
  },
  {
   "cell_type": "code",
   "execution_count": null,
   "metadata": {
    "ExecuteTime": {
     "end_time": "2021-05-02T14:35:09.465582Z",
     "start_time": "2021-05-02T14:35:09.460582Z"
    }
   },
   "outputs": [],
   "source": [
    "#União\n",
    "impares | primos # números que são impares ou primos ou os dois"
   ]
  },
  {
   "cell_type": "code",
   "execution_count": null,
   "metadata": {
    "ExecuteTime": {
     "end_time": "2021-05-02T14:35:35.123135Z",
     "start_time": "2021-05-02T14:35:35.116459Z"
    }
   },
   "outputs": [],
   "source": [
    "#Interseção\n",
    "impares & primos # números impares e primos"
   ]
  },
  {
   "cell_type": "code",
   "execution_count": null,
   "metadata": {
    "ExecuteTime": {
     "end_time": "2021-05-02T14:35:19.315154Z",
     "start_time": "2021-05-02T14:35:19.308155Z"
    }
   },
   "outputs": [],
   "source": [
    "#Diferença\n",
    "impares - primos # números em impares que não são primos"
   ]
  },
  {
   "cell_type": "code",
   "execution_count": null,
   "metadata": {
    "ExecuteTime": {
     "end_time": "2021-05-02T14:36:02.569882Z",
     "start_time": "2021-05-02T14:36:02.563852Z"
    }
   },
   "outputs": [],
   "source": [
    "#Diferença simétrica\n",
    "impares ^ primos # números impares ou primos, mas não os dois"
   ]
  },
  {
   "cell_type": "markdown",
   "metadata": {},
   "source": [
    "## 4.0 - Dicionários ``dict``\n",
    "\n",
    "Dicionários são estruturas de dados do tipo ``chave:valor`` e são declarados por valores desse tipo separados por vírgula entre chaves. Podemos entender como um **conjunto** de dados (seção anterior) do tipo ``chave:valor``\n"
   ]
  },
  {
   "cell_type": "code",
   "execution_count": null,
   "metadata": {
    "ExecuteTime": {
     "end_time": "2021-05-02T14:45:09.791185Z",
     "start_time": "2021-05-02T14:45:09.778021Z"
    }
   },
   "outputs": [],
   "source": [
    "pares = {'dois':2, 'quatro':4, 'seis':6}\n",
    "pares"
   ]
  },
  {
   "cell_type": "markdown",
   "metadata": {
    "ExecuteTime": {
     "end_time": "2021-05-02T14:47:15.907215Z",
     "start_time": "2021-05-02T14:47:15.901220Z"
    }
   },
   "source": [
    "Diferentemente das sequencias que são indexadas por números, os dicionários são indexados por chaves."
   ]
  },
  {
   "cell_type": "code",
   "execution_count": null,
   "metadata": {
    "ExecuteTime": {
     "end_time": "2021-05-02T14:47:41.178559Z",
     "start_time": "2021-05-02T14:47:41.172519Z"
    }
   },
   "outputs": [],
   "source": [
    "lista_1[2]"
   ]
  },
  {
   "cell_type": "code",
   "execution_count": null,
   "metadata": {
    "ExecuteTime": {
     "end_time": "2021-05-02T14:47:38.549215Z",
     "start_time": "2021-05-02T14:47:38.541217Z"
    }
   },
   "outputs": [],
   "source": [
    "pares[2]"
   ]
  },
  {
   "cell_type": "code",
   "execution_count": null,
   "metadata": {
    "ExecuteTime": {
     "end_time": "2021-05-02T14:47:42.773101Z",
     "start_time": "2021-05-02T14:47:42.767104Z"
    }
   },
   "outputs": [],
   "source": [
    "pares['dois']"
   ]
  },
  {
   "cell_type": "markdown",
   "metadata": {},
   "source": [
    "Novos elementos podem ser adicionado usando a indexação:"
   ]
  },
  {
   "cell_type": "code",
   "execution_count": null,
   "metadata": {
    "ExecuteTime": {
     "end_time": "2021-05-02T14:50:26.944940Z",
     "start_time": "2021-05-02T14:50:26.936916Z"
    }
   },
   "outputs": [],
   "source": [
    "pares['oito'] = 8\n",
    "pares"
   ]
  },
  {
   "cell_type": "markdown",
   "metadata": {},
   "source": [
    "| Estrutura    | Tipo de dado|Descrição                                                    | Exemplo                   |\n",
    "|--------------|-------------|-------------------------------------------------------------|---------------------------| \n",
    "|**Lista**     | ``list``    |Coleção mutável e ordenada de variáveis de qualquer tipo     | ``[1, 2, 3]``             |\n",
    "|**Conjunto**  | ``set``     |Coleção mutável e não ordenada de valores únicos             | ``{1, 2, 3}``             |\n",
    "|**Tupla**     | ``tuple``   |Coleção imutável e ordenada                       | ``(1, 2, 3)``             |\n",
    "|**Dicionário**| ``dict``    |Coleção mutável e não ordenada. Do tipo ``chave:valor``| ``{'a':1, 'b':2, 'c':3}`` |"
   ]
  },
  {
   "cell_type": "markdown",
   "metadata": {},
   "source": [
    "# Aula 4 - Sintaxe"
   ]
  },
  {
   "cell_type": "markdown",
   "metadata": {},
   "source": [
    "# Sintaxe e controle de fluxo"
   ]
  },
  {
   "cell_type": "markdown",
   "metadata": {},
   "source": [
    "O python é conhecido por ter sua sintaxe mais limpa e de fácil entendimento se comparada a outras linguagens de programação, o que facilita muito na leitura e escrita do código. Abaixo veremos alguns pontos importantes para entendermos e escrevermos códigos em python."
   ]
  },
  {
   "cell_type": "markdown",
   "metadata": {
    "ExecuteTime": {
     "end_time": "2021-04-28T10:31:05.393164Z",
     "start_time": "2021-04-28T10:31:05.373201Z"
    }
   },
   "source": [
    "## 1.0 - Sintaxe"
   ]
  },
  {
   "cell_type": "markdown",
   "metadata": {},
   "source": [
    "- Comentários (``#``)\n",
    "- Operador de atribuição (``=``)\n",
    "- Indentação\n",
    "- Dois pontos (``:``)\n",
    "- Espaçamento (``TAB``)\n",
    "- Print "
   ]
  },
  {
   "cell_type": "markdown",
   "metadata": {},
   "source": [
    "### 1.1 - Comentários ``#``"
   ]
  },
  {
   "cell_type": "markdown",
   "metadata": {},
   "source": [
    "Para facilitar o entendimento de cada etapa do código no momento que revisitamos o código, é importante que tenhamos cada trecho de código comentado, contendo a função daquele trecho. \n",
    "\n",
    "Os comentários no python contém o caractere ``#`` antes do texto. Esse caractere e tudo que está após ele, é ignorado pelo interpretador."
   ]
  },
  {
   "cell_type": "code",
   "execution_count": 171,
   "metadata": {
    "ExecuteTime": {
     "end_time": "2021-05-02T18:14:19.023958Z",
     "start_time": "2021-05-02T18:14:19.015960Z"
    }
   },
   "outputs": [
    {
     "data": {
      "text/plain": [
       "2"
      ]
     },
     "execution_count": 171,
     "metadata": {},
     "output_type": "execute_result"
    }
   ],
   "source": [
    "1+1"
   ]
  },
  {
   "cell_type": "code",
   "execution_count": 172,
   "metadata": {
    "ExecuteTime": {
     "end_time": "2021-05-02T18:14:31.642857Z",
     "start_time": "2021-05-02T18:14:31.632214Z"
    }
   },
   "outputs": [],
   "source": [
    "# ISSO DAQUI É UM COMENTÁRIO"
   ]
  },
  {
   "cell_type": "code",
   "execution_count": 173,
   "metadata": {
    "ExecuteTime": {
     "end_time": "2021-05-02T18:15:15.072696Z",
     "start_time": "2021-05-02T18:15:15.064703Z"
    }
   },
   "outputs": [
    {
     "data": {
      "text/plain": [
       "2"
      ]
     },
     "execution_count": 173,
     "metadata": {},
     "output_type": "execute_result"
    }
   ],
   "source": [
    "# ISSO DAQUI É UM COMENTÁRIO SOBRE UMA SOMA DE 1+1\n",
    "1+1"
   ]
  },
  {
   "cell_type": "code",
   "execution_count": 174,
   "metadata": {
    "ExecuteTime": {
     "end_time": "2021-05-02T18:15:28.323368Z",
     "start_time": "2021-05-02T18:15:28.318405Z"
    }
   },
   "outputs": [
    {
     "data": {
      "text/plain": [
       "2"
      ]
     },
     "execution_count": 174,
     "metadata": {},
     "output_type": "execute_result"
    }
   ],
   "source": [
    "# ISSO DAQUI É UM COMENTÁRIO SOBRE UMA SOMA DE 1+1\n",
    "1+1 #SOMA DE 1+1"
   ]
  },
  {
   "cell_type": "code",
   "execution_count": 175,
   "metadata": {
    "ExecuteTime": {
     "end_time": "2021-05-02T18:16:55.576356Z",
     "start_time": "2021-05-02T18:16:55.571363Z"
    }
   },
   "outputs": [],
   "source": [
    "# ISSO DAQUI É UM COMENTÁRIO SOBRE UMA SOMA DE 1+1\n",
    "#1+1 #SOMA DE 1+1"
   ]
  },
  {
   "cell_type": "markdown",
   "metadata": {},
   "source": [
    "### 1.2 - Operador de atribuição ``=``"
   ]
  },
  {
   "cell_type": "markdown",
   "metadata": {},
   "source": [
    "O sinal de atribuição no python é o ``=`` e é usado para atribuir um valor a alguma variável."
   ]
  },
  {
   "cell_type": "code",
   "execution_count": 176,
   "metadata": {
    "ExecuteTime": {
     "end_time": "2021-05-02T18:27:03.048634Z",
     "start_time": "2021-05-02T18:27:03.037590Z"
    }
   },
   "outputs": [],
   "source": [
    "# Atribuindo um valor a variável x\n",
    "x = 1"
   ]
  },
  {
   "cell_type": "code",
   "execution_count": 177,
   "metadata": {
    "ExecuteTime": {
     "end_time": "2021-05-02T18:27:24.736430Z",
     "start_time": "2021-05-02T18:27:24.731463Z"
    }
   },
   "outputs": [
    {
     "name": "stdout",
     "output_type": "stream",
     "text": [
      "1\n"
     ]
    }
   ],
   "source": [
    "# Verificando o valor contido na variável x\n",
    "print(x)"
   ]
  },
  {
   "cell_type": "markdown",
   "metadata": {},
   "source": [
    "### 1.3 - Indentação "
   ]
  },
  {
   "cell_type": "markdown",
   "metadata": {},
   "source": [
    "Indentação, extraído do wikipedia é:\n",
    "\n",
    "**\"Em ciência da computação, indentação (recuo, neologismo derivado da palavra em inglês *indentation*) é um termo aplicado ao código fonte de um programa para ressaltar ou definir a estrutura do algoritmo.\n",
    "Na maioria das linguagens de programação, a indentação é empregada com o objetivo de ressaltar a estrutura do algoritmo, aumentando assim a legibilidade do código\"**\n",
    "\n",
    "A indentação em qualquer código de qualquer linguagem é muito importante para facilitar a leitura e consequentemente a manutenção do código. \n",
    "\n",
    "*Um código é lido muito mais vezes do que escrito*. Por isso, a aparência e a facilidade de leitura conta.\n",
    "\n",
    "No python a indentação do código é obrigatória, pois se houver algo não indentado ocorre um erro."
   ]
  },
  {
   "cell_type": "markdown",
   "metadata": {
    "ExecuteTime": {
     "end_time": "2021-05-02T18:36:45.566295Z",
     "start_time": "2021-05-02T18:36:45.365717Z"
    }
   },
   "source": [
    "Exemplo do emprego de indentação em C:\n",
    "\n",
    "![Exemplo de indentação](indentacao.png)\n",
    "\n",
    "https://pt.wikipedia.org/wiki/Indenta%C3%A7%C3%A3o"
   ]
  },
  {
   "cell_type": "code",
   "execution_count": 178,
   "metadata": {
    "ExecuteTime": {
     "end_time": "2021-05-02T18:42:02.885327Z",
     "start_time": "2021-05-02T18:42:02.876324Z"
    },
    "scrolled": true
   },
   "outputs": [
    {
     "data": {
      "text/plain": [
       "[1, 2, 3]"
      ]
     },
     "execution_count": 178,
     "metadata": {},
     "output_type": "execute_result"
    }
   ],
   "source": [
    "lista = [1,2,3]\n",
    "lista"
   ]
  },
  {
   "cell_type": "code",
   "execution_count": 179,
   "metadata": {
    "ExecuteTime": {
     "end_time": "2021-05-02T18:53:21.204578Z",
     "start_time": "2021-05-02T18:53:21.198579Z"
    }
   },
   "outputs": [
    {
     "ename": "IndentationError",
     "evalue": "unexpected indent (2610008003.py, line 2)",
     "output_type": "error",
     "traceback": [
      "\u001b[1;36m  Cell \u001b[1;32mIn[179], line 2\u001b[1;36m\u001b[0m\n\u001b[1;33m    = [1,2,3]\u001b[0m\n\u001b[1;37m    ^\u001b[0m\n\u001b[1;31mIndentationError\u001b[0m\u001b[1;31m:\u001b[0m unexpected indent\n"
     ]
    }
   ],
   "source": [
    "lista \n",
    "    = [1,2,3]\n",
    "lista"
   ]
  },
  {
   "cell_type": "code",
   "execution_count": null,
   "metadata": {
    "ExecuteTime": {
     "end_time": "2021-05-02T18:42:33.254053Z",
     "start_time": "2021-05-02T18:42:33.244057Z"
    }
   },
   "outputs": [],
   "source": [
    "lista                                                       = [1,2,3]\n",
    "lista"
   ]
  },
  {
   "cell_type": "code",
   "execution_count": null,
   "metadata": {
    "ExecuteTime": {
     "end_time": "2021-05-02T18:42:50.834941Z",
     "start_time": "2021-05-02T18:42:50.827941Z"
    }
   },
   "outputs": [],
   "source": [
    "lista=[                              1,2,3]\n",
    "lista"
   ]
  },
  {
   "cell_type": "code",
   "execution_count": null,
   "metadata": {
    "ExecuteTime": {
     "end_time": "2021-05-02T18:52:51.622666Z",
     "start_time": "2021-05-02T18:52:51.616670Z"
    }
   },
   "outputs": [],
   "source": [
    "lista = ([1, \n",
    "          2, 3])\n",
    "lista"
   ]
  },
  {
   "cell_type": "markdown",
   "metadata": {},
   "source": [
    "### 1.4 - Dois pontos ``:``"
   ]
  },
  {
   "cell_type": "markdown",
   "metadata": {},
   "source": [
    "Dois pontos é utilizado para indicar blocos de códigos e esse bloco deve estar indentado por alguns espaços.\n",
    "\n",
    "Essa quantidade de espaços para indentar um bloco de código pode ser definido pelo programador e deve ser consistente por todo o código. \n",
    "Por convenção, a maioria dos guias de estilo (sim, existe guias pra isso) recomendam indentar os blocos de códigos com 4 espaços e iremos tentar seguir esses guias."
   ]
  },
  {
   "cell_type": "code",
   "execution_count": null,
   "metadata": {
    "ExecuteTime": {
     "end_time": "2021-05-02T18:58:53.956643Z",
     "start_time": "2021-05-02T18:58:53.950639Z"
    }
   },
   "outputs": [],
   "source": [
    "if 2>1:\n",
    "    print('Indentado com 4 espaços')\n",
    "print('Não indentado') "
   ]
  },
  {
   "cell_type": "code",
   "execution_count": null,
   "metadata": {
    "ExecuteTime": {
     "end_time": "2021-05-02T19:13:48.320442Z",
     "start_time": "2021-05-02T19:13:48.315455Z"
    }
   },
   "outputs": [],
   "source": [
    "if 2>1:\n",
    " print('Indentado com 1 espaço')\n",
    "print('Não indentado') "
   ]
  },
  {
   "cell_type": "code",
   "execution_count": null,
   "metadata": {
    "ExecuteTime": {
     "end_time": "2021-05-02T18:59:35.166752Z",
     "start_time": "2021-05-02T18:59:35.160755Z"
    }
   },
   "outputs": [],
   "source": [
    "if 2>1:\n",
    "#     print('Indentado')\n",
    "print('Não indentado') "
   ]
  },
  {
   "cell_type": "code",
   "execution_count": null,
   "metadata": {
    "ExecuteTime": {
     "end_time": "2021-05-02T19:02:22.535252Z",
     "start_time": "2021-05-02T19:02:22.530218Z"
    }
   },
   "outputs": [],
   "source": [
    "if 2>1:\n",
    "print('Não indentado') "
   ]
  },
  {
   "cell_type": "code",
   "execution_count": null,
   "metadata": {
    "ExecuteTime": {
     "end_time": "2021-05-02T19:14:25.958529Z",
     "start_time": "2021-05-02T19:14:25.953530Z"
    }
   },
   "outputs": [],
   "source": [
    "if 2>1:\n",
    "    print('Indentado com o TAB') "
   ]
  },
  {
   "cell_type": "code",
   "execution_count": null,
   "metadata": {
    "ExecuteTime": {
     "end_time": "2021-05-02T19:08:59.980406Z",
     "start_time": "2021-05-02T19:08:59.973406Z"
    }
   },
   "outputs": [],
   "source": [
    "x = 10\n",
    "if x > 1:\n",
    "    y = 10 * x\n",
    "    print(y)"
   ]
  },
  {
   "cell_type": "code",
   "execution_count": null,
   "metadata": {
    "ExecuteTime": {
     "end_time": "2021-05-02T19:11:16.751710Z",
     "start_time": "2021-05-02T19:11:16.724521Z"
    }
   },
   "outputs": [],
   "source": [
    "x = 10\n",
    "if x < 1:\n",
    "    z = 10 * x\n",
    "print(z)"
   ]
  },
  {
   "cell_type": "code",
   "execution_count": null,
   "metadata": {},
   "outputs": [],
   "source": []
  },
  {
   "cell_type": "markdown",
   "metadata": {},
   "source": [
    "### 1.5 - Resumo\n",
    "\n",
    "Nessa seção, eu mencionei guias de estilo e o mais conhecido para python é o PEP8 e pode ser encontrado em https://www.python.org/dev/peps/pep-0008/\n",
    "\n",
    "*Um guia de estilo é sobre consistência. A consistência do guia de estilo é importante. A consistência dentro de um projeto é mais importante. A consistência dentro de um módulo ou função é o mais importante.*\n",
    "\n",
    "Conforme você for avançando o conhecimento sobre python e começar a escrever muitos códigos, vale a pena dar uma lida e conhecer mais sobre esse e outros guias."
   ]
  },
  {
   "cell_type": "markdown",
   "metadata": {
    "ExecuteTime": {
     "end_time": "2021-04-28T10:31:13.938767Z",
     "start_time": "2021-04-28T10:31:13.935769Z"
    }
   },
   "source": [
    "## 2.0 - Controle de fluxo"
   ]
  },
  {
   "cell_type": "markdown",
   "metadata": {},
   "source": [
    "### 2.1 - Estrutura de decisão condicional: ``se - senão se - senão``\n",
    "A estrutura de decisão condicional permite executar códigos baseados em condições booleanas."
   ]
  },
  {
   "cell_type": "code",
   "execution_count": null,
   "metadata": {
    "ExecuteTime": {
     "end_time": "2021-05-02T20:11:25.670435Z",
     "start_time": "2021-05-02T20:11:23.659382Z"
    },
    "scrolled": true
   },
   "outputs": [],
   "source": [
    "x = int(input('Quantos anos você tem? '))\n",
    "# x = 99\n",
    "# print('Parece que você tem: %d anos de idade' %x)\n",
    "\n",
    "\n",
    "if x == 0:\n",
    "    print(\"Parabéns, você acabou de nascer e tem %d anos de idade\" % x)\n",
    "elif x < 0:\n",
    "    print(\"Idade negativa?\")\n",
    "elif x > 130:\n",
    "    print(\"Tem certeza que você ainda está vivo com %d anos de idade?\"% x)\n",
    "else:\n",
    "    print(\"Parabéns! Você tem %d anos de idade\" % x)"
   ]
  },
  {
   "cell_type": "markdown",
   "metadata": {},
   "source": [
    "### 2.2 - Estruturas de repetição\n",
    "\n",
    "Quando um comando ou um bloco código irá se repetir por diversas vezes, podemos utilizar uma estrutura de repetição para realizar a tarefa. \n",
    "\n",
    "Imagina se precisássemos construir uma lista com todos os números pares até 1000. \n",
    "\n",
    "``` python\n",
    "lista = [2, 4, 6, 8, 10, 12, ..., 1000]\n",
    "lista\n",
    "[2, 4, 6, 8, 10, 12, ..., 1000]\n",
    "```\n",
    "\n",
    "Abaixo temos um exemplo de como resolver essa tarefa com as estruturas de repetição ``while`` e ``for``\n",
    "\n"
   ]
  },
  {
   "cell_type": "markdown",
   "metadata": {},
   "source": [
    "### 2.3 - Estrutura de repetição ``while``\n",
    "\n",
    "A estrutura de repetição ``while`` repete a execução do bloco de código indentado enquanto a condição for verdadeira. Por exemplo:"
   ]
  },
  {
   "cell_type": "code",
   "execution_count": null,
   "metadata": {
    "ExecuteTime": {
     "end_time": "2021-05-03T09:36:26.623853Z",
     "start_time": "2021-05-03T09:36:26.615863Z"
    }
   },
   "outputs": [],
   "source": [
    "# Declara e atribui 2 a uma variável de iteração\n",
    "i = 2\n",
    "\n",
    "#Estrutura de repetição para printar os valores pares até 20\n",
    "while i <= 20:\n",
    "    print(i, end=', ')\n",
    "    i += 2\n"
   ]
  },
  {
   "cell_type": "code",
   "execution_count": null,
   "metadata": {
    "ExecuteTime": {
     "end_time": "2021-05-03T09:43:12.629682Z",
     "start_time": "2021-05-03T09:43:12.621715Z"
    }
   },
   "outputs": [],
   "source": [
    "print('1a  volta       2  <= 20:', 2  <= 20)\n",
    "print('2a  volta       4  <= 20:', 4  <= 20)\n",
    "print('3a  volta       6  <= 20:', 6  <= 20)\n",
    "print('4a  volta       8  <= 20:', 8  <= 20)\n",
    "print('5a  volta       10 <= 20:', 10 <= 20)\n",
    "print('6a  volta       12 <= 20:', 12 <= 20)\n",
    "print('7a  volta       14 <= 20:', 14 <= 20)\n",
    "print('8a  volta       16 <= 20:', 16 <= 20)\n",
    "print('9a  volta       18 <= 20:', 18 <= 20)\n",
    "print('10a volta       20 <= 20:', 20 <= 20)\n",
    "print('11a volta       22 <= 20:', 22 <= 20)"
   ]
  },
  {
   "cell_type": "code",
   "execution_count": null,
   "metadata": {
    "ExecuteTime": {
     "end_time": "2021-05-03T10:06:22.295376Z",
     "start_time": "2021-05-03T10:06:22.213828Z"
    },
    "scrolled": false
   },
   "outputs": [],
   "source": [
    "# Declara e atribui 2 a uma variável de iteração\n",
    "i = 2\n",
    "\n",
    "#Estrutura de repetição para printar os valores pares até 20\n",
    "while i <= 1000:\n",
    "    print(i, end=', ')\n",
    "    i += 2\n"
   ]
  },
  {
   "cell_type": "markdown",
   "metadata": {},
   "source": [
    "### 2.4 -  Estrutura de repetição ``for`` \n",
    "\n",
    "A estrutura de repetição ``for`` é usado quando queremos percorrer os valores de uma sequencia, ou seja, uma lista ou uma cadeia de caracteres (string) e executar determinado comando para cada elemento."
   ]
  },
  {
   "cell_type": "code",
   "execution_count": null,
   "metadata": {
    "ExecuteTime": {
     "end_time": "2021-05-03T10:13:22.810386Z",
     "start_time": "2021-05-03T10:13:22.806407Z"
    }
   },
   "outputs": [],
   "source": [
    "for elemento in 'abcdefgh':\n",
    "    print(elemento)"
   ]
  },
  {
   "cell_type": "markdown",
   "metadata": {},
   "source": [
    "Podemos querer percorrer uma lista de números e usar o comando ``print``:"
   ]
  },
  {
   "cell_type": "code",
   "execution_count": null,
   "metadata": {
    "ExecuteTime": {
     "end_time": "2021-05-03T10:14:09.579676Z",
     "start_time": "2021-05-03T10:14:09.574678Z"
    }
   },
   "outputs": [],
   "source": [
    "for i in [0,1,2,3,4,5,6]:\n",
    "    print(i)"
   ]
  },
  {
   "cell_type": "markdown",
   "metadata": {},
   "source": [
    "Se a gente precisasse percorrer todos os valores pares até 1000?"
   ]
  },
  {
   "cell_type": "code",
   "execution_count": null,
   "metadata": {
    "ExecuteTime": {
     "end_time": "2021-05-03T10:19:37.067526Z",
     "start_time": "2021-05-03T10:19:37.019203Z"
    },
    "scrolled": false
   },
   "outputs": [],
   "source": [
    "#Podemos utilizar a função range para criar essa lista e usar o for pra percorrer\n",
    "for i in range(2, 1000, 2):\n",
    "    print(i, end = ', ')"
   ]
  },
  {
   "cell_type": "code",
   "execution_count": null,
   "metadata": {
    "ExecuteTime": {
     "end_time": "2021-05-03T10:18:00.548728Z",
     "start_time": "2021-05-03T10:18:00.527463Z"
    }
   },
   "outputs": [],
   "source": [
    "list(range(2,1000,2))"
   ]
  },
  {
   "cell_type": "markdown",
   "metadata": {},
   "source": [
    "# Motivação para a próxima parte do módulo"
   ]
  },
  {
   "cell_type": "markdown",
   "metadata": {
    "ExecuteTime": {
     "end_time": "2021-04-28T00:47:57.535858Z",
     "start_time": "2021-04-28T00:47:57.531896Z"
    }
   },
   "source": [
    "## Os principais módulos/bibliotecas do Python para Ciência de dados"
   ]
  },
  {
   "cell_type": "markdown",
   "metadata": {},
   "source": [
    "A comunidade de análise de dados do python é muito forte e por isso que o python se destaca dentre outras liguagens para esse tipo de tarefa. Podemos encontrar diversos trechos de código, módulos, pacotes que já estão prontos para facilitar a nossa resolução de problemas. A grosso modo:\n",
    "- Um trecho de código é um trecho de código.\n",
    "- Um módulo é um arquivo .py que contém trechos de código que usamos repetidas vezes e em diferentes projetos.\n",
    "- Um pacote é uma pasta que contém um conjunto de módulos (de arquivos .py) com o mesmo escopo de funcionalidade.\n",
    "\n",
    "Podemos destacar 4 pacotes que são essenciais para Ciência de dados:\n",
    "\n",
    "\n",
    "| Pacote    | Descrição | link para documentação |\n",
    "|--------------|-------------|-------------| \n",
    "|**Numpy**     | Permite fazer cálculos numéricos com vetores de forma simples e eficiente    | [link](http://numpy.org)\n",
    "|**Pandas**  | Contém uma poderosa estrutura de dados que facilita a manipulação e análise de dados.     | [link](http://pandas.pydata.org)    |\n",
    "|**Matplotlib**| Contém módulos que permite a criação de gráficos estáticos, animados e interativos.    | [link](http://matplotlib.org)     |\n",
    "|**Scikit-learn**     | Fornece ferramentas eficientes para aprendizado de máquina e modelagem estatística   | [link](http://scikit-learn.org)     |\n",
    "\n"
   ]
  },
  {
   "cell_type": "markdown",
   "metadata": {},
   "source": [
    "# ATIVIDADE 1"
   ]
  },
  {
   "cell_type": "code",
   "execution_count": null,
   "metadata": {},
   "outputs": [],
   "source": []
  }
 ],
 "metadata": {
  "kernelspec": {
   "display_name": "Python 3",
   "language": "python",
   "name": "python3"
  },
  "language_info": {
   "codemirror_mode": {
    "name": "ipython",
    "version": 3
   },
   "file_extension": ".py",
   "mimetype": "text/x-python",
   "name": "python",
   "nbconvert_exporter": "python",
   "pygments_lexer": "ipython3",
   "version": "3.13.0"
  },
  "varInspector": {
   "cols": {
    "lenName": 16,
    "lenType": 16,
    "lenVar": 40
   },
   "kernels_config": {
    "python": {
     "delete_cmd_postfix": "",
     "delete_cmd_prefix": "del ",
     "library": "var_list.py",
     "varRefreshCmd": "print(var_dic_list())"
    },
    "r": {
     "delete_cmd_postfix": ") ",
     "delete_cmd_prefix": "rm(",
     "library": "var_list.r",
     "varRefreshCmd": "cat(var_dic_list()) "
    }
   },
   "types_to_exclude": [
    "module",
    "function",
    "builtin_function_or_method",
    "instance",
    "_Feature"
   ],
   "window_display": false
  }
 },
 "nbformat": 4,
 "nbformat_minor": 4
}
