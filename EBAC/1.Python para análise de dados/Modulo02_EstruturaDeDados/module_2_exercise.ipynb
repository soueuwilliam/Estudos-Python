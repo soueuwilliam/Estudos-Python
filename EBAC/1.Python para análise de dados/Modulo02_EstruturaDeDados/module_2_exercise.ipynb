{
  "nbformat": 4,
  "nbformat_minor": 0,
  "metadata": {
    "colab": {
      "provenance": [],
      "toc_visible": true,
      "include_colab_link": true
    },
    "kernelspec": {
      "name": "python3",
      "display_name": "Python 3"
    }
  },
  "cells": [
    {
      "cell_type": "markdown",
      "metadata": {
        "id": "view-in-github",
        "colab_type": "text"
      },
      "source": [
        "<a href=\"https://colab.research.google.com/github/soueuwilliam/Estudos-Python/blob/main/EBAC/module_2_exercise.ipynb\" target=\"_parent\"><img src=\"https://colab.research.google.com/assets/colab-badge.svg\" alt=\"Open In Colab\"/></a>"
      ]
    },
    {
      "cell_type": "markdown",
      "metadata": {
        "id": "KJqp9AANOCtf"
      },
      "source": [
        "<img src=\"https://raw.githubusercontent.com/andre-marcos-perez/ebac-course-utils/main/media/logo/newebac_logo_black_half.png\" alt=\"ebac-logo\">\n",
        "\n",
        "---\n",
        "\n",
        "# **Módulo** | Python: Estruturas de Dados\n",
        "Caderno de **Exercícios**<br>\n",
        "Professor [André Perez](https://www.linkedin.com/in/andremarcosperez/)\n",
        "\n",
        "---"
      ]
    },
    {
      "cell_type": "markdown",
      "metadata": {
        "id": "d9jDtUbDOE1-"
      },
      "source": [
        "# **Tópicos**\n",
        "\n",
        "<ol type=\"1\">\n",
        "  <li>Listas;</li>\n",
        "  <li>Conjuntos;</li>\n",
        "  <li>Dicionários.</li>\n",
        "</ol>"
      ]
    },
    {
      "cell_type": "markdown",
      "metadata": {
        "id": "SmoHgt-lwkpD"
      },
      "source": [
        "---"
      ]
    },
    {
      "cell_type": "markdown",
      "metadata": {
        "id": "GABI6OW8OfQ2"
      },
      "source": [
        "# **Exercícios**"
      ]
    },
    {
      "cell_type": "markdown",
      "metadata": {
        "id": "muD1vxozykSC"
      },
      "source": [
        "## 1\\. Listas"
      ]
    },
    {
      "cell_type": "markdown",
      "metadata": {
        "id": "ahrFfCuBxJKs"
      },
      "source": [
        "Criei uma lista chamada `filmes` com o nome dos 10 primeiros filmes mais bem avaliados no site no [IMDB](https://www.imdb.com/chart/top/). Imprima o resultado."
      ]
    },
    {
      "cell_type": "code",
      "metadata": {
        "id": "OgL6Hv3bzOHI"
      },
      "source": [
        "filmes = [\n",
        "    \"Um Sonho de Liberdade\",\n",
        "    \"O Poderoso Chefão\",\n",
        "    \"Batman: O Cavaleiro das Trevas\",\n",
        "    \"O Poderoso Chefão: Parte II\",\n",
        "    \"12 Homens e uma Sentença\",\n",
        "    \"O Senhor dos Anéis: O Retorno do Rei\",\n",
        "    \"A Lista de Schindler\",\n",
        "    \"Pulp Fiction: Tempo de Violência\",\n",
        "    \"O Senhor dos Anéis: A Sociedade do Anel\",\n",
        "    \"Três Homens em Conflito\"\n",
        "]"
      ],
      "execution_count": null,
      "outputs": []
    },
    {
      "cell_type": "markdown",
      "metadata": {
        "id": "KI9zQRT2xa7m"
      },
      "source": [
        "Simule a movimentação do *ranking*. Utilize os métodos `insert` e `pop` para trocar a posição do primeiro e do segundo filme da lista. Imprima o resultado.\n",
        "\n"
      ]
    },
    {
      "cell_type": "code",
      "metadata": {
        "id": "zX3mA3_GzrXH"
      },
      "source": [
        "filmes.pop(0)\n",
        "filmes.insert(1,\"Um Sonho de Liberdade\")"
      ],
      "execution_count": null,
      "outputs": []
    },
    {
      "cell_type": "code",
      "source": [
        "filmes"
      ],
      "metadata": {
        "colab": {
          "base_uri": "https://localhost:8080/"
        },
        "id": "1S-dQyOVYUxD",
        "outputId": "1dc40d21-cb08-4929-9ed1-1dfe86e9918f"
      },
      "execution_count": null,
      "outputs": [
        {
          "output_type": "execute_result",
          "data": {
            "text/plain": [
              "['O Poderoso Chefão',\n",
              " 'Um Sonho de Liberdade',\n",
              " 'Batman: O Cavaleiro das Trevas',\n",
              " 'O Poderoso Chefão: Parte II',\n",
              " '12 Homens e uma Sentença',\n",
              " 'O Senhor dos Anéis: O Retorno do Rei',\n",
              " 'A Lista de Schindler',\n",
              " 'Pulp Fiction: Tempo de Violência',\n",
              " 'O Senhor dos Anéis: A Sociedade do Anel',\n",
              " 'Três Homens em Conflito']"
            ]
          },
          "metadata": {},
          "execution_count": 53
        }
      ]
    },
    {
      "cell_type": "markdown",
      "metadata": {
        "id": "zMN1Q3jdwoJm"
      },
      "source": [
        "---"
      ]
    },
    {
      "cell_type": "markdown",
      "metadata": {
        "id": "lxa5L6uF0ZJE"
      },
      "source": [
        "## 2\\. Conjuntos"
      ]
    },
    {
      "cell_type": "markdown",
      "metadata": {
        "id": "9JahS2Kj0d5u"
      },
      "source": [
        "Aconteceu um erro no seu *ranking*. Simule a duplicação dos três últimos filmes da lista. Imprima o resultado."
      ]
    },
    {
      "cell_type": "code",
      "metadata": {
        "id": "BnjnLBNC6PGe"
      },
      "source": [
        "filmes += [\"Pulp Fiction: Tempo de Violência\",\n",
        "    \"O Senhor dos Anéis: A Sociedade do Anel\",\n",
        "    \"Três Homens em Conflito\"]"
      ],
      "execution_count": null,
      "outputs": []
    },
    {
      "cell_type": "code",
      "source": [
        "filmes"
      ],
      "metadata": {
        "colab": {
          "base_uri": "https://localhost:8080/"
        },
        "id": "BUV7xnt2XDnQ",
        "outputId": "1bf8265e-bbb4-4837-e1bf-f7f3af2ec60d"
      },
      "execution_count": null,
      "outputs": [
        {
          "output_type": "execute_result",
          "data": {
            "text/plain": [
              "['O Poderoso Chefão',\n",
              " 'Um Sonho de Liberdade',\n",
              " 'Batman: O Cavaleiro das Trevas',\n",
              " 'O Poderoso Chefão: Parte II',\n",
              " '12 Homens e uma Sentença',\n",
              " 'O Senhor dos Anéis: O Retorno do Rei',\n",
              " 'A Lista de Schindler',\n",
              " 'Pulp Fiction: Tempo de Violência',\n",
              " 'O Senhor dos Anéis: A Sociedade do Anel',\n",
              " 'Três Homens em Conflito',\n",
              " 'Pulp Fiction: Tempo de Violência',\n",
              " 'O Senhor dos Anéis: A Sociedade do Anel',\n",
              " 'Três Homens em Conflito']"
            ]
          },
          "metadata": {},
          "execution_count": 55
        }
      ]
    },
    {
      "cell_type": "markdown",
      "metadata": {
        "id": "suxTfCJB6ZiX"
      },
      "source": [
        "Utiliza a conversão `set` e `list` para remover os valores duplicados. Imprima o resultado."
      ]
    },
    {
      "cell_type": "code",
      "metadata": {
        "id": "ZvUGN-0n6joM"
      },
      "source": [
        "filmes = list(set(filmes))"
      ],
      "execution_count": null,
      "outputs": []
    },
    {
      "cell_type": "code",
      "source": [
        "filmes"
      ],
      "metadata": {
        "colab": {
          "base_uri": "https://localhost:8080/"
        },
        "id": "SzhO9GPmaxgV",
        "outputId": "ade8a28c-f6c3-4d4f-eeeb-e574a76e4daa"
      },
      "execution_count": null,
      "outputs": [
        {
          "output_type": "execute_result",
          "data": {
            "text/plain": [
              "['Três Homens em Conflito',\n",
              " 'Um Sonho de Liberdade',\n",
              " 'O Senhor dos Anéis: A Sociedade do Anel',\n",
              " 'O Senhor dos Anéis: O Retorno do Rei',\n",
              " 'Batman: O Cavaleiro das Trevas',\n",
              " 'Pulp Fiction: Tempo de Violência',\n",
              " 'O Poderoso Chefão',\n",
              " 'O Poderoso Chefão: Parte II',\n",
              " '12 Homens e uma Sentença',\n",
              " 'A Lista de Schindler']"
            ]
          },
          "metadata": {},
          "execution_count": 57
        }
      ]
    },
    {
      "cell_type": "markdown",
      "metadata": {
        "id": "ShkK35eQ6pAM"
      },
      "source": [
        "---"
      ]
    },
    {
      "cell_type": "markdown",
      "metadata": {
        "id": "EL_FzmxL6rTv"
      },
      "source": [
        "## 3\\. Dicionários"
      ]
    },
    {
      "cell_type": "markdown",
      "metadata": {
        "id": "i8l0gFqRCpfT"
      },
      "source": [
        "Repita os exercícios da parte 1 (listas). Os elementos da lista `filmes` devem ser dicionários no seguinte formato: `{'nome': <nome-do-filme>, 'ano': <ano do filme>, 'sinopse': <sinopse do filme>}`."
      ]
    },
    {
      "cell_type": "code",
      "metadata": {
        "id": "tu6MSFwGDnHv"
      },
      "source": [
        "filmes = [\n",
        "    {'nome':'Um Sonho de Liberdade','ano':'1994','sinopse':'Dois homens presos se reúnem ao longo de vários anos, encontrando consolo e eventual redenção através de atos de decência comum.'},\n",
        "    {'nome':'O Poderoso Chefão','ano':'1972','sinopse':'O patriarca idoso de uma dinastia do crime organizado transfere o controle de seu império clandestino para seu filho relutante.'},\n",
        "    {'nome':'Batman: O Cavaleiro das Trevas','ano':'2008','sinopse':'Agora com a ajuda do tenente Jim Gordon e do promotor público Harvey Dent, Batman tem tudo para banir o crime de Gotham City de uma vez por todas. Mas em breve, os três serão vítimas do Coringa, que pretende lançar Gotham em uma anarquia.'},\n",
        "    {'nome':'O Poderoso Chefão: Parte II','ano':'1974','sinopse':'Em 1950, Michael Corleone, agora à frente da família, tenta expandir o negócio do crime a Las Vegas, Los Angeles e Cuba. Paralelamente, é revelada a história de Vito Corleone, e de como saiu da Sicília e chegou a Nova Iorque.'},\n",
        "    {'nome':'12 Homens e uma Sentença','ano':'1957','sinopse':'O julgamento de um assassinato em Nova Iorque é frustrado por um único membro, cujo ceticismo força o júri a considerar cuidadosamente as evidências antes de dar o veredito.'},\n",
        "    {'nome':'O Senhor dos Anéis: O Retorno do Rei','ano':'2003','sinopse':'Gandalf e Aragorn lideram o Mundo dos Homens contra o exército de Sauron para desviar o olhar de Frodo e Sam quando eles se aproximam á Montanha da Perdição com o Um Anel.'},\n",
        "    {'nome':'A Lista de Schindler','ano':'1993','sinopse':'Na Polônia ocupada pelos alemães durante a Segunda Guerra Mundial, o industrial Oskar Schindler começa a ser preocupar com seus trabalhadores judeus depois de testemunhar sua perseguição pelos nazistas.'},\n",
        "    {'nome':'Pulp Fiction: Tempo de Violência','ano':'1994','sinopse':'As vidas de dois assassinos da máfia, um boxeador, um gângster e sua esposa, e um par de bandidos se entrelaçam em quatro histórias de violência e redenção.'},\n",
        "    {'nome':'O Senhor dos Anéis: A Sociedade do Anel','ano':'2001','sinopse':'Um manso hobbit do Condado e oito companheiros partem em uma jornada para destruir o poderoso Um Anel e salvar a Terra-média das Trevas.'},\n",
        "    {'nome':'Três Homens em Conflito','ano':'1966','sinopse':'Um impostor se junta com dois homens para encontrar fortuna num remoto cemitério.'},\n",
        "]"
      ],
      "execution_count": 1,
      "outputs": []
    },
    {
      "cell_type": "code",
      "source": [
        "filmes"
      ],
      "metadata": {
        "id": "AhsxxYkAybAE",
        "outputId": "6b271ada-ecb2-401c-d4ae-970ae9023c1f",
        "colab": {
          "base_uri": "https://localhost:8080/"
        }
      },
      "execution_count": 14,
      "outputs": [
        {
          "output_type": "execute_result",
          "data": {
            "text/plain": [
              "[{'nome': 'Um Sonho de Liberdade',\n",
              "  'ano': '1994',\n",
              "  'sinopse': 'Dois homens presos se reúnem ao longo de vários anos, encontrando consolo e eventual redenção através de atos de decência comum.'},\n",
              " {'nome': 'O Poderoso Chefão',\n",
              "  'ano': '1972',\n",
              "  'sinopse': 'O patriarca idoso de uma dinastia do crime organizado transfere o controle de seu império clandestino para seu filho relutante.'},\n",
              " {'nome': 'Batman: O Cavaleiro das Trevas',\n",
              "  'ano': '2008',\n",
              "  'sinopse': 'Agora com a ajuda do tenente Jim Gordon e do promotor público Harvey Dent, Batman tem tudo para banir o crime de Gotham City de uma vez por todas. Mas em breve, os três serão vítimas do Coringa, que pretende lançar Gotham em uma anarquia.'},\n",
              " {'nome': 'O Poderoso Chefão: Parte II',\n",
              "  'ano': '1974',\n",
              "  'sinopse': 'Em 1950, Michael Corleone, agora à frente da família, tenta expandir o negócio do crime a Las Vegas, Los Angeles e Cuba. Paralelamente, é revelada a história de Vito Corleone, e de como saiu da Sicília e chegou a Nova Iorque.'},\n",
              " {'nome': '12 Homens e uma Sentença',\n",
              "  'ano': '1957',\n",
              "  'sinopse': 'O julgamento de um assassinato em Nova Iorque é frustrado por um único membro, cujo ceticismo força o júri a considerar cuidadosamente as evidências antes de dar o veredito.'},\n",
              " {'nome': 'O Senhor dos Anéis: O Retorno do Rei',\n",
              "  'ano': '2003',\n",
              "  'sinopse': 'Gandalf e Aragorn lideram o Mundo dos Homens contra o exército de Sauron para desviar o olhar de Frodo e Sam quando eles se aproximam á Montanha da Perdição com o Um Anel.'},\n",
              " {'nome': 'A Lista de Schindler',\n",
              "  'ano': '1993',\n",
              "  'sinopse': 'Na Polônia ocupada pelos alemães durante a Segunda Guerra Mundial, o industrial Oskar Schindler começa a ser preocupar com seus trabalhadores judeus depois de testemunhar sua perseguição pelos nazistas.'},\n",
              " {'nome': 'Pulp Fiction: Tempo de Violência',\n",
              "  'ano': '1994',\n",
              "  'sinopse': 'As vidas de dois assassinos da máfia, um boxeador, um gângster e sua esposa, e um par de bandidos se entrelaçam em quatro histórias de violência e redenção.'},\n",
              " {'nome': 'O Senhor dos Anéis: A Sociedade do Anel',\n",
              "  'ano': '2001',\n",
              "  'sinopse': 'Um manso hobbit do Condado e oito companheiros partem em uma jornada para destruir o poderoso Um Anel e salvar a Terra-média das Trevas.'},\n",
              " {'nome': 'Três Homens em Conflito',\n",
              "  'ano': '1966',\n",
              "  'sinopse': 'Um impostor se junta com dois homens para encontrar fortuna num remoto cemitério.'}]"
            ]
          },
          "metadata": {},
          "execution_count": 14
        }
      ]
    }
  ]
}