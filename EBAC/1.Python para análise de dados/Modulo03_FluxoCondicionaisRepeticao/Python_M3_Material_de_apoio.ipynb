{
  "cells": [
    {
      "cell_type": "markdown",
      "metadata": {
        "colab_type": "text",
        "id": "view-in-github"
      },
      "source": [
        "<a href=\"https://colab.research.google.com/github/soueuwilliam/Estudos-Python/blob/main/EBAC/Python_M3_Material_de_apoio.ipynb\" target=\"_parent\"><img src=\"https://colab.research.google.com/assets/colab-badge.svg\" alt=\"Open In Colab\"/></a>"
      ]
    },
    {
      "cell_type": "markdown",
      "metadata": {
        "id": "KJqp9AANOCtf"
      },
      "source": [
        "<img src=\"https://raw.githubusercontent.com/andre-marcos-perez/ebac-course-utils/main/media/logo/newebac_logo_black_half.png\" alt=\"ebac-logo\">\n",
        "\n",
        "---\n",
        "\n",
        "# **Módulo** | Python: Fluxo Condicional & Repetição\n",
        "Caderno de **Aula**<br>\n",
        "Professor [André Perez](https://www.linkedin.com/in/andremarcosperez/)\n",
        "\n",
        "---"
      ]
    },
    {
      "cell_type": "markdown",
      "metadata": {
        "id": "d9jDtUbDOE1-"
      },
      "source": [
        "# **Tópicos**\n",
        "\n",
        "<ol type=\"1\">\n",
        "  <li>Estrutura condicional if / else / elif;</li>\n",
        "  <li>Estrutura condicional try / catch / finally;</li>\n",
        "  <li>Estrutura de repetição for / in.</li>\n",
        "</ol>"
      ]
    },
    {
      "cell_type": "markdown",
      "metadata": {
        "id": "SmoHgt-lwkpD"
      },
      "source": [
        "---"
      ]
    },
    {
      "cell_type": "markdown",
      "metadata": {
        "id": "GABI6OW8OfQ2"
      },
      "source": [
        "# **Aulas**"
      ]
    },
    {
      "cell_type": "markdown",
      "metadata": {
        "id": "muD1vxozykSC"
      },
      "source": [
        "## 1\\. Estrutura condicional if / else / elif"
      ]
    },
    {
      "cell_type": "markdown",
      "metadata": {
        "id": "E6D5rjlESJ1A"
      },
      "source": [
        "### **1.1. if / else**"
      ]
    },
    {
      "cell_type": "markdown",
      "metadata": {
        "id": "2SIVm6ySRaeI"
      },
      "source": [
        "Estrutura de alteração de fluxo lógico do código, avalia um valor booleano ou uma comparação lógica. **Note** a identação do código."
      ]
    },
    {
      "cell_type": "markdown",
      "metadata": {
        "id": "jfrmdxoJVw-l"
      },
      "source": [
        "```python\n",
        "if <booleano / comparação lógica> == True:\n",
        "  <execute este código>\n",
        "else:\n",
        "  <senão execute este código>\n",
        "```"
      ]
    },
    {
      "cell_type": "code",
      "execution_count": null,
      "metadata": {
        "id": "7tNcqW3aTZPr"
      },
      "outputs": [],
      "source": [
        "if False:\n",
        "  print(\"Verdadeiro\")\n",
        "else:\n",
        "  print(\"Falso\")"
      ]
    },
    {
      "cell_type": "markdown",
      "metadata": {
        "id": "e3h_XvXxTSqd"
      },
      "source": [
        "**Exemplo**: Código de segurança de um cartão de crédito"
      ]
    },
    {
      "cell_type": "code",
      "execution_count": null,
      "metadata": {
        "id": "3ungC6KPSg1y"
      },
      "outputs": [],
      "source": [
        "codigo_de_seguranca = '291'\n",
        "codigo_de_seguranca_cadastro = '010'\n",
        "\n",
        "pode_efetuar_pagamento = codigo_de_seguranca == codigo_de_seguranca_cadastro\n",
        "print(pode_efetuar_pagamento)"
      ]
    },
    {
      "cell_type": "code",
      "execution_count": null,
      "metadata": {
        "id": "5vpLILeASoNz"
      },
      "outputs": [],
      "source": [
        "if pode_efetuar_pagamento:\n",
        "  print(\"Pagamento efetuado\")\n",
        "else:\n",
        "  print(\"Erro: Código de segurança inválido\")"
      ]
    },
    {
      "cell_type": "code",
      "execution_count": null,
      "metadata": {
        "id": "oj76sTo-Ttz8"
      },
      "outputs": [],
      "source": [
        "if codigo_de_seguranca == codigo_de_seguranca_cadastro:\n",
        "  print(\"Pagamento efetuado\")\n",
        "else:\n",
        "  print(\"Erro: Código de segurança inválido\")"
      ]
    },
    {
      "cell_type": "markdown",
      "metadata": {
        "id": "zvvqNNM1UDzh"
      },
      "source": [
        "**Exemplo**: Código e senha de segurança de um cartão de crédito"
      ]
    },
    {
      "cell_type": "code",
      "execution_count": null,
      "metadata": {
        "id": "42kdrjL3UPnt"
      },
      "outputs": [],
      "source": [
        "codigo_de_seguranca = '852'\n",
        "codigo_de_seguranca_cadastro = '852'\n",
        "\n",
        "senha = '7783'\n",
        "senha_cadastro = '7783'"
      ]
    },
    {
      "cell_type": "markdown",
      "metadata": {
        "id": "tvmgUmH5UZlj"
      },
      "source": [
        "Revisitando a tabela da verdade:"
      ]
    },
    {
      "cell_type": "markdown",
      "metadata": {
        "id": "CMkW6VfqUX73"
      },
      "source": [
        "| CÓDIGO        | SENHA        | | | CÓDIGO OR SENHA   | | CÓDIGO AND SENHA  | | NOT CÓDIGO    |\n",
        "|----------|----------|-|-|----------|-|----------|-|----------|\n",
        "| **TRUE** | **TRUE** | | | **TRUE** | | **TRUE** | | FALSE    |\n",
        "| **TRUE** | FALSE    | | | **TRUE** | | FALSE    | | FALSE    |\n",
        "| FALSE    | FALSE    | | | FALSE    | | FALSE    | | **TRUE** |\n",
        "| FALSE    | **TRUE** | | | **TRUE** | | FALSE    | | **TRUE** |"
      ]
    },
    {
      "cell_type": "code",
      "execution_count": null,
      "metadata": {
        "id": "ypis6-LgUn5z"
      },
      "outputs": [],
      "source": [
        "if (codigo_de_seguranca == codigo_de_seguranca_cadastro) & (senha == senha_cadastro):\n",
        "  print(\"Pagamento efetuado\")\n",
        "else:\n",
        "  print(\"Erro: Pagamento não efetuado\")"
      ]
    },
    {
      "cell_type": "code",
      "execution_count": null,
      "metadata": {
        "id": "DCCPknUSUwQM"
      },
      "outputs": [],
      "source": [
        "if (codigo_de_seguranca != codigo_de_seguranca_cadastro) | (senha != senha_cadastro):\n",
        "  print(\"Erro: Pagamento não efetuado\")\n",
        "else:\n",
        "  print(\"Pagamento efetuado\")"
      ]
    },
    {
      "cell_type": "markdown",
      "metadata": {
        "id": "wNkFG1qKSU9M"
      },
      "source": [
        "### **1.2. if / elif / else**"
      ]
    },
    {
      "cell_type": "markdown",
      "metadata": {
        "id": "9c-GagIqSjUA"
      },
      "source": [
        "Podemos também avaliar múltipla condições."
      ]
    },
    {
      "cell_type": "markdown",
      "metadata": {
        "id": "G66Dxs8pWXPU"
      },
      "source": [
        "```python\n",
        "if <1º booleano / 1ª comparação lógica> == True:\n",
        "  <execute este código se a primeira condição for verdade>\n",
        "elif <2º booleano / 2ª comparação lógica> == True:\n",
        "  <execute este código se a segunda condição for verdade>\n",
        "else:\n",
        "  <senão execute este código>\n",
        "```"
      ]
    },
    {
      "cell_type": "code",
      "execution_count": null,
      "metadata": {
        "id": "bLDeLzLxSnwP"
      },
      "outputs": [],
      "source": [
        "codigo_de_seguranca = '802'\n",
        "codigo_de_seguranca_cadastro = '852'\n",
        "\n",
        "senha = '7703'\n",
        "senha_cadastro = '7783'"
      ]
    },
    {
      "cell_type": "markdown",
      "metadata": {
        "id": "e982wq8XTq49"
      },
      "source": [
        "| CÓDIGO        | SENHA        | | | CÓDIGO AND SENHA  | MENSAGEM |\n",
        "|----------|----------|-|-|----------|-|\n",
        "| **TRUE** | **TRUE** | | | **TRUE** | Pagamento efetuado |\n",
        "| **TRUE** | FALSE    | | | FALSE    | Erro: Senha inválida |\n",
        "| FALSE    | FALSE    | | | FALSE    | Erro: Código de segurança e senha inválidos |\n",
        "| FALSE    | **TRUE** | | | FALSE    | Erro: Código de segurança inválido |"
      ]
    },
    {
      "cell_type": "code",
      "execution_count": null,
      "metadata": {
        "id": "rbjgy-XSSy8w"
      },
      "outputs": [],
      "source": [
        "if (codigo_de_seguranca == codigo_de_seguranca_cadastro) & (senha == senha_cadastro):\n",
        "  print(\"Pagamento efetuado\")\n",
        "\n",
        "elif (codigo_de_seguranca != codigo_de_seguranca_cadastro) & (senha == senha_cadastro):\n",
        "  print(\"Erro: Código de segurança inválido\")\n",
        "\n",
        "elif (codigo_de_seguranca == codigo_de_seguranca_cadastro) & (senha != senha_cadastro):\n",
        "  print(\"Erro: Senha inválida inválida\")\n",
        "\n",
        "else:\n",
        "  print(\"Erro: Código de segurança e senha inválidos\")"
      ]
    },
    {
      "cell_type": "markdown",
      "metadata": {
        "id": "4rRCvy_UURrM"
      },
      "source": [
        "## 2\\. Estrutura condicional try /except / finally"
      ]
    },
    {
      "cell_type": "markdown",
      "metadata": {
        "id": "cOZDKbe6URrb"
      },
      "source": [
        "### **2.1. Exceção**"
      ]
    },
    {
      "cell_type": "markdown",
      "metadata": {
        "id": "nfc742pLmgL9"
      },
      "source": [
        "Exceções são erros que podem acontecer durante a execução do nosso código."
      ]
    },
    {
      "cell_type": "markdown",
      "metadata": {
        "id": "0je_kLq_myEV"
      },
      "source": [
        "**Exemplo**: Erro de operações numéricas impossíveis"
      ]
    },
    {
      "cell_type": "code",
      "execution_count": 6,
      "metadata": {
        "id": "2yXpo2dfmm1T"
      },
      "outputs": [],
      "source": [
        "preco = 132.85\n",
        "pessoas = 0"
      ]
    },
    {
      "cell_type": "code",
      "execution_count": 7,
      "metadata": {
        "id": "LsrxSe--nI6b"
      },
      "outputs": [
        {
          "ename": "ZeroDivisionError",
          "evalue": "float division by zero",
          "output_type": "error",
          "traceback": [
            "\u001b[1;31m---------------------------------------------------------------------------\u001b[0m",
            "\u001b[1;31mZeroDivisionError\u001b[0m                         Traceback (most recent call last)",
            "Cell \u001b[1;32mIn[7], line 1\u001b[0m\n\u001b[1;32m----> 1\u001b[0m valor_por_pessoa \u001b[38;5;241m=\u001b[39m \u001b[43mpreco\u001b[49m\u001b[43m \u001b[49m\u001b[38;5;241;43m/\u001b[39;49m\u001b[43m \u001b[49m\u001b[43mpessoas\u001b[49m\n",
            "\u001b[1;31mZeroDivisionError\u001b[0m: float division by zero"
          ]
        }
      ],
      "source": [
        "valor_por_pessoa = preco / pessoas"
      ]
    },
    {
      "cell_type": "markdown",
      "metadata": {
        "id": "paZfxkVzm3gW"
      },
      "source": [
        "**Exemplo**: Erro por combinações de tipos diferentes"
      ]
    },
    {
      "cell_type": "code",
      "execution_count": 8,
      "metadata": {
        "id": "rrlR9Xv6nErH"
      },
      "outputs": [],
      "source": [
        "nome = 'Andre Perez'\n",
        "idade = True"
      ]
    },
    {
      "cell_type": "code",
      "execution_count": 9,
      "metadata": {
        "id": "IT3ySwYxnX0j"
      },
      "outputs": [
        {
          "ename": "TypeError",
          "evalue": "can only concatenate str (not \"bool\") to str",
          "output_type": "error",
          "traceback": [
            "\u001b[1;31m---------------------------------------------------------------------------\u001b[0m",
            "\u001b[1;31mTypeError\u001b[0m                                 Traceback (most recent call last)",
            "Cell \u001b[1;32mIn[9], line 1\u001b[0m\n\u001b[1;32m----> 1\u001b[0m apresentacao \u001b[38;5;241m=\u001b[39m \u001b[38;5;124;43m'\u001b[39;49m\u001b[38;5;124;43mFala pessoal, meu nome é \u001b[39;49m\u001b[38;5;124;43m'\u001b[39;49m\u001b[43m \u001b[49m\u001b[38;5;241;43m+\u001b[39;49m\u001b[43m \u001b[49m\u001b[43mnome\u001b[49m\u001b[43m \u001b[49m\u001b[38;5;241;43m+\u001b[39;49m\u001b[43m \u001b[49m\u001b[38;5;124;43m'\u001b[39;49m\u001b[38;5;124;43m e eu tenho \u001b[39;49m\u001b[38;5;124;43m'\u001b[39;49m\u001b[43m \u001b[49m\u001b[38;5;241;43m+\u001b[39;49m\u001b[43m \u001b[49m\u001b[43midade\u001b[49m \u001b[38;5;241m+\u001b[39m \u001b[38;5;124m'\u001b[39m\u001b[38;5;124m anos\u001b[39m\u001b[38;5;124m'\u001b[39m\n",
            "\u001b[1;31mTypeError\u001b[0m: can only concatenate str (not \"bool\") to str"
          ]
        }
      ],
      "source": [
        "apresentacao = 'Fala pessoal, meu nome é ' + nome + ' e eu tenho ' + idade + ' anos'"
      ]
    },
    {
      "cell_type": "markdown",
      "metadata": {
        "id": "PdIsskJNnors"
      },
      "source": [
        "**Exemplo**: Erro de indexação de estrutura de dados"
      ]
    },
    {
      "cell_type": "code",
      "execution_count": 10,
      "metadata": {
        "id": "AL0YPYtqntUc"
      },
      "outputs": [],
      "source": [
        "anos = [2019, 2020, 2021]"
      ]
    },
    {
      "cell_type": "code",
      "execution_count": 11,
      "metadata": {
        "id": "1mksjF3inyub"
      },
      "outputs": [
        {
          "ename": "IndexError",
          "evalue": "list index out of range",
          "output_type": "error",
          "traceback": [
            "\u001b[1;31m---------------------------------------------------------------------------\u001b[0m",
            "\u001b[1;31mIndexError\u001b[0m                                Traceback (most recent call last)",
            "Cell \u001b[1;32mIn[11], line 1\u001b[0m\n\u001b[1;32m----> 1\u001b[0m ano_atual \u001b[38;5;241m=\u001b[39m \u001b[43manos\u001b[49m\u001b[43m[\u001b[49m\u001b[38;5;241;43m3\u001b[39;49m\u001b[43m]\u001b[49m\n",
            "\u001b[1;31mIndexError\u001b[0m: list index out of range"
          ]
        }
      ],
      "source": [
        "ano_atual = anos[3]"
      ]
    },
    {
      "cell_type": "code",
      "execution_count": 12,
      "metadata": {
        "id": "RhjOE1jCn4ZA"
      },
      "outputs": [],
      "source": [
        "cursos = {\n",
        "    'python': {\n",
        "        'nome': 'Python para Análise de Dados', 'duracao': 2.5\n",
        "    },\n",
        "    'sql': {\n",
        "        'nome': 'SQL para Análise de Dados', 'duracao': 2\n",
        "    }\n",
        "}"
      ]
    },
    {
      "cell_type": "code",
      "execution_count": 13,
      "metadata": {
        "id": "hUl1PmAAoSqt"
      },
      "outputs": [
        {
          "ename": "KeyError",
          "evalue": "'analista'",
          "output_type": "error",
          "traceback": [
            "\u001b[1;31m---------------------------------------------------------------------------\u001b[0m",
            "\u001b[1;31mKeyError\u001b[0m                                  Traceback (most recent call last)",
            "Cell \u001b[1;32mIn[13], line 1\u001b[0m\n\u001b[1;32m----> 1\u001b[0m curso_atual \u001b[38;5;241m=\u001b[39m \u001b[43mcursos\u001b[49m\u001b[43m[\u001b[49m\u001b[38;5;124;43m'\u001b[39;49m\u001b[38;5;124;43manalista\u001b[39;49m\u001b[38;5;124;43m'\u001b[39;49m\u001b[43m]\u001b[49m\n",
            "\u001b[1;31mKeyError\u001b[0m: 'analista'"
          ]
        }
      ],
      "source": [
        "curso_atual = cursos['analista']"
      ]
    },
    {
      "cell_type": "markdown",
      "metadata": {
        "id": "5q6xcwOWURrc"
      },
      "source": [
        "### **2.2. try / except**"
      ]
    },
    {
      "cell_type": "markdown",
      "metadata": {
        "id": "3eu6Eu1Uoh_t"
      },
      "source": [
        "Estrutura para tratar exceções:"
      ]
    },
    {
      "cell_type": "code",
      "execution_count": 14,
      "metadata": {
        "id": "S00K5ucnopBI"
      },
      "outputs": [
        {
          "name": "stdout",
          "output_type": "stream",
          "text": [
            "66.425\n"
          ]
        }
      ],
      "source": [
        "preco = 132.85\n",
        "pessoas = 2\n",
        "\n",
        "try:\n",
        "  valor_por_pessoa = preco / pessoas\n",
        "  print(valor_por_pessoa)\n",
        "except ZeroDivisionError:\n",
        "  print('Número de pessoas inválido. Espera-se um valor maior que 0 e obteve-se um valor igual a ' + str(pessoas))"
      ]
    },
    {
      "cell_type": "code",
      "execution_count": 15,
      "metadata": {
        "id": "xW1r3TMvpIxE"
      },
      "outputs": [
        {
          "name": "stdout",
          "output_type": "stream",
          "text": [
            "Lista de anos é menor que o valor escolhido. Espera-se um valor entre 0 e 2\n"
          ]
        }
      ],
      "source": [
        "anos = [2019, 2020, 2021]\n",
        "\n",
        "try:\n",
        "  ano_atual = anos[3]\n",
        "  print(ano_atual)\n",
        "except Exception:\n",
        "  print('Lista de anos é menor que o valor escolhido. Espera-se um valor entre 0 e ' + str(len(anos) - 1))"
      ]
    },
    {
      "cell_type": "code",
      "execution_count": 16,
      "metadata": {
        "id": "CSxX6o_3pxCV"
      },
      "outputs": [
        {
          "name": "stdout",
          "output_type": "stream",
          "text": [
            "Descrição da exceção: list index out of range\n",
            "Tipo da exceção: <class 'IndexError'>\n",
            "Lista de anos é menor que o valor escolhido. Espera-se um valor entre 0 e 2\n"
          ]
        }
      ],
      "source": [
        "anos = [2019, 2020, 2021]\n",
        "\n",
        "try:\n",
        "  ano_atual = anos[3]\n",
        "  print(ano_atual)\n",
        "except Exception as exc:\n",
        "  print('Descrição da exceção: ' + str(exc))\n",
        "  print('Tipo da exceção: ' + str(type(exc)))\n",
        "  print('Lista de anos é menor que o valor escolhido. Espera-se um valor entre 0 e ' + str(len(anos) - 1))"
      ]
    },
    {
      "cell_type": "code",
      "execution_count": null,
      "metadata": {
        "id": "f8f66yWuqKul"
      },
      "outputs": [],
      "source": [
        "anos = [2019, 2020, 2021]\n",
        "\n",
        "try:\n",
        "  ano_atual = anos[3]\n",
        "  print(ano_atual)\n",
        "except IndexError:\n",
        "  print('Lista de anos é menor que o valor escolhido. Espera-se um valor entre 0 e ' + str(len(anos) - 1))\n",
        "except Exception as exc:\n",
        "  print(exc)\n",
        "  print('Erro genérico')"
      ]
    },
    {
      "cell_type": "markdown",
      "metadata": {
        "id": "WxnG-e3HURrd"
      },
      "source": [
        "### **2.3. try / except / finally**"
      ]
    },
    {
      "cell_type": "code",
      "execution_count": 17,
      "metadata": {
        "id": "i1e_Ag58qZ0n"
      },
      "outputs": [
        {
          "name": "stdout",
          "output_type": "stream",
          "text": [
            "Segunda chance\n",
            "Fala pessoal, meu nome é Andre Perez e eu tenho 19 anos\n"
          ]
        }
      ],
      "source": [
        "nome = 'Andre Perez'\n",
        "idade = 19\n",
        "\n",
        "try:\n",
        "  apresentacao = 'Fala pessoal, meu nome é ' + nome + ' e eu tenho ' + idade + ' anos'\n",
        "  print(apresentacao)\n",
        "except TypeError:\n",
        "  idade = str(idade)\n",
        "finally:\n",
        "  print('Segunda chance')\n",
        "  apresentacao = 'Fala pessoal, meu nome é ' + nome + ' e eu tenho ' + idade + ' anos'\n",
        "  print(apresentacao)"
      ]
    },
    {
      "cell_type": "markdown",
      "metadata": {
        "id": "_4Ugey3GWq78"
      },
      "source": [
        "## 3\\. Estrutura repetição for / in"
      ]
    },
    {
      "cell_type": "markdown",
      "metadata": {
        "id": "cyA9LdYcBfeF"
      },
      "source": [
        "### **3.1. for / in**"
      ]
    },
    {
      "cell_type": "markdown",
      "metadata": {
        "id": "-F-0zD99Bv97"
      },
      "source": [
        "Estrutura que permite a execução repetida de um bloco de código repetidas vezes."
      ]
    },
    {
      "cell_type": "markdown",
      "metadata": {
        "id": "JyP2wUaUBjrp"
      },
      "source": [
        "```python\n",
        "for variavel_temporaria in coleção:\n",
        "  <execute este código>\n",
        "```"
      ]
    },
    {
      "cell_type": "markdown",
      "metadata": {
        "id": "lk9nsQkTWq7-"
      },
      "source": [
        "### **3.2. for / in / range**"
      ]
    },
    {
      "cell_type": "markdown",
      "metadata": {
        "id": "OHdGHUcN24u3"
      },
      "source": [
        "Estrutura que permite a execução repetida de um bloco de código **n** vezes."
      ]
    },
    {
      "cell_type": "code",
      "execution_count": 18,
      "metadata": {
        "id": "D68uw4X024NQ"
      },
      "outputs": [
        {
          "name": "stdout",
          "output_type": "stream",
          "text": [
            "0\n",
            "1\n",
            "2\n",
            "3\n",
            "4\n",
            "5\n"
          ]
        }
      ],
      "source": [
        "for valor in range(6):\n",
        "  print(valor)"
      ]
    },
    {
      "cell_type": "code",
      "execution_count": 19,
      "metadata": {
        "id": "ZhKvc8BR3g0a"
      },
      "outputs": [
        {
          "name": "stdout",
          "output_type": "stream",
          "text": [
            "4999950000\n"
          ]
        }
      ],
      "source": [
        "soma = 0\n",
        "\n",
        "for valor in range(0, 100000):\n",
        "  soma = soma + valor\n",
        "  # print(soma)\n",
        "\n",
        "print(soma)"
      ]
    },
    {
      "cell_type": "code",
      "execution_count": 20,
      "metadata": {
        "id": "xvh2Imqy4YyU"
      },
      "outputs": [
        {
          "name": "stdout",
          "output_type": "stream",
          "text": [
            "2\n",
            "5\n",
            "8\n"
          ]
        }
      ],
      "source": [
        "for multiplo_dois in range(2, 10, 3):\n",
        "  print(multiplo_dois)"
      ]
    },
    {
      "cell_type": "markdown",
      "metadata": {
        "id": "5nmm_ShgWq7_"
      },
      "source": [
        "### **3.3. for / in / list**"
      ]
    },
    {
      "cell_type": "markdown",
      "metadata": {
        "id": "LB7Ghhx94ljq"
      },
      "source": [
        "Estrutura que permite a execução de um bloco de código para todos os elementos de uma lista."
      ]
    },
    {
      "cell_type": "code",
      "execution_count": 21,
      "metadata": {
        "id": "z12p8IT-4s4U"
      },
      "outputs": [
        {
          "name": "stdout",
          "output_type": "stream",
          "text": [
            "maca\n",
            "banana\n",
            "laranja\n",
            "uva\n",
            "pera\n"
          ]
        }
      ],
      "source": [
        "frutas = ['maca', 'banana', 'laranja', 'uva', 'pera']\n",
        "\n",
        "for fruta in frutas:\n",
        "  print(fruta)"
      ]
    },
    {
      "cell_type": "code",
      "execution_count": 22,
      "metadata": {
        "id": "3zkZ-gPU8diZ"
      },
      "outputs": [
        {
          "name": "stdout",
          "output_type": "stream",
          "text": [
            "A letra 'A' está presente na frase.\n",
            "A letra 'z' está presente na frase.\n"
          ]
        }
      ],
      "source": [
        "frase = 'Fala pessoal, meu nome é André Perez.'\n",
        "\n",
        "for caracter in frase:\n",
        "  if (caracter == 'A') | (caracter == 'z'):\n",
        "    print(f\"A letra '{caracter}' está presente na frase.\")"
      ]
    },
    {
      "cell_type": "markdown",
      "metadata": {
        "id": "GsUpIpUoXmhc"
      },
      "source": [
        "### **3.4. for / in / dict**"
      ]
    },
    {
      "cell_type": "markdown",
      "metadata": {
        "id": "xx38Jwu_7OJS"
      },
      "source": [
        "Estrutura que permite a execução de um bloco de código para todos os elementos de um dicionário."
      ]
    },
    {
      "cell_type": "code",
      "execution_count": 23,
      "metadata": {
        "id": "Zo-LDBca7ULR"
      },
      "outputs": [],
      "source": [
        "credito = {'123': 750, '456': 812, '789': 980}"
      ]
    },
    {
      "cell_type": "code",
      "execution_count": 24,
      "metadata": {
        "id": "-MI9OP197jUU"
      },
      "outputs": [
        {
          "name": "stdout",
          "output_type": "stream",
          "text": [
            "Para o documento 123, o valor do escore de crédito é 750.\n",
            "\n",
            "\n",
            "Para o documento 456, o valor do escore de crédito é 812.\n",
            "\n",
            "\n",
            "Para o documento 789, o valor do escore de crédito é 980.\n",
            "\n",
            "\n"
          ]
        }
      ],
      "source": [
        "for chave, valor in credito.items():\n",
        "  print(f'Para o documento {chave}, o valor do escore de crédito é {valor}.')\n",
        "  print('\\n')"
      ]
    },
    {
      "cell_type": "code",
      "execution_count": 25,
      "metadata": {
        "id": "juFICibw76Ay"
      },
      "outputs": [
        {
          "name": "stdout",
          "output_type": "stream",
          "text": [
            "123\n",
            "750\n",
            "Para o documento 123, o valor do escore de crédito é 750.\n",
            "\n",
            "\n",
            "456\n",
            "812\n",
            "Para o documento 456, o valor do escore de crédito é 812.\n",
            "\n",
            "\n",
            "789\n",
            "980\n",
            "Para o documento 789, o valor do escore de crédito é 980.\n",
            "\n",
            "\n"
          ]
        }
      ],
      "source": [
        "for chave in credito.keys():\n",
        "  print(chave)\n",
        "  print(credito[chave])\n",
        "  print(f'Para o documento {chave}, o valor do escore de crédito é {credito[chave]}.')\n",
        "  print('\\n')"
      ]
    },
    {
      "cell_type": "code",
      "execution_count": 26,
      "metadata": {
        "id": "kocTkvpH8LsV"
      },
      "outputs": [
        {
          "name": "stdout",
          "output_type": "stream",
          "text": [
            "750\n",
            "O valor do escore de crédito é 750, mas não temos mais as chaves :(.\n",
            "\n",
            "\n",
            "812\n",
            "O valor do escore de crédito é 812, mas não temos mais as chaves :(.\n",
            "\n",
            "\n",
            "980\n",
            "O valor do escore de crédito é 980, mas não temos mais as chaves :(.\n",
            "\n",
            "\n"
          ]
        }
      ],
      "source": [
        "for valor in credito.values():\n",
        "  print(valor)\n",
        "  print(f'O valor do escore de crédito é {valor}, mas não temos mais as chaves :(.')\n",
        "  print('\\n')"
      ]
    },
    {
      "cell_type": "markdown",
      "metadata": {
        "id": "NOh6bacJWq8A"
      },
      "source": [
        "### **3.5. break / continue**"
      ]
    },
    {
      "cell_type": "markdown",
      "metadata": {
        "id": "NzAhsgdE9Jw9"
      },
      "source": [
        "Estrutura que permite a quebra ou o avanço de um laço de repetição."
      ]
    },
    {
      "cell_type": "code",
      "execution_count": 27,
      "metadata": {
        "id": "6G_zUh2t9TGk"
      },
      "outputs": [
        {
          "name": "stdout",
          "output_type": "stream",
          "text": [
            "0\n",
            "1\n",
            "2\n",
            "3\n",
            "4\n",
            "5\n",
            "6\n",
            "7\n",
            "8\n",
            "9\n",
            "10\n"
          ]
        }
      ],
      "source": [
        "for i in range(0, 10*10*10*10*10*10):\n",
        "  print(i)\n",
        "  if i == 10:\n",
        "    break"
      ]
    },
    {
      "cell_type": "code",
      "execution_count": null,
      "metadata": {
        "id": "tTDBNrwU9pie"
      },
      "outputs": [],
      "source": [
        "numero = 3\n",
        "\n",
        "if numero % 2 == 0:\n",
        "  print(f'O numero {numero} é par')\n",
        "else:\n",
        "  print(f'O numero {numero} é impar')"
      ]
    },
    {
      "cell_type": "code",
      "execution_count": 28,
      "metadata": {
        "id": "Wd7P73u69_62"
      },
      "outputs": [
        {
          "name": "stdout",
          "output_type": "stream",
          "text": [
            "O numero 361 é impar\n",
            "O numero 553 é impar\n",
            "O numero 194 é par\n"
          ]
        }
      ],
      "source": [
        "numeros = [361, 553, 194, 13, 510, 33, 135]\n",
        "\n",
        "for numero in numeros:\n",
        "\n",
        "  if numero % 2 == 0:\n",
        "    print(f'O numero {numero} é par')\n",
        "    break\n",
        "  else:\n",
        "    print(f'O numero {numero} é impar')"
      ]
    },
    {
      "cell_type": "code",
      "execution_count": 31,
      "metadata": {
        "id": "O8y3bath-oEl"
      },
      "outputs": [
        {
          "name": "stdout",
          "output_type": "stream",
          "text": [
            "O numero 361 é impar\n",
            "O numero 553 é impar\n",
            "O numero 194 é par\n"
          ]
        }
      ],
      "source": [
        "numeros = [361, 553, 194, 13, 510, 33, 135]\n",
        "\n",
        "for numero in numeros:\n",
        "\n",
        "  if numero % 2 == 0:\n",
        "    print(f'O numero {numero} é par')\n",
        "    break\n",
        "  else:\n",
        "    print(f'O numero {numero} é impar')\n",
        "    continue"
      ]
    }
  ],
  "metadata": {
    "colab": {
      "include_colab_link": true,
      "provenance": [],
      "toc_visible": true
    },
    "kernelspec": {
      "display_name": "Python 3",
      "name": "python3"
    },
    "language_info": {
      "codemirror_mode": {
        "name": "ipython",
        "version": 3
      },
      "file_extension": ".py",
      "mimetype": "text/x-python",
      "name": "python",
      "nbconvert_exporter": "python",
      "pygments_lexer": "ipython3",
      "version": "3.13.0"
    }
  },
  "nbformat": 4,
  "nbformat_minor": 0
}
